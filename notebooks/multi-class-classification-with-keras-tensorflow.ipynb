{
 "cells": [
  {
   "cell_type": "markdown",
   "metadata": {},
   "source": [
    "**Dataset Information**: Dataset is extracted from the electric current drive signals. The drive contains intact as well as defective components. Therefore, dataset has 11 classes based on the condition of the components. Aim is, to predict the correct component condition based on the input variables using **Deep Learning** technique. Tools used: **Keras TensorFlow** "
   ]
  },
  {
   "cell_type": "markdown",
   "metadata": {},
   "source": [
    "**Dataset Rights**: This dataset has been taken from \"University of California Irvine Machine Learning Repository\" for the knowledge purpose and all the rights for this dataset are reserved by them. For more details like content of the dataset, owner of the dataset and reference research paper, please refer the following link: https://archive.ics.uci.edu/ml/datasets/Dataset+for+Sensorless+Drive+Diagnosis"
   ]
  },
  {
   "cell_type": "code",
   "execution_count": 75,
   "metadata": {},
   "outputs": [],
   "source": [
    "import numpy as np\n",
    "import pandas as pd\n",
    "from keras.models import Sequential\n",
    "from keras.layers import Dense, Dropout, Conv1D, MaxPooling1D, Flatten, Conv2D, AlphaDropout\n",
    "from keras.wrappers.scikit_learn import KerasClassifier\n",
    "from sklearn.model_selection import cross_val_score\n",
    "from sklearn.model_selection import KFold\n",
    "from sklearn.preprocessing import MinMaxScaler\n",
    "import matplotlib.pyplot as plt\n",
    "from sklearn.ensemble import RandomForestClassifier\n",
    "#from keras.utils import np_utils\n",
    "#from sklearn.preprocessing import LabelEncoder"
   ]
  },
  {
   "cell_type": "code",
   "execution_count": 52,
   "metadata": {},
   "outputs": [
    {
     "data": {
      "text/plain": [
       "['/device:GPU:0']"
      ]
     },
     "execution_count": 52,
     "metadata": {},
     "output_type": "execute_result"
    }
   ],
   "source": [
    "from tensorflow.python.client import device_lib\n",
    "\n",
    "def get_available_gpus():\n",
    "    local_device_protos = device_lib.list_local_devices()\n",
    "    return [x.name for x in local_device_protos if x.device_type == 'GPU']\n",
    "\n",
    "get_available_gpus()"
   ]
  },
  {
   "cell_type": "markdown",
   "metadata": {},
   "source": [
    "Step 2. Import and print data"
   ]
  },
  {
   "cell_type": "code",
   "execution_count": 53,
   "metadata": {},
   "outputs": [
    {
     "name": "stdout",
     "output_type": "stream",
     "text": [
      "   1  2  3  4  5  6  7  8  9  10  ...  35  36  37  38  39  40  41  42  target  \\\n",
      "0  0  0  0  0  0  0  0  0  0   0  ...   0   0   0   0   1   0   0   0       3   \n",
      "1  0  0  0  0  0  0  0  0  0   0  ...   0   0   0   0   1   0   0   0       3   \n",
      "2  0  0  0  0  0  0  0  0  0   0  ...   0   0   0   0   1   2   0   0       1   \n",
      "3  0  0  0  0  0  0  0  0  0   0  ...   0   0   0   2   1   0   0   0       5   \n",
      "4  0  0  0  0  0  0  0  0  0   0  ...   0   0   0   0   1   0   0   2       3   \n",
      "5  0  0  0  0  0  0  0  0  0   0  ...   0   0   0   0   1   0   0   2       3   \n",
      "6  0  0  0  0  0  0  0  0  0   0  ...   0   0   0   0   1   0   0   2       2   \n",
      "7  0  0  0  0  0  0  0  0  0   0  ...   0   0   0   0   1   0   0   2       4   \n",
      "8  0  0  0  2  0  0  0  0  0   0  ...   0   0   0   0   1   0   0   0       2   \n",
      "9  0  0  0  2  0  0  0  0  0   0  ...   0   0   2   1   1   0   0   0       5   \n",
      "\n",
      "   winner  \n",
      "0     1.0  \n",
      "1     1.0  \n",
      "2     1.0  \n",
      "3     1.0  \n",
      "4     1.0  \n",
      "5     1.0  \n",
      "6     1.0  \n",
      "7     1.0  \n",
      "8     1.0  \n",
      "9     1.0  \n",
      "\n",
      "[10 rows x 44 columns]\n"
     ]
    }
   ],
   "source": [
    "# Random seed for reproducibility\n",
    "seed = 10\n",
    "np.random.seed(seed)\n",
    "# Import data\n",
    "df = pd.read_csv(r'D:\\source\\repos\\KaggleConnectX\\data\\working\\actions.csv',index_col=0)\n",
    "# Print first 10 samples\n",
    "print(df.head(10))"
   ]
  },
  {
   "cell_type": "code",
   "execution_count": 54,
   "metadata": {},
   "outputs": [
    {
     "data": {
      "text/html": [
       "<div>\n",
       "<style scoped>\n",
       "    .dataframe tbody tr th:only-of-type {\n",
       "        vertical-align: middle;\n",
       "    }\n",
       "\n",
       "    .dataframe tbody tr th {\n",
       "        vertical-align: top;\n",
       "    }\n",
       "\n",
       "    .dataframe thead th {\n",
       "        text-align: right;\n",
       "    }\n",
       "</style>\n",
       "<table border=\"1\" class=\"dataframe\">\n",
       "  <thead>\n",
       "    <tr style=\"text-align: right;\">\n",
       "      <th></th>\n",
       "      <th>1</th>\n",
       "      <th>2</th>\n",
       "      <th>3</th>\n",
       "      <th>4</th>\n",
       "      <th>5</th>\n",
       "      <th>6</th>\n",
       "      <th>7</th>\n",
       "      <th>8</th>\n",
       "      <th>9</th>\n",
       "      <th>10</th>\n",
       "      <th>...</th>\n",
       "      <th>35</th>\n",
       "      <th>36</th>\n",
       "      <th>37</th>\n",
       "      <th>38</th>\n",
       "      <th>39</th>\n",
       "      <th>40</th>\n",
       "      <th>41</th>\n",
       "      <th>42</th>\n",
       "      <th>target</th>\n",
       "      <th>winner</th>\n",
       "    </tr>\n",
       "  </thead>\n",
       "  <tbody>\n",
       "    <tr>\n",
       "      <th>0</th>\n",
       "      <td>0</td>\n",
       "      <td>0</td>\n",
       "      <td>0</td>\n",
       "      <td>0</td>\n",
       "      <td>0</td>\n",
       "      <td>0</td>\n",
       "      <td>0</td>\n",
       "      <td>0</td>\n",
       "      <td>0</td>\n",
       "      <td>0</td>\n",
       "      <td>...</td>\n",
       "      <td>0</td>\n",
       "      <td>0</td>\n",
       "      <td>0</td>\n",
       "      <td>0</td>\n",
       "      <td>1</td>\n",
       "      <td>0</td>\n",
       "      <td>0</td>\n",
       "      <td>0</td>\n",
       "      <td>3</td>\n",
       "      <td>1.0</td>\n",
       "    </tr>\n",
       "    <tr>\n",
       "      <th>1</th>\n",
       "      <td>0</td>\n",
       "      <td>0</td>\n",
       "      <td>0</td>\n",
       "      <td>0</td>\n",
       "      <td>0</td>\n",
       "      <td>0</td>\n",
       "      <td>0</td>\n",
       "      <td>0</td>\n",
       "      <td>0</td>\n",
       "      <td>0</td>\n",
       "      <td>...</td>\n",
       "      <td>0</td>\n",
       "      <td>0</td>\n",
       "      <td>0</td>\n",
       "      <td>0</td>\n",
       "      <td>1</td>\n",
       "      <td>0</td>\n",
       "      <td>0</td>\n",
       "      <td>0</td>\n",
       "      <td>3</td>\n",
       "      <td>1.0</td>\n",
       "    </tr>\n",
       "    <tr>\n",
       "      <th>2</th>\n",
       "      <td>0</td>\n",
       "      <td>0</td>\n",
       "      <td>0</td>\n",
       "      <td>0</td>\n",
       "      <td>0</td>\n",
       "      <td>0</td>\n",
       "      <td>0</td>\n",
       "      <td>0</td>\n",
       "      <td>0</td>\n",
       "      <td>0</td>\n",
       "      <td>...</td>\n",
       "      <td>0</td>\n",
       "      <td>0</td>\n",
       "      <td>0</td>\n",
       "      <td>0</td>\n",
       "      <td>1</td>\n",
       "      <td>2</td>\n",
       "      <td>0</td>\n",
       "      <td>0</td>\n",
       "      <td>1</td>\n",
       "      <td>1.0</td>\n",
       "    </tr>\n",
       "    <tr>\n",
       "      <th>3</th>\n",
       "      <td>0</td>\n",
       "      <td>0</td>\n",
       "      <td>0</td>\n",
       "      <td>0</td>\n",
       "      <td>0</td>\n",
       "      <td>0</td>\n",
       "      <td>0</td>\n",
       "      <td>0</td>\n",
       "      <td>0</td>\n",
       "      <td>0</td>\n",
       "      <td>...</td>\n",
       "      <td>0</td>\n",
       "      <td>0</td>\n",
       "      <td>0</td>\n",
       "      <td>2</td>\n",
       "      <td>1</td>\n",
       "      <td>0</td>\n",
       "      <td>0</td>\n",
       "      <td>0</td>\n",
       "      <td>5</td>\n",
       "      <td>1.0</td>\n",
       "    </tr>\n",
       "    <tr>\n",
       "      <th>4</th>\n",
       "      <td>0</td>\n",
       "      <td>0</td>\n",
       "      <td>0</td>\n",
       "      <td>0</td>\n",
       "      <td>0</td>\n",
       "      <td>0</td>\n",
       "      <td>0</td>\n",
       "      <td>0</td>\n",
       "      <td>0</td>\n",
       "      <td>0</td>\n",
       "      <td>...</td>\n",
       "      <td>0</td>\n",
       "      <td>0</td>\n",
       "      <td>0</td>\n",
       "      <td>0</td>\n",
       "      <td>1</td>\n",
       "      <td>0</td>\n",
       "      <td>0</td>\n",
       "      <td>2</td>\n",
       "      <td>3</td>\n",
       "      <td>1.0</td>\n",
       "    </tr>\n",
       "    <tr>\n",
       "      <th>...</th>\n",
       "      <td>...</td>\n",
       "      <td>...</td>\n",
       "      <td>...</td>\n",
       "      <td>...</td>\n",
       "      <td>...</td>\n",
       "      <td>...</td>\n",
       "      <td>...</td>\n",
       "      <td>...</td>\n",
       "      <td>...</td>\n",
       "      <td>...</td>\n",
       "      <td>...</td>\n",
       "      <td>...</td>\n",
       "      <td>...</td>\n",
       "      <td>...</td>\n",
       "      <td>...</td>\n",
       "      <td>...</td>\n",
       "      <td>...</td>\n",
       "      <td>...</td>\n",
       "      <td>...</td>\n",
       "      <td>...</td>\n",
       "      <td>...</td>\n",
       "    </tr>\n",
       "    <tr>\n",
       "      <th>1455736</th>\n",
       "      <td>0</td>\n",
       "      <td>0</td>\n",
       "      <td>1</td>\n",
       "      <td>1</td>\n",
       "      <td>2</td>\n",
       "      <td>0</td>\n",
       "      <td>0</td>\n",
       "      <td>0</td>\n",
       "      <td>0</td>\n",
       "      <td>1</td>\n",
       "      <td>...</td>\n",
       "      <td>2</td>\n",
       "      <td>1</td>\n",
       "      <td>2</td>\n",
       "      <td>1</td>\n",
       "      <td>1</td>\n",
       "      <td>2</td>\n",
       "      <td>1</td>\n",
       "      <td>2</td>\n",
       "      <td>5</td>\n",
       "      <td>2.0</td>\n",
       "    </tr>\n",
       "    <tr>\n",
       "      <th>1455737</th>\n",
       "      <td>0</td>\n",
       "      <td>0</td>\n",
       "      <td>1</td>\n",
       "      <td>1</td>\n",
       "      <td>2</td>\n",
       "      <td>0</td>\n",
       "      <td>0</td>\n",
       "      <td>0</td>\n",
       "      <td>0</td>\n",
       "      <td>1</td>\n",
       "      <td>...</td>\n",
       "      <td>0</td>\n",
       "      <td>2</td>\n",
       "      <td>2</td>\n",
       "      <td>1</td>\n",
       "      <td>1</td>\n",
       "      <td>1</td>\n",
       "      <td>2</td>\n",
       "      <td>1</td>\n",
       "      <td>5</td>\n",
       "      <td>2.0</td>\n",
       "    </tr>\n",
       "    <tr>\n",
       "      <th>1455738</th>\n",
       "      <td>0</td>\n",
       "      <td>0</td>\n",
       "      <td>1</td>\n",
       "      <td>1</td>\n",
       "      <td>2</td>\n",
       "      <td>0</td>\n",
       "      <td>0</td>\n",
       "      <td>0</td>\n",
       "      <td>0</td>\n",
       "      <td>1</td>\n",
       "      <td>...</td>\n",
       "      <td>2</td>\n",
       "      <td>0</td>\n",
       "      <td>2</td>\n",
       "      <td>1</td>\n",
       "      <td>1</td>\n",
       "      <td>2</td>\n",
       "      <td>1</td>\n",
       "      <td>1</td>\n",
       "      <td>1</td>\n",
       "      <td>2.0</td>\n",
       "    </tr>\n",
       "    <tr>\n",
       "      <th>1455739</th>\n",
       "      <td>0</td>\n",
       "      <td>0</td>\n",
       "      <td>1</td>\n",
       "      <td>1</td>\n",
       "      <td>2</td>\n",
       "      <td>0</td>\n",
       "      <td>0</td>\n",
       "      <td>0</td>\n",
       "      <td>0</td>\n",
       "      <td>1</td>\n",
       "      <td>...</td>\n",
       "      <td>0</td>\n",
       "      <td>2</td>\n",
       "      <td>2</td>\n",
       "      <td>2</td>\n",
       "      <td>1</td>\n",
       "      <td>1</td>\n",
       "      <td>2</td>\n",
       "      <td>2</td>\n",
       "      <td>5</td>\n",
       "      <td>1.0</td>\n",
       "    </tr>\n",
       "    <tr>\n",
       "      <th>1455740</th>\n",
       "      <td>2</td>\n",
       "      <td>2</td>\n",
       "      <td>2</td>\n",
       "      <td>1</td>\n",
       "      <td>2</td>\n",
       "      <td>2</td>\n",
       "      <td>0</td>\n",
       "      <td>2</td>\n",
       "      <td>2</td>\n",
       "      <td>1</td>\n",
       "      <td>...</td>\n",
       "      <td>2</td>\n",
       "      <td>2</td>\n",
       "      <td>2</td>\n",
       "      <td>1</td>\n",
       "      <td>1</td>\n",
       "      <td>1</td>\n",
       "      <td>2</td>\n",
       "      <td>1</td>\n",
       "      <td>6</td>\n",
       "      <td>1.0</td>\n",
       "    </tr>\n",
       "  </tbody>\n",
       "</table>\n",
       "<p>1455741 rows × 44 columns</p>\n",
       "</div>"
      ],
      "text/plain": [
       "         1  2  3  4  5  6  7  8  9  10  ...  35  36  37  38  39  40  41  42  \\\n",
       "0        0  0  0  0  0  0  0  0  0   0  ...   0   0   0   0   1   0   0   0   \n",
       "1        0  0  0  0  0  0  0  0  0   0  ...   0   0   0   0   1   0   0   0   \n",
       "2        0  0  0  0  0  0  0  0  0   0  ...   0   0   0   0   1   2   0   0   \n",
       "3        0  0  0  0  0  0  0  0  0   0  ...   0   0   0   2   1   0   0   0   \n",
       "4        0  0  0  0  0  0  0  0  0   0  ...   0   0   0   0   1   0   0   2   \n",
       "...     .. .. .. .. .. .. .. .. ..  ..  ...  ..  ..  ..  ..  ..  ..  ..  ..   \n",
       "1455736  0  0  1  1  2  0  0  0  0   1  ...   2   1   2   1   1   2   1   2   \n",
       "1455737  0  0  1  1  2  0  0  0  0   1  ...   0   2   2   1   1   1   2   1   \n",
       "1455738  0  0  1  1  2  0  0  0  0   1  ...   2   0   2   1   1   2   1   1   \n",
       "1455739  0  0  1  1  2  0  0  0  0   1  ...   0   2   2   2   1   1   2   2   \n",
       "1455740  2  2  2  1  2  2  0  2  2   1  ...   2   2   2   1   1   1   2   1   \n",
       "\n",
       "         target  winner  \n",
       "0             3     1.0  \n",
       "1             3     1.0  \n",
       "2             1     1.0  \n",
       "3             5     1.0  \n",
       "4             3     1.0  \n",
       "...         ...     ...  \n",
       "1455736       5     2.0  \n",
       "1455737       5     2.0  \n",
       "1455738       1     2.0  \n",
       "1455739       5     1.0  \n",
       "1455740       6     1.0  \n",
       "\n",
       "[1455741 rows x 44 columns]"
      ]
     },
     "execution_count": 54,
     "metadata": {},
     "output_type": "execute_result"
    }
   ],
   "source": [
    "df"
   ]
  },
  {
   "cell_type": "code",
   "execution_count": 55,
   "metadata": {},
   "outputs": [],
   "source": [
    "df.loc[df['target'] == 3, 'target_three'] = 1\n",
    "df.loc[df['target'] != 3, 'target_three'] = 0"
   ]
  },
  {
   "cell_type": "code",
   "execution_count": 56,
   "metadata": {},
   "outputs": [
    {
     "data": {
      "text/html": [
       "<div>\n",
       "<style scoped>\n",
       "    .dataframe tbody tr th:only-of-type {\n",
       "        vertical-align: middle;\n",
       "    }\n",
       "\n",
       "    .dataframe tbody tr th {\n",
       "        vertical-align: top;\n",
       "    }\n",
       "\n",
       "    .dataframe thead th {\n",
       "        text-align: right;\n",
       "    }\n",
       "</style>\n",
       "<table border=\"1\" class=\"dataframe\">\n",
       "  <thead>\n",
       "    <tr style=\"text-align: right;\">\n",
       "      <th></th>\n",
       "      <th>1</th>\n",
       "      <th>2</th>\n",
       "      <th>3</th>\n",
       "      <th>4</th>\n",
       "      <th>5</th>\n",
       "      <th>6</th>\n",
       "      <th>7</th>\n",
       "      <th>8</th>\n",
       "      <th>9</th>\n",
       "      <th>10</th>\n",
       "      <th>...</th>\n",
       "      <th>36</th>\n",
       "      <th>37</th>\n",
       "      <th>38</th>\n",
       "      <th>39</th>\n",
       "      <th>40</th>\n",
       "      <th>41</th>\n",
       "      <th>42</th>\n",
       "      <th>target</th>\n",
       "      <th>winner</th>\n",
       "      <th>target_three</th>\n",
       "    </tr>\n",
       "  </thead>\n",
       "  <tbody>\n",
       "    <tr>\n",
       "      <th>0</th>\n",
       "      <td>0</td>\n",
       "      <td>0</td>\n",
       "      <td>0</td>\n",
       "      <td>0</td>\n",
       "      <td>0</td>\n",
       "      <td>0</td>\n",
       "      <td>0</td>\n",
       "      <td>0</td>\n",
       "      <td>0</td>\n",
       "      <td>0</td>\n",
       "      <td>...</td>\n",
       "      <td>0</td>\n",
       "      <td>0</td>\n",
       "      <td>0</td>\n",
       "      <td>1</td>\n",
       "      <td>0</td>\n",
       "      <td>0</td>\n",
       "      <td>0</td>\n",
       "      <td>3</td>\n",
       "      <td>1.0</td>\n",
       "      <td>1.0</td>\n",
       "    </tr>\n",
       "    <tr>\n",
       "      <th>1</th>\n",
       "      <td>0</td>\n",
       "      <td>0</td>\n",
       "      <td>0</td>\n",
       "      <td>0</td>\n",
       "      <td>0</td>\n",
       "      <td>0</td>\n",
       "      <td>0</td>\n",
       "      <td>0</td>\n",
       "      <td>0</td>\n",
       "      <td>0</td>\n",
       "      <td>...</td>\n",
       "      <td>0</td>\n",
       "      <td>0</td>\n",
       "      <td>0</td>\n",
       "      <td>1</td>\n",
       "      <td>0</td>\n",
       "      <td>0</td>\n",
       "      <td>0</td>\n",
       "      <td>3</td>\n",
       "      <td>1.0</td>\n",
       "      <td>1.0</td>\n",
       "    </tr>\n",
       "    <tr>\n",
       "      <th>2</th>\n",
       "      <td>0</td>\n",
       "      <td>0</td>\n",
       "      <td>0</td>\n",
       "      <td>0</td>\n",
       "      <td>0</td>\n",
       "      <td>0</td>\n",
       "      <td>0</td>\n",
       "      <td>0</td>\n",
       "      <td>0</td>\n",
       "      <td>0</td>\n",
       "      <td>...</td>\n",
       "      <td>0</td>\n",
       "      <td>0</td>\n",
       "      <td>0</td>\n",
       "      <td>1</td>\n",
       "      <td>2</td>\n",
       "      <td>0</td>\n",
       "      <td>0</td>\n",
       "      <td>1</td>\n",
       "      <td>1.0</td>\n",
       "      <td>0.0</td>\n",
       "    </tr>\n",
       "    <tr>\n",
       "      <th>3</th>\n",
       "      <td>0</td>\n",
       "      <td>0</td>\n",
       "      <td>0</td>\n",
       "      <td>0</td>\n",
       "      <td>0</td>\n",
       "      <td>0</td>\n",
       "      <td>0</td>\n",
       "      <td>0</td>\n",
       "      <td>0</td>\n",
       "      <td>0</td>\n",
       "      <td>...</td>\n",
       "      <td>0</td>\n",
       "      <td>0</td>\n",
       "      <td>2</td>\n",
       "      <td>1</td>\n",
       "      <td>0</td>\n",
       "      <td>0</td>\n",
       "      <td>0</td>\n",
       "      <td>5</td>\n",
       "      <td>1.0</td>\n",
       "      <td>0.0</td>\n",
       "    </tr>\n",
       "    <tr>\n",
       "      <th>4</th>\n",
       "      <td>0</td>\n",
       "      <td>0</td>\n",
       "      <td>0</td>\n",
       "      <td>0</td>\n",
       "      <td>0</td>\n",
       "      <td>0</td>\n",
       "      <td>0</td>\n",
       "      <td>0</td>\n",
       "      <td>0</td>\n",
       "      <td>0</td>\n",
       "      <td>...</td>\n",
       "      <td>0</td>\n",
       "      <td>0</td>\n",
       "      <td>0</td>\n",
       "      <td>1</td>\n",
       "      <td>0</td>\n",
       "      <td>0</td>\n",
       "      <td>2</td>\n",
       "      <td>3</td>\n",
       "      <td>1.0</td>\n",
       "      <td>1.0</td>\n",
       "    </tr>\n",
       "    <tr>\n",
       "      <th>...</th>\n",
       "      <td>...</td>\n",
       "      <td>...</td>\n",
       "      <td>...</td>\n",
       "      <td>...</td>\n",
       "      <td>...</td>\n",
       "      <td>...</td>\n",
       "      <td>...</td>\n",
       "      <td>...</td>\n",
       "      <td>...</td>\n",
       "      <td>...</td>\n",
       "      <td>...</td>\n",
       "      <td>...</td>\n",
       "      <td>...</td>\n",
       "      <td>...</td>\n",
       "      <td>...</td>\n",
       "      <td>...</td>\n",
       "      <td>...</td>\n",
       "      <td>...</td>\n",
       "      <td>...</td>\n",
       "      <td>...</td>\n",
       "      <td>...</td>\n",
       "    </tr>\n",
       "    <tr>\n",
       "      <th>1455736</th>\n",
       "      <td>0</td>\n",
       "      <td>0</td>\n",
       "      <td>1</td>\n",
       "      <td>1</td>\n",
       "      <td>2</td>\n",
       "      <td>0</td>\n",
       "      <td>0</td>\n",
       "      <td>0</td>\n",
       "      <td>0</td>\n",
       "      <td>1</td>\n",
       "      <td>...</td>\n",
       "      <td>1</td>\n",
       "      <td>2</td>\n",
       "      <td>1</td>\n",
       "      <td>1</td>\n",
       "      <td>2</td>\n",
       "      <td>1</td>\n",
       "      <td>2</td>\n",
       "      <td>5</td>\n",
       "      <td>2.0</td>\n",
       "      <td>0.0</td>\n",
       "    </tr>\n",
       "    <tr>\n",
       "      <th>1455737</th>\n",
       "      <td>0</td>\n",
       "      <td>0</td>\n",
       "      <td>1</td>\n",
       "      <td>1</td>\n",
       "      <td>2</td>\n",
       "      <td>0</td>\n",
       "      <td>0</td>\n",
       "      <td>0</td>\n",
       "      <td>0</td>\n",
       "      <td>1</td>\n",
       "      <td>...</td>\n",
       "      <td>2</td>\n",
       "      <td>2</td>\n",
       "      <td>1</td>\n",
       "      <td>1</td>\n",
       "      <td>1</td>\n",
       "      <td>2</td>\n",
       "      <td>1</td>\n",
       "      <td>5</td>\n",
       "      <td>2.0</td>\n",
       "      <td>0.0</td>\n",
       "    </tr>\n",
       "    <tr>\n",
       "      <th>1455738</th>\n",
       "      <td>0</td>\n",
       "      <td>0</td>\n",
       "      <td>1</td>\n",
       "      <td>1</td>\n",
       "      <td>2</td>\n",
       "      <td>0</td>\n",
       "      <td>0</td>\n",
       "      <td>0</td>\n",
       "      <td>0</td>\n",
       "      <td>1</td>\n",
       "      <td>...</td>\n",
       "      <td>0</td>\n",
       "      <td>2</td>\n",
       "      <td>1</td>\n",
       "      <td>1</td>\n",
       "      <td>2</td>\n",
       "      <td>1</td>\n",
       "      <td>1</td>\n",
       "      <td>1</td>\n",
       "      <td>2.0</td>\n",
       "      <td>0.0</td>\n",
       "    </tr>\n",
       "    <tr>\n",
       "      <th>1455739</th>\n",
       "      <td>0</td>\n",
       "      <td>0</td>\n",
       "      <td>1</td>\n",
       "      <td>1</td>\n",
       "      <td>2</td>\n",
       "      <td>0</td>\n",
       "      <td>0</td>\n",
       "      <td>0</td>\n",
       "      <td>0</td>\n",
       "      <td>1</td>\n",
       "      <td>...</td>\n",
       "      <td>2</td>\n",
       "      <td>2</td>\n",
       "      <td>2</td>\n",
       "      <td>1</td>\n",
       "      <td>1</td>\n",
       "      <td>2</td>\n",
       "      <td>2</td>\n",
       "      <td>5</td>\n",
       "      <td>1.0</td>\n",
       "      <td>0.0</td>\n",
       "    </tr>\n",
       "    <tr>\n",
       "      <th>1455740</th>\n",
       "      <td>2</td>\n",
       "      <td>2</td>\n",
       "      <td>2</td>\n",
       "      <td>1</td>\n",
       "      <td>2</td>\n",
       "      <td>2</td>\n",
       "      <td>0</td>\n",
       "      <td>2</td>\n",
       "      <td>2</td>\n",
       "      <td>1</td>\n",
       "      <td>...</td>\n",
       "      <td>2</td>\n",
       "      <td>2</td>\n",
       "      <td>1</td>\n",
       "      <td>1</td>\n",
       "      <td>1</td>\n",
       "      <td>2</td>\n",
       "      <td>1</td>\n",
       "      <td>6</td>\n",
       "      <td>1.0</td>\n",
       "      <td>0.0</td>\n",
       "    </tr>\n",
       "  </tbody>\n",
       "</table>\n",
       "<p>1455741 rows × 45 columns</p>\n",
       "</div>"
      ],
      "text/plain": [
       "         1  2  3  4  5  6  7  8  9  10  ...  36  37  38  39  40  41  42  \\\n",
       "0        0  0  0  0  0  0  0  0  0   0  ...   0   0   0   1   0   0   0   \n",
       "1        0  0  0  0  0  0  0  0  0   0  ...   0   0   0   1   0   0   0   \n",
       "2        0  0  0  0  0  0  0  0  0   0  ...   0   0   0   1   2   0   0   \n",
       "3        0  0  0  0  0  0  0  0  0   0  ...   0   0   2   1   0   0   0   \n",
       "4        0  0  0  0  0  0  0  0  0   0  ...   0   0   0   1   0   0   2   \n",
       "...     .. .. .. .. .. .. .. .. ..  ..  ...  ..  ..  ..  ..  ..  ..  ..   \n",
       "1455736  0  0  1  1  2  0  0  0  0   1  ...   1   2   1   1   2   1   2   \n",
       "1455737  0  0  1  1  2  0  0  0  0   1  ...   2   2   1   1   1   2   1   \n",
       "1455738  0  0  1  1  2  0  0  0  0   1  ...   0   2   1   1   2   1   1   \n",
       "1455739  0  0  1  1  2  0  0  0  0   1  ...   2   2   2   1   1   2   2   \n",
       "1455740  2  2  2  1  2  2  0  2  2   1  ...   2   2   1   1   1   2   1   \n",
       "\n",
       "         target  winner  target_three  \n",
       "0             3     1.0           1.0  \n",
       "1             3     1.0           1.0  \n",
       "2             1     1.0           0.0  \n",
       "3             5     1.0           0.0  \n",
       "4             3     1.0           1.0  \n",
       "...         ...     ...           ...  \n",
       "1455736       5     2.0           0.0  \n",
       "1455737       5     2.0           0.0  \n",
       "1455738       1     2.0           0.0  \n",
       "1455739       5     1.0           0.0  \n",
       "1455740       6     1.0           0.0  \n",
       "\n",
       "[1455741 rows x 45 columns]"
      ]
     },
     "execution_count": 56,
     "metadata": {},
     "output_type": "execute_result"
    }
   ],
   "source": [
    "df"
   ]
  },
  {
   "cell_type": "markdown",
   "metadata": {},
   "source": [
    "Column indices 0 to 47 are input variables (total 48 columns). Column index 48 is target column that contains 11 different classes (1 column). "
   ]
  },
  {
   "cell_type": "markdown",
   "metadata": {},
   "source": [
    "Step 3. Data pre-processing"
   ]
  },
  {
   "cell_type": "code",
   "execution_count": 57,
   "metadata": {},
   "outputs": [
    {
     "name": "stdout",
     "output_type": "stream",
     "text": [
      "1               0\n",
      "2               0\n",
      "3               0\n",
      "4               0\n",
      "5               0\n",
      "6               0\n",
      "7               0\n",
      "8               0\n",
      "9               0\n",
      "10              0\n",
      "11              0\n",
      "12              0\n",
      "13              0\n",
      "14              0\n",
      "15              0\n",
      "16              0\n",
      "17              0\n",
      "18              0\n",
      "19              0\n",
      "20              0\n",
      "21              0\n",
      "22              0\n",
      "23              0\n",
      "24              0\n",
      "25              0\n",
      "26              0\n",
      "27              0\n",
      "28              0\n",
      "29              0\n",
      "30              0\n",
      "31              0\n",
      "32              0\n",
      "33              0\n",
      "34              0\n",
      "35              0\n",
      "36              0\n",
      "37              0\n",
      "38              0\n",
      "39              0\n",
      "40              0\n",
      "41              0\n",
      "42              0\n",
      "target          0\n",
      "winner          0\n",
      "target_three    0\n",
      "dtype: int64\n"
     ]
    }
   ],
   "source": [
    "# Check missing values\n",
    "print(df.isna().sum())"
   ]
  },
  {
   "cell_type": "markdown",
   "metadata": {},
   "source": [
    "No missing values. "
   ]
  },
  {
   "cell_type": "code",
   "execution_count": 58,
   "metadata": {},
   "outputs": [],
   "source": [
    "# Remove missing values IF AVAILABLE and print first 10 samples\n",
    "# df = df.dropna()\n",
    "# print(df.head(10))\n",
    "# print(df.shape)\n"
   ]
  },
  {
   "cell_type": "code",
   "execution_count": 59,
   "metadata": {},
   "outputs": [
    {
     "name": "stdout",
     "output_type": "stream",
     "text": [
      "(1455741, 43)\n",
      "(1455741,)\n"
     ]
    }
   ],
   "source": [
    "# Divide data into features X and target (Classes) Y\n",
    "columns = [str(item) for item in range(1, 43)]\n",
    "columns.append('winner')\n",
    "X = df.loc[:,columns]\n",
    "Y = df.loc[:,'target']\n",
    "print(X.shape)\n",
    "print(Y.shape)"
   ]
  },
  {
   "cell_type": "code",
   "execution_count": 60,
   "metadata": {},
   "outputs": [
    {
     "name": "stdout",
     "output_type": "stream",
     "text": [
      "                  1             2             3             4             5  \\\n",
      "count  1.455741e+06  1.455741e+06  1.455741e+06  1.455741e+06  1.455741e+06   \n",
      "mean   3.588420e-01  5.071541e-01  6.404738e-01  1.342433e+00  6.306788e-01   \n",
      "std    6.886931e-01  7.565136e-01  8.191852e-01  7.635096e-01  8.172292e-01   \n",
      "min   -1.000000e+00 -1.000000e+00 -1.000000e+00 -1.000000e+00 -1.000000e+00   \n",
      "25%    0.000000e+00  0.000000e+00  0.000000e+00  1.000000e+00  0.000000e+00   \n",
      "50%    0.000000e+00  0.000000e+00  0.000000e+00  2.000000e+00  0.000000e+00   \n",
      "75%    0.000000e+00  1.000000e+00  1.000000e+00  2.000000e+00  1.000000e+00   \n",
      "max    2.000000e+00  2.000000e+00  2.000000e+00  2.000000e+00  2.000000e+00   \n",
      "\n",
      "                  6             7             8             9            10  \\\n",
      "count  1.455741e+06  1.455741e+06  1.455741e+06  1.455741e+06  1.455741e+06   \n",
      "mean   4.797845e-01  3.148094e-01  4.965361e-01  6.938439e-01  7.402835e-01   \n",
      "std    7.442279e-01  6.572117e-01  7.617138e-01  8.378977e-01  7.926741e-01   \n",
      "min   -1.000000e+00 -1.000000e+00 -1.000000e+00 -1.000000e+00 -1.000000e+00   \n",
      "25%    0.000000e+00  0.000000e+00  0.000000e+00  0.000000e+00  0.000000e+00   \n",
      "50%    0.000000e+00  0.000000e+00  0.000000e+00  0.000000e+00  1.000000e+00   \n",
      "75%    1.000000e+00  0.000000e+00  1.000000e+00  1.000000e+00  1.000000e+00   \n",
      "max    2.000000e+00  2.000000e+00  2.000000e+00  2.000000e+00  2.000000e+00   \n",
      "\n",
      "       ...            34            35            36            37  \\\n",
      "count  ...  1.455741e+06  1.455741e+06  1.455741e+06  1.455741e+06   \n",
      "mean   ...  9.679517e-01  9.530184e-01  1.280991e+00  1.327665e+00   \n",
      "std    ...  7.533699e-01  8.170065e-01  7.482325e-01  7.309332e-01   \n",
      "min    ... -1.000000e+00 -1.000000e+00 -1.000000e+00 -1.000000e+00   \n",
      "25%    ...  0.000000e+00  0.000000e+00  1.000000e+00  1.000000e+00   \n",
      "50%    ...  1.000000e+00  1.000000e+00  1.000000e+00  1.000000e+00   \n",
      "75%    ...  2.000000e+00  2.000000e+00  2.000000e+00  2.000000e+00   \n",
      "max    ...  2.000000e+00  2.000000e+00  2.000000e+00  2.000000e+00   \n",
      "\n",
      "                 38            39            40            41            42  \\\n",
      "count  1.455741e+06  1.455741e+06  1.455741e+06  1.455741e+06  1.455741e+06   \n",
      "mean   1.439840e+00  1.036855e+00  1.475398e+00  1.301773e+00  1.217644e+00   \n",
      "std    6.899098e-01  1.993569e-01  7.004452e-01  7.397568e-01  7.564447e-01   \n",
      "min   -1.000000e+00  0.000000e+00 -1.000000e+00 -1.000000e+00 -1.000000e+00   \n",
      "25%    1.000000e+00  1.000000e+00  1.000000e+00  1.000000e+00  1.000000e+00   \n",
      "50%    2.000000e+00  1.000000e+00  2.000000e+00  1.000000e+00  1.000000e+00   \n",
      "75%    2.000000e+00  1.000000e+00  2.000000e+00  2.000000e+00  2.000000e+00   \n",
      "max    2.000000e+00  2.000000e+00  2.000000e+00  2.000000e+00  2.000000e+00   \n",
      "\n",
      "             winner  \n",
      "count  1.455741e+06  \n",
      "mean   1.395212e+00  \n",
      "std    4.888964e-01  \n",
      "min    1.000000e+00  \n",
      "25%    1.000000e+00  \n",
      "50%    1.000000e+00  \n",
      "75%    2.000000e+00  \n",
      "max    2.000000e+00  \n",
      "\n",
      "[8 rows x 43 columns]\n"
     ]
    }
   ],
   "source": [
    "# Statistical summary of the variables\n",
    "print(X.describe())"
   ]
  },
  {
   "cell_type": "markdown",
   "metadata": {},
   "source": [
    "Scale of all the variables is different. Therefore, feature scaling is important.    "
   ]
  },
  {
   "cell_type": "code",
   "execution_count": 61,
   "metadata": {
    "tags": []
   },
   "outputs": [
    {
     "name": "stdout",
     "output_type": "stream",
     "text": [
      "target\n",
      "0    280362\n",
      "1    213333\n",
      "2    197202\n",
      "3     57142\n",
      "4    200343\n",
      "5    221437\n",
      "6    285922\n",
      "dtype: int64\n"
     ]
    }
   ],
   "source": [
    "# Check for class imbalance\n",
    "print(df.groupby(Y).size())"
   ]
  },
  {
   "cell_type": "markdown",
   "metadata": {
    "tags": []
   },
   "source": [
    "Since all the classes have same sample size, there is no class imbalance. "
   ]
  },
  {
   "cell_type": "code",
   "execution_count": 62,
   "metadata": {},
   "outputs": [],
   "source": [
    "# Normalize features within range 0 (minimum) and 1 (maximum)\n",
    "scaler = MinMaxScaler(feature_range=(0, 1))\n",
    "X = scaler.fit_transform(X)\n",
    "X = pd.DataFrame(X)"
   ]
  },
  {
   "cell_type": "markdown",
   "metadata": {
    "tags": []
   },
   "source": [
    "To train the Neural Network, single target column must be converted into one hot encoded fomat. For more details, visit this link: https://machinelearningmastery.com/why-one-hot-encode-data-in-machine-learning/"
   ]
  },
  {
   "cell_type": "code",
   "execution_count": 63,
   "metadata": {},
   "outputs": [],
   "source": [
    "# Convert target Y to one hot encoded Y for Neural Network\n",
    "Y = pd.get_dummies(Y)\n",
    "# If target is in string form, use following code:\n",
    "# First encode target values as integers from string\n",
    "# Then perform one hot encoding\n",
    "# encoder = LabelEncoder()\n",
    "# encoder.fit(Y)\n",
    "# Y = encoder.transform(Y)\n",
    "# Y = np_utils.to_categorical(Y)"
   ]
  },
  {
   "cell_type": "code",
   "execution_count": 64,
   "metadata": {},
   "outputs": [],
   "source": [
    "# For Keras, convert dataframe to array values (Inbuilt requirement of Keras)\n",
    "X = X.values\n",
    "Y = Y.values"
   ]
  },
  {
   "cell_type": "markdown",
   "metadata": {},
   "source": [
    "Step 4. Define Neural Network Model "
   ]
  },
  {
   "cell_type": "markdown",
   "metadata": {
    "tags": []
   },
   "source": [
    "Two hidden layers are defined with \"Rectified Linear Unit\" (relu) and 15 neurons each. Furthermore, this is a multi-class classification problem and there are total 11 target clsses, therefore \"softmax\" activation function and 11 neurons are used in the output layer. For hidden layers, the number of neurons should be in between the input data dimension and the output data dimension. In this case, the input data has 48 variable columns and output classes are 11. Therefore, the number of neurons for the hidden layer should be in between 11 and 48. You can try different values for the number of neurons as well as different number of hidden layers.  "
   ]
  },
  {
   "cell_type": "code",
   "execution_count": 96,
   "metadata": {},
   "outputs": [],
   "source": [
    "# First define baseline model. Then use it in Keras Classifier for the training\n",
    "def baseline_model():\n",
    "    # Create model here\n",
    "    model = Sequential()\n",
    "    #model.add(Dense(150, input_dim = 43, activation = 'relu')) # Rectified Linear Unit Activation Function\n",
    "    #model.add(Dense(7, activation = 'relu'))\n",
    "    #model.add(Dropout(.2))\n",
    "    #model.add(Dense(150, activation = 'relu'))\n",
    "    #model.add(Dense(7, activation = 'softmax')) # Softmax for multi-class classification\n",
    "    model.add(Dense(43, activation= 'relu'))\n",
    "    model.add(Dense(10000, activation= 'relu'))\n",
    "    model.add(AlphaDropout(.142))\n",
    "    model.add(Dense(10000, activation= 'relu'))\n",
    "    model.add(Dense(7, activation='softmax'))\n",
    "    # Compile model here\n",
    "    model.compile(loss = 'categorical_crossentropy', optimizer = 'adam', metrics = ['accuracy'])\n",
    "    return model\n",
    "\n",
    "# First define baseline model. Then use it in Keras Classifier for the training\n",
    "def baseline_model_binary():\n",
    "    # Create model here\n",
    "    model = Sequential()\n",
    "    #model.add(Dense(150, input_dim = 43, activation = 'relu')) # Rectified Linear Unit Activation Function\n",
    "    #model.add(Dense(7, activation = 'relu'))\n",
    "    #model.add(Dropout(.2))\n",
    "    #model.add(Dense(150, activation = 'relu'))\n",
    "    #model.add(Dense(7, activation = 'softmax')) # Softmax for multi-class classification\n",
    "    model.add(Dense(43, activation= 'relu'))\n",
    "    model.add(Dense(2, activation='sigmoid'))\n",
    "    # Compile model here\n",
    "    model.compile(loss = 'binary_crossentropy', optimizer = 'adam', metrics = ['accuracy'])\n",
    "    return model"
   ]
  },
  {
   "cell_type": "markdown",
   "metadata": {
    "tags": []
   },
   "source": [
    "Input dimension (input_dim) is 48, because the input variable columns are 48. It will change as per the dimension of the input variables."
   ]
  },
  {
   "cell_type": "markdown",
   "metadata": {
    "tags": []
   },
   "source": [
    "**Note**: If you use only one hidden layer, then it will be the case of simple Neural Network problem. But, if you use more than one hidden layers for example 3, it will be considered as the deep learning problem.  "
   ]
  },
  {
   "cell_type": "code",
   "execution_count": 97,
   "metadata": {},
   "outputs": [
    {
     "name": "stderr",
     "output_type": "stream",
     "text": [
      "C:\\Users\\ryans\\AppData\\Local\\Temp\\ipykernel_15764\\2037808088.py:2: DeprecationWarning: KerasClassifier is deprecated, use Sci-Keras (https://github.com/adriangb/scikeras) instead. See https://www.adriangb.com/scikeras/stable/migration.html for help migrating.\n",
      "  estimator = KerasClassifier(build_fn = baseline_model, epochs = 10, batch_size = 1000, verbose = 1)\n"
     ]
    }
   ],
   "source": [
    "# Create Keras Classifier and use predefined baseline model\n",
    "estimator = KerasClassifier(build_fn = baseline_model, epochs = 10, batch_size = 1000, verbose = 1)\n",
    "# Try different values for epoch and batch size"
   ]
  },
  {
   "cell_type": "markdown",
   "metadata": {
    "tags": []
   },
   "source": [
    "Step 5. Define cross-validation and train pre-defined model "
   ]
  },
  {
   "cell_type": "code",
   "execution_count": 98,
   "metadata": {},
   "outputs": [],
   "source": [
    "# KFold Cross Validation\n",
    "#kfold = KFold(n_splits = 5, shuffle = True, random_state = seed)\n",
    "# Try different values of splits e.g., 10"
   ]
  },
  {
   "cell_type": "code",
   "execution_count": 99,
   "metadata": {
    "tags": []
   },
   "outputs": [],
   "source": [
    "# Object to describe the result\n",
    "#results = cross_val_score(estimator, X, Y, cv = kfold)\n",
    "# Result\n",
    "#print(\"Result: %.2f%% (%.2f%%)\" % (results.mean()*100, results.std()*100))"
   ]
  },
  {
   "cell_type": "code",
   "execution_count": null,
   "metadata": {},
   "outputs": [],
   "source": []
  },
  {
   "cell_type": "markdown",
   "metadata": {
    "tags": []
   },
   "source": [
    "From the result above, the accuracy is 94% and it can be improved by techniques like feature extraction, selection and feature engineering. "
   ]
  },
  {
   "cell_type": "code",
   "execution_count": 100,
   "metadata": {
    "tags": []
   },
   "outputs": [
    {
     "name": "stdout",
     "output_type": "stream",
     "text": [
      "Epoch 1/10\n",
      "1456/1456 [==============================] - 48s 33ms/step - loss: 1.4334 - accuracy: 0.3892\n",
      "Epoch 2/10\n",
      "1456/1456 [==============================] - 48s 33ms/step - loss: 1.2243 - accuracy: 0.4592\n",
      "Epoch 3/10\n",
      "1456/1456 [==============================] - 48s 33ms/step - loss: 1.1994 - accuracy: 0.4776\n",
      "Epoch 4/10\n",
      "1456/1456 [==============================] - 48s 33ms/step - loss: 1.1833 - accuracy: 0.4885\n",
      "Epoch 5/10\n",
      "1456/1456 [==============================] - 48s 33ms/step - loss: 1.1677 - accuracy: 0.4995\n",
      "Epoch 6/10\n",
      "1456/1456 [==============================] - 49s 34ms/step - loss: 1.1493 - accuracy: 0.5111\n",
      "Epoch 7/10\n",
      "1456/1456 [==============================] - 51s 35ms/step - loss: 1.1316 - accuracy: 0.5219\n",
      "Epoch 8/10\n",
      "1456/1456 [==============================] - 49s 33ms/step - loss: 1.1183 - accuracy: 0.5302\n",
      "Epoch 9/10\n",
      "1456/1456 [==============================] - 54s 37ms/step - loss: 1.1063 - accuracy: 0.5368\n",
      "Epoch 10/10\n",
      "1456/1456 [==============================] - 80s 55ms/step - loss: 1.0958 - accuracy: 0.5432\n"
     ]
    },
    {
     "data": {
      "text/plain": [
       "<keras.callbacks.History at 0x1f6f99ca530>"
      ]
     },
     "execution_count": 100,
     "metadata": {},
     "output_type": "execute_result"
    }
   ],
   "source": [
    "estimator.fit(X,Y)"
   ]
  },
  {
   "cell_type": "code",
   "execution_count": 101,
   "metadata": {},
   "outputs": [
    {
     "name": "stdout",
     "output_type": "stream",
     "text": [
      "1/1 [==============================] - 0s 60ms/step\n"
     ]
    },
    {
     "data": {
      "text/plain": [
       "array([2])"
      ]
     },
     "execution_count": 101,
     "metadata": {},
     "output_type": "execute_result"
    }
   ],
   "source": [
    "estimator.predict([X[20].tolist()])"
   ]
  },
  {
   "cell_type": "code",
   "execution_count": 102,
   "metadata": {},
   "outputs": [
    {
     "name": "stdout",
     "output_type": "stream",
     "text": [
      "INFO:tensorflow:Assets written to: test6\\assets\n"
     ]
    }
   ],
   "source": [
    "model_name = 'test6'\n",
    "estimator.model.save(f'{model_name}')\n",
    "estimator.model.save(f'{model_name}.h5', save_format='h5')"
   ]
  },
  {
   "cell_type": "code",
   "execution_count": 103,
   "metadata": {},
   "outputs": [],
   "source": [
    "import keras\n",
    "model2 = keras.models.load_model(f'{model_name}.h5')"
   ]
  },
  {
   "cell_type": "code",
   "execution_count": 104,
   "metadata": {},
   "outputs": [
    {
     "name": "stdout",
     "output_type": "stream",
     "text": [
      "1/1 [==============================] - 0s 72ms/step\n"
     ]
    },
    {
     "data": {
      "text/plain": [
       "3"
      ]
     },
     "execution_count": 104,
     "metadata": {},
     "output_type": "execute_result"
    }
   ],
   "source": [
    "np.argmax(model2.predict([X[0].tolist()]))"
   ]
  },
  {
   "cell_type": "code",
   "execution_count": 105,
   "metadata": {},
   "outputs": [
    {
     "name": "stdout",
     "output_type": "stream",
     "text": [
      "2/2 [==============================] - 0s 3ms/step\n"
     ]
    },
    {
     "data": {
      "text/plain": [
       "array([[4.71371114e-02, 7.00341910e-02, 1.10560380e-01, 5.72111785e-01,\n",
       "        1.50601208e-01, 3.14760767e-02, 1.80792566e-02],\n",
       "       [6.07902221e-02, 1.14336640e-01, 1.88136876e-01, 2.40623027e-01,\n",
       "        3.08017224e-01, 5.16343713e-02, 3.64616066e-02],\n",
       "       [7.10691363e-02, 1.02814525e-01, 1.40789792e-01, 3.87978762e-01,\n",
       "        2.44963229e-01, 2.49597058e-02, 2.74247956e-02],\n",
       "       [8.88352543e-02, 2.60418337e-02, 1.90343529e-01, 3.78577501e-01,\n",
       "        2.05746740e-01, 6.40231669e-02, 4.64320369e-02],\n",
       "       [7.84418806e-02, 1.08233169e-01, 1.42414555e-01, 3.14706713e-01,\n",
       "        1.96287706e-01, 9.19836611e-02, 6.79323673e-02],\n",
       "       [7.20046163e-02, 1.34557366e-01, 1.10945910e-01, 3.96525115e-01,\n",
       "        1.26604930e-01, 9.75930542e-02, 6.17690310e-02],\n",
       "       [7.87516236e-02, 1.97839856e-01, 1.46889314e-01, 8.44208300e-02,\n",
       "        1.67666569e-01, 1.83230951e-01, 1.41200885e-01],\n",
       "       [7.31838867e-02, 1.37587085e-01, 2.10872933e-01, 9.96471420e-02,\n",
       "        2.66621023e-01, 9.19584930e-02, 1.20129474e-01],\n",
       "       [8.63479748e-02, 1.30145371e-01, 2.75120616e-01, 4.55632019e-19,\n",
       "        3.24806005e-01, 7.45769590e-02, 1.09003119e-01],\n",
       "       [8.09156224e-02, 2.43369028e-01, 2.60371774e-01, 3.54399304e-19,\n",
       "        2.74692863e-01, 5.39780892e-02, 8.66725892e-02],\n",
       "       [5.78001738e-02, 1.98293909e-01, 2.33191416e-01, 5.95090938e-18,\n",
       "        4.18119818e-01, 4.23006192e-02, 5.02940938e-02],\n",
       "       [4.92273048e-02, 1.68788791e-01, 2.08802879e-01, 4.49210565e-19,\n",
       "        4.32756007e-01, 6.83754906e-02, 7.20494911e-02],\n",
       "       [4.61832993e-02, 9.34076831e-02, 1.51652455e-01, 8.20098966e-02,\n",
       "        2.88357526e-01, 2.43591636e-01, 9.47974846e-02],\n",
       "       [2.80274861e-02, 5.88027984e-02, 1.69768929e-01, 4.03041899e-01,\n",
       "        2.53209531e-01, 6.39383718e-02, 2.32108887e-02],\n",
       "       [1.04746372e-02, 2.72992626e-02, 3.21407281e-02, 3.07399239e-02,\n",
       "        5.62866703e-02, 7.98232496e-01, 4.48263139e-02],\n",
       "       [6.58538789e-02, 1.94643095e-01, 2.47324973e-01, 7.70084783e-02,\n",
       "        1.78478584e-01, 1.58540130e-01, 7.81508759e-02],\n",
       "       [4.89264950e-02, 1.61064371e-01, 1.69270977e-01, 5.77746257e-02,\n",
       "        3.14454019e-01, 1.64374247e-01, 8.41352344e-02],\n",
       "       [8.05295333e-02, 3.60010207e-01, 2.10343957e-01, 2.19858041e-19,\n",
       "        2.09168673e-01, 3.60051319e-02, 1.03942513e-01],\n",
       "       [2.67049521e-02, 8.99974778e-02, 2.29804024e-01, 3.07733935e-20,\n",
       "        1.32473081e-01, 4.25286084e-01, 9.57343504e-02],\n",
       "       [6.89669251e-02, 3.44868571e-01, 3.17355573e-01, 5.48925714e-20,\n",
       "        1.60987556e-01, 4.28512134e-02, 6.49701208e-02],\n",
       "       [6.09181710e-02, 1.69585079e-01, 4.72512662e-01, 3.64277320e-20,\n",
       "        1.72772586e-01, 6.71561137e-02, 5.70553504e-02],\n",
       "       [6.65008277e-03, 7.50837207e-01, 1.67960420e-01, 1.62868541e-19,\n",
       "        5.59216328e-02, 7.13699078e-03, 1.14935944e-02],\n",
       "       [4.03662510e-02, 2.17079088e-01, 3.57901841e-01, 3.92621924e-20,\n",
       "        1.83320746e-01, 1.22766443e-01, 7.85656348e-02],\n",
       "       [2.97410209e-02, 1.50759012e-01, 1.61002043e-22, 1.63741038e-21,\n",
       "        2.66169637e-01, 4.24591511e-01, 1.28738821e-01],\n",
       "       [4.74994443e-02, 1.26592522e-19, 1.63153277e-24, 1.48469470e-24,\n",
       "        5.61928366e-14, 8.84704530e-01, 6.77960739e-02],\n",
       "       [3.35114785e-02, 3.58101092e-20, 5.17143634e-25, 2.71170810e-23,\n",
       "        1.54434885e-11, 8.38466704e-01, 1.28021836e-01],\n",
       "       [1.88180596e-01, 3.68756552e-21, 1.01027858e-24, 6.24521802e-25,\n",
       "        7.38272128e-13, 6.11150323e-15, 8.11819434e-01],\n",
       "       [6.80035204e-02, 3.55176777e-01, 1.00901023e-01, 9.11498964e-02,\n",
       "        1.92219540e-01, 1.11702360e-01, 8.08468834e-02],\n",
       "       [1.72719676e-02, 7.10309982e-01, 3.98859046e-02, 5.51817343e-02,\n",
       "        1.06910110e-01, 5.07701971e-02, 1.96701661e-02],\n",
       "       [7.76503831e-02, 2.02748440e-02, 2.01744869e-01, 4.32185322e-01,\n",
       "        1.06453642e-01, 1.06305726e-01, 5.53852133e-02],\n",
       "       [4.46752794e-02, 1.78471297e-01, 1.87417582e-01, 1.17626347e-01,\n",
       "        2.06775069e-01, 1.46631435e-01, 1.18402913e-01],\n",
       "       [5.57110310e-02, 2.34109551e-01, 1.48916721e-01, 6.80244118e-02,\n",
       "        2.22704142e-01, 1.61129057e-01, 1.09405145e-01],\n",
       "       [6.37029763e-03, 2.75287364e-21, 3.83455086e-26, 4.84580585e-28,\n",
       "        5.79583202e-13, 8.35692433e-17, 9.93629634e-01],\n",
       "       [6.44595981e-01, 3.94128822e-21, 2.66016889e-25, 2.09007711e-26,\n",
       "        2.48209195e-13, 2.63334581e-15, 3.55404049e-01],\n",
       "       [6.38294518e-02, 2.00030148e-01, 1.57545999e-01, 4.84636649e-02,\n",
       "        2.30799884e-01, 2.02808946e-01, 9.65218619e-02],\n",
       "       [9.13554206e-02, 2.39892110e-01, 1.91525787e-01, 6.88826442e-02,\n",
       "        1.57099873e-01, 1.45043731e-01, 1.06200360e-01],\n",
       "       [6.45544007e-02, 1.20410807e-01, 9.84203964e-02, 3.83092970e-01,\n",
       "        2.20582843e-01, 9.03350636e-02, 2.26034988e-02],\n",
       "       [1.88981779e-02, 8.17705989e-02, 1.21277481e-01, 5.12556255e-01,\n",
       "        1.67238638e-01, 8.64125341e-02, 1.18463458e-02],\n",
       "       [5.43103963e-02, 1.12918429e-01, 4.60142046e-02, 3.21179301e-01,\n",
       "        3.06815028e-01, 1.32640839e-01, 2.61217672e-02],\n",
       "       [1.00000000e+00, 1.98377515e-22, 2.57756381e-25, 1.45719242e-28,\n",
       "        1.46449828e-13, 1.20467090e-16, 1.72133557e-11]], dtype=float32)"
      ]
     },
     "execution_count": 105,
     "metadata": {},
     "output_type": "execute_result"
    }
   ],
   "source": [
    "model2.predict([X[0:40]])"
   ]
  },
  {
   "cell_type": "code",
   "execution_count": null,
   "metadata": {},
   "outputs": [],
   "source": []
  }
 ],
 "metadata": {
  "kernelspec": {
   "display_name": "Python 3 (ipykernel)",
   "language": "python",
   "name": "python3"
  },
  "language_info": {
   "codemirror_mode": {
    "name": "ipython",
    "version": 3
   },
   "file_extension": ".py",
   "mimetype": "text/x-python",
   "name": "python",
   "nbconvert_exporter": "python",
   "pygments_lexer": "ipython3",
   "version": "3.10.9"
  }
 },
 "nbformat": 4,
 "nbformat_minor": 4
}
