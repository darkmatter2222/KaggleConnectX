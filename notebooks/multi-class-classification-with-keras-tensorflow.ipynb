{
 "cells": [
  {
   "cell_type": "markdown",
   "metadata": {},
   "source": [
    "**Dataset Information**: Dataset is extracted from the electric current drive signals. The drive contains intact as well as defective components. Therefore, dataset has 11 classes based on the condition of the components. Aim is, to predict the correct component condition based on the input variables using **Deep Learning** technique. Tools used: **Keras TensorFlow** "
   ]
  },
  {
   "cell_type": "markdown",
   "metadata": {},
   "source": [
    "**Dataset Rights**: This dataset has been taken from \"University of California Irvine Machine Learning Repository\" for the knowledge purpose and all the rights for this dataset are reserved by them. For more details like content of the dataset, owner of the dataset and reference research paper, please refer the following link: https://archive.ics.uci.edu/ml/datasets/Dataset+for+Sensorless+Drive+Diagnosis"
   ]
  },
  {
   "cell_type": "code",
   "execution_count": 1,
   "metadata": {},
   "outputs": [],
   "source": [
    "import numpy as np\n",
    "import pandas as pd\n",
    "from keras.models import Sequential\n",
    "from keras.layers import Dense\n",
    "from keras.wrappers.scikit_learn import KerasClassifier\n",
    "from sklearn.model_selection import cross_val_score\n",
    "from sklearn.model_selection import KFold\n",
    "from sklearn.preprocessing import MinMaxScaler\n",
    "import matplotlib.pyplot as plt\n",
    "from sklearn.ensemble import RandomForestClassifier\n",
    "#from keras.utils import np_utils\n",
    "#from sklearn.preprocessing import LabelEncoder"
   ]
  },
  {
   "cell_type": "code",
   "execution_count": 2,
   "metadata": {},
   "outputs": [
    {
     "data": {
      "text/plain": [
       "['/device:GPU:0']"
      ]
     },
     "execution_count": 2,
     "metadata": {},
     "output_type": "execute_result"
    }
   ],
   "source": [
    "from tensorflow.python.client import device_lib\n",
    "\n",
    "def get_available_gpus():\n",
    "    local_device_protos = device_lib.list_local_devices()\n",
    "    return [x.name for x in local_device_protos if x.device_type == 'GPU']\n",
    "\n",
    "get_available_gpus()"
   ]
  },
  {
   "cell_type": "markdown",
   "metadata": {},
   "source": [
    "Step 2. Import and print data"
   ]
  },
  {
   "cell_type": "code",
   "execution_count": 3,
   "metadata": {},
   "outputs": [
    {
     "name": "stdout",
     "output_type": "stream",
     "text": [
      "   1  2  3  4  5  6  7  8  9  10  ...  35  36  37  38  39  40  41  42  target  \\\n",
      "0  0  0  0  0  0  0  0  0  0   0  ...   0   0   0   0   2   0   0   0       3   \n",
      "1  0  0  0  0  0  0  0  0  0   0  ...   0   0   0   0   1   0   0   0       3   \n",
      "2  0  0  0  0  0  0  0  0  0   0  ...   0   0   0   0   1   0   0   0       3   \n",
      "3  0  0  0  0  0  0  0  0  0   0  ...   0   0   0   0   2   0   0   0       3   \n",
      "4  0  0  0  0  0  0  0  0  0   0  ...   0   0   0   0   2   0   0   0       3   \n",
      "5  0  0  0  0  0  0  0  0  0   0  ...   0   0   0   0   1   0   0   0       3   \n",
      "6  0  0  0  0  0  0  0  0  0   0  ...   0   0   0   0   2   0   0   0       3   \n",
      "7  0  0  0  0  0  0  0  0  0   0  ...   0   0   0   0   1   0   0   0       3   \n",
      "8  0  0  0  0  0  0  0  0  0   0  ...   0   0   0   2   1   0   0   0       5   \n",
      "9  0  0  0  0  0  0  0  0  0   0  ...   0   0   0   1   2   0   0   0       5   \n",
      "\n",
      "   winner  \n",
      "0       2  \n",
      "1       1  \n",
      "2       2  \n",
      "3       1  \n",
      "4       2  \n",
      "5       1  \n",
      "6       1  \n",
      "7       2  \n",
      "8       1  \n",
      "9       2  \n",
      "\n",
      "[10 rows x 44 columns]\n"
     ]
    }
   ],
   "source": [
    "# Random seed for reproducibility\n",
    "seed = 10\n",
    "np.random.seed(seed)\n",
    "# Import data\n",
    "df = pd.read_csv(r\"N:\\connectxactions\\actions.csv\",index_col=0)\n",
    "# Print first 10 samples\n",
    "print(df.head(10))"
   ]
  },
  {
   "cell_type": "code",
   "execution_count": 4,
   "metadata": {},
   "outputs": [
    {
     "data": {
      "text/html": [
       "<div>\n",
       "<style scoped>\n",
       "    .dataframe tbody tr th:only-of-type {\n",
       "        vertical-align: middle;\n",
       "    }\n",
       "\n",
       "    .dataframe tbody tr th {\n",
       "        vertical-align: top;\n",
       "    }\n",
       "\n",
       "    .dataframe thead th {\n",
       "        text-align: right;\n",
       "    }\n",
       "</style>\n",
       "<table border=\"1\" class=\"dataframe\">\n",
       "  <thead>\n",
       "    <tr style=\"text-align: right;\">\n",
       "      <th></th>\n",
       "      <th>1</th>\n",
       "      <th>2</th>\n",
       "      <th>3</th>\n",
       "      <th>4</th>\n",
       "      <th>5</th>\n",
       "      <th>6</th>\n",
       "      <th>7</th>\n",
       "      <th>8</th>\n",
       "      <th>9</th>\n",
       "      <th>10</th>\n",
       "      <th>...</th>\n",
       "      <th>35</th>\n",
       "      <th>36</th>\n",
       "      <th>37</th>\n",
       "      <th>38</th>\n",
       "      <th>39</th>\n",
       "      <th>40</th>\n",
       "      <th>41</th>\n",
       "      <th>42</th>\n",
       "      <th>target</th>\n",
       "      <th>winner</th>\n",
       "    </tr>\n",
       "  </thead>\n",
       "  <tbody>\n",
       "    <tr>\n",
       "      <th>0</th>\n",
       "      <td>0</td>\n",
       "      <td>0</td>\n",
       "      <td>0</td>\n",
       "      <td>0</td>\n",
       "      <td>0</td>\n",
       "      <td>0</td>\n",
       "      <td>0</td>\n",
       "      <td>0</td>\n",
       "      <td>0</td>\n",
       "      <td>0</td>\n",
       "      <td>...</td>\n",
       "      <td>0</td>\n",
       "      <td>0</td>\n",
       "      <td>0</td>\n",
       "      <td>0</td>\n",
       "      <td>2</td>\n",
       "      <td>0</td>\n",
       "      <td>0</td>\n",
       "      <td>0</td>\n",
       "      <td>3</td>\n",
       "      <td>2</td>\n",
       "    </tr>\n",
       "    <tr>\n",
       "      <th>1</th>\n",
       "      <td>0</td>\n",
       "      <td>0</td>\n",
       "      <td>0</td>\n",
       "      <td>0</td>\n",
       "      <td>0</td>\n",
       "      <td>0</td>\n",
       "      <td>0</td>\n",
       "      <td>0</td>\n",
       "      <td>0</td>\n",
       "      <td>0</td>\n",
       "      <td>...</td>\n",
       "      <td>0</td>\n",
       "      <td>0</td>\n",
       "      <td>0</td>\n",
       "      <td>0</td>\n",
       "      <td>1</td>\n",
       "      <td>0</td>\n",
       "      <td>0</td>\n",
       "      <td>0</td>\n",
       "      <td>3</td>\n",
       "      <td>1</td>\n",
       "    </tr>\n",
       "    <tr>\n",
       "      <th>2</th>\n",
       "      <td>0</td>\n",
       "      <td>0</td>\n",
       "      <td>0</td>\n",
       "      <td>0</td>\n",
       "      <td>0</td>\n",
       "      <td>0</td>\n",
       "      <td>0</td>\n",
       "      <td>0</td>\n",
       "      <td>0</td>\n",
       "      <td>0</td>\n",
       "      <td>...</td>\n",
       "      <td>0</td>\n",
       "      <td>0</td>\n",
       "      <td>0</td>\n",
       "      <td>0</td>\n",
       "      <td>1</td>\n",
       "      <td>0</td>\n",
       "      <td>0</td>\n",
       "      <td>0</td>\n",
       "      <td>3</td>\n",
       "      <td>2</td>\n",
       "    </tr>\n",
       "    <tr>\n",
       "      <th>3</th>\n",
       "      <td>0</td>\n",
       "      <td>0</td>\n",
       "      <td>0</td>\n",
       "      <td>0</td>\n",
       "      <td>0</td>\n",
       "      <td>0</td>\n",
       "      <td>0</td>\n",
       "      <td>0</td>\n",
       "      <td>0</td>\n",
       "      <td>0</td>\n",
       "      <td>...</td>\n",
       "      <td>0</td>\n",
       "      <td>0</td>\n",
       "      <td>0</td>\n",
       "      <td>0</td>\n",
       "      <td>2</td>\n",
       "      <td>0</td>\n",
       "      <td>0</td>\n",
       "      <td>0</td>\n",
       "      <td>3</td>\n",
       "      <td>1</td>\n",
       "    </tr>\n",
       "    <tr>\n",
       "      <th>4</th>\n",
       "      <td>0</td>\n",
       "      <td>0</td>\n",
       "      <td>0</td>\n",
       "      <td>0</td>\n",
       "      <td>0</td>\n",
       "      <td>0</td>\n",
       "      <td>0</td>\n",
       "      <td>0</td>\n",
       "      <td>0</td>\n",
       "      <td>0</td>\n",
       "      <td>...</td>\n",
       "      <td>0</td>\n",
       "      <td>0</td>\n",
       "      <td>0</td>\n",
       "      <td>0</td>\n",
       "      <td>2</td>\n",
       "      <td>0</td>\n",
       "      <td>0</td>\n",
       "      <td>0</td>\n",
       "      <td>3</td>\n",
       "      <td>2</td>\n",
       "    </tr>\n",
       "    <tr>\n",
       "      <th>...</th>\n",
       "      <td>...</td>\n",
       "      <td>...</td>\n",
       "      <td>...</td>\n",
       "      <td>...</td>\n",
       "      <td>...</td>\n",
       "      <td>...</td>\n",
       "      <td>...</td>\n",
       "      <td>...</td>\n",
       "      <td>...</td>\n",
       "      <td>...</td>\n",
       "      <td>...</td>\n",
       "      <td>...</td>\n",
       "      <td>...</td>\n",
       "      <td>...</td>\n",
       "      <td>...</td>\n",
       "      <td>...</td>\n",
       "      <td>...</td>\n",
       "      <td>...</td>\n",
       "      <td>...</td>\n",
       "      <td>...</td>\n",
       "      <td>...</td>\n",
       "    </tr>\n",
       "    <tr>\n",
       "      <th>1873445</th>\n",
       "      <td>0</td>\n",
       "      <td>0</td>\n",
       "      <td>0</td>\n",
       "      <td>0</td>\n",
       "      <td>0</td>\n",
       "      <td>0</td>\n",
       "      <td>0</td>\n",
       "      <td>0</td>\n",
       "      <td>0</td>\n",
       "      <td>0</td>\n",
       "      <td>...</td>\n",
       "      <td>0</td>\n",
       "      <td>0</td>\n",
       "      <td>1</td>\n",
       "      <td>0</td>\n",
       "      <td>2</td>\n",
       "      <td>2</td>\n",
       "      <td>1</td>\n",
       "      <td>0</td>\n",
       "      <td>1</td>\n",
       "      <td>2</td>\n",
       "    </tr>\n",
       "    <tr>\n",
       "      <th>1873446</th>\n",
       "      <td>0</td>\n",
       "      <td>0</td>\n",
       "      <td>0</td>\n",
       "      <td>0</td>\n",
       "      <td>0</td>\n",
       "      <td>0</td>\n",
       "      <td>0</td>\n",
       "      <td>0</td>\n",
       "      <td>0</td>\n",
       "      <td>0</td>\n",
       "      <td>...</td>\n",
       "      <td>0</td>\n",
       "      <td>1</td>\n",
       "      <td>1</td>\n",
       "      <td>2</td>\n",
       "      <td>2</td>\n",
       "      <td>1</td>\n",
       "      <td>1</td>\n",
       "      <td>0</td>\n",
       "      <td>2</td>\n",
       "      <td>2</td>\n",
       "    </tr>\n",
       "    <tr>\n",
       "      <th>1873447</th>\n",
       "      <td>0</td>\n",
       "      <td>0</td>\n",
       "      <td>0</td>\n",
       "      <td>0</td>\n",
       "      <td>0</td>\n",
       "      <td>0</td>\n",
       "      <td>0</td>\n",
       "      <td>0</td>\n",
       "      <td>0</td>\n",
       "      <td>0</td>\n",
       "      <td>...</td>\n",
       "      <td>0</td>\n",
       "      <td>1</td>\n",
       "      <td>1</td>\n",
       "      <td>0</td>\n",
       "      <td>2</td>\n",
       "      <td>1</td>\n",
       "      <td>1</td>\n",
       "      <td>0</td>\n",
       "      <td>2</td>\n",
       "      <td>2</td>\n",
       "    </tr>\n",
       "    <tr>\n",
       "      <th>1873448</th>\n",
       "      <td>0</td>\n",
       "      <td>0</td>\n",
       "      <td>0</td>\n",
       "      <td>0</td>\n",
       "      <td>0</td>\n",
       "      <td>0</td>\n",
       "      <td>0</td>\n",
       "      <td>0</td>\n",
       "      <td>0</td>\n",
       "      <td>0</td>\n",
       "      <td>...</td>\n",
       "      <td>0</td>\n",
       "      <td>1</td>\n",
       "      <td>1</td>\n",
       "      <td>2</td>\n",
       "      <td>2</td>\n",
       "      <td>2</td>\n",
       "      <td>1</td>\n",
       "      <td>0</td>\n",
       "      <td>3</td>\n",
       "      <td>2</td>\n",
       "    </tr>\n",
       "    <tr>\n",
       "      <th>1873449</th>\n",
       "      <td>2</td>\n",
       "      <td>2</td>\n",
       "      <td>2</td>\n",
       "      <td>1</td>\n",
       "      <td>2</td>\n",
       "      <td>2</td>\n",
       "      <td>0</td>\n",
       "      <td>2</td>\n",
       "      <td>1</td>\n",
       "      <td>2</td>\n",
       "      <td>...</td>\n",
       "      <td>0</td>\n",
       "      <td>1</td>\n",
       "      <td>2</td>\n",
       "      <td>1</td>\n",
       "      <td>2</td>\n",
       "      <td>2</td>\n",
       "      <td>1</td>\n",
       "      <td>1</td>\n",
       "      <td>6</td>\n",
       "      <td>1</td>\n",
       "    </tr>\n",
       "  </tbody>\n",
       "</table>\n",
       "<p>1873450 rows × 44 columns</p>\n",
       "</div>"
      ],
      "text/plain": [
       "         1  2  3  4  5  6  7  8  9  10  ...  35  36  37  38  39  40  41  42  \\\n",
       "0        0  0  0  0  0  0  0  0  0   0  ...   0   0   0   0   2   0   0   0   \n",
       "1        0  0  0  0  0  0  0  0  0   0  ...   0   0   0   0   1   0   0   0   \n",
       "2        0  0  0  0  0  0  0  0  0   0  ...   0   0   0   0   1   0   0   0   \n",
       "3        0  0  0  0  0  0  0  0  0   0  ...   0   0   0   0   2   0   0   0   \n",
       "4        0  0  0  0  0  0  0  0  0   0  ...   0   0   0   0   2   0   0   0   \n",
       "...     .. .. .. .. .. .. .. .. ..  ..  ...  ..  ..  ..  ..  ..  ..  ..  ..   \n",
       "1873445  0  0  0  0  0  0  0  0  0   0  ...   0   0   1   0   2   2   1   0   \n",
       "1873446  0  0  0  0  0  0  0  0  0   0  ...   0   1   1   2   2   1   1   0   \n",
       "1873447  0  0  0  0  0  0  0  0  0   0  ...   0   1   1   0   2   1   1   0   \n",
       "1873448  0  0  0  0  0  0  0  0  0   0  ...   0   1   1   2   2   2   1   0   \n",
       "1873449  2  2  2  1  2  2  0  2  1   2  ...   0   1   2   1   2   2   1   1   \n",
       "\n",
       "         target  winner  \n",
       "0             3       2  \n",
       "1             3       1  \n",
       "2             3       2  \n",
       "3             3       1  \n",
       "4             3       2  \n",
       "...         ...     ...  \n",
       "1873445       1       2  \n",
       "1873446       2       2  \n",
       "1873447       2       2  \n",
       "1873448       3       2  \n",
       "1873449       6       1  \n",
       "\n",
       "[1873450 rows x 44 columns]"
      ]
     },
     "execution_count": 4,
     "metadata": {},
     "output_type": "execute_result"
    }
   ],
   "source": [
    "df"
   ]
  },
  {
   "cell_type": "markdown",
   "metadata": {},
   "source": [
    "Column indices 0 to 47 are input variables (total 48 columns). Column index 48 is target column that contains 11 different classes (1 column). "
   ]
  },
  {
   "cell_type": "markdown",
   "metadata": {},
   "source": [
    "Step 3. Data pre-processing"
   ]
  },
  {
   "cell_type": "code",
   "execution_count": 5,
   "metadata": {},
   "outputs": [
    {
     "name": "stdout",
     "output_type": "stream",
     "text": [
      "1         0\n",
      "2         0\n",
      "3         0\n",
      "4         0\n",
      "5         0\n",
      "6         0\n",
      "7         0\n",
      "8         0\n",
      "9         0\n",
      "10        0\n",
      "11        0\n",
      "12        0\n",
      "13        0\n",
      "14        0\n",
      "15        0\n",
      "16        0\n",
      "17        0\n",
      "18        0\n",
      "19        0\n",
      "20        0\n",
      "21        0\n",
      "22        0\n",
      "23        0\n",
      "24        0\n",
      "25        0\n",
      "26        0\n",
      "27        0\n",
      "28        0\n",
      "29        0\n",
      "30        0\n",
      "31        0\n",
      "32        0\n",
      "33        0\n",
      "34        0\n",
      "35        0\n",
      "36        0\n",
      "37        0\n",
      "38        0\n",
      "39        0\n",
      "40        0\n",
      "41        0\n",
      "42        0\n",
      "target    0\n",
      "winner    0\n",
      "dtype: int64\n"
     ]
    }
   ],
   "source": [
    "# Check missing values\n",
    "print(df.isna().sum())"
   ]
  },
  {
   "cell_type": "markdown",
   "metadata": {},
   "source": [
    "No missing values. "
   ]
  },
  {
   "cell_type": "code",
   "execution_count": 6,
   "metadata": {},
   "outputs": [],
   "source": [
    "# Remove missing values IF AVAILABLE and print first 10 samples\n",
    "# df = df.dropna()\n",
    "# print(df.head(10))\n",
    "# print(df.shape)\n"
   ]
  },
  {
   "cell_type": "code",
   "execution_count": 7,
   "metadata": {},
   "outputs": [
    {
     "name": "stdout",
     "output_type": "stream",
     "text": [
      "(1873450, 43)\n",
      "(1873450,)\n"
     ]
    }
   ],
   "source": [
    "# Divide data into features X and target (Classes) Y\n",
    "columns = [str(item) for item in range(1, 43)]\n",
    "columns.append('winner')\n",
    "X = df.loc[:,columns]\n",
    "Y = df.loc[:,'target']\n",
    "print(X.shape)\n",
    "print(Y.shape)"
   ]
  },
  {
   "cell_type": "code",
   "execution_count": 8,
   "metadata": {},
   "outputs": [
    {
     "name": "stdout",
     "output_type": "stream",
     "text": [
      "                  1             2             3             4             5  \\\n",
      "count  1.873450e+06  1.873450e+06  1.873450e+06  1.873450e+06  1.873450e+06   \n",
      "mean   1.889786e-01  1.885222e-01  2.270949e-01  3.715872e-01  2.193557e-01   \n",
      "std    5.284426e-01  5.278856e-01  5.717689e-01  6.937112e-01  5.634502e-01   \n",
      "min    0.000000e+00  0.000000e+00  0.000000e+00  0.000000e+00  0.000000e+00   \n",
      "25%    0.000000e+00  0.000000e+00  0.000000e+00  0.000000e+00  0.000000e+00   \n",
      "50%    0.000000e+00  0.000000e+00  0.000000e+00  0.000000e+00  0.000000e+00   \n",
      "75%    0.000000e+00  0.000000e+00  0.000000e+00  0.000000e+00  0.000000e+00   \n",
      "max    2.000000e+00  2.000000e+00  2.000000e+00  2.000000e+00  2.000000e+00   \n",
      "\n",
      "                  6             7             8             9            10  \\\n",
      "count  1.873450e+06  1.873450e+06  1.873450e+06  1.873450e+06  1.873450e+06   \n",
      "mean   1.677995e-01  1.335376e-01  2.906851e-01  3.056030e-01  3.585972e-01   \n",
      "std    5.015070e-01  4.524715e-01  6.324378e-01  6.449383e-01  6.848871e-01   \n",
      "min    0.000000e+00  0.000000e+00  0.000000e+00  0.000000e+00  0.000000e+00   \n",
      "25%    0.000000e+00  0.000000e+00  0.000000e+00  0.000000e+00  0.000000e+00   \n",
      "50%    0.000000e+00  0.000000e+00  0.000000e+00  0.000000e+00  0.000000e+00   \n",
      "75%    0.000000e+00  0.000000e+00  0.000000e+00  0.000000e+00  0.000000e+00   \n",
      "max    2.000000e+00  2.000000e+00  2.000000e+00  2.000000e+00  2.000000e+00   \n",
      "\n",
      "       ...            34            35            36            37  \\\n",
      "count  ...  1.873450e+06  1.873450e+06  1.873450e+06  1.873450e+06   \n",
      "mean   ...  9.063428e-01  8.218442e-01  1.207097e+00  1.249316e+00   \n",
      "std    ...  8.301292e-01  8.332544e-01  7.448123e-01  7.220825e-01   \n",
      "min    ...  0.000000e+00  0.000000e+00  0.000000e+00  0.000000e+00   \n",
      "25%    ...  0.000000e+00  0.000000e+00  1.000000e+00  1.000000e+00   \n",
      "50%    ...  1.000000e+00  1.000000e+00  1.000000e+00  1.000000e+00   \n",
      "75%    ...  2.000000e+00  2.000000e+00  2.000000e+00  2.000000e+00   \n",
      "max    ...  2.000000e+00  2.000000e+00  2.000000e+00  2.000000e+00   \n",
      "\n",
      "                 38            39            40            41            42  \\\n",
      "count  1.873450e+06  1.873450e+06  1.873450e+06  1.873450e+06  1.873450e+06   \n",
      "mean   1.281221e+00  1.372059e+00  1.272984e+00  1.233027e+00  1.168275e+00   \n",
      "std    7.027386e-01  6.357824e-01  7.079212e-01  7.312246e-01  7.630591e-01   \n",
      "min    0.000000e+00  0.000000e+00  0.000000e+00  0.000000e+00  0.000000e+00   \n",
      "25%    1.000000e+00  1.000000e+00  1.000000e+00  1.000000e+00  1.000000e+00   \n",
      "50%    1.000000e+00  1.000000e+00  1.000000e+00  1.000000e+00  1.000000e+00   \n",
      "75%    2.000000e+00  2.000000e+00  2.000000e+00  2.000000e+00  2.000000e+00   \n",
      "max    2.000000e+00  2.000000e+00  2.000000e+00  2.000000e+00  2.000000e+00   \n",
      "\n",
      "          winner  \n",
      "count  1873450.0  \n",
      "mean         1.5  \n",
      "std          0.5  \n",
      "min          1.0  \n",
      "25%          1.0  \n",
      "50%          1.5  \n",
      "75%          2.0  \n",
      "max          2.0  \n",
      "\n",
      "[8 rows x 43 columns]\n"
     ]
    }
   ],
   "source": [
    "# Statistical summary of the variables\n",
    "print(X.describe())"
   ]
  },
  {
   "cell_type": "markdown",
   "metadata": {},
   "source": [
    "Scale of all the variables is different. Therefore, feature scaling is important.    "
   ]
  },
  {
   "cell_type": "code",
   "execution_count": 9,
   "metadata": {
    "tags": []
   },
   "outputs": [
    {
     "name": "stdout",
     "output_type": "stream",
     "text": [
      "target\n",
      "0    240544\n",
      "1    268526\n",
      "2    286482\n",
      "3    273671\n",
      "4    290463\n",
      "5    270031\n",
      "6    243733\n",
      "dtype: int64\n"
     ]
    }
   ],
   "source": [
    "# Check for class imbalance\n",
    "print(df.groupby(Y).size())"
   ]
  },
  {
   "cell_type": "markdown",
   "metadata": {
    "tags": []
   },
   "source": [
    "Since all the classes have same sample size, there is no class imbalance. "
   ]
  },
  {
   "cell_type": "code",
   "execution_count": 10,
   "metadata": {},
   "outputs": [],
   "source": [
    "# Normalize features within range 0 (minimum) and 1 (maximum)\n",
    "scaler = MinMaxScaler(feature_range=(0, 1))\n",
    "X = scaler.fit_transform(X)\n",
    "X = pd.DataFrame(X)"
   ]
  },
  {
   "cell_type": "markdown",
   "metadata": {
    "tags": []
   },
   "source": [
    "To train the Neural Network, single target column must be converted into one hot encoded fomat. For more details, visit this link: https://machinelearningmastery.com/why-one-hot-encode-data-in-machine-learning/"
   ]
  },
  {
   "cell_type": "code",
   "execution_count": 11,
   "metadata": {},
   "outputs": [],
   "source": [
    "# Convert target Y to one hot encoded Y for Neural Network\n",
    "Y = pd.get_dummies(Y)\n",
    "# If target is in string form, use following code:\n",
    "# First encode target values as integers from string\n",
    "# Then perform one hot encoding\n",
    "# encoder = LabelEncoder()\n",
    "# encoder.fit(Y)\n",
    "# Y = encoder.transform(Y)\n",
    "# Y = np_utils.to_categorical(Y)"
   ]
  },
  {
   "cell_type": "code",
   "execution_count": 12,
   "metadata": {},
   "outputs": [],
   "source": [
    "# For Keras, convert dataframe to array values (Inbuilt requirement of Keras)\n",
    "X = X.values\n",
    "Y = Y.values"
   ]
  },
  {
   "cell_type": "markdown",
   "metadata": {},
   "source": [
    "Step 4. Define Neural Network Model "
   ]
  },
  {
   "cell_type": "markdown",
   "metadata": {
    "tags": []
   },
   "source": [
    "Two hidden layers are defined with \"Rectified Linear Unit\" (relu) and 15 neurons each. Furthermore, this is a multi-class classification problem and there are total 11 target clsses, therefore \"softmax\" activation function and 11 neurons are used in the output layer. For hidden layers, the number of neurons should be in between the input data dimension and the output data dimension. In this case, the input data has 48 variable columns and output classes are 11. Therefore, the number of neurons for the hidden layer should be in between 11 and 48. You can try different values for the number of neurons as well as different number of hidden layers.  "
   ]
  },
  {
   "cell_type": "code",
   "execution_count": 13,
   "metadata": {},
   "outputs": [],
   "source": [
    "# First define baseline model. Then use it in Keras Classifier for the training\n",
    "def baseline_model():\n",
    "    # Create model here\n",
    "    model = Sequential()\n",
    "    model.add(Dense(15, input_dim = 43, activation = 'relu')) # Rectified Linear Unit Activation Function\n",
    "    model.add(Dense(15, activation = 'relu'))\n",
    "    model.add(Dense(7, activation = 'softmax')) # Softmax for multi-class classification\n",
    "    # Compile model here\n",
    "    model.compile(loss = 'categorical_crossentropy', optimizer = 'adam', metrics = ['accuracy'])\n",
    "    return model"
   ]
  },
  {
   "cell_type": "markdown",
   "metadata": {
    "tags": []
   },
   "source": [
    "Input dimension (input_dim) is 48, because the input variable columns are 48. It will change as per the dimension of the input variables."
   ]
  },
  {
   "cell_type": "markdown",
   "metadata": {
    "tags": []
   },
   "source": [
    "**Note**: If you use only one hidden layer, then it will be the case of simple Neural Network problem. But, if you use more than one hidden layers for example 3, it will be considered as the deep learning problem.  "
   ]
  },
  {
   "cell_type": "code",
   "execution_count": 14,
   "metadata": {},
   "outputs": [
    {
     "name": "stderr",
     "output_type": "stream",
     "text": [
      "C:\\Users\\ryans\\AppData\\Local\\Temp\\ipykernel_42084\\111872092.py:2: DeprecationWarning: KerasClassifier is deprecated, use Sci-Keras (https://github.com/adriangb/scikeras) instead. See https://www.adriangb.com/scikeras/stable/migration.html for help migrating.\n",
      "  estimator = KerasClassifier(build_fn = baseline_model, epochs = 100, batch_size = 100000, verbose = 1)\n"
     ]
    }
   ],
   "source": [
    "# Create Keras Classifier and use predefined baseline model\n",
    "estimator = KerasClassifier(build_fn = baseline_model, epochs = 100, batch_size = 100000, verbose = 1)\n",
    "# Try different values for epoch and batch size"
   ]
  },
  {
   "cell_type": "markdown",
   "metadata": {
    "tags": []
   },
   "source": [
    "Step 5. Define cross-validation and train pre-defined model "
   ]
  },
  {
   "cell_type": "code",
   "execution_count": 15,
   "metadata": {},
   "outputs": [],
   "source": [
    "# KFold Cross Validation\n",
    "kfold = KFold(n_splits = 5, shuffle = True, random_state = seed)\n",
    "# Try different values of splits e.g., 10"
   ]
  },
  {
   "cell_type": "code",
   "execution_count": 16,
   "metadata": {
    "tags": []
   },
   "outputs": [],
   "source": [
    "# Object to describe the result\n",
    "#results = cross_val_score(estimator, X, Y, cv = kfold)\n",
    "# Result\n",
    "#print(\"Result: %.2f%% (%.2f%%)\" % (results.mean()*100, results.std()*100))"
   ]
  },
  {
   "cell_type": "code",
   "execution_count": null,
   "metadata": {},
   "outputs": [],
   "source": []
  },
  {
   "cell_type": "markdown",
   "metadata": {
    "tags": []
   },
   "source": [
    "From the result above, the accuracy is 94% and it can be improved by techniques like feature extraction, selection and feature engineering. "
   ]
  },
  {
   "cell_type": "code",
   "execution_count": 17,
   "metadata": {
    "tags": []
   },
   "outputs": [
    {
     "name": "stdout",
     "output_type": "stream",
     "text": [
      "Epoch 1/100\n",
      "19/19 [==============================] - 1s 7ms/step - loss: 1.9579 - accuracy: 0.1558\n",
      "Epoch 2/100\n",
      "19/19 [==============================] - 0s 7ms/step - loss: 1.9415 - accuracy: 0.1664\n",
      "Epoch 3/100\n",
      "19/19 [==============================] - 0s 9ms/step - loss: 1.9291 - accuracy: 0.1837\n",
      "Epoch 4/100\n",
      "19/19 [==============================] - 0s 7ms/step - loss: 1.9146 - accuracy: 0.1995\n",
      "Epoch 5/100\n",
      "19/19 [==============================] - 0s 7ms/step - loss: 1.8961 - accuracy: 0.2123\n",
      "Epoch 6/100\n",
      "19/19 [==============================] - 0s 8ms/step - loss: 1.8746 - accuracy: 0.2225\n",
      "Epoch 7/100\n",
      "19/19 [==============================] - 0s 7ms/step - loss: 1.8526 - accuracy: 0.2323\n",
      "Epoch 8/100\n",
      "19/19 [==============================] - 0s 7ms/step - loss: 1.8311 - accuracy: 0.2406\n",
      "Epoch 9/100\n",
      "19/19 [==============================] - 0s 7ms/step - loss: 1.8126 - accuracy: 0.2471\n",
      "Epoch 10/100\n",
      "19/19 [==============================] - 0s 7ms/step - loss: 1.7974 - accuracy: 0.2517\n",
      "Epoch 11/100\n",
      "19/19 [==============================] - 0s 8ms/step - loss: 1.7847 - accuracy: 0.2552\n",
      "Epoch 12/100\n",
      "19/19 [==============================] - 0s 7ms/step - loss: 1.7737 - accuracy: 0.2576\n",
      "Epoch 13/100\n",
      "19/19 [==============================] - 0s 8ms/step - loss: 1.7643 - accuracy: 0.2598\n",
      "Epoch 14/100\n",
      "19/19 [==============================] - 0s 7ms/step - loss: 1.7561 - accuracy: 0.2613\n",
      "Epoch 15/100\n",
      "19/19 [==============================] - 0s 7ms/step - loss: 1.7488 - accuracy: 0.2625\n",
      "Epoch 16/100\n",
      "19/19 [==============================] - 0s 8ms/step - loss: 1.7423 - accuracy: 0.2640\n",
      "Epoch 17/100\n",
      "19/19 [==============================] - 0s 7ms/step - loss: 1.7365 - accuracy: 0.2646\n",
      "Epoch 18/100\n",
      "19/19 [==============================] - 0s 7ms/step - loss: 1.7314 - accuracy: 0.2658\n",
      "Epoch 19/100\n",
      "19/19 [==============================] - 0s 8ms/step - loss: 1.7270 - accuracy: 0.2667\n",
      "Epoch 20/100\n",
      "19/19 [==============================] - 0s 8ms/step - loss: 1.7232 - accuracy: 0.2677\n",
      "Epoch 21/100\n",
      "19/19 [==============================] - 0s 7ms/step - loss: 1.7201 - accuracy: 0.2680\n",
      "Epoch 22/100\n",
      "19/19 [==============================] - 0s 7ms/step - loss: 1.7172 - accuracy: 0.2688\n",
      "Epoch 23/100\n",
      "19/19 [==============================] - 0s 9ms/step - loss: 1.7149 - accuracy: 0.2694\n",
      "Epoch 24/100\n",
      "19/19 [==============================] - 0s 7ms/step - loss: 1.7128 - accuracy: 0.2695\n",
      "Epoch 25/100\n",
      "19/19 [==============================] - 0s 7ms/step - loss: 1.7110 - accuracy: 0.2698\n",
      "Epoch 26/100\n",
      "19/19 [==============================] - 0s 9ms/step - loss: 1.7095 - accuracy: 0.2699\n",
      "Epoch 27/100\n",
      "19/19 [==============================] - 0s 8ms/step - loss: 1.7082 - accuracy: 0.2699\n",
      "Epoch 28/100\n",
      "19/19 [==============================] - 0s 7ms/step - loss: 1.7071 - accuracy: 0.2701\n",
      "Epoch 29/100\n",
      "19/19 [==============================] - 0s 8ms/step - loss: 1.7059 - accuracy: 0.2704\n",
      "Epoch 30/100\n",
      "19/19 [==============================] - 0s 7ms/step - loss: 1.7051 - accuracy: 0.2704\n",
      "Epoch 31/100\n",
      "19/19 [==============================] - 0s 7ms/step - loss: 1.7044 - accuracy: 0.2704\n",
      "Epoch 32/100\n",
      "19/19 [==============================] - 0s 8ms/step - loss: 1.7037 - accuracy: 0.2704\n",
      "Epoch 33/100\n",
      "19/19 [==============================] - 0s 7ms/step - loss: 1.7030 - accuracy: 0.2704\n",
      "Epoch 34/100\n",
      "19/19 [==============================] - 0s 8ms/step - loss: 1.7024 - accuracy: 0.2704\n",
      "Epoch 35/100\n",
      "19/19 [==============================] - 0s 7ms/step - loss: 1.7020 - accuracy: 0.2704\n",
      "Epoch 36/100\n",
      "19/19 [==============================] - 0s 9ms/step - loss: 1.7014 - accuracy: 0.2706\n",
      "Epoch 37/100\n",
      "19/19 [==============================] - 0s 7ms/step - loss: 1.7011 - accuracy: 0.2705\n",
      "Epoch 38/100\n",
      "19/19 [==============================] - 0s 7ms/step - loss: 1.7009 - accuracy: 0.2703\n",
      "Epoch 39/100\n",
      "19/19 [==============================] - 0s 9ms/step - loss: 1.7004 - accuracy: 0.2705\n",
      "Epoch 40/100\n",
      "19/19 [==============================] - 0s 8ms/step - loss: 1.7001 - accuracy: 0.2705\n",
      "Epoch 41/100\n",
      "19/19 [==============================] - 0s 7ms/step - loss: 1.6999 - accuracy: 0.2706\n",
      "Epoch 42/100\n",
      "19/19 [==============================] - 0s 8ms/step - loss: 1.6995 - accuracy: 0.2708\n",
      "Epoch 43/100\n",
      "19/19 [==============================] - 0s 9ms/step - loss: 1.6993 - accuracy: 0.2706\n",
      "Epoch 44/100\n",
      "19/19 [==============================] - 0s 7ms/step - loss: 1.6990 - accuracy: 0.2708\n",
      "Epoch 45/100\n",
      "19/19 [==============================] - 0s 7ms/step - loss: 1.6989 - accuracy: 0.2706\n",
      "Epoch 46/100\n",
      "19/19 [==============================] - 0s 8ms/step - loss: 1.6986 - accuracy: 0.2706\n",
      "Epoch 47/100\n",
      "19/19 [==============================] - 0s 8ms/step - loss: 1.6984 - accuracy: 0.2708\n",
      "Epoch 48/100\n",
      "19/19 [==============================] - 0s 7ms/step - loss: 1.6983 - accuracy: 0.2711\n",
      "Epoch 49/100\n",
      "19/19 [==============================] - 0s 7ms/step - loss: 1.6981 - accuracy: 0.2706\n",
      "Epoch 50/100\n",
      "19/19 [==============================] - 0s 9ms/step - loss: 1.6980 - accuracy: 0.2707\n",
      "Epoch 51/100\n",
      "19/19 [==============================] - 0s 7ms/step - loss: 1.6978 - accuracy: 0.2709\n",
      "Epoch 52/100\n",
      "19/19 [==============================] - 0s 7ms/step - loss: 1.6976 - accuracy: 0.2710\n",
      "Epoch 53/100\n",
      "19/19 [==============================] - 0s 8ms/step - loss: 1.6975 - accuracy: 0.2709\n",
      "Epoch 54/100\n",
      "19/19 [==============================] - 0s 8ms/step - loss: 1.6975 - accuracy: 0.2709\n",
      "Epoch 55/100\n",
      "19/19 [==============================] - 0s 7ms/step - loss: 1.6973 - accuracy: 0.2708\n",
      "Epoch 56/100\n",
      "19/19 [==============================] - 0s 7ms/step - loss: 1.6972 - accuracy: 0.2708\n",
      "Epoch 57/100\n",
      "19/19 [==============================] - 0s 9ms/step - loss: 1.6971 - accuracy: 0.2709\n",
      "Epoch 58/100\n",
      "19/19 [==============================] - 0s 7ms/step - loss: 1.6970 - accuracy: 0.2710\n",
      "Epoch 59/100\n",
      "19/19 [==============================] - 0s 8ms/step - loss: 1.6968 - accuracy: 0.2709\n",
      "Epoch 60/100\n",
      "19/19 [==============================] - 0s 7ms/step - loss: 1.6968 - accuracy: 0.2709\n",
      "Epoch 61/100\n",
      "19/19 [==============================] - 0s 8ms/step - loss: 1.6967 - accuracy: 0.2708\n",
      "Epoch 62/100\n",
      "19/19 [==============================] - 0s 7ms/step - loss: 1.6965 - accuracy: 0.2709\n",
      "Epoch 63/100\n",
      "19/19 [==============================] - 0s 9ms/step - loss: 1.6965 - accuracy: 0.2710\n",
      "Epoch 64/100\n",
      "19/19 [==============================] - 0s 7ms/step - loss: 1.6965 - accuracy: 0.2709\n",
      "Epoch 65/100\n",
      "19/19 [==============================] - 0s 7ms/step - loss: 1.6964 - accuracy: 0.2710\n",
      "Epoch 66/100\n",
      "19/19 [==============================] - 0s 8ms/step - loss: 1.6964 - accuracy: 0.2709\n",
      "Epoch 67/100\n",
      "19/19 [==============================] - 0s 7ms/step - loss: 1.6962 - accuracy: 0.2710\n",
      "Epoch 68/100\n",
      "19/19 [==============================] - 0s 8ms/step - loss: 1.6961 - accuracy: 0.2710\n",
      "Epoch 69/100\n",
      "19/19 [==============================] - 0s 7ms/step - loss: 1.6961 - accuracy: 0.2709\n",
      "Epoch 70/100\n",
      "19/19 [==============================] - 0s 9ms/step - loss: 1.6961 - accuracy: 0.2711\n",
      "Epoch 71/100\n",
      "19/19 [==============================] - 0s 7ms/step - loss: 1.6960 - accuracy: 0.2708\n",
      "Epoch 72/100\n",
      "19/19 [==============================] - 0s 7ms/step - loss: 1.6959 - accuracy: 0.2712\n",
      "Epoch 73/100\n",
      "19/19 [==============================] - 0s 9ms/step - loss: 1.6958 - accuracy: 0.2710\n",
      "Epoch 74/100\n",
      "19/19 [==============================] - 0s 8ms/step - loss: 1.6958 - accuracy: 0.2710\n",
      "Epoch 75/100\n",
      "19/19 [==============================] - 0s 8ms/step - loss: 1.6958 - accuracy: 0.2711\n",
      "Epoch 76/100\n",
      "19/19 [==============================] - 0s 8ms/step - loss: 1.6958 - accuracy: 0.2709\n",
      "Epoch 77/100\n",
      "19/19 [==============================] - 0s 9ms/step - loss: 1.6958 - accuracy: 0.2710\n",
      "Epoch 78/100\n",
      "19/19 [==============================] - 0s 7ms/step - loss: 1.6956 - accuracy: 0.2711\n",
      "Epoch 79/100\n",
      "19/19 [==============================] - 0s 9ms/step - loss: 1.6956 - accuracy: 0.2711\n",
      "Epoch 80/100\n",
      "19/19 [==============================] - 0s 8ms/step - loss: 1.6956 - accuracy: 0.2709\n",
      "Epoch 81/100\n",
      "19/19 [==============================] - 0s 7ms/step - loss: 1.6956 - accuracy: 0.2709\n",
      "Epoch 82/100\n",
      "19/19 [==============================] - 0s 8ms/step - loss: 1.6956 - accuracy: 0.2711\n",
      "Epoch 83/100\n",
      "19/19 [==============================] - 0s 9ms/step - loss: 1.6954 - accuracy: 0.2711\n",
      "Epoch 84/100\n",
      "19/19 [==============================] - 0s 7ms/step - loss: 1.6954 - accuracy: 0.2711\n",
      "Epoch 85/100\n",
      "19/19 [==============================] - 0s 8ms/step - loss: 1.6954 - accuracy: 0.2711\n",
      "Epoch 86/100\n",
      "19/19 [==============================] - 0s 8ms/step - loss: 1.6953 - accuracy: 0.2714\n",
      "Epoch 87/100\n",
      "19/19 [==============================] - 0s 8ms/step - loss: 1.6953 - accuracy: 0.2710\n",
      "Epoch 88/100\n",
      "19/19 [==============================] - 0s 8ms/step - loss: 1.6952 - accuracy: 0.2712\n",
      "Epoch 89/100\n",
      "19/19 [==============================] - 0s 9ms/step - loss: 1.6953 - accuracy: 0.2711\n",
      "Epoch 90/100\n",
      "19/19 [==============================] - 0s 7ms/step - loss: 1.6953 - accuracy: 0.2711\n",
      "Epoch 91/100\n",
      "19/19 [==============================] - 0s 7ms/step - loss: 1.6952 - accuracy: 0.2710\n",
      "Epoch 92/100\n",
      "19/19 [==============================] - 0s 8ms/step - loss: 1.6952 - accuracy: 0.2710\n",
      "Epoch 93/100\n",
      "19/19 [==============================] - 0s 7ms/step - loss: 1.6952 - accuracy: 0.2710\n",
      "Epoch 94/100\n",
      "19/19 [==============================] - 0s 8ms/step - loss: 1.6951 - accuracy: 0.2709\n",
      "Epoch 95/100\n",
      "19/19 [==============================] - 0s 7ms/step - loss: 1.6951 - accuracy: 0.2711\n",
      "Epoch 96/100\n",
      "19/19 [==============================] - 0s 8ms/step - loss: 1.6950 - accuracy: 0.2714\n",
      "Epoch 97/100\n",
      "19/19 [==============================] - 0s 7ms/step - loss: 1.6950 - accuracy: 0.2710\n",
      "Epoch 98/100\n",
      "19/19 [==============================] - 0s 8ms/step - loss: 1.6949 - accuracy: 0.2712\n",
      "Epoch 99/100\n",
      "19/19 [==============================] - 0s 6ms/step - loss: 1.6949 - accuracy: 0.2713\n",
      "Epoch 100/100\n",
      "19/19 [==============================] - 0s 6ms/step - loss: 1.6949 - accuracy: 0.2713\n"
     ]
    },
    {
     "data": {
      "text/plain": [
       "<keras.callbacks.History at 0x27b4f4a3940>"
      ]
     },
     "execution_count": 17,
     "metadata": {},
     "output_type": "execute_result"
    }
   ],
   "source": [
    "estimator.fit(X,Y)"
   ]
  },
  {
   "cell_type": "code",
   "execution_count": 18,
   "metadata": {},
   "outputs": [
    {
     "name": "stdout",
     "output_type": "stream",
     "text": [
      "1/1 [==============================] - 0s 67ms/step\n"
     ]
    },
    {
     "data": {
      "text/plain": [
       "array([3])"
      ]
     },
     "execution_count": 18,
     "metadata": {},
     "output_type": "execute_result"
    }
   ],
   "source": [
    "estimator.predict([X[3].tolist()])"
   ]
  },
  {
   "cell_type": "code",
   "execution_count": 30,
   "metadata": {},
   "outputs": [
    {
     "name": "stdout",
     "output_type": "stream",
     "text": [
      "INFO:tensorflow:Assets written to: test\\assets\n"
     ]
    }
   ],
   "source": [
    "estimator.model.save('test')"
   ]
  },
  {
   "cell_type": "code",
   "execution_count": 31,
   "metadata": {},
   "outputs": [],
   "source": [
    "import keras\n",
    "model2 = keras.models.load_model('test')"
   ]
  },
  {
   "cell_type": "code",
   "execution_count": 32,
   "metadata": {},
   "outputs": [
    {
     "name": "stdout",
     "output_type": "stream",
     "text": [
      "WARNING:tensorflow:5 out of the last 5 calls to <function Model.make_predict_function.<locals>.predict_function at 0x0000027BA7662B80> triggered tf.function retracing. Tracing is expensive and the excessive number of tracings could be due to (1) creating @tf.function repeatedly in a loop, (2) passing tensors with different shapes, (3) passing Python objects instead of tensors. For (1), please define your @tf.function outside of the loop. For (2), @tf.function has reduce_retracing=True option that can avoid unnecessary retracing. For (3), please refer to https://www.tensorflow.org/guide/function#controlling_retracing and https://www.tensorflow.org/api_docs/python/tf/function for  more details.\n",
      "1/1 [==============================] - 0s 48ms/step\n"
     ]
    },
    {
     "data": {
      "text/plain": [
       "3"
      ]
     },
     "execution_count": 32,
     "metadata": {},
     "output_type": "execute_result"
    }
   ],
   "source": [
    "np.argmax(model2.predict([X[0].tolist()]))"
   ]
  },
  {
   "cell_type": "code",
   "execution_count": null,
   "metadata": {},
   "outputs": [],
   "source": []
  }
 ],
 "metadata": {
  "kernelspec": {
   "display_name": "Python 3 (ipykernel)",
   "language": "python",
   "name": "python3"
  },
  "language_info": {
   "codemirror_mode": {
    "name": "ipython",
    "version": 3
   },
   "file_extension": ".py",
   "mimetype": "text/x-python",
   "name": "python",
   "nbconvert_exporter": "python",
   "pygments_lexer": "ipython3",
   "version": "3.9.13"
  }
 },
 "nbformat": 4,
 "nbformat_minor": 4
}
