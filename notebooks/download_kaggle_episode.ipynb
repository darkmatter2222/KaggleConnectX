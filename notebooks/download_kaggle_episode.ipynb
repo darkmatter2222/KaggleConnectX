{
 "cells": [
  {
   "cell_type": "code",
   "execution_count": 1,
   "id": "cc0b013c-4550-415e-a1e1-c6f1c994cb0d",
   "metadata": {},
   "outputs": [
    {
     "data": {
      "text/plain": [
       "True"
      ]
     },
     "execution_count": 1,
     "metadata": {},
     "output_type": "execute_result"
    }
   ],
   "source": [
    "from dotenv import load_dotenv\n",
    "import os, requests, sys, json\n",
    "from IPython.display import JSON\n",
    "from pathlib import Path\n",
    "import logging.handlers\n",
    "from tqdm import tqdm\n",
    "\n",
    "module_path = os.path.abspath(os.path.join('..'))\n",
    "if module_path not in sys.path:\n",
    "    sys.path.append(module_path)\n",
    "\n",
    "from Helpers.Exception_Handling import Exception_Handling as eh\n",
    "from Helpers.Mongo_Interface import Mongo_Interface as mi\n",
    "\n",
    "env_path = Path(fr\"{os.environ['USERPROFILE']}\\.env\") \n",
    "load_dotenv(dotenv_path=env_path)"
   ]
  },
  {
   "cell_type": "code",
   "execution_count": 2,
   "id": "b87a53a5-8912-448f-923e-9d628611cb20",
   "metadata": {},
   "outputs": [],
   "source": [
    "starting_point = 45908179"
   ]
  },
  {
   "cell_type": "code",
   "execution_count": 3,
   "id": "9e94f2b4-8b30-40e1-98e4-b0910f936e21",
   "metadata": {
    "tags": []
   },
   "outputs": [
    {
     "data": {
      "application/json": {
       "configuration": {
        "actTimeout": 2,
        "agentTimeout": 60,
        "columns": 7,
        "episodeSteps": 1000,
        "inarow": 4,
        "rows": 6,
        "runTimeout": 1200,
        "timeout": 2
       },
       "description": "Classic Connect in a row but configurable.",
       "id": "ed9b3142-84bc-11ed-84db-0242ac130202",
       "info": {
        "EpisodeId": 45908179,
        "LiveVideoPath": null,
        "TeamNames": [
         "Ryan Susman",
         "Tim-Cedric Inhoff"
        ]
       },
       "name": "connectx",
       "rewards": [
        1,
        -1
       ],
       "schema_version": 1,
       "specification": {
        "action": {
         "default": 0,
         "description": "Column to drop a checker onto the board.",
         "minimum": 0,
         "type": "integer"
        },
        "agents": [
         2
        ],
        "configuration": {
         "actTimeout": {
          "default": 2,
          "description": "Maximum runtime (seconds) to obtain an action from an agent.",
          "minimum": 0,
          "type": "number"
         },
         "agentTimeout": {
          "default": 60,
          "description": "Obsolete field kept for backwards compatibility, please use observation.remainingOverageTime.",
          "minimum": 0,
          "type": "number"
         },
         "columns": {
          "default": 7,
          "description": "The number of columns on the board",
          "minimum": 1,
          "type": "integer"
         },
         "episodeSteps": {
          "default": 1000,
          "description": "Maximum number of steps in the episode.",
          "minimum": 1,
          "type": "integer"
         },
         "inarow": {
          "default": 4,
          "description": "The number of checkers in a row required to win.",
          "minimum": 1,
          "type": "integer"
         },
         "rows": {
          "default": 6,
          "description": "The number of rows on the board",
          "minimum": 1,
          "type": "integer"
         },
         "runTimeout": {
          "default": 1200,
          "description": "Maximum runtime (seconds) of an episode (not necessarily DONE).",
          "minimum": 0,
          "type": "number"
         },
         "timeout": {
          "default": 2,
          "description": "Obsolete copy of actTimeout maintained for backwards compatibility. May be removed in the future.",
          "minimum": 0,
          "type": "integer"
         }
        },
        "info": {},
        "observation": {
         "board": {
          "default": [],
          "description": "Serialized grid (rows x columns). 0 = Empty, 1 = P1, 2 = P2",
          "shared": true,
          "type": "array"
         },
         "mark": {
          "defaults": [
           1,
           2
          ],
          "description": "Which checkers are the agents.",
          "enum": [
           1,
           2
          ]
         },
         "remainingOverageTime": {
          "default": 60,
          "description": "Total remaining banked time (seconds) that can be used in excess of per-step actTimeouts -- agent is disqualified with TIMEOUT status when this drops below 0.",
          "minimum": 0,
          "shared": false,
          "type": "number"
         },
         "step": {
          "default": 0,
          "description": "Current step within the episode.",
          "minimum": 0,
          "shared": true,
          "type": "integer"
         }
        },
        "reward": {
         "default": 0,
         "description": "-1 = Lost, 0 = Draw/Ongoing, 1 = Won",
         "enum": [
          -1,
          0,
          1
         ],
         "type": [
          "number",
          "null"
         ]
        }
       },
       "statuses": [
        "DONE",
        "DONE"
       ],
       "steps": [
        [
         {
          "action": 0,
          "info": {},
          "observation": {
           "board": [
            0,
            0,
            0,
            0,
            0,
            0,
            0,
            0,
            0,
            0,
            0,
            0,
            0,
            0,
            0,
            0,
            0,
            0,
            0,
            0,
            0,
            0,
            0,
            0,
            0,
            0,
            0,
            0,
            0,
            0,
            0,
            0,
            0,
            0,
            0,
            0,
            0,
            0,
            0,
            0,
            0,
            0
           ],
           "mark": 1,
           "remainingOverageTime": 60,
           "step": 0
          },
          "reward": 0,
          "status": "ACTIVE"
         },
         {
          "action": 0,
          "info": {},
          "observation": {
           "mark": 2,
           "remainingOverageTime": 60
          },
          "reward": 0,
          "status": "INACTIVE"
         }
        ],
        [
         {
          "action": 1,
          "info": {},
          "observation": {
           "board": [
            0,
            0,
            0,
            0,
            0,
            0,
            0,
            0,
            0,
            0,
            0,
            0,
            0,
            0,
            0,
            0,
            0,
            0,
            0,
            0,
            0,
            0,
            0,
            0,
            0,
            0,
            0,
            0,
            0,
            0,
            0,
            0,
            0,
            0,
            0,
            0,
            1,
            0,
            0,
            0,
            0,
            0
           ],
           "mark": 1,
           "remainingOverageTime": 59.236893,
           "step": 1
          },
          "reward": 0,
          "status": "INACTIVE"
         },
         {
          "action": 0,
          "info": {},
          "observation": {
           "mark": 2,
           "remainingOverageTime": 60
          },
          "reward": 0,
          "status": "ACTIVE"
         }
        ],
        [
         {
          "action": 0,
          "info": {},
          "observation": {
           "board": [
            0,
            0,
            0,
            0,
            0,
            0,
            0,
            0,
            0,
            0,
            0,
            0,
            0,
            0,
            0,
            0,
            0,
            0,
            0,
            0,
            0,
            0,
            0,
            0,
            0,
            0,
            0,
            0,
            0,
            0,
            0,
            0,
            0,
            0,
            0,
            0,
            1,
            0,
            2,
            0,
            0,
            0
           ],
           "mark": 1,
           "remainingOverageTime": 59.236893,
           "step": 2
          },
          "reward": 0,
          "status": "ACTIVE"
         },
         {
          "action": 3,
          "info": {},
          "observation": {
           "mark": 2,
           "remainingOverageTime": 60
          },
          "reward": 0,
          "status": "INACTIVE"
         }
        ],
        [
         {
          "action": 1,
          "info": {},
          "observation": {
           "board": [
            0,
            0,
            0,
            0,
            0,
            0,
            0,
            0,
            0,
            0,
            0,
            0,
            0,
            0,
            0,
            0,
            0,
            0,
            0,
            0,
            0,
            0,
            0,
            0,
            0,
            0,
            0,
            0,
            0,
            1,
            0,
            0,
            0,
            0,
            0,
            0,
            1,
            0,
            2,
            0,
            0,
            0
           ],
           "mark": 1,
           "remainingOverageTime": 59.236893,
           "step": 3
          },
          "reward": 0,
          "status": "INACTIVE"
         },
         {
          "action": 0,
          "info": {},
          "observation": {
           "mark": 2,
           "remainingOverageTime": 60
          },
          "reward": 0,
          "status": "ACTIVE"
         }
        ],
        [
         {
          "action": 0,
          "info": {},
          "observation": {
           "board": [
            0,
            0,
            0,
            0,
            0,
            0,
            0,
            0,
            0,
            0,
            0,
            0,
            0,
            0,
            0,
            0,
            0,
            0,
            0,
            0,
            0,
            0,
            2,
            0,
            0,
            0,
            0,
            0,
            0,
            1,
            0,
            0,
            0,
            0,
            0,
            0,
            1,
            0,
            2,
            0,
            0,
            0
           ],
           "mark": 1,
           "remainingOverageTime": 59.236893,
           "step": 4
          },
          "reward": 0,
          "status": "ACTIVE"
         },
         {
          "action": 1,
          "info": {},
          "observation": {
           "mark": 2,
           "remainingOverageTime": 60
          },
          "reward": 0,
          "status": "INACTIVE"
         }
        ],
        [
         {
          "action": 4,
          "info": {},
          "observation": {
           "board": [
            0,
            0,
            0,
            0,
            0,
            0,
            0,
            0,
            0,
            0,
            0,
            0,
            0,
            0,
            0,
            0,
            0,
            0,
            0,
            0,
            0,
            0,
            2,
            0,
            0,
            0,
            0,
            0,
            0,
            1,
            0,
            0,
            0,
            0,
            0,
            0,
            1,
            0,
            2,
            1,
            0,
            0
           ],
           "mark": 1,
           "remainingOverageTime": 59.236893,
           "step": 5
          },
          "reward": 0,
          "status": "INACTIVE"
         },
         {
          "action": 0,
          "info": {},
          "observation": {
           "mark": 2,
           "remainingOverageTime": 60
          },
          "reward": 0,
          "status": "ACTIVE"
         }
        ],
        [
         {
          "action": 0,
          "info": {},
          "observation": {
           "board": [
            0,
            0,
            0,
            0,
            0,
            0,
            0,
            0,
            0,
            0,
            0,
            0,
            0,
            0,
            0,
            0,
            0,
            0,
            0,
            0,
            0,
            0,
            2,
            0,
            0,
            0,
            0,
            0,
            0,
            1,
            0,
            0,
            2,
            0,
            0,
            0,
            1,
            0,
            2,
            1,
            0,
            0
           ],
           "mark": 1,
           "remainingOverageTime": 59.236893,
           "step": 6
          },
          "reward": 0,
          "status": "ACTIVE"
         },
         {
          "action": 4,
          "info": {},
          "observation": {
           "mark": 2,
           "remainingOverageTime": 60
          },
          "reward": 0,
          "status": "INACTIVE"
         }
        ],
        [
         {
          "action": 1,
          "info": {},
          "observation": {
           "board": [
            0,
            0,
            0,
            0,
            0,
            0,
            0,
            0,
            0,
            0,
            0,
            0,
            0,
            0,
            0,
            1,
            0,
            0,
            0,
            0,
            0,
            0,
            2,
            0,
            0,
            0,
            0,
            0,
            0,
            1,
            0,
            0,
            2,
            0,
            0,
            0,
            1,
            0,
            2,
            1,
            0,
            0
           ],
           "mark": 1,
           "remainingOverageTime": 59.236893,
           "step": 7
          },
          "reward": 0,
          "status": "INACTIVE"
         },
         {
          "action": 0,
          "info": {},
          "observation": {
           "mark": 2,
           "remainingOverageTime": 60
          },
          "reward": 0,
          "status": "ACTIVE"
         }
        ],
        [
         {
          "action": 0,
          "info": {},
          "observation": {
           "board": [
            0,
            0,
            0,
            0,
            0,
            0,
            0,
            0,
            0,
            0,
            0,
            0,
            0,
            0,
            0,
            1,
            0,
            0,
            0,
            0,
            0,
            0,
            2,
            0,
            0,
            0,
            0,
            0,
            0,
            1,
            0,
            2,
            2,
            0,
            0,
            0,
            1,
            0,
            2,
            1,
            0,
            0
           ],
           "mark": 1,
           "remainingOverageTime": 59.236893,
           "step": 8
          },
          "reward": 0,
          "status": "ACTIVE"
         },
         {
          "action": 3,
          "info": {},
          "observation": {
           "mark": 2,
           "remainingOverageTime": 60
          },
          "reward": 0,
          "status": "INACTIVE"
         }
        ],
        [
         {
          "action": 3,
          "info": {},
          "observation": {
           "board": [
            0,
            0,
            0,
            0,
            0,
            0,
            0,
            0,
            0,
            0,
            0,
            0,
            0,
            0,
            0,
            1,
            0,
            0,
            0,
            0,
            0,
            0,
            2,
            0,
            1,
            0,
            0,
            0,
            0,
            1,
            0,
            2,
            2,
            0,
            0,
            0,
            1,
            0,
            2,
            1,
            0,
            0
           ],
           "mark": 1,
           "remainingOverageTime": 59.236893,
           "step": 9
          },
          "reward": 0,
          "status": "INACTIVE"
         },
         {
          "action": 0,
          "info": {},
          "observation": {
           "mark": 2,
           "remainingOverageTime": 60
          },
          "reward": 0,
          "status": "ACTIVE"
         }
        ],
        [
         {
          "action": 0,
          "info": {},
          "observation": {
           "board": [
            0,
            0,
            0,
            0,
            0,
            0,
            0,
            0,
            0,
            0,
            0,
            0,
            0,
            0,
            0,
            1,
            0,
            0,
            0,
            0,
            0,
            0,
            2,
            0,
            1,
            2,
            0,
            0,
            0,
            1,
            0,
            2,
            2,
            0,
            0,
            0,
            1,
            0,
            2,
            1,
            0,
            0
           ],
           "mark": 1,
           "remainingOverageTime": 59.236893,
           "step": 10
          },
          "reward": 0,
          "status": "ACTIVE"
         },
         {
          "action": 4,
          "info": {},
          "observation": {
           "mark": 2,
           "remainingOverageTime": 60
          },
          "reward": 0,
          "status": "INACTIVE"
         }
        ],
        [
         {
          "action": 4,
          "info": {},
          "observation": {
           "board": [
            0,
            0,
            0,
            0,
            0,
            0,
            0,
            0,
            0,
            0,
            0,
            0,
            0,
            0,
            0,
            1,
            0,
            0,
            1,
            0,
            0,
            0,
            2,
            0,
            1,
            2,
            0,
            0,
            0,
            1,
            0,
            2,
            2,
            0,
            0,
            0,
            1,
            0,
            2,
            1,
            0,
            0
           ],
           "mark": 1,
           "remainingOverageTime": 59.236893,
           "step": 11
          },
          "reward": 0,
          "status": "INACTIVE"
         },
         {
          "action": 0,
          "info": {},
          "observation": {
           "mark": 2,
           "remainingOverageTime": 60
          },
          "reward": 0,
          "status": "ACTIVE"
         }
        ],
        [
         {
          "action": 0,
          "info": {},
          "observation": {
           "board": [
            0,
            0,
            0,
            0,
            0,
            0,
            0,
            0,
            0,
            0,
            0,
            0,
            0,
            0,
            0,
            1,
            0,
            0,
            1,
            0,
            0,
            0,
            2,
            0,
            1,
            2,
            0,
            0,
            0,
            1,
            0,
            2,
            2,
            0,
            0,
            0,
            1,
            2,
            2,
            1,
            0,
            0
           ],
           "mark": 1,
           "remainingOverageTime": 59.236893,
           "step": 12
          },
          "reward": 0,
          "status": "ACTIVE"
         },
         {
          "action": 2,
          "info": {},
          "observation": {
           "mark": 2,
           "remainingOverageTime": 60
          },
          "reward": 0,
          "status": "INACTIVE"
         }
        ],
        [
         {
          "action": 2,
          "info": {},
          "observation": {
           "board": [
            0,
            0,
            0,
            0,
            0,
            0,
            0,
            0,
            0,
            0,
            0,
            0,
            0,
            0,
            0,
            1,
            0,
            0,
            1,
            0,
            0,
            0,
            2,
            0,
            1,
            2,
            0,
            0,
            0,
            1,
            1,
            2,
            2,
            0,
            0,
            0,
            1,
            2,
            2,
            1,
            0,
            0
           ],
           "mark": 1,
           "remainingOverageTime": 59.236893,
           "step": 13
          },
          "reward": 1,
          "status": "DONE"
         },
         {
          "action": 0,
          "info": {},
          "observation": {
           "mark": 2,
           "remainingOverageTime": 60
          },
          "reward": -1,
          "status": "DONE"
         }
        ]
       ],
       "title": "ConnectX",
       "version": "1.0.1"
      },
      "text/plain": [
       "<IPython.core.display.JSON object>"
      ]
     },
     "execution_count": 3,
     "metadata": {
      "application/json": {
       "expanded": false,
       "root": "root"
      }
     },
     "output_type": "execute_result"
    }
   ],
   "source": [
    "payload = json.loads(requests.get(f'https://www.kaggleusercontent.com/episodes/{starting_point}.json').text)\n",
    "JSON(payload)"
   ]
  },
  {
   "cell_type": "code",
   "execution_count": null,
   "id": "cd3cf12f-9812-4c7d-baf7-544d661efedf",
   "metadata": {
    "tags": []
   },
   "outputs": [
    {
     "name": "stderr",
     "output_type": "stream",
     "text": [
      "  1%|▍                                                                     | 6594/1000000 [17:32<1253:09:06,  4.54s/it]"
     ]
    },
    {
     "name": "stdout",
     "output_type": "stream",
     "text": [
      "{'traceback': 'Traceback (most recent call last):\\n  File \"C:\\\\Users\\\\ryans\\\\source\\\\repos\\\\venv\\\\Python311\\\\Lib\\\\site-packages\\\\urllib3\\\\connection.py\", line 174, in _new_conn\\n    conn = connection.create_connection(\\n           ^^^^^^^^^^^^^^^^^^^^^^^^^^^^^\\n  File \"C:\\\\Users\\\\ryans\\\\source\\\\repos\\\\venv\\\\Python311\\\\Lib\\\\site-packages\\\\urllib3\\\\util\\\\connection.py\", line 95, in create_connection\\n    raise err\\n  File \"C:\\\\Users\\\\ryans\\\\source\\\\repos\\\\venv\\\\Python311\\\\Lib\\\\site-packages\\\\urllib3\\\\util\\\\connection.py\", line 85, in create_connection\\n    sock.connect(sa)\\nTimeoutError: [WinError 10060] A connection attempt failed because the connected party did not properly respond after a period of time, or established connection failed because connected host has failed to respond\\n\\nDuring handling of the above exception, another exception occurred:\\n\\nTraceback (most recent call last):\\n  File \"C:\\\\Users\\\\ryans\\\\source\\\\repos\\\\venv\\\\Python311\\\\Lib\\\\site-packages\\\\urllib3\\\\connectionpool.py\", line 703, in urlopen\\n    httplib_response = self._make_request(\\n                       ^^^^^^^^^^^^^^^^^^^\\n  File \"C:\\\\Users\\\\ryans\\\\source\\\\repos\\\\venv\\\\Python311\\\\Lib\\\\site-packages\\\\urllib3\\\\connectionpool.py\", line 386, in _make_request\\n    self._validate_conn(conn)\\n  File \"C:\\\\Users\\\\ryans\\\\source\\\\repos\\\\venv\\\\Python311\\\\Lib\\\\site-packages\\\\urllib3\\\\connectionpool.py\", line 1042, in _validate_conn\\n    conn.connect()\\n  File \"C:\\\\Users\\\\ryans\\\\source\\\\repos\\\\venv\\\\Python311\\\\Lib\\\\site-packages\\\\urllib3\\\\connection.py\", line 358, in connect\\n    self.sock = conn = self._new_conn()\\n                       ^^^^^^^^^^^^^^^^\\n  File \"C:\\\\Users\\\\ryans\\\\source\\\\repos\\\\venv\\\\Python311\\\\Lib\\\\site-packages\\\\urllib3\\\\connection.py\", line 179, in _new_conn\\n    raise ConnectTimeoutError(\\nurllib3.exceptions.ConnectTimeoutError: (<urllib3.connection.HTTPSConnection object at 0x000002A66C164E90>, \\'Connection to www.kaggleusercontent.com timed out. (connect timeout=None)\\')\\n\\nDuring handling of the above exception, another exception occurred:\\n\\nTraceback (most recent call last):\\n  File \"C:\\\\Users\\\\ryans\\\\source\\\\repos\\\\venv\\\\Python311\\\\Lib\\\\site-packages\\\\requests\\\\adapters.py\", line 489, in send\\n    resp = conn.urlopen(\\n           ^^^^^^^^^^^^^\\n  File \"C:\\\\Users\\\\ryans\\\\source\\\\repos\\\\venv\\\\Python311\\\\Lib\\\\site-packages\\\\urllib3\\\\connectionpool.py\", line 787, in urlopen\\n    retries = retries.increment(\\n              ^^^^^^^^^^^^^^^^^^\\n  File \"C:\\\\Users\\\\ryans\\\\source\\\\repos\\\\venv\\\\Python311\\\\Lib\\\\site-packages\\\\urllib3\\\\util\\\\retry.py\", line 592, in increment\\n    raise MaxRetryError(_pool, url, error or ResponseError(cause))\\nurllib3.exceptions.MaxRetryError: HTTPSConnectionPool(host=\\'www.kaggleusercontent.com\\', port=443): Max retries exceeded with url: /episodes/45901587.json (Caused by ConnectTimeoutError(<urllib3.connection.HTTPSConnection object at 0x000002A66C164E90>, \\'Connection to www.kaggleusercontent.com timed out. (connect timeout=None)\\'))\\n\\nDuring handling of the above exception, another exception occurred:\\n\\nTraceback (most recent call last):\\n  File \"C:\\\\Users\\\\ryans\\\\AppData\\\\Local\\\\Temp\\\\ipykernel_31184\\\\3515661714.py\", line 3, in <module>\\n    payload = requests.get(f\\'https://www.kaggleusercontent.com/episodes/{starting_point-i}.json\\').text\\n              ^^^^^^^^^^^^^^^^^^^^^^^^^^^^^^^^^^^^^^^^^^^^^^^^^^^^^^^^^^^^^^^^^^^^^^^^^^^^^^^^^^^\\n  File \"C:\\\\Users\\\\ryans\\\\source\\\\repos\\\\venv\\\\Python311\\\\Lib\\\\site-packages\\\\requests\\\\api.py\", line 73, in get\\n    return request(\"get\", url, params=params, **kwargs)\\n           ^^^^^^^^^^^^^^^^^^^^^^^^^^^^^^^^^^^^^^^^^^^^\\n  File \"C:\\\\Users\\\\ryans\\\\source\\\\repos\\\\venv\\\\Python311\\\\Lib\\\\site-packages\\\\requests\\\\api.py\", line 59, in request\\n    return session.request(method=method, url=url, **kwargs)\\n           ^^^^^^^^^^^^^^^^^^^^^^^^^^^^^^^^^^^^^^^^^^^^^^^^^\\n  File \"C:\\\\Users\\\\ryans\\\\source\\\\repos\\\\venv\\\\Python311\\\\Lib\\\\site-packages\\\\requests\\\\sessions.py\", line 587, in request\\n    resp = self.send(prep, **send_kwargs)\\n           ^^^^^^^^^^^^^^^^^^^^^^^^^^^^^^\\n  File \"C:\\\\Users\\\\ryans\\\\source\\\\repos\\\\venv\\\\Python311\\\\Lib\\\\site-packages\\\\requests\\\\sessions.py\", line 701, in send\\n    r = adapter.send(request, **kwargs)\\n        ^^^^^^^^^^^^^^^^^^^^^^^^^^^^^^^\\n  File \"C:\\\\Users\\\\ryans\\\\source\\\\repos\\\\venv\\\\Python311\\\\Lib\\\\site-packages\\\\requests\\\\adapters.py\", line 553, in send\\n    raise ConnectTimeout(e, request=request)\\nrequests.exceptions.ConnectTimeout: HTTPSConnectionPool(host=\\'www.kaggleusercontent.com\\', port=443): Max retries exceeded with url: /episodes/45901587.json (Caused by ConnectTimeoutError(<urllib3.connection.HTTPSConnection object at 0x000002A66C164E90>, \\'Connection to www.kaggleusercontent.com timed out. (connect timeout=None)\\'))\\n', 'exception': ConnectTimeout(MaxRetryError(\"HTTPSConnectionPool(host='www.kaggleusercontent.com', port=443): Max retries exceeded with url: /episodes/45901587.json (Caused by ConnectTimeoutError(<urllib3.connection.HTTPSConnection object at 0x000002A66C164E90>, 'Connection to www.kaggleusercontent.com timed out. (connect timeout=None)'))\"))}\n"
     ]
    },
    {
     "name": "stderr",
     "output_type": "stream",
     "text": [
      "  1%|▋                                                                    | 10159/1000000 [27:03<1767:15:45,  6.43s/it]"
     ]
    },
    {
     "name": "stdout",
     "output_type": "stream",
     "text": [
      "{'traceback': 'Traceback (most recent call last):\\n  File \"C:\\\\Users\\\\ryans\\\\source\\\\repos\\\\venv\\\\Python311\\\\Lib\\\\site-packages\\\\urllib3\\\\connection.py\", line 174, in _new_conn\\n    conn = connection.create_connection(\\n           ^^^^^^^^^^^^^^^^^^^^^^^^^^^^^\\n  File \"C:\\\\Users\\\\ryans\\\\source\\\\repos\\\\venv\\\\Python311\\\\Lib\\\\site-packages\\\\urllib3\\\\util\\\\connection.py\", line 95, in create_connection\\n    raise err\\n  File \"C:\\\\Users\\\\ryans\\\\source\\\\repos\\\\venv\\\\Python311\\\\Lib\\\\site-packages\\\\urllib3\\\\util\\\\connection.py\", line 85, in create_connection\\n    sock.connect(sa)\\nTimeoutError: [WinError 10060] A connection attempt failed because the connected party did not properly respond after a period of time, or established connection failed because connected host has failed to respond\\n\\nDuring handling of the above exception, another exception occurred:\\n\\nTraceback (most recent call last):\\n  File \"C:\\\\Users\\\\ryans\\\\source\\\\repos\\\\venv\\\\Python311\\\\Lib\\\\site-packages\\\\urllib3\\\\connectionpool.py\", line 703, in urlopen\\n    httplib_response = self._make_request(\\n                       ^^^^^^^^^^^^^^^^^^^\\n  File \"C:\\\\Users\\\\ryans\\\\source\\\\repos\\\\venv\\\\Python311\\\\Lib\\\\site-packages\\\\urllib3\\\\connectionpool.py\", line 386, in _make_request\\n    self._validate_conn(conn)\\n  File \"C:\\\\Users\\\\ryans\\\\source\\\\repos\\\\venv\\\\Python311\\\\Lib\\\\site-packages\\\\urllib3\\\\connectionpool.py\", line 1042, in _validate_conn\\n    conn.connect()\\n  File \"C:\\\\Users\\\\ryans\\\\source\\\\repos\\\\venv\\\\Python311\\\\Lib\\\\site-packages\\\\urllib3\\\\connection.py\", line 358, in connect\\n    self.sock = conn = self._new_conn()\\n                       ^^^^^^^^^^^^^^^^\\n  File \"C:\\\\Users\\\\ryans\\\\source\\\\repos\\\\venv\\\\Python311\\\\Lib\\\\site-packages\\\\urllib3\\\\connection.py\", line 179, in _new_conn\\n    raise ConnectTimeoutError(\\nurllib3.exceptions.ConnectTimeoutError: (<urllib3.connection.HTTPSConnection object at 0x000002A66BC8CBD0>, \\'Connection to www.kaggleusercontent.com timed out. (connect timeout=None)\\')\\n\\nDuring handling of the above exception, another exception occurred:\\n\\nTraceback (most recent call last):\\n  File \"C:\\\\Users\\\\ryans\\\\source\\\\repos\\\\venv\\\\Python311\\\\Lib\\\\site-packages\\\\requests\\\\adapters.py\", line 489, in send\\n    resp = conn.urlopen(\\n           ^^^^^^^^^^^^^\\n  File \"C:\\\\Users\\\\ryans\\\\source\\\\repos\\\\venv\\\\Python311\\\\Lib\\\\site-packages\\\\urllib3\\\\connectionpool.py\", line 787, in urlopen\\n    retries = retries.increment(\\n              ^^^^^^^^^^^^^^^^^^\\n  File \"C:\\\\Users\\\\ryans\\\\source\\\\repos\\\\venv\\\\Python311\\\\Lib\\\\site-packages\\\\urllib3\\\\util\\\\retry.py\", line 592, in increment\\n    raise MaxRetryError(_pool, url, error or ResponseError(cause))\\nurllib3.exceptions.MaxRetryError: HTTPSConnectionPool(host=\\'www.kaggleusercontent.com\\', port=443): Max retries exceeded with url: /episodes/45898021.json (Caused by ConnectTimeoutError(<urllib3.connection.HTTPSConnection object at 0x000002A66BC8CBD0>, \\'Connection to www.kaggleusercontent.com timed out. (connect timeout=None)\\'))\\n\\nDuring handling of the above exception, another exception occurred:\\n\\nTraceback (most recent call last):\\n  File \"C:\\\\Users\\\\ryans\\\\AppData\\\\Local\\\\Temp\\\\ipykernel_31184\\\\3515661714.py\", line 3, in <module>\\n    payload = requests.get(f\\'https://www.kaggleusercontent.com/episodes/{starting_point-i}.json\\').text\\n              ^^^^^^^^^^^^^^^^^^^^^^^^^^^^^^^^^^^^^^^^^^^^^^^^^^^^^^^^^^^^^^^^^^^^^^^^^^^^^^^^^^^\\n  File \"C:\\\\Users\\\\ryans\\\\source\\\\repos\\\\venv\\\\Python311\\\\Lib\\\\site-packages\\\\requests\\\\api.py\", line 73, in get\\n    return request(\"get\", url, params=params, **kwargs)\\n           ^^^^^^^^^^^^^^^^^^^^^^^^^^^^^^^^^^^^^^^^^^^^\\n  File \"C:\\\\Users\\\\ryans\\\\source\\\\repos\\\\venv\\\\Python311\\\\Lib\\\\site-packages\\\\requests\\\\api.py\", line 59, in request\\n    return session.request(method=method, url=url, **kwargs)\\n           ^^^^^^^^^^^^^^^^^^^^^^^^^^^^^^^^^^^^^^^^^^^^^^^^^\\n  File \"C:\\\\Users\\\\ryans\\\\source\\\\repos\\\\venv\\\\Python311\\\\Lib\\\\site-packages\\\\requests\\\\sessions.py\", line 587, in request\\n    resp = self.send(prep, **send_kwargs)\\n           ^^^^^^^^^^^^^^^^^^^^^^^^^^^^^^\\n  File \"C:\\\\Users\\\\ryans\\\\source\\\\repos\\\\venv\\\\Python311\\\\Lib\\\\site-packages\\\\requests\\\\sessions.py\", line 701, in send\\n    r = adapter.send(request, **kwargs)\\n        ^^^^^^^^^^^^^^^^^^^^^^^^^^^^^^^\\n  File \"C:\\\\Users\\\\ryans\\\\source\\\\repos\\\\venv\\\\Python311\\\\Lib\\\\site-packages\\\\requests\\\\adapters.py\", line 553, in send\\n    raise ConnectTimeout(e, request=request)\\nrequests.exceptions.ConnectTimeout: HTTPSConnectionPool(host=\\'www.kaggleusercontent.com\\', port=443): Max retries exceeded with url: /episodes/45898021.json (Caused by ConnectTimeoutError(<urllib3.connection.HTTPSConnection object at 0x000002A66BC8CBD0>, \\'Connection to www.kaggleusercontent.com timed out. (connect timeout=None)\\'))\\n', 'exception': ConnectTimeout(MaxRetryError(\"HTTPSConnectionPool(host='www.kaggleusercontent.com', port=443): Max retries exceeded with url: /episodes/45898021.json (Caused by ConnectTimeoutError(<urllib3.connection.HTTPSConnection object at 0x000002A66BC8CBD0>, 'Connection to www.kaggleusercontent.com timed out. (connect timeout=None)'))\"))}\n"
     ]
    },
    {
     "name": "stderr",
     "output_type": "stream",
     "text": [
      "  1%|▋                                                                    | 10662/1000000 [28:42<1245:13:34,  4.53s/it]"
     ]
    },
    {
     "name": "stdout",
     "output_type": "stream",
     "text": [
      "{'traceback': 'Traceback (most recent call last):\\n  File \"C:\\\\Users\\\\ryans\\\\source\\\\repos\\\\venv\\\\Python311\\\\Lib\\\\site-packages\\\\urllib3\\\\connection.py\", line 174, in _new_conn\\n    conn = connection.create_connection(\\n           ^^^^^^^^^^^^^^^^^^^^^^^^^^^^^\\n  File \"C:\\\\Users\\\\ryans\\\\source\\\\repos\\\\venv\\\\Python311\\\\Lib\\\\site-packages\\\\urllib3\\\\util\\\\connection.py\", line 95, in create_connection\\n    raise err\\n  File \"C:\\\\Users\\\\ryans\\\\source\\\\repos\\\\venv\\\\Python311\\\\Lib\\\\site-packages\\\\urllib3\\\\util\\\\connection.py\", line 85, in create_connection\\n    sock.connect(sa)\\nTimeoutError: [WinError 10060] A connection attempt failed because the connected party did not properly respond after a period of time, or established connection failed because connected host has failed to respond\\n\\nDuring handling of the above exception, another exception occurred:\\n\\nTraceback (most recent call last):\\n  File \"C:\\\\Users\\\\ryans\\\\source\\\\repos\\\\venv\\\\Python311\\\\Lib\\\\site-packages\\\\urllib3\\\\connectionpool.py\", line 703, in urlopen\\n    httplib_response = self._make_request(\\n                       ^^^^^^^^^^^^^^^^^^^\\n  File \"C:\\\\Users\\\\ryans\\\\source\\\\repos\\\\venv\\\\Python311\\\\Lib\\\\site-packages\\\\urllib3\\\\connectionpool.py\", line 386, in _make_request\\n    self._validate_conn(conn)\\n  File \"C:\\\\Users\\\\ryans\\\\source\\\\repos\\\\venv\\\\Python311\\\\Lib\\\\site-packages\\\\urllib3\\\\connectionpool.py\", line 1042, in _validate_conn\\n    conn.connect()\\n  File \"C:\\\\Users\\\\ryans\\\\source\\\\repos\\\\venv\\\\Python311\\\\Lib\\\\site-packages\\\\urllib3\\\\connection.py\", line 358, in connect\\n    self.sock = conn = self._new_conn()\\n                       ^^^^^^^^^^^^^^^^\\n  File \"C:\\\\Users\\\\ryans\\\\source\\\\repos\\\\venv\\\\Python311\\\\Lib\\\\site-packages\\\\urllib3\\\\connection.py\", line 179, in _new_conn\\n    raise ConnectTimeoutError(\\nurllib3.exceptions.ConnectTimeoutError: (<urllib3.connection.HTTPSConnection object at 0x000002A66C330F90>, \\'Connection to www.kaggleusercontent.com timed out. (connect timeout=None)\\')\\n\\nDuring handling of the above exception, another exception occurred:\\n\\nTraceback (most recent call last):\\n  File \"C:\\\\Users\\\\ryans\\\\source\\\\repos\\\\venv\\\\Python311\\\\Lib\\\\site-packages\\\\requests\\\\adapters.py\", line 489, in send\\n    resp = conn.urlopen(\\n           ^^^^^^^^^^^^^\\n  File \"C:\\\\Users\\\\ryans\\\\source\\\\repos\\\\venv\\\\Python311\\\\Lib\\\\site-packages\\\\urllib3\\\\connectionpool.py\", line 787, in urlopen\\n    retries = retries.increment(\\n              ^^^^^^^^^^^^^^^^^^\\n  File \"C:\\\\Users\\\\ryans\\\\source\\\\repos\\\\venv\\\\Python311\\\\Lib\\\\site-packages\\\\urllib3\\\\util\\\\retry.py\", line 592, in increment\\n    raise MaxRetryError(_pool, url, error or ResponseError(cause))\\nurllib3.exceptions.MaxRetryError: HTTPSConnectionPool(host=\\'www.kaggleusercontent.com\\', port=443): Max retries exceeded with url: /episodes/45897519.json (Caused by ConnectTimeoutError(<urllib3.connection.HTTPSConnection object at 0x000002A66C330F90>, \\'Connection to www.kaggleusercontent.com timed out. (connect timeout=None)\\'))\\n\\nDuring handling of the above exception, another exception occurred:\\n\\nTraceback (most recent call last):\\n  File \"C:\\\\Users\\\\ryans\\\\AppData\\\\Local\\\\Temp\\\\ipykernel_31184\\\\3515661714.py\", line 3, in <module>\\n    payload = requests.get(f\\'https://www.kaggleusercontent.com/episodes/{starting_point-i}.json\\').text\\n              ^^^^^^^^^^^^^^^^^^^^^^^^^^^^^^^^^^^^^^^^^^^^^^^^^^^^^^^^^^^^^^^^^^^^^^^^^^^^^^^^^^^\\n  File \"C:\\\\Users\\\\ryans\\\\source\\\\repos\\\\venv\\\\Python311\\\\Lib\\\\site-packages\\\\requests\\\\api.py\", line 73, in get\\n    return request(\"get\", url, params=params, **kwargs)\\n           ^^^^^^^^^^^^^^^^^^^^^^^^^^^^^^^^^^^^^^^^^^^^\\n  File \"C:\\\\Users\\\\ryans\\\\source\\\\repos\\\\venv\\\\Python311\\\\Lib\\\\site-packages\\\\requests\\\\api.py\", line 59, in request\\n    return session.request(method=method, url=url, **kwargs)\\n           ^^^^^^^^^^^^^^^^^^^^^^^^^^^^^^^^^^^^^^^^^^^^^^^^^\\n  File \"C:\\\\Users\\\\ryans\\\\source\\\\repos\\\\venv\\\\Python311\\\\Lib\\\\site-packages\\\\requests\\\\sessions.py\", line 587, in request\\n    resp = self.send(prep, **send_kwargs)\\n           ^^^^^^^^^^^^^^^^^^^^^^^^^^^^^^\\n  File \"C:\\\\Users\\\\ryans\\\\source\\\\repos\\\\venv\\\\Python311\\\\Lib\\\\site-packages\\\\requests\\\\sessions.py\", line 701, in send\\n    r = adapter.send(request, **kwargs)\\n        ^^^^^^^^^^^^^^^^^^^^^^^^^^^^^^^\\n  File \"C:\\\\Users\\\\ryans\\\\source\\\\repos\\\\venv\\\\Python311\\\\Lib\\\\site-packages\\\\requests\\\\adapters.py\", line 553, in send\\n    raise ConnectTimeout(e, request=request)\\nrequests.exceptions.ConnectTimeout: HTTPSConnectionPool(host=\\'www.kaggleusercontent.com\\', port=443): Max retries exceeded with url: /episodes/45897519.json (Caused by ConnectTimeoutError(<urllib3.connection.HTTPSConnection object at 0x000002A66C330F90>, \\'Connection to www.kaggleusercontent.com timed out. (connect timeout=None)\\'))\\n', 'exception': ConnectTimeout(MaxRetryError(\"HTTPSConnectionPool(host='www.kaggleusercontent.com', port=443): Max retries exceeded with url: /episodes/45897519.json (Caused by ConnectTimeoutError(<urllib3.connection.HTTPSConnection object at 0x000002A66C330F90>, 'Connection to www.kaggleusercontent.com timed out. (connect timeout=None)'))\"))}\n"
     ]
    },
    {
     "name": "stderr",
     "output_type": "stream",
     "text": [
      "  1%|▊                                                                    | 11243/1000000 [30:33<1811:14:59,  6.59s/it]"
     ]
    },
    {
     "name": "stdout",
     "output_type": "stream",
     "text": [
      "{'traceback': 'Traceback (most recent call last):\\n  File \"C:\\\\Users\\\\ryans\\\\source\\\\repos\\\\venv\\\\Python311\\\\Lib\\\\site-packages\\\\urllib3\\\\connectionpool.py\", line 386, in _make_request\\n    self._validate_conn(conn)\\n  File \"C:\\\\Users\\\\ryans\\\\source\\\\repos\\\\venv\\\\Python311\\\\Lib\\\\site-packages\\\\urllib3\\\\connectionpool.py\", line 1042, in _validate_conn\\n    conn.connect()\\n  File \"C:\\\\Users\\\\ryans\\\\source\\\\repos\\\\venv\\\\Python311\\\\Lib\\\\site-packages\\\\urllib3\\\\connection.py\", line 414, in connect\\n    self.sock = ssl_wrap_socket(\\n                ^^^^^^^^^^^^^^^^\\n  File \"C:\\\\Users\\\\ryans\\\\source\\\\repos\\\\venv\\\\Python311\\\\Lib\\\\site-packages\\\\urllib3\\\\util\\\\ssl_.py\", line 449, in ssl_wrap_socket\\n    ssl_sock = _ssl_wrap_socket_impl(\\n               ^^^^^^^^^^^^^^^^^^^^^^\\n  File \"C:\\\\Users\\\\ryans\\\\source\\\\repos\\\\venv\\\\Python311\\\\Lib\\\\site-packages\\\\urllib3\\\\util\\\\ssl_.py\", line 493, in _ssl_wrap_socket_impl\\n    return ssl_context.wrap_socket(sock, server_hostname=server_hostname)\\n           ^^^^^^^^^^^^^^^^^^^^^^^^^^^^^^^^^^^^^^^^^^^^^^^^^^^^^^^^^^^^^^\\n  File \"C:\\\\Users\\\\ryans\\\\AppData\\\\Local\\\\Programs\\\\Python\\\\Python311\\\\Lib\\\\ssl.py\", line 517, in wrap_socket\\n    return self.sslsocket_class._create(\\n           ^^^^^^^^^^^^^^^^^^^^^^^^^^^^^\\n  File \"C:\\\\Users\\\\ryans\\\\AppData\\\\Local\\\\Programs\\\\Python\\\\Python311\\\\Lib\\\\ssl.py\", line 1075, in _create\\n    self.do_handshake()\\n  File \"C:\\\\Users\\\\ryans\\\\AppData\\\\Local\\\\Programs\\\\Python\\\\Python311\\\\Lib\\\\ssl.py\", line 1346, in do_handshake\\n    self._sslobj.do_handshake()\\nTimeoutError: [WinError 10060] A connection attempt failed because the connected party did not properly respond after a period of time, or established connection failed because connected host has failed to respond\\n\\nDuring handling of the above exception, another exception occurred:\\n\\nTraceback (most recent call last):\\n  File \"C:\\\\Users\\\\ryans\\\\source\\\\repos\\\\venv\\\\Python311\\\\Lib\\\\site-packages\\\\requests\\\\adapters.py\", line 489, in send\\n    resp = conn.urlopen(\\n           ^^^^^^^^^^^^^\\n  File \"C:\\\\Users\\\\ryans\\\\source\\\\repos\\\\venv\\\\Python311\\\\Lib\\\\site-packages\\\\urllib3\\\\connectionpool.py\", line 787, in urlopen\\n    retries = retries.increment(\\n              ^^^^^^^^^^^^^^^^^^\\n  File \"C:\\\\Users\\\\ryans\\\\source\\\\repos\\\\venv\\\\Python311\\\\Lib\\\\site-packages\\\\urllib3\\\\util\\\\retry.py\", line 550, in increment\\n    raise six.reraise(type(error), error, _stacktrace)\\n          ^^^^^^^^^^^^^^^^^^^^^^^^^^^^^^^^^^^^^^^^^^^^\\n  File \"C:\\\\Users\\\\ryans\\\\source\\\\repos\\\\venv\\\\Python311\\\\Lib\\\\site-packages\\\\urllib3\\\\packages\\\\six.py\", line 770, in reraise\\n    raise value\\n  File \"C:\\\\Users\\\\ryans\\\\source\\\\repos\\\\venv\\\\Python311\\\\Lib\\\\site-packages\\\\urllib3\\\\connectionpool.py\", line 703, in urlopen\\n    httplib_response = self._make_request(\\n                       ^^^^^^^^^^^^^^^^^^^\\n  File \"C:\\\\Users\\\\ryans\\\\source\\\\repos\\\\venv\\\\Python311\\\\Lib\\\\site-packages\\\\urllib3\\\\connectionpool.py\", line 389, in _make_request\\n    self._raise_timeout(err=e, url=url, timeout_value=conn.timeout)\\n  File \"C:\\\\Users\\\\ryans\\\\source\\\\repos\\\\venv\\\\Python311\\\\Lib\\\\site-packages\\\\urllib3\\\\connectionpool.py\", line 340, in _raise_timeout\\n    raise ReadTimeoutError(\\nurllib3.exceptions.ReadTimeoutError: HTTPSConnectionPool(host=\\'www.kaggleusercontent.com\\', port=443): Read timed out. (read timeout=None)\\n\\nDuring handling of the above exception, another exception occurred:\\n\\nTraceback (most recent call last):\\n  File \"C:\\\\Users\\\\ryans\\\\AppData\\\\Local\\\\Temp\\\\ipykernel_31184\\\\3515661714.py\", line 3, in <module>\\n    payload = requests.get(f\\'https://www.kaggleusercontent.com/episodes/{starting_point-i}.json\\').text\\n              ^^^^^^^^^^^^^^^^^^^^^^^^^^^^^^^^^^^^^^^^^^^^^^^^^^^^^^^^^^^^^^^^^^^^^^^^^^^^^^^^^^^\\n  File \"C:\\\\Users\\\\ryans\\\\source\\\\repos\\\\venv\\\\Python311\\\\Lib\\\\site-packages\\\\requests\\\\api.py\", line 73, in get\\n    return request(\"get\", url, params=params, **kwargs)\\n           ^^^^^^^^^^^^^^^^^^^^^^^^^^^^^^^^^^^^^^^^^^^^\\n  File \"C:\\\\Users\\\\ryans\\\\source\\\\repos\\\\venv\\\\Python311\\\\Lib\\\\site-packages\\\\requests\\\\api.py\", line 59, in request\\n    return session.request(method=method, url=url, **kwargs)\\n           ^^^^^^^^^^^^^^^^^^^^^^^^^^^^^^^^^^^^^^^^^^^^^^^^^\\n  File \"C:\\\\Users\\\\ryans\\\\source\\\\repos\\\\venv\\\\Python311\\\\Lib\\\\site-packages\\\\requests\\\\sessions.py\", line 587, in request\\n    resp = self.send(prep, **send_kwargs)\\n           ^^^^^^^^^^^^^^^^^^^^^^^^^^^^^^\\n  File \"C:\\\\Users\\\\ryans\\\\source\\\\repos\\\\venv\\\\Python311\\\\Lib\\\\site-packages\\\\requests\\\\sessions.py\", line 701, in send\\n    r = adapter.send(request, **kwargs)\\n        ^^^^^^^^^^^^^^^^^^^^^^^^^^^^^^^\\n  File \"C:\\\\Users\\\\ryans\\\\source\\\\repos\\\\venv\\\\Python311\\\\Lib\\\\site-packages\\\\requests\\\\adapters.py\", line 578, in send\\n    raise ReadTimeout(e, request=request)\\nrequests.exceptions.ReadTimeout: HTTPSConnectionPool(host=\\'www.kaggleusercontent.com\\', port=443): Read timed out. (read timeout=None)\\n', 'exception': ReadTimeout(ReadTimeoutError(\"HTTPSConnectionPool(host='www.kaggleusercontent.com', port=443): Read timed out. (read timeout=None)\"))}\n"
     ]
    },
    {
     "name": "stderr",
     "output_type": "stream",
     "text": [
      "  1%|▊                                                                    | 11245/1000000 [30:52<2007:52:40,  7.31s/it]"
     ]
    },
    {
     "name": "stdout",
     "output_type": "stream",
     "text": [
      "{'traceback': 'Traceback (most recent call last):\\n  File \"C:\\\\Users\\\\ryans\\\\source\\\\repos\\\\venv\\\\Python311\\\\Lib\\\\site-packages\\\\urllib3\\\\connectionpool.py\", line 386, in _make_request\\n    self._validate_conn(conn)\\n  File \"C:\\\\Users\\\\ryans\\\\source\\\\repos\\\\venv\\\\Python311\\\\Lib\\\\site-packages\\\\urllib3\\\\connectionpool.py\", line 1042, in _validate_conn\\n    conn.connect()\\n  File \"C:\\\\Users\\\\ryans\\\\source\\\\repos\\\\venv\\\\Python311\\\\Lib\\\\site-packages\\\\urllib3\\\\connection.py\", line 414, in connect\\n    self.sock = ssl_wrap_socket(\\n                ^^^^^^^^^^^^^^^^\\n  File \"C:\\\\Users\\\\ryans\\\\source\\\\repos\\\\venv\\\\Python311\\\\Lib\\\\site-packages\\\\urllib3\\\\util\\\\ssl_.py\", line 449, in ssl_wrap_socket\\n    ssl_sock = _ssl_wrap_socket_impl(\\n               ^^^^^^^^^^^^^^^^^^^^^^\\n  File \"C:\\\\Users\\\\ryans\\\\source\\\\repos\\\\venv\\\\Python311\\\\Lib\\\\site-packages\\\\urllib3\\\\util\\\\ssl_.py\", line 493, in _ssl_wrap_socket_impl\\n    return ssl_context.wrap_socket(sock, server_hostname=server_hostname)\\n           ^^^^^^^^^^^^^^^^^^^^^^^^^^^^^^^^^^^^^^^^^^^^^^^^^^^^^^^^^^^^^^\\n  File \"C:\\\\Users\\\\ryans\\\\AppData\\\\Local\\\\Programs\\\\Python\\\\Python311\\\\Lib\\\\ssl.py\", line 517, in wrap_socket\\n    return self.sslsocket_class._create(\\n           ^^^^^^^^^^^^^^^^^^^^^^^^^^^^^\\n  File \"C:\\\\Users\\\\ryans\\\\AppData\\\\Local\\\\Programs\\\\Python\\\\Python311\\\\Lib\\\\ssl.py\", line 1075, in _create\\n    self.do_handshake()\\n  File \"C:\\\\Users\\\\ryans\\\\AppData\\\\Local\\\\Programs\\\\Python\\\\Python311\\\\Lib\\\\ssl.py\", line 1346, in do_handshake\\n    self._sslobj.do_handshake()\\nTimeoutError: [WinError 10060] A connection attempt failed because the connected party did not properly respond after a period of time, or established connection failed because connected host has failed to respond\\n\\nDuring handling of the above exception, another exception occurred:\\n\\nTraceback (most recent call last):\\n  File \"C:\\\\Users\\\\ryans\\\\source\\\\repos\\\\venv\\\\Python311\\\\Lib\\\\site-packages\\\\requests\\\\adapters.py\", line 489, in send\\n    resp = conn.urlopen(\\n           ^^^^^^^^^^^^^\\n  File \"C:\\\\Users\\\\ryans\\\\source\\\\repos\\\\venv\\\\Python311\\\\Lib\\\\site-packages\\\\urllib3\\\\connectionpool.py\", line 787, in urlopen\\n    retries = retries.increment(\\n              ^^^^^^^^^^^^^^^^^^\\n  File \"C:\\\\Users\\\\ryans\\\\source\\\\repos\\\\venv\\\\Python311\\\\Lib\\\\site-packages\\\\urllib3\\\\util\\\\retry.py\", line 550, in increment\\n    raise six.reraise(type(error), error, _stacktrace)\\n          ^^^^^^^^^^^^^^^^^^^^^^^^^^^^^^^^^^^^^^^^^^^^\\n  File \"C:\\\\Users\\\\ryans\\\\source\\\\repos\\\\venv\\\\Python311\\\\Lib\\\\site-packages\\\\urllib3\\\\packages\\\\six.py\", line 770, in reraise\\n    raise value\\n  File \"C:\\\\Users\\\\ryans\\\\source\\\\repos\\\\venv\\\\Python311\\\\Lib\\\\site-packages\\\\urllib3\\\\connectionpool.py\", line 703, in urlopen\\n    httplib_response = self._make_request(\\n                       ^^^^^^^^^^^^^^^^^^^\\n  File \"C:\\\\Users\\\\ryans\\\\source\\\\repos\\\\venv\\\\Python311\\\\Lib\\\\site-packages\\\\urllib3\\\\connectionpool.py\", line 389, in _make_request\\n    self._raise_timeout(err=e, url=url, timeout_value=conn.timeout)\\n  File \"C:\\\\Users\\\\ryans\\\\source\\\\repos\\\\venv\\\\Python311\\\\Lib\\\\site-packages\\\\urllib3\\\\connectionpool.py\", line 340, in _raise_timeout\\n    raise ReadTimeoutError(\\nurllib3.exceptions.ReadTimeoutError: HTTPSConnectionPool(host=\\'www.kaggleusercontent.com\\', port=443): Read timed out. (read timeout=None)\\n\\nDuring handling of the above exception, another exception occurred:\\n\\nTraceback (most recent call last):\\n  File \"C:\\\\Users\\\\ryans\\\\AppData\\\\Local\\\\Temp\\\\ipykernel_31184\\\\3515661714.py\", line 3, in <module>\\n    payload = requests.get(f\\'https://www.kaggleusercontent.com/episodes/{starting_point-i}.json\\').text\\n              ^^^^^^^^^^^^^^^^^^^^^^^^^^^^^^^^^^^^^^^^^^^^^^^^^^^^^^^^^^^^^^^^^^^^^^^^^^^^^^^^^^^\\n  File \"C:\\\\Users\\\\ryans\\\\source\\\\repos\\\\venv\\\\Python311\\\\Lib\\\\site-packages\\\\requests\\\\api.py\", line 73, in get\\n    return request(\"get\", url, params=params, **kwargs)\\n           ^^^^^^^^^^^^^^^^^^^^^^^^^^^^^^^^^^^^^^^^^^^^\\n  File \"C:\\\\Users\\\\ryans\\\\source\\\\repos\\\\venv\\\\Python311\\\\Lib\\\\site-packages\\\\requests\\\\api.py\", line 59, in request\\n    return session.request(method=method, url=url, **kwargs)\\n           ^^^^^^^^^^^^^^^^^^^^^^^^^^^^^^^^^^^^^^^^^^^^^^^^^\\n  File \"C:\\\\Users\\\\ryans\\\\source\\\\repos\\\\venv\\\\Python311\\\\Lib\\\\site-packages\\\\requests\\\\sessions.py\", line 587, in request\\n    resp = self.send(prep, **send_kwargs)\\n           ^^^^^^^^^^^^^^^^^^^^^^^^^^^^^^\\n  File \"C:\\\\Users\\\\ryans\\\\source\\\\repos\\\\venv\\\\Python311\\\\Lib\\\\site-packages\\\\requests\\\\sessions.py\", line 701, in send\\n    r = adapter.send(request, **kwargs)\\n        ^^^^^^^^^^^^^^^^^^^^^^^^^^^^^^^\\n  File \"C:\\\\Users\\\\ryans\\\\source\\\\repos\\\\venv\\\\Python311\\\\Lib\\\\site-packages\\\\requests\\\\adapters.py\", line 578, in send\\n    raise ReadTimeout(e, request=request)\\nrequests.exceptions.ReadTimeout: HTTPSConnectionPool(host=\\'www.kaggleusercontent.com\\', port=443): Read timed out. (read timeout=None)\\n', 'exception': ReadTimeout(ReadTimeoutError(\"HTTPSConnectionPool(host='www.kaggleusercontent.com', port=443): Read timed out. (read timeout=None)\"))}\n"
     ]
    },
    {
     "name": "stderr",
     "output_type": "stream",
     "text": [
      "  2%|█▎                                                                   | 19037/1000000 [51:14<1236:37:45,  4.54s/it]"
     ]
    },
    {
     "name": "stdout",
     "output_type": "stream",
     "text": [
      "{'traceback': 'Traceback (most recent call last):\\n  File \"C:\\\\Users\\\\ryans\\\\source\\\\repos\\\\venv\\\\Python311\\\\Lib\\\\site-packages\\\\urllib3\\\\connection.py\", line 174, in _new_conn\\n    conn = connection.create_connection(\\n           ^^^^^^^^^^^^^^^^^^^^^^^^^^^^^\\n  File \"C:\\\\Users\\\\ryans\\\\source\\\\repos\\\\venv\\\\Python311\\\\Lib\\\\site-packages\\\\urllib3\\\\util\\\\connection.py\", line 95, in create_connection\\n    raise err\\n  File \"C:\\\\Users\\\\ryans\\\\source\\\\repos\\\\venv\\\\Python311\\\\Lib\\\\site-packages\\\\urllib3\\\\util\\\\connection.py\", line 85, in create_connection\\n    sock.connect(sa)\\nTimeoutError: [WinError 10060] A connection attempt failed because the connected party did not properly respond after a period of time, or established connection failed because connected host has failed to respond\\n\\nDuring handling of the above exception, another exception occurred:\\n\\nTraceback (most recent call last):\\n  File \"C:\\\\Users\\\\ryans\\\\source\\\\repos\\\\venv\\\\Python311\\\\Lib\\\\site-packages\\\\urllib3\\\\connectionpool.py\", line 703, in urlopen\\n    httplib_response = self._make_request(\\n                       ^^^^^^^^^^^^^^^^^^^\\n  File \"C:\\\\Users\\\\ryans\\\\source\\\\repos\\\\venv\\\\Python311\\\\Lib\\\\site-packages\\\\urllib3\\\\connectionpool.py\", line 386, in _make_request\\n    self._validate_conn(conn)\\n  File \"C:\\\\Users\\\\ryans\\\\source\\\\repos\\\\venv\\\\Python311\\\\Lib\\\\site-packages\\\\urllib3\\\\connectionpool.py\", line 1042, in _validate_conn\\n    conn.connect()\\n  File \"C:\\\\Users\\\\ryans\\\\source\\\\repos\\\\venv\\\\Python311\\\\Lib\\\\site-packages\\\\urllib3\\\\connection.py\", line 358, in connect\\n    self.sock = conn = self._new_conn()\\n                       ^^^^^^^^^^^^^^^^\\n  File \"C:\\\\Users\\\\ryans\\\\source\\\\repos\\\\venv\\\\Python311\\\\Lib\\\\site-packages\\\\urllib3\\\\connection.py\", line 179, in _new_conn\\n    raise ConnectTimeoutError(\\nurllib3.exceptions.ConnectTimeoutError: (<urllib3.connection.HTTPSConnection object at 0x000002A66D53A3D0>, \\'Connection to www.kaggleusercontent.com timed out. (connect timeout=None)\\')\\n\\nDuring handling of the above exception, another exception occurred:\\n\\nTraceback (most recent call last):\\n  File \"C:\\\\Users\\\\ryans\\\\source\\\\repos\\\\venv\\\\Python311\\\\Lib\\\\site-packages\\\\requests\\\\adapters.py\", line 489, in send\\n    resp = conn.urlopen(\\n           ^^^^^^^^^^^^^\\n  File \"C:\\\\Users\\\\ryans\\\\source\\\\repos\\\\venv\\\\Python311\\\\Lib\\\\site-packages\\\\urllib3\\\\connectionpool.py\", line 787, in urlopen\\n    retries = retries.increment(\\n              ^^^^^^^^^^^^^^^^^^\\n  File \"C:\\\\Users\\\\ryans\\\\source\\\\repos\\\\venv\\\\Python311\\\\Lib\\\\site-packages\\\\urllib3\\\\util\\\\retry.py\", line 592, in increment\\n    raise MaxRetryError(_pool, url, error or ResponseError(cause))\\nurllib3.exceptions.MaxRetryError: HTTPSConnectionPool(host=\\'www.kaggleusercontent.com\\', port=443): Max retries exceeded with url: /episodes/45889144.json (Caused by ConnectTimeoutError(<urllib3.connection.HTTPSConnection object at 0x000002A66D53A3D0>, \\'Connection to www.kaggleusercontent.com timed out. (connect timeout=None)\\'))\\n\\nDuring handling of the above exception, another exception occurred:\\n\\nTraceback (most recent call last):\\n  File \"C:\\\\Users\\\\ryans\\\\AppData\\\\Local\\\\Temp\\\\ipykernel_31184\\\\3515661714.py\", line 3, in <module>\\n    payload = requests.get(f\\'https://www.kaggleusercontent.com/episodes/{starting_point-i}.json\\').text\\n              ^^^^^^^^^^^^^^^^^^^^^^^^^^^^^^^^^^^^^^^^^^^^^^^^^^^^^^^^^^^^^^^^^^^^^^^^^^^^^^^^^^^\\n  File \"C:\\\\Users\\\\ryans\\\\source\\\\repos\\\\venv\\\\Python311\\\\Lib\\\\site-packages\\\\requests\\\\api.py\", line 73, in get\\n    return request(\"get\", url, params=params, **kwargs)\\n           ^^^^^^^^^^^^^^^^^^^^^^^^^^^^^^^^^^^^^^^^^^^^\\n  File \"C:\\\\Users\\\\ryans\\\\source\\\\repos\\\\venv\\\\Python311\\\\Lib\\\\site-packages\\\\requests\\\\api.py\", line 59, in request\\n    return session.request(method=method, url=url, **kwargs)\\n           ^^^^^^^^^^^^^^^^^^^^^^^^^^^^^^^^^^^^^^^^^^^^^^^^^\\n  File \"C:\\\\Users\\\\ryans\\\\source\\\\repos\\\\venv\\\\Python311\\\\Lib\\\\site-packages\\\\requests\\\\sessions.py\", line 587, in request\\n    resp = self.send(prep, **send_kwargs)\\n           ^^^^^^^^^^^^^^^^^^^^^^^^^^^^^^\\n  File \"C:\\\\Users\\\\ryans\\\\source\\\\repos\\\\venv\\\\Python311\\\\Lib\\\\site-packages\\\\requests\\\\sessions.py\", line 701, in send\\n    r = adapter.send(request, **kwargs)\\n        ^^^^^^^^^^^^^^^^^^^^^^^^^^^^^^^\\n  File \"C:\\\\Users\\\\ryans\\\\source\\\\repos\\\\venv\\\\Python311\\\\Lib\\\\site-packages\\\\requests\\\\adapters.py\", line 553, in send\\n    raise ConnectTimeout(e, request=request)\\nrequests.exceptions.ConnectTimeout: HTTPSConnectionPool(host=\\'www.kaggleusercontent.com\\', port=443): Max retries exceeded with url: /episodes/45889144.json (Caused by ConnectTimeoutError(<urllib3.connection.HTTPSConnection object at 0x000002A66D53A3D0>, \\'Connection to www.kaggleusercontent.com timed out. (connect timeout=None)\\'))\\n', 'exception': ConnectTimeout(MaxRetryError(\"HTTPSConnectionPool(host='www.kaggleusercontent.com', port=443): Max retries exceeded with url: /episodes/45889144.json (Caused by ConnectTimeoutError(<urllib3.connection.HTTPSConnection object at 0x000002A66D53A3D0>, 'Connection to www.kaggleusercontent.com timed out. (connect timeout=None)'))\"))}\n"
     ]
    },
    {
     "name": "stderr",
     "output_type": "stream",
     "text": [
      "  2%|█▌                                                                     | 22057/1000000 [59:06<72:11:03,  3.76it/s]"
     ]
    },
    {
     "name": "stdout",
     "output_type": "stream",
     "text": [
      "{'traceback': 'Traceback (most recent call last):\\n  File \"C:\\\\Users\\\\ryans\\\\AppData\\\\Local\\\\Temp\\\\ipykernel_31184\\\\3515661714.py\", line 4, in <module>\\n    document = json.loads(payload)\\n               ^^^^^^^^^^^^^^^^^^^\\n  File \"C:\\\\Users\\\\ryans\\\\AppData\\\\Local\\\\Programs\\\\Python\\\\Python311\\\\Lib\\\\json\\\\__init__.py\", line 346, in loads\\n    return _default_decoder.decode(s)\\n           ^^^^^^^^^^^^^^^^^^^^^^^^^^\\n  File \"C:\\\\Users\\\\ryans\\\\AppData\\\\Local\\\\Programs\\\\Python\\\\Python311\\\\Lib\\\\json\\\\decoder.py\", line 337, in decode\\n    obj, end = self.raw_decode(s, idx=_w(s, 0).end())\\n               ^^^^^^^^^^^^^^^^^^^^^^^^^^^^^^^^^^^^^^\\n  File \"C:\\\\Users\\\\ryans\\\\AppData\\\\Local\\\\Programs\\\\Python\\\\Python311\\\\Lib\\\\json\\\\decoder.py\", line 353, in raw_decode\\n    obj, end = self.scan_once(s, idx)\\n               ^^^^^^^^^^^^^^^^^^^^^^\\njson.decoder.JSONDecodeError: Expecting property name enclosed in double quotes: line 1 column 2 (char 1)\\n', 'exception': JSONDecodeError('Expecting property name enclosed in double quotes: line 1 column 2 (char 1)')}\n",
      "{'traceback': 'Traceback (most recent call last):\\n  File \"C:\\\\Users\\\\ryans\\\\AppData\\\\Local\\\\Temp\\\\ipykernel_31184\\\\3515661714.py\", line 4, in <module>\\n    document = json.loads(payload)\\n               ^^^^^^^^^^^^^^^^^^^\\n  File \"C:\\\\Users\\\\ryans\\\\AppData\\\\Local\\\\Programs\\\\Python\\\\Python311\\\\Lib\\\\json\\\\__init__.py\", line 346, in loads\\n    return _default_decoder.decode(s)\\n           ^^^^^^^^^^^^^^^^^^^^^^^^^^\\n  File \"C:\\\\Users\\\\ryans\\\\AppData\\\\Local\\\\Programs\\\\Python\\\\Python311\\\\Lib\\\\json\\\\decoder.py\", line 337, in decode\\n    obj, end = self.raw_decode(s, idx=_w(s, 0).end())\\n               ^^^^^^^^^^^^^^^^^^^^^^^^^^^^^^^^^^^^^^\\n  File \"C:\\\\Users\\\\ryans\\\\AppData\\\\Local\\\\Programs\\\\Python\\\\Python311\\\\Lib\\\\json\\\\decoder.py\", line 353, in raw_decode\\n    obj, end = self.scan_once(s, idx)\\n               ^^^^^^^^^^^^^^^^^^^^^^\\njson.decoder.JSONDecodeError: Expecting property name enclosed in double quotes: line 1 column 2 (char 1)\\n', 'exception': JSONDecodeError('Expecting property name enclosed in double quotes: line 1 column 2 (char 1)')}\n"
     ]
    },
    {
     "name": "stderr",
     "output_type": "stream",
     "text": [
      "  2%|█▌                                                                     | 22171/1000000 [59:40<93:39:23,  2.90it/s]"
     ]
    },
    {
     "name": "stdout",
     "output_type": "stream",
     "text": [
      "{'traceback': 'Traceback (most recent call last):\\n  File \"C:\\\\Users\\\\ryans\\\\AppData\\\\Local\\\\Temp\\\\ipykernel_31184\\\\3515661714.py\", line 4, in <module>\\n    document = json.loads(payload)\\n               ^^^^^^^^^^^^^^^^^^^\\n  File \"C:\\\\Users\\\\ryans\\\\AppData\\\\Local\\\\Programs\\\\Python\\\\Python311\\\\Lib\\\\json\\\\__init__.py\", line 346, in loads\\n    return _default_decoder.decode(s)\\n           ^^^^^^^^^^^^^^^^^^^^^^^^^^\\n  File \"C:\\\\Users\\\\ryans\\\\AppData\\\\Local\\\\Programs\\\\Python\\\\Python311\\\\Lib\\\\json\\\\decoder.py\", line 337, in decode\\n    obj, end = self.raw_decode(s, idx=_w(s, 0).end())\\n               ^^^^^^^^^^^^^^^^^^^^^^^^^^^^^^^^^^^^^^\\n  File \"C:\\\\Users\\\\ryans\\\\AppData\\\\Local\\\\Programs\\\\Python\\\\Python311\\\\Lib\\\\json\\\\decoder.py\", line 355, in raw_decode\\n    raise JSONDecodeError(\"Expecting value\", s, err.value) from None\\njson.decoder.JSONDecodeError: Expecting value: line 1 column 1 (char 0)\\n', 'exception': JSONDecodeError('Expecting value: line 1 column 1 (char 0)')}\n"
     ]
    },
    {
     "name": "stderr",
     "output_type": "stream",
     "text": [
      "  2%|█▌                                                                    | 22204/1000000 [59:50<139:14:55,  1.95it/s]"
     ]
    },
    {
     "name": "stdout",
     "output_type": "stream",
     "text": [
      "{'traceback': 'Traceback (most recent call last):\\n  File \"C:\\\\Users\\\\ryans\\\\AppData\\\\Local\\\\Temp\\\\ipykernel_31184\\\\3515661714.py\", line 4, in <module>\\n    document = json.loads(payload)\\n               ^^^^^^^^^^^^^^^^^^^\\n  File \"C:\\\\Users\\\\ryans\\\\AppData\\\\Local\\\\Programs\\\\Python\\\\Python311\\\\Lib\\\\json\\\\__init__.py\", line 346, in loads\\n    return _default_decoder.decode(s)\\n           ^^^^^^^^^^^^^^^^^^^^^^^^^^\\n  File \"C:\\\\Users\\\\ryans\\\\AppData\\\\Local\\\\Programs\\\\Python\\\\Python311\\\\Lib\\\\json\\\\decoder.py\", line 337, in decode\\n    obj, end = self.raw_decode(s, idx=_w(s, 0).end())\\n               ^^^^^^^^^^^^^^^^^^^^^^^^^^^^^^^^^^^^^^\\n  File \"C:\\\\Users\\\\ryans\\\\AppData\\\\Local\\\\Programs\\\\Python\\\\Python311\\\\Lib\\\\json\\\\decoder.py\", line 355, in raw_decode\\n    raise JSONDecodeError(\"Expecting value\", s, err.value) from None\\njson.decoder.JSONDecodeError: Expecting value: line 1 column 1 (char 0)\\n', 'exception': JSONDecodeError('Expecting value: line 1 column 1 (char 0)')}\n"
     ]
    },
    {
     "name": "stderr",
     "output_type": "stream",
     "text": [
      "  2%|█▌                                                                     | 22241/1000000 [59:58<59:17:17,  4.58it/s]"
     ]
    },
    {
     "name": "stdout",
     "output_type": "stream",
     "text": [
      "{'traceback': 'Traceback (most recent call last):\\n  File \"C:\\\\Users\\\\ryans\\\\AppData\\\\Local\\\\Temp\\\\ipykernel_31184\\\\3515661714.py\", line 4, in <module>\\n    document = json.loads(payload)\\n               ^^^^^^^^^^^^^^^^^^^\\n  File \"C:\\\\Users\\\\ryans\\\\AppData\\\\Local\\\\Programs\\\\Python\\\\Python311\\\\Lib\\\\json\\\\__init__.py\", line 346, in loads\\n    return _default_decoder.decode(s)\\n           ^^^^^^^^^^^^^^^^^^^^^^^^^^\\n  File \"C:\\\\Users\\\\ryans\\\\AppData\\\\Local\\\\Programs\\\\Python\\\\Python311\\\\Lib\\\\json\\\\decoder.py\", line 337, in decode\\n    obj, end = self.raw_decode(s, idx=_w(s, 0).end())\\n               ^^^^^^^^^^^^^^^^^^^^^^^^^^^^^^^^^^^^^^\\n  File \"C:\\\\Users\\\\ryans\\\\AppData\\\\Local\\\\Programs\\\\Python\\\\Python311\\\\Lib\\\\json\\\\decoder.py\", line 353, in raw_decode\\n    obj, end = self.scan_once(s, idx)\\n               ^^^^^^^^^^^^^^^^^^^^^^\\njson.decoder.JSONDecodeError: Expecting property name enclosed in double quotes: line 1 column 2 (char 1)\\n', 'exception': JSONDecodeError('Expecting property name enclosed in double quotes: line 1 column 2 (char 1)')}\n"
     ]
    },
    {
     "name": "stderr",
     "output_type": "stream",
     "text": [
      "  2%|█▌                                                                   | 22442/1000000 [1:00:51<61:50:37,  4.39it/s]"
     ]
    },
    {
     "name": "stdout",
     "output_type": "stream",
     "text": [
      "{'traceback': 'Traceback (most recent call last):\\n  File \"C:\\\\Users\\\\ryans\\\\AppData\\\\Local\\\\Temp\\\\ipykernel_31184\\\\3515661714.py\", line 4, in <module>\\n    document = json.loads(payload)\\n               ^^^^^^^^^^^^^^^^^^^\\n  File \"C:\\\\Users\\\\ryans\\\\AppData\\\\Local\\\\Programs\\\\Python\\\\Python311\\\\Lib\\\\json\\\\__init__.py\", line 346, in loads\\n    return _default_decoder.decode(s)\\n           ^^^^^^^^^^^^^^^^^^^^^^^^^^\\n  File \"C:\\\\Users\\\\ryans\\\\AppData\\\\Local\\\\Programs\\\\Python\\\\Python311\\\\Lib\\\\json\\\\decoder.py\", line 337, in decode\\n    obj, end = self.raw_decode(s, idx=_w(s, 0).end())\\n               ^^^^^^^^^^^^^^^^^^^^^^^^^^^^^^^^^^^^^^\\n  File \"C:\\\\Users\\\\ryans\\\\AppData\\\\Local\\\\Programs\\\\Python\\\\Python311\\\\Lib\\\\json\\\\decoder.py\", line 353, in raw_decode\\n    obj, end = self.scan_once(s, idx)\\n               ^^^^^^^^^^^^^^^^^^^^^^\\njson.decoder.JSONDecodeError: Expecting property name enclosed in double quotes: line 1 column 2 (char 1)\\n', 'exception': JSONDecodeError('Expecting property name enclosed in double quotes: line 1 column 2 (char 1)')}\n"
     ]
    },
    {
     "name": "stderr",
     "output_type": "stream",
     "text": [
      "  2%|█▌                                                                   | 22614/1000000 [1:01:39<57:59:24,  4.68it/s]"
     ]
    },
    {
     "name": "stdout",
     "output_type": "stream",
     "text": [
      "{'traceback': 'Traceback (most recent call last):\\n  File \"C:\\\\Users\\\\ryans\\\\AppData\\\\Local\\\\Temp\\\\ipykernel_31184\\\\3515661714.py\", line 4, in <module>\\n    document = json.loads(payload)\\n               ^^^^^^^^^^^^^^^^^^^\\n  File \"C:\\\\Users\\\\ryans\\\\AppData\\\\Local\\\\Programs\\\\Python\\\\Python311\\\\Lib\\\\json\\\\__init__.py\", line 346, in loads\\n    return _default_decoder.decode(s)\\n           ^^^^^^^^^^^^^^^^^^^^^^^^^^\\n  File \"C:\\\\Users\\\\ryans\\\\AppData\\\\Local\\\\Programs\\\\Python\\\\Python311\\\\Lib\\\\json\\\\decoder.py\", line 337, in decode\\n    obj, end = self.raw_decode(s, idx=_w(s, 0).end())\\n               ^^^^^^^^^^^^^^^^^^^^^^^^^^^^^^^^^^^^^^\\n  File \"C:\\\\Users\\\\ryans\\\\AppData\\\\Local\\\\Programs\\\\Python\\\\Python311\\\\Lib\\\\json\\\\decoder.py\", line 353, in raw_decode\\n    obj, end = self.scan_once(s, idx)\\n               ^^^^^^^^^^^^^^^^^^^^^^\\njson.decoder.JSONDecodeError: Expecting property name enclosed in double quotes: line 1 column 2 (char 1)\\n', 'exception': JSONDecodeError('Expecting property name enclosed in double quotes: line 1 column 2 (char 1)')}\n"
     ]
    },
    {
     "name": "stderr",
     "output_type": "stream",
     "text": [
      "  2%|█▌                                                                 | 22669/1000000 [1:02:19<1233:51:02,  4.54s/it]"
     ]
    },
    {
     "name": "stdout",
     "output_type": "stream",
     "text": [
      "{'traceback': 'Traceback (most recent call last):\\n  File \"C:\\\\Users\\\\ryans\\\\source\\\\repos\\\\venv\\\\Python311\\\\Lib\\\\site-packages\\\\urllib3\\\\connection.py\", line 174, in _new_conn\\n    conn = connection.create_connection(\\n           ^^^^^^^^^^^^^^^^^^^^^^^^^^^^^\\n  File \"C:\\\\Users\\\\ryans\\\\source\\\\repos\\\\venv\\\\Python311\\\\Lib\\\\site-packages\\\\urllib3\\\\util\\\\connection.py\", line 95, in create_connection\\n    raise err\\n  File \"C:\\\\Users\\\\ryans\\\\source\\\\repos\\\\venv\\\\Python311\\\\Lib\\\\site-packages\\\\urllib3\\\\util\\\\connection.py\", line 85, in create_connection\\n    sock.connect(sa)\\nTimeoutError: [WinError 10060] A connection attempt failed because the connected party did not properly respond after a period of time, or established connection failed because connected host has failed to respond\\n\\nDuring handling of the above exception, another exception occurred:\\n\\nTraceback (most recent call last):\\n  File \"C:\\\\Users\\\\ryans\\\\source\\\\repos\\\\venv\\\\Python311\\\\Lib\\\\site-packages\\\\urllib3\\\\connectionpool.py\", line 703, in urlopen\\n    httplib_response = self._make_request(\\n                       ^^^^^^^^^^^^^^^^^^^\\n  File \"C:\\\\Users\\\\ryans\\\\source\\\\repos\\\\venv\\\\Python311\\\\Lib\\\\site-packages\\\\urllib3\\\\connectionpool.py\", line 386, in _make_request\\n    self._validate_conn(conn)\\n  File \"C:\\\\Users\\\\ryans\\\\source\\\\repos\\\\venv\\\\Python311\\\\Lib\\\\site-packages\\\\urllib3\\\\connectionpool.py\", line 1042, in _validate_conn\\n    conn.connect()\\n  File \"C:\\\\Users\\\\ryans\\\\source\\\\repos\\\\venv\\\\Python311\\\\Lib\\\\site-packages\\\\urllib3\\\\connection.py\", line 358, in connect\\n    self.sock = conn = self._new_conn()\\n                       ^^^^^^^^^^^^^^^^\\n  File \"C:\\\\Users\\\\ryans\\\\source\\\\repos\\\\venv\\\\Python311\\\\Lib\\\\site-packages\\\\urllib3\\\\connection.py\", line 179, in _new_conn\\n    raise ConnectTimeoutError(\\nurllib3.exceptions.ConnectTimeoutError: (<urllib3.connection.HTTPSConnection object at 0x000002A66C1B3750>, \\'Connection to www.kaggleusercontent.com timed out. (connect timeout=None)\\')\\n\\nDuring handling of the above exception, another exception occurred:\\n\\nTraceback (most recent call last):\\n  File \"C:\\\\Users\\\\ryans\\\\source\\\\repos\\\\venv\\\\Python311\\\\Lib\\\\site-packages\\\\requests\\\\adapters.py\", line 489, in send\\n    resp = conn.urlopen(\\n           ^^^^^^^^^^^^^\\n  File \"C:\\\\Users\\\\ryans\\\\source\\\\repos\\\\venv\\\\Python311\\\\Lib\\\\site-packages\\\\urllib3\\\\connectionpool.py\", line 787, in urlopen\\n    retries = retries.increment(\\n              ^^^^^^^^^^^^^^^^^^\\n  File \"C:\\\\Users\\\\ryans\\\\source\\\\repos\\\\venv\\\\Python311\\\\Lib\\\\site-packages\\\\urllib3\\\\util\\\\retry.py\", line 592, in increment\\n    raise MaxRetryError(_pool, url, error or ResponseError(cause))\\nurllib3.exceptions.MaxRetryError: HTTPSConnectionPool(host=\\'www.kaggleusercontent.com\\', port=443): Max retries exceeded with url: /episodes/45885512.json (Caused by ConnectTimeoutError(<urllib3.connection.HTTPSConnection object at 0x000002A66C1B3750>, \\'Connection to www.kaggleusercontent.com timed out. (connect timeout=None)\\'))\\n\\nDuring handling of the above exception, another exception occurred:\\n\\nTraceback (most recent call last):\\n  File \"C:\\\\Users\\\\ryans\\\\AppData\\\\Local\\\\Temp\\\\ipykernel_31184\\\\3515661714.py\", line 3, in <module>\\n    payload = requests.get(f\\'https://www.kaggleusercontent.com/episodes/{starting_point-i}.json\\').text\\n              ^^^^^^^^^^^^^^^^^^^^^^^^^^^^^^^^^^^^^^^^^^^^^^^^^^^^^^^^^^^^^^^^^^^^^^^^^^^^^^^^^^^\\n  File \"C:\\\\Users\\\\ryans\\\\source\\\\repos\\\\venv\\\\Python311\\\\Lib\\\\site-packages\\\\requests\\\\api.py\", line 73, in get\\n    return request(\"get\", url, params=params, **kwargs)\\n           ^^^^^^^^^^^^^^^^^^^^^^^^^^^^^^^^^^^^^^^^^^^^\\n  File \"C:\\\\Users\\\\ryans\\\\source\\\\repos\\\\venv\\\\Python311\\\\Lib\\\\site-packages\\\\requests\\\\api.py\", line 59, in request\\n    return session.request(method=method, url=url, **kwargs)\\n           ^^^^^^^^^^^^^^^^^^^^^^^^^^^^^^^^^^^^^^^^^^^^^^^^^\\n  File \"C:\\\\Users\\\\ryans\\\\source\\\\repos\\\\venv\\\\Python311\\\\Lib\\\\site-packages\\\\requests\\\\sessions.py\", line 587, in request\\n    resp = self.send(prep, **send_kwargs)\\n           ^^^^^^^^^^^^^^^^^^^^^^^^^^^^^^\\n  File \"C:\\\\Users\\\\ryans\\\\source\\\\repos\\\\venv\\\\Python311\\\\Lib\\\\site-packages\\\\requests\\\\sessions.py\", line 701, in send\\n    r = adapter.send(request, **kwargs)\\n        ^^^^^^^^^^^^^^^^^^^^^^^^^^^^^^^\\n  File \"C:\\\\Users\\\\ryans\\\\source\\\\repos\\\\venv\\\\Python311\\\\Lib\\\\site-packages\\\\requests\\\\adapters.py\", line 553, in send\\n    raise ConnectTimeout(e, request=request)\\nrequests.exceptions.ConnectTimeout: HTTPSConnectionPool(host=\\'www.kaggleusercontent.com\\', port=443): Max retries exceeded with url: /episodes/45885512.json (Caused by ConnectTimeoutError(<urllib3.connection.HTTPSConnection object at 0x000002A66C1B3750>, \\'Connection to www.kaggleusercontent.com timed out. (connect timeout=None)\\'))\\n', 'exception': ConnectTimeout(MaxRetryError(\"HTTPSConnectionPool(host='www.kaggleusercontent.com', port=443): Max retries exceeded with url: /episodes/45885512.json (Caused by ConnectTimeoutError(<urllib3.connection.HTTPSConnection object at 0x000002A66C1B3750>, 'Connection to www.kaggleusercontent.com timed out. (connect timeout=None)'))\"))}\n"
     ]
    },
    {
     "name": "stderr",
     "output_type": "stream",
     "text": [
      "  2%|█▌                                                                   | 22973/1000000 [1:03:44<79:27:50,  3.42it/s]"
     ]
    },
    {
     "name": "stdout",
     "output_type": "stream",
     "text": [
      "{'traceback': 'Traceback (most recent call last):\\n  File \"C:\\\\Users\\\\ryans\\\\AppData\\\\Local\\\\Temp\\\\ipykernel_31184\\\\3515661714.py\", line 4, in <module>\\n    document = json.loads(payload)\\n               ^^^^^^^^^^^^^^^^^^^\\n  File \"C:\\\\Users\\\\ryans\\\\AppData\\\\Local\\\\Programs\\\\Python\\\\Python311\\\\Lib\\\\json\\\\__init__.py\", line 346, in loads\\n    return _default_decoder.decode(s)\\n           ^^^^^^^^^^^^^^^^^^^^^^^^^^\\n  File \"C:\\\\Users\\\\ryans\\\\AppData\\\\Local\\\\Programs\\\\Python\\\\Python311\\\\Lib\\\\json\\\\decoder.py\", line 337, in decode\\n    obj, end = self.raw_decode(s, idx=_w(s, 0).end())\\n               ^^^^^^^^^^^^^^^^^^^^^^^^^^^^^^^^^^^^^^\\n  File \"C:\\\\Users\\\\ryans\\\\AppData\\\\Local\\\\Programs\\\\Python\\\\Python311\\\\Lib\\\\json\\\\decoder.py\", line 353, in raw_decode\\n    obj, end = self.scan_once(s, idx)\\n               ^^^^^^^^^^^^^^^^^^^^^^\\njson.decoder.JSONDecodeError: Expecting property name enclosed in double quotes: line 1 column 2 (char 1)\\n', 'exception': JSONDecodeError('Expecting property name enclosed in double quotes: line 1 column 2 (char 1)')}\n"
     ]
    },
    {
     "name": "stderr",
     "output_type": "stream",
     "text": [
      "  2%|█▌                                                                  | 23140/1000000 [1:04:29<127:36:31,  2.13it/s]"
     ]
    },
    {
     "name": "stdout",
     "output_type": "stream",
     "text": [
      "{'traceback': 'Traceback (most recent call last):\\n  File \"C:\\\\Users\\\\ryans\\\\AppData\\\\Local\\\\Temp\\\\ipykernel_31184\\\\3515661714.py\", line 4, in <module>\\n    document = json.loads(payload)\\n               ^^^^^^^^^^^^^^^^^^^\\n  File \"C:\\\\Users\\\\ryans\\\\AppData\\\\Local\\\\Programs\\\\Python\\\\Python311\\\\Lib\\\\json\\\\__init__.py\", line 346, in loads\\n    return _default_decoder.decode(s)\\n           ^^^^^^^^^^^^^^^^^^^^^^^^^^\\n  File \"C:\\\\Users\\\\ryans\\\\AppData\\\\Local\\\\Programs\\\\Python\\\\Python311\\\\Lib\\\\json\\\\decoder.py\", line 337, in decode\\n    obj, end = self.raw_decode(s, idx=_w(s, 0).end())\\n               ^^^^^^^^^^^^^^^^^^^^^^^^^^^^^^^^^^^^^^\\n  File \"C:\\\\Users\\\\ryans\\\\AppData\\\\Local\\\\Programs\\\\Python\\\\Python311\\\\Lib\\\\json\\\\decoder.py\", line 355, in raw_decode\\n    raise JSONDecodeError(\"Expecting value\", s, err.value) from None\\njson.decoder.JSONDecodeError: Expecting value: line 1 column 1 (char 0)\\n', 'exception': JSONDecodeError('Expecting value: line 1 column 1 (char 0)')}\n"
     ]
    },
    {
     "name": "stderr",
     "output_type": "stream",
     "text": [
      "  2%|█▌                                                                   | 23219/1000000 [1:04:52<62:10:53,  4.36it/s]"
     ]
    },
    {
     "name": "stdout",
     "output_type": "stream",
     "text": [
      "{'traceback': 'Traceback (most recent call last):\\n  File \"C:\\\\Users\\\\ryans\\\\AppData\\\\Local\\\\Temp\\\\ipykernel_31184\\\\3515661714.py\", line 4, in <module>\\n    document = json.loads(payload)\\n               ^^^^^^^^^^^^^^^^^^^\\n  File \"C:\\\\Users\\\\ryans\\\\AppData\\\\Local\\\\Programs\\\\Python\\\\Python311\\\\Lib\\\\json\\\\__init__.py\", line 346, in loads\\n    return _default_decoder.decode(s)\\n           ^^^^^^^^^^^^^^^^^^^^^^^^^^\\n  File \"C:\\\\Users\\\\ryans\\\\AppData\\\\Local\\\\Programs\\\\Python\\\\Python311\\\\Lib\\\\json\\\\decoder.py\", line 337, in decode\\n    obj, end = self.raw_decode(s, idx=_w(s, 0).end())\\n               ^^^^^^^^^^^^^^^^^^^^^^^^^^^^^^^^^^^^^^\\n  File \"C:\\\\Users\\\\ryans\\\\AppData\\\\Local\\\\Programs\\\\Python\\\\Python311\\\\Lib\\\\json\\\\decoder.py\", line 353, in raw_decode\\n    obj, end = self.scan_once(s, idx)\\n               ^^^^^^^^^^^^^^^^^^^^^^\\njson.decoder.JSONDecodeError: Expecting property name enclosed in double quotes: line 1 column 2 (char 1)\\n', 'exception': JSONDecodeError('Expecting property name enclosed in double quotes: line 1 column 2 (char 1)')}\n"
     ]
    },
    {
     "name": "stderr",
     "output_type": "stream",
     "text": [
      "  2%|█▌                                                                 | 23445/1000000 [1:06:11<1129:44:28,  4.16s/it]"
     ]
    },
    {
     "name": "stdout",
     "output_type": "stream",
     "text": [
      "{'traceback': 'Traceback (most recent call last):\\n  File \"C:\\\\Users\\\\ryans\\\\source\\\\repos\\\\venv\\\\Python311\\\\Lib\\\\site-packages\\\\urllib3\\\\connectionpool.py\", line 386, in _make_request\\n    self._validate_conn(conn)\\n  File \"C:\\\\Users\\\\ryans\\\\source\\\\repos\\\\venv\\\\Python311\\\\Lib\\\\site-packages\\\\urllib3\\\\connectionpool.py\", line 1042, in _validate_conn\\n    conn.connect()\\n  File \"C:\\\\Users\\\\ryans\\\\source\\\\repos\\\\venv\\\\Python311\\\\Lib\\\\site-packages\\\\urllib3\\\\connection.py\", line 414, in connect\\n    self.sock = ssl_wrap_socket(\\n                ^^^^^^^^^^^^^^^^\\n  File \"C:\\\\Users\\\\ryans\\\\source\\\\repos\\\\venv\\\\Python311\\\\Lib\\\\site-packages\\\\urllib3\\\\util\\\\ssl_.py\", line 449, in ssl_wrap_socket\\n    ssl_sock = _ssl_wrap_socket_impl(\\n               ^^^^^^^^^^^^^^^^^^^^^^\\n  File \"C:\\\\Users\\\\ryans\\\\source\\\\repos\\\\venv\\\\Python311\\\\Lib\\\\site-packages\\\\urllib3\\\\util\\\\ssl_.py\", line 493, in _ssl_wrap_socket_impl\\n    return ssl_context.wrap_socket(sock, server_hostname=server_hostname)\\n           ^^^^^^^^^^^^^^^^^^^^^^^^^^^^^^^^^^^^^^^^^^^^^^^^^^^^^^^^^^^^^^\\n  File \"C:\\\\Users\\\\ryans\\\\AppData\\\\Local\\\\Programs\\\\Python\\\\Python311\\\\Lib\\\\ssl.py\", line 517, in wrap_socket\\n    return self.sslsocket_class._create(\\n           ^^^^^^^^^^^^^^^^^^^^^^^^^^^^^\\n  File \"C:\\\\Users\\\\ryans\\\\AppData\\\\Local\\\\Programs\\\\Python\\\\Python311\\\\Lib\\\\ssl.py\", line 1075, in _create\\n    self.do_handshake()\\n  File \"C:\\\\Users\\\\ryans\\\\AppData\\\\Local\\\\Programs\\\\Python\\\\Python311\\\\Lib\\\\ssl.py\", line 1346, in do_handshake\\n    self._sslobj.do_handshake()\\nTimeoutError: [WinError 10060] A connection attempt failed because the connected party did not properly respond after a period of time, or established connection failed because connected host has failed to respond\\n\\nDuring handling of the above exception, another exception occurred:\\n\\nTraceback (most recent call last):\\n  File \"C:\\\\Users\\\\ryans\\\\source\\\\repos\\\\venv\\\\Python311\\\\Lib\\\\site-packages\\\\requests\\\\adapters.py\", line 489, in send\\n    resp = conn.urlopen(\\n           ^^^^^^^^^^^^^\\n  File \"C:\\\\Users\\\\ryans\\\\source\\\\repos\\\\venv\\\\Python311\\\\Lib\\\\site-packages\\\\urllib3\\\\connectionpool.py\", line 787, in urlopen\\n    retries = retries.increment(\\n              ^^^^^^^^^^^^^^^^^^\\n  File \"C:\\\\Users\\\\ryans\\\\source\\\\repos\\\\venv\\\\Python311\\\\Lib\\\\site-packages\\\\urllib3\\\\util\\\\retry.py\", line 550, in increment\\n    raise six.reraise(type(error), error, _stacktrace)\\n          ^^^^^^^^^^^^^^^^^^^^^^^^^^^^^^^^^^^^^^^^^^^^\\n  File \"C:\\\\Users\\\\ryans\\\\source\\\\repos\\\\venv\\\\Python311\\\\Lib\\\\site-packages\\\\urllib3\\\\packages\\\\six.py\", line 770, in reraise\\n    raise value\\n  File \"C:\\\\Users\\\\ryans\\\\source\\\\repos\\\\venv\\\\Python311\\\\Lib\\\\site-packages\\\\urllib3\\\\connectionpool.py\", line 703, in urlopen\\n    httplib_response = self._make_request(\\n                       ^^^^^^^^^^^^^^^^^^^\\n  File \"C:\\\\Users\\\\ryans\\\\source\\\\repos\\\\venv\\\\Python311\\\\Lib\\\\site-packages\\\\urllib3\\\\connectionpool.py\", line 389, in _make_request\\n    self._raise_timeout(err=e, url=url, timeout_value=conn.timeout)\\n  File \"C:\\\\Users\\\\ryans\\\\source\\\\repos\\\\venv\\\\Python311\\\\Lib\\\\site-packages\\\\urllib3\\\\connectionpool.py\", line 340, in _raise_timeout\\n    raise ReadTimeoutError(\\nurllib3.exceptions.ReadTimeoutError: HTTPSConnectionPool(host=\\'www.kaggleusercontent.com\\', port=443): Read timed out. (read timeout=None)\\n\\nDuring handling of the above exception, another exception occurred:\\n\\nTraceback (most recent call last):\\n  File \"C:\\\\Users\\\\ryans\\\\AppData\\\\Local\\\\Temp\\\\ipykernel_31184\\\\3515661714.py\", line 3, in <module>\\n    payload = requests.get(f\\'https://www.kaggleusercontent.com/episodes/{starting_point-i}.json\\').text\\n              ^^^^^^^^^^^^^^^^^^^^^^^^^^^^^^^^^^^^^^^^^^^^^^^^^^^^^^^^^^^^^^^^^^^^^^^^^^^^^^^^^^^\\n  File \"C:\\\\Users\\\\ryans\\\\source\\\\repos\\\\venv\\\\Python311\\\\Lib\\\\site-packages\\\\requests\\\\api.py\", line 73, in get\\n    return request(\"get\", url, params=params, **kwargs)\\n           ^^^^^^^^^^^^^^^^^^^^^^^^^^^^^^^^^^^^^^^^^^^^\\n  File \"C:\\\\Users\\\\ryans\\\\source\\\\repos\\\\venv\\\\Python311\\\\Lib\\\\site-packages\\\\requests\\\\api.py\", line 59, in request\\n    return session.request(method=method, url=url, **kwargs)\\n           ^^^^^^^^^^^^^^^^^^^^^^^^^^^^^^^^^^^^^^^^^^^^^^^^^\\n  File \"C:\\\\Users\\\\ryans\\\\source\\\\repos\\\\venv\\\\Python311\\\\Lib\\\\site-packages\\\\requests\\\\sessions.py\", line 587, in request\\n    resp = self.send(prep, **send_kwargs)\\n           ^^^^^^^^^^^^^^^^^^^^^^^^^^^^^^\\n  File \"C:\\\\Users\\\\ryans\\\\source\\\\repos\\\\venv\\\\Python311\\\\Lib\\\\site-packages\\\\requests\\\\sessions.py\", line 701, in send\\n    r = adapter.send(request, **kwargs)\\n        ^^^^^^^^^^^^^^^^^^^^^^^^^^^^^^^\\n  File \"C:\\\\Users\\\\ryans\\\\source\\\\repos\\\\venv\\\\Python311\\\\Lib\\\\site-packages\\\\requests\\\\adapters.py\", line 578, in send\\n    raise ReadTimeout(e, request=request)\\nrequests.exceptions.ReadTimeout: HTTPSConnectionPool(host=\\'www.kaggleusercontent.com\\', port=443): Read timed out. (read timeout=None)\\n', 'exception': ReadTimeout(ReadTimeoutError(\"HTTPSConnectionPool(host='www.kaggleusercontent.com', port=443): Read timed out. (read timeout=None)\"))}\n"
     ]
    },
    {
     "name": "stderr",
     "output_type": "stream",
     "text": [
      "  2%|█▌                                                                  | 23495/1000000 [1:06:27<156:43:45,  1.73it/s]"
     ]
    },
    {
     "name": "stdout",
     "output_type": "stream",
     "text": [
      "{'traceback': 'Traceback (most recent call last):\\n  File \"C:\\\\Users\\\\ryans\\\\AppData\\\\Local\\\\Temp\\\\ipykernel_31184\\\\3515661714.py\", line 4, in <module>\\n    document = json.loads(payload)\\n               ^^^^^^^^^^^^^^^^^^^\\n  File \"C:\\\\Users\\\\ryans\\\\AppData\\\\Local\\\\Programs\\\\Python\\\\Python311\\\\Lib\\\\json\\\\__init__.py\", line 346, in loads\\n    return _default_decoder.decode(s)\\n           ^^^^^^^^^^^^^^^^^^^^^^^^^^\\n  File \"C:\\\\Users\\\\ryans\\\\AppData\\\\Local\\\\Programs\\\\Python\\\\Python311\\\\Lib\\\\json\\\\decoder.py\", line 337, in decode\\n    obj, end = self.raw_decode(s, idx=_w(s, 0).end())\\n               ^^^^^^^^^^^^^^^^^^^^^^^^^^^^^^^^^^^^^^\\n  File \"C:\\\\Users\\\\ryans\\\\AppData\\\\Local\\\\Programs\\\\Python\\\\Python311\\\\Lib\\\\json\\\\decoder.py\", line 355, in raw_decode\\n    raise JSONDecodeError(\"Expecting value\", s, err.value) from None\\njson.decoder.JSONDecodeError: Expecting value: line 1 column 1 (char 0)\\n', 'exception': JSONDecodeError('Expecting value: line 1 column 1 (char 0)')}\n"
     ]
    },
    {
     "name": "stderr",
     "output_type": "stream",
     "text": [
      "  2%|█▌                                                                  | 23670/1000000 [1:07:13<132:32:31,  2.05it/s]"
     ]
    },
    {
     "name": "stdout",
     "output_type": "stream",
     "text": [
      "{'traceback': 'Traceback (most recent call last):\\n  File \"C:\\\\Users\\\\ryans\\\\AppData\\\\Local\\\\Temp\\\\ipykernel_31184\\\\3515661714.py\", line 4, in <module>\\n    document = json.loads(payload)\\n               ^^^^^^^^^^^^^^^^^^^\\n  File \"C:\\\\Users\\\\ryans\\\\AppData\\\\Local\\\\Programs\\\\Python\\\\Python311\\\\Lib\\\\json\\\\__init__.py\", line 346, in loads\\n    return _default_decoder.decode(s)\\n           ^^^^^^^^^^^^^^^^^^^^^^^^^^\\n  File \"C:\\\\Users\\\\ryans\\\\AppData\\\\Local\\\\Programs\\\\Python\\\\Python311\\\\Lib\\\\json\\\\decoder.py\", line 337, in decode\\n    obj, end = self.raw_decode(s, idx=_w(s, 0).end())\\n               ^^^^^^^^^^^^^^^^^^^^^^^^^^^^^^^^^^^^^^\\n  File \"C:\\\\Users\\\\ryans\\\\AppData\\\\Local\\\\Programs\\\\Python\\\\Python311\\\\Lib\\\\json\\\\decoder.py\", line 355, in raw_decode\\n    raise JSONDecodeError(\"Expecting value\", s, err.value) from None\\njson.decoder.JSONDecodeError: Expecting value: line 1 column 1 (char 0)\\n', 'exception': JSONDecodeError('Expecting value: line 1 column 1 (char 0)')}\n"
     ]
    },
    {
     "name": "stderr",
     "output_type": "stream",
     "text": [
      "  2%|█▌                                                                  | 23878/1000000 [1:08:13<102:28:37,  2.65it/s]"
     ]
    },
    {
     "name": "stdout",
     "output_type": "stream",
     "text": [
      "{'traceback': 'Traceback (most recent call last):\\n  File \"C:\\\\Users\\\\ryans\\\\AppData\\\\Local\\\\Temp\\\\ipykernel_31184\\\\3515661714.py\", line 4, in <module>\\n    document = json.loads(payload)\\n               ^^^^^^^^^^^^^^^^^^^\\n  File \"C:\\\\Users\\\\ryans\\\\AppData\\\\Local\\\\Programs\\\\Python\\\\Python311\\\\Lib\\\\json\\\\__init__.py\", line 346, in loads\\n    return _default_decoder.decode(s)\\n           ^^^^^^^^^^^^^^^^^^^^^^^^^^\\n  File \"C:\\\\Users\\\\ryans\\\\AppData\\\\Local\\\\Programs\\\\Python\\\\Python311\\\\Lib\\\\json\\\\decoder.py\", line 337, in decode\\n    obj, end = self.raw_decode(s, idx=_w(s, 0).end())\\n               ^^^^^^^^^^^^^^^^^^^^^^^^^^^^^^^^^^^^^^\\n  File \"C:\\\\Users\\\\ryans\\\\AppData\\\\Local\\\\Programs\\\\Python\\\\Python311\\\\Lib\\\\json\\\\decoder.py\", line 353, in raw_decode\\n    obj, end = self.scan_once(s, idx)\\n               ^^^^^^^^^^^^^^^^^^^^^^\\njson.decoder.JSONDecodeError: Expecting property name enclosed in double quotes: line 1 column 2 (char 1)\\n', 'exception': JSONDecodeError('Expecting property name enclosed in double quotes: line 1 column 2 (char 1)')}\n"
     ]
    },
    {
     "name": "stderr",
     "output_type": "stream",
     "text": [
      "  2%|█▌                                                                  | 23886/1000000 [1:08:17<135:28:51,  2.00it/s]"
     ]
    },
    {
     "name": "stdout",
     "output_type": "stream",
     "text": [
      "{'traceback': 'Traceback (most recent call last):\\n  File \"C:\\\\Users\\\\ryans\\\\AppData\\\\Local\\\\Temp\\\\ipykernel_31184\\\\3515661714.py\", line 4, in <module>\\n    document = json.loads(payload)\\n               ^^^^^^^^^^^^^^^^^^^\\n  File \"C:\\\\Users\\\\ryans\\\\AppData\\\\Local\\\\Programs\\\\Python\\\\Python311\\\\Lib\\\\json\\\\__init__.py\", line 346, in loads\\n    return _default_decoder.decode(s)\\n           ^^^^^^^^^^^^^^^^^^^^^^^^^^\\n  File \"C:\\\\Users\\\\ryans\\\\AppData\\\\Local\\\\Programs\\\\Python\\\\Python311\\\\Lib\\\\json\\\\decoder.py\", line 337, in decode\\n    obj, end = self.raw_decode(s, idx=_w(s, 0).end())\\n               ^^^^^^^^^^^^^^^^^^^^^^^^^^^^^^^^^^^^^^\\n  File \"C:\\\\Users\\\\ryans\\\\AppData\\\\Local\\\\Programs\\\\Python\\\\Python311\\\\Lib\\\\json\\\\decoder.py\", line 355, in raw_decode\\n    raise JSONDecodeError(\"Expecting value\", s, err.value) from None\\njson.decoder.JSONDecodeError: Expecting value: line 1 column 1 (char 0)\\n', 'exception': JSONDecodeError('Expecting value: line 1 column 1 (char 0)')}\n"
     ]
    },
    {
     "name": "stderr",
     "output_type": "stream",
     "text": [
      "  2%|█▋                                                                   | 23951/1000000 [1:08:32<53:47:52,  5.04it/s]"
     ]
    },
    {
     "name": "stdout",
     "output_type": "stream",
     "text": [
      "{'traceback': 'Traceback (most recent call last):\\n  File \"C:\\\\Users\\\\ryans\\\\AppData\\\\Local\\\\Temp\\\\ipykernel_31184\\\\3515661714.py\", line 4, in <module>\\n    document = json.loads(payload)\\n               ^^^^^^^^^^^^^^^^^^^\\n  File \"C:\\\\Users\\\\ryans\\\\AppData\\\\Local\\\\Programs\\\\Python\\\\Python311\\\\Lib\\\\json\\\\__init__.py\", line 346, in loads\\n    return _default_decoder.decode(s)\\n           ^^^^^^^^^^^^^^^^^^^^^^^^^^\\n  File \"C:\\\\Users\\\\ryans\\\\AppData\\\\Local\\\\Programs\\\\Python\\\\Python311\\\\Lib\\\\json\\\\decoder.py\", line 337, in decode\\n    obj, end = self.raw_decode(s, idx=_w(s, 0).end())\\n               ^^^^^^^^^^^^^^^^^^^^^^^^^^^^^^^^^^^^^^\\n  File \"C:\\\\Users\\\\ryans\\\\AppData\\\\Local\\\\Programs\\\\Python\\\\Python311\\\\Lib\\\\json\\\\decoder.py\", line 353, in raw_decode\\n    obj, end = self.scan_once(s, idx)\\n               ^^^^^^^^^^^^^^^^^^^^^^\\njson.decoder.JSONDecodeError: Expecting property name enclosed in double quotes: line 1 column 2 (char 1)\\n', 'exception': JSONDecodeError('Expecting property name enclosed in double quotes: line 1 column 2 (char 1)')}\n"
     ]
    },
    {
     "name": "stderr",
     "output_type": "stream",
     "text": [
      "  2%|█▋                                                                  | 24054/1000000 [1:08:59<156:43:55,  1.73it/s]"
     ]
    },
    {
     "name": "stdout",
     "output_type": "stream",
     "text": [
      "{'traceback': 'Traceback (most recent call last):\\n  File \"C:\\\\Users\\\\ryans\\\\AppData\\\\Local\\\\Temp\\\\ipykernel_31184\\\\3515661714.py\", line 4, in <module>\\n    document = json.loads(payload)\\n               ^^^^^^^^^^^^^^^^^^^\\n  File \"C:\\\\Users\\\\ryans\\\\AppData\\\\Local\\\\Programs\\\\Python\\\\Python311\\\\Lib\\\\json\\\\__init__.py\", line 346, in loads\\n    return _default_decoder.decode(s)\\n           ^^^^^^^^^^^^^^^^^^^^^^^^^^\\n  File \"C:\\\\Users\\\\ryans\\\\AppData\\\\Local\\\\Programs\\\\Python\\\\Python311\\\\Lib\\\\json\\\\decoder.py\", line 337, in decode\\n    obj, end = self.raw_decode(s, idx=_w(s, 0).end())\\n               ^^^^^^^^^^^^^^^^^^^^^^^^^^^^^^^^^^^^^^\\n  File \"C:\\\\Users\\\\ryans\\\\AppData\\\\Local\\\\Programs\\\\Python\\\\Python311\\\\Lib\\\\json\\\\decoder.py\", line 353, in raw_decode\\n    obj, end = self.scan_once(s, idx)\\n               ^^^^^^^^^^^^^^^^^^^^^^\\njson.decoder.JSONDecodeError: Expecting property name enclosed in double quotes: line 1 column 2 (char 1)\\n', 'exception': JSONDecodeError('Expecting property name enclosed in double quotes: line 1 column 2 (char 1)')}\n"
     ]
    },
    {
     "name": "stderr",
     "output_type": "stream",
     "text": [
      "  2%|█▋                                                                  | 24233/1000000 [1:09:49<134:15:50,  2.02it/s]"
     ]
    },
    {
     "name": "stdout",
     "output_type": "stream",
     "text": [
      "{'traceback': 'Traceback (most recent call last):\\n  File \"C:\\\\Users\\\\ryans\\\\AppData\\\\Local\\\\Temp\\\\ipykernel_31184\\\\3515661714.py\", line 4, in <module>\\n    document = json.loads(payload)\\n               ^^^^^^^^^^^^^^^^^^^\\n  File \"C:\\\\Users\\\\ryans\\\\AppData\\\\Local\\\\Programs\\\\Python\\\\Python311\\\\Lib\\\\json\\\\__init__.py\", line 346, in loads\\n    return _default_decoder.decode(s)\\n           ^^^^^^^^^^^^^^^^^^^^^^^^^^\\n  File \"C:\\\\Users\\\\ryans\\\\AppData\\\\Local\\\\Programs\\\\Python\\\\Python311\\\\Lib\\\\json\\\\decoder.py\", line 337, in decode\\n    obj, end = self.raw_decode(s, idx=_w(s, 0).end())\\n               ^^^^^^^^^^^^^^^^^^^^^^^^^^^^^^^^^^^^^^\\n  File \"C:\\\\Users\\\\ryans\\\\AppData\\\\Local\\\\Programs\\\\Python\\\\Python311\\\\Lib\\\\json\\\\decoder.py\", line 353, in raw_decode\\n    obj, end = self.scan_once(s, idx)\\n               ^^^^^^^^^^^^^^^^^^^^^^\\njson.decoder.JSONDecodeError: Expecting property name enclosed in double quotes: line 1 column 2 (char 1)\\n', 'exception': JSONDecodeError('Expecting property name enclosed in double quotes: line 1 column 2 (char 1)')}\n"
     ]
    },
    {
     "name": "stderr",
     "output_type": "stream",
     "text": [
      "  2%|█▋                                                                   | 24328/1000000 [1:10:14<42:13:23,  6.42it/s]"
     ]
    },
    {
     "name": "stdout",
     "output_type": "stream",
     "text": [
      "{'traceback': 'Traceback (most recent call last):\\n  File \"C:\\\\Users\\\\ryans\\\\AppData\\\\Local\\\\Temp\\\\ipykernel_31184\\\\3515661714.py\", line 4, in <module>\\n    document = json.loads(payload)\\n               ^^^^^^^^^^^^^^^^^^^\\n  File \"C:\\\\Users\\\\ryans\\\\AppData\\\\Local\\\\Programs\\\\Python\\\\Python311\\\\Lib\\\\json\\\\__init__.py\", line 346, in loads\\n    return _default_decoder.decode(s)\\n           ^^^^^^^^^^^^^^^^^^^^^^^^^^\\n  File \"C:\\\\Users\\\\ryans\\\\AppData\\\\Local\\\\Programs\\\\Python\\\\Python311\\\\Lib\\\\json\\\\decoder.py\", line 337, in decode\\n    obj, end = self.raw_decode(s, idx=_w(s, 0).end())\\n               ^^^^^^^^^^^^^^^^^^^^^^^^^^^^^^^^^^^^^^\\n  File \"C:\\\\Users\\\\ryans\\\\AppData\\\\Local\\\\Programs\\\\Python\\\\Python311\\\\Lib\\\\json\\\\decoder.py\", line 355, in raw_decode\\n    raise JSONDecodeError(\"Expecting value\", s, err.value) from None\\njson.decoder.JSONDecodeError: Expecting value: line 1 column 1 (char 0)\\n', 'exception': JSONDecodeError('Expecting value: line 1 column 1 (char 0)')}\n"
     ]
    },
    {
     "name": "stderr",
     "output_type": "stream",
     "text": [
      "  2%|█▋                                                                   | 24364/1000000 [1:10:22<40:16:36,  6.73it/s]"
     ]
    },
    {
     "name": "stdout",
     "output_type": "stream",
     "text": [
      "{'traceback': 'Traceback (most recent call last):\\n  File \"C:\\\\Users\\\\ryans\\\\AppData\\\\Local\\\\Temp\\\\ipykernel_31184\\\\3515661714.py\", line 4, in <module>\\n    document = json.loads(payload)\\n               ^^^^^^^^^^^^^^^^^^^\\n  File \"C:\\\\Users\\\\ryans\\\\AppData\\\\Local\\\\Programs\\\\Python\\\\Python311\\\\Lib\\\\json\\\\__init__.py\", line 346, in loads\\n    return _default_decoder.decode(s)\\n           ^^^^^^^^^^^^^^^^^^^^^^^^^^\\n  File \"C:\\\\Users\\\\ryans\\\\AppData\\\\Local\\\\Programs\\\\Python\\\\Python311\\\\Lib\\\\json\\\\decoder.py\", line 337, in decode\\n    obj, end = self.raw_decode(s, idx=_w(s, 0).end())\\n               ^^^^^^^^^^^^^^^^^^^^^^^^^^^^^^^^^^^^^^\\n  File \"C:\\\\Users\\\\ryans\\\\AppData\\\\Local\\\\Programs\\\\Python\\\\Python311\\\\Lib\\\\json\\\\decoder.py\", line 355, in raw_decode\\n    raise JSONDecodeError(\"Expecting value\", s, err.value) from None\\njson.decoder.JSONDecodeError: Expecting value: line 1 column 1 (char 0)\\n', 'exception': JSONDecodeError('Expecting value: line 1 column 1 (char 0)')}\n"
     ]
    },
    {
     "name": "stderr",
     "output_type": "stream",
     "text": [
      "  2%|█▋                                                                   | 24689/1000000 [1:11:55<48:28:49,  5.59it/s]"
     ]
    },
    {
     "name": "stdout",
     "output_type": "stream",
     "text": [
      "{'traceback': 'Traceback (most recent call last):\\n  File \"C:\\\\Users\\\\ryans\\\\AppData\\\\Local\\\\Temp\\\\ipykernel_31184\\\\3515661714.py\", line 4, in <module>\\n    document = json.loads(payload)\\n               ^^^^^^^^^^^^^^^^^^^\\n  File \"C:\\\\Users\\\\ryans\\\\AppData\\\\Local\\\\Programs\\\\Python\\\\Python311\\\\Lib\\\\json\\\\__init__.py\", line 346, in loads\\n    return _default_decoder.decode(s)\\n           ^^^^^^^^^^^^^^^^^^^^^^^^^^\\n  File \"C:\\\\Users\\\\ryans\\\\AppData\\\\Local\\\\Programs\\\\Python\\\\Python311\\\\Lib\\\\json\\\\decoder.py\", line 337, in decode\\n    obj, end = self.raw_decode(s, idx=_w(s, 0).end())\\n               ^^^^^^^^^^^^^^^^^^^^^^^^^^^^^^^^^^^^^^\\n  File \"C:\\\\Users\\\\ryans\\\\AppData\\\\Local\\\\Programs\\\\Python\\\\Python311\\\\Lib\\\\json\\\\decoder.py\", line 353, in raw_decode\\n    obj, end = self.scan_once(s, idx)\\n               ^^^^^^^^^^^^^^^^^^^^^^\\njson.decoder.JSONDecodeError: Expecting property name enclosed in double quotes: line 1 column 2 (char 1)\\n', 'exception': JSONDecodeError('Expecting property name enclosed in double quotes: line 1 column 2 (char 1)')}\n"
     ]
    },
    {
     "name": "stderr",
     "output_type": "stream",
     "text": [
      "  2%|█▋                                                                   | 24934/1000000 [1:12:58<89:05:26,  3.04it/s]"
     ]
    },
    {
     "name": "stdout",
     "output_type": "stream",
     "text": [
      "{'traceback': 'Traceback (most recent call last):\\n  File \"C:\\\\Users\\\\ryans\\\\AppData\\\\Local\\\\Temp\\\\ipykernel_31184\\\\3515661714.py\", line 4, in <module>\\n    document = json.loads(payload)\\n               ^^^^^^^^^^^^^^^^^^^\\n  File \"C:\\\\Users\\\\ryans\\\\AppData\\\\Local\\\\Programs\\\\Python\\\\Python311\\\\Lib\\\\json\\\\__init__.py\", line 346, in loads\\n    return _default_decoder.decode(s)\\n           ^^^^^^^^^^^^^^^^^^^^^^^^^^\\n  File \"C:\\\\Users\\\\ryans\\\\AppData\\\\Local\\\\Programs\\\\Python\\\\Python311\\\\Lib\\\\json\\\\decoder.py\", line 337, in decode\\n    obj, end = self.raw_decode(s, idx=_w(s, 0).end())\\n               ^^^^^^^^^^^^^^^^^^^^^^^^^^^^^^^^^^^^^^\\n  File \"C:\\\\Users\\\\ryans\\\\AppData\\\\Local\\\\Programs\\\\Python\\\\Python311\\\\Lib\\\\json\\\\decoder.py\", line 355, in raw_decode\\n    raise JSONDecodeError(\"Expecting value\", s, err.value) from None\\njson.decoder.JSONDecodeError: Expecting value: line 1 column 1 (char 0)\\n', 'exception': JSONDecodeError('Expecting value: line 1 column 1 (char 0)')}\n"
     ]
    },
    {
     "name": "stderr",
     "output_type": "stream",
     "text": [
      "  2%|█▋                                                                  | 24965/1000000 [1:13:06<129:35:46,  2.09it/s]"
     ]
    },
    {
     "name": "stdout",
     "output_type": "stream",
     "text": [
      "{'traceback': 'Traceback (most recent call last):\\n  File \"C:\\\\Users\\\\ryans\\\\AppData\\\\Local\\\\Temp\\\\ipykernel_31184\\\\3515661714.py\", line 4, in <module>\\n    document = json.loads(payload)\\n               ^^^^^^^^^^^^^^^^^^^\\n  File \"C:\\\\Users\\\\ryans\\\\AppData\\\\Local\\\\Programs\\\\Python\\\\Python311\\\\Lib\\\\json\\\\__init__.py\", line 346, in loads\\n    return _default_decoder.decode(s)\\n           ^^^^^^^^^^^^^^^^^^^^^^^^^^\\n  File \"C:\\\\Users\\\\ryans\\\\AppData\\\\Local\\\\Programs\\\\Python\\\\Python311\\\\Lib\\\\json\\\\decoder.py\", line 337, in decode\\n    obj, end = self.raw_decode(s, idx=_w(s, 0).end())\\n               ^^^^^^^^^^^^^^^^^^^^^^^^^^^^^^^^^^^^^^\\n  File \"C:\\\\Users\\\\ryans\\\\AppData\\\\Local\\\\Programs\\\\Python\\\\Python311\\\\Lib\\\\json\\\\decoder.py\", line 355, in raw_decode\\n    raise JSONDecodeError(\"Expecting value\", s, err.value) from None\\njson.decoder.JSONDecodeError: Expecting value: line 1 column 1 (char 0)\\n', 'exception': JSONDecodeError('Expecting value: line 1 column 1 (char 0)')}\n"
     ]
    },
    {
     "name": "stderr",
     "output_type": "stream",
     "text": [
      "  3%|█▋                                                                  | 25143/1000000 [1:13:53<120:00:10,  2.26it/s]"
     ]
    },
    {
     "name": "stdout",
     "output_type": "stream",
     "text": [
      "{'traceback': 'Traceback (most recent call last):\\n  File \"C:\\\\Users\\\\ryans\\\\AppData\\\\Local\\\\Temp\\\\ipykernel_31184\\\\3515661714.py\", line 4, in <module>\\n    document = json.loads(payload)\\n               ^^^^^^^^^^^^^^^^^^^\\n  File \"C:\\\\Users\\\\ryans\\\\AppData\\\\Local\\\\Programs\\\\Python\\\\Python311\\\\Lib\\\\json\\\\__init__.py\", line 346, in loads\\n    return _default_decoder.decode(s)\\n           ^^^^^^^^^^^^^^^^^^^^^^^^^^\\n  File \"C:\\\\Users\\\\ryans\\\\AppData\\\\Local\\\\Programs\\\\Python\\\\Python311\\\\Lib\\\\json\\\\decoder.py\", line 337, in decode\\n    obj, end = self.raw_decode(s, idx=_w(s, 0).end())\\n               ^^^^^^^^^^^^^^^^^^^^^^^^^^^^^^^^^^^^^^\\n  File \"C:\\\\Users\\\\ryans\\\\AppData\\\\Local\\\\Programs\\\\Python\\\\Python311\\\\Lib\\\\json\\\\decoder.py\", line 355, in raw_decode\\n    raise JSONDecodeError(\"Expecting value\", s, err.value) from None\\njson.decoder.JSONDecodeError: Expecting value: line 1 column 1 (char 0)\\n', 'exception': JSONDecodeError('Expecting value: line 1 column 1 (char 0)')}\n"
     ]
    },
    {
     "name": "stderr",
     "output_type": "stream",
     "text": [
      "  3%|█▋                                                                  | 25321/1000000 [1:14:43<123:55:48,  2.18it/s]"
     ]
    },
    {
     "name": "stdout",
     "output_type": "stream",
     "text": [
      "{'traceback': 'Traceback (most recent call last):\\n  File \"C:\\\\Users\\\\ryans\\\\AppData\\\\Local\\\\Temp\\\\ipykernel_31184\\\\3515661714.py\", line 4, in <module>\\n    document = json.loads(payload)\\n               ^^^^^^^^^^^^^^^^^^^\\n  File \"C:\\\\Users\\\\ryans\\\\AppData\\\\Local\\\\Programs\\\\Python\\\\Python311\\\\Lib\\\\json\\\\__init__.py\", line 346, in loads\\n    return _default_decoder.decode(s)\\n           ^^^^^^^^^^^^^^^^^^^^^^^^^^\\n  File \"C:\\\\Users\\\\ryans\\\\AppData\\\\Local\\\\Programs\\\\Python\\\\Python311\\\\Lib\\\\json\\\\decoder.py\", line 337, in decode\\n    obj, end = self.raw_decode(s, idx=_w(s, 0).end())\\n               ^^^^^^^^^^^^^^^^^^^^^^^^^^^^^^^^^^^^^^\\n  File \"C:\\\\Users\\\\ryans\\\\AppData\\\\Local\\\\Programs\\\\Python\\\\Python311\\\\Lib\\\\json\\\\decoder.py\", line 355, in raw_decode\\n    raise JSONDecodeError(\"Expecting value\", s, err.value) from None\\njson.decoder.JSONDecodeError: Expecting value: line 1 column 1 (char 0)\\n', 'exception': JSONDecodeError('Expecting value: line 1 column 1 (char 0)')}\n"
     ]
    },
    {
     "name": "stderr",
     "output_type": "stream",
     "text": [
      "  3%|█▊                                                                   | 25493/1000000 [1:15:26<71:40:18,  3.78it/s]"
     ]
    },
    {
     "name": "stdout",
     "output_type": "stream",
     "text": [
      "{'traceback': 'Traceback (most recent call last):\\n  File \"C:\\\\Users\\\\ryans\\\\AppData\\\\Local\\\\Temp\\\\ipykernel_31184\\\\3515661714.py\", line 4, in <module>\\n    document = json.loads(payload)\\n               ^^^^^^^^^^^^^^^^^^^\\n  File \"C:\\\\Users\\\\ryans\\\\AppData\\\\Local\\\\Programs\\\\Python\\\\Python311\\\\Lib\\\\json\\\\__init__.py\", line 346, in loads\\n    return _default_decoder.decode(s)\\n           ^^^^^^^^^^^^^^^^^^^^^^^^^^\\n  File \"C:\\\\Users\\\\ryans\\\\AppData\\\\Local\\\\Programs\\\\Python\\\\Python311\\\\Lib\\\\json\\\\decoder.py\", line 337, in decode\\n    obj, end = self.raw_decode(s, idx=_w(s, 0).end())\\n               ^^^^^^^^^^^^^^^^^^^^^^^^^^^^^^^^^^^^^^\\n  File \"C:\\\\Users\\\\ryans\\\\AppData\\\\Local\\\\Programs\\\\Python\\\\Python311\\\\Lib\\\\json\\\\decoder.py\", line 353, in raw_decode\\n    obj, end = self.scan_once(s, idx)\\n               ^^^^^^^^^^^^^^^^^^^^^^\\njson.decoder.JSONDecodeError: Expecting property name enclosed in double quotes: line 1 column 2 (char 1)\\n', 'exception': JSONDecodeError('Expecting property name enclosed in double quotes: line 1 column 2 (char 1)')}\n"
     ]
    },
    {
     "name": "stderr",
     "output_type": "stream",
     "text": [
      "  3%|█▊                                                                   | 25498/1000000 [1:15:28<96:57:19,  2.79it/s]"
     ]
    },
    {
     "name": "stdout",
     "output_type": "stream",
     "text": [
      "{'traceback': 'Traceback (most recent call last):\\n  File \"C:\\\\Users\\\\ryans\\\\AppData\\\\Local\\\\Temp\\\\ipykernel_31184\\\\3515661714.py\", line 4, in <module>\\n    document = json.loads(payload)\\n               ^^^^^^^^^^^^^^^^^^^\\n  File \"C:\\\\Users\\\\ryans\\\\AppData\\\\Local\\\\Programs\\\\Python\\\\Python311\\\\Lib\\\\json\\\\__init__.py\", line 346, in loads\\n    return _default_decoder.decode(s)\\n           ^^^^^^^^^^^^^^^^^^^^^^^^^^\\n  File \"C:\\\\Users\\\\ryans\\\\AppData\\\\Local\\\\Programs\\\\Python\\\\Python311\\\\Lib\\\\json\\\\decoder.py\", line 337, in decode\\n    obj, end = self.raw_decode(s, idx=_w(s, 0).end())\\n               ^^^^^^^^^^^^^^^^^^^^^^^^^^^^^^^^^^^^^^\\n  File \"C:\\\\Users\\\\ryans\\\\AppData\\\\Local\\\\Programs\\\\Python\\\\Python311\\\\Lib\\\\json\\\\decoder.py\", line 355, in raw_decode\\n    raise JSONDecodeError(\"Expecting value\", s, err.value) from None\\njson.decoder.JSONDecodeError: Expecting value: line 1 column 1 (char 0)\\n', 'exception': JSONDecodeError('Expecting value: line 1 column 1 (char 0)')}\n"
     ]
    },
    {
     "name": "stderr",
     "output_type": "stream",
     "text": [
      "  3%|█▋                                                                  | 25531/1000000 [1:15:37<187:00:04,  1.45it/s]"
     ]
    },
    {
     "name": "stdout",
     "output_type": "stream",
     "text": [
      "{'traceback': 'Traceback (most recent call last):\\n  File \"C:\\\\Users\\\\ryans\\\\AppData\\\\Local\\\\Temp\\\\ipykernel_31184\\\\3515661714.py\", line 4, in <module>\\n    document = json.loads(payload)\\n               ^^^^^^^^^^^^^^^^^^^\\n  File \"C:\\\\Users\\\\ryans\\\\AppData\\\\Local\\\\Programs\\\\Python\\\\Python311\\\\Lib\\\\json\\\\__init__.py\", line 346, in loads\\n    return _default_decoder.decode(s)\\n           ^^^^^^^^^^^^^^^^^^^^^^^^^^\\n  File \"C:\\\\Users\\\\ryans\\\\AppData\\\\Local\\\\Programs\\\\Python\\\\Python311\\\\Lib\\\\json\\\\decoder.py\", line 337, in decode\\n    obj, end = self.raw_decode(s, idx=_w(s, 0).end())\\n               ^^^^^^^^^^^^^^^^^^^^^^^^^^^^^^^^^^^^^^\\n  File \"C:\\\\Users\\\\ryans\\\\AppData\\\\Local\\\\Programs\\\\Python\\\\Python311\\\\Lib\\\\json\\\\decoder.py\", line 355, in raw_decode\\n    raise JSONDecodeError(\"Expecting value\", s, err.value) from None\\njson.decoder.JSONDecodeError: Expecting value: line 1 column 1 (char 0)\\n', 'exception': JSONDecodeError('Expecting value: line 1 column 1 (char 0)')}\n"
     ]
    },
    {
     "name": "stderr",
     "output_type": "stream",
     "text": [
      "  3%|█▊                                                                   | 25888/1000000 [1:17:12<64:02:10,  4.23it/s]"
     ]
    },
    {
     "name": "stdout",
     "output_type": "stream",
     "text": [
      "{'traceback': 'Traceback (most recent call last):\\n  File \"C:\\\\Users\\\\ryans\\\\AppData\\\\Local\\\\Temp\\\\ipykernel_31184\\\\3515661714.py\", line 4, in <module>\\n    document = json.loads(payload)\\n               ^^^^^^^^^^^^^^^^^^^\\n  File \"C:\\\\Users\\\\ryans\\\\AppData\\\\Local\\\\Programs\\\\Python\\\\Python311\\\\Lib\\\\json\\\\__init__.py\", line 346, in loads\\n    return _default_decoder.decode(s)\\n           ^^^^^^^^^^^^^^^^^^^^^^^^^^\\n  File \"C:\\\\Users\\\\ryans\\\\AppData\\\\Local\\\\Programs\\\\Python\\\\Python311\\\\Lib\\\\json\\\\decoder.py\", line 337, in decode\\n    obj, end = self.raw_decode(s, idx=_w(s, 0).end())\\n               ^^^^^^^^^^^^^^^^^^^^^^^^^^^^^^^^^^^^^^\\n  File \"C:\\\\Users\\\\ryans\\\\AppData\\\\Local\\\\Programs\\\\Python\\\\Python311\\\\Lib\\\\json\\\\decoder.py\", line 355, in raw_decode\\n    raise JSONDecodeError(\"Expecting value\", s, err.value) from None\\njson.decoder.JSONDecodeError: Expecting value: line 1 column 1 (char 0)\\n', 'exception': JSONDecodeError('Expecting value: line 1 column 1 (char 0)')}\n",
      "{'traceback': 'Traceback (most recent call last):\\n  File \"C:\\\\Users\\\\ryans\\\\AppData\\\\Local\\\\Temp\\\\ipykernel_31184\\\\3515661714.py\", line 4, in <module>\\n    document = json.loads(payload)\\n               ^^^^^^^^^^^^^^^^^^^\\n  File \"C:\\\\Users\\\\ryans\\\\AppData\\\\Local\\\\Programs\\\\Python\\\\Python311\\\\Lib\\\\json\\\\__init__.py\", line 346, in loads\\n    return _default_decoder.decode(s)\\n           ^^^^^^^^^^^^^^^^^^^^^^^^^^\\n  File \"C:\\\\Users\\\\ryans\\\\AppData\\\\Local\\\\Programs\\\\Python\\\\Python311\\\\Lib\\\\json\\\\decoder.py\", line 337, in decode\\n    obj, end = self.raw_decode(s, idx=_w(s, 0).end())\\n               ^^^^^^^^^^^^^^^^^^^^^^^^^^^^^^^^^^^^^^\\n  File \"C:\\\\Users\\\\ryans\\\\AppData\\\\Local\\\\Programs\\\\Python\\\\Python311\\\\Lib\\\\json\\\\decoder.py\", line 355, in raw_decode\\n    raise JSONDecodeError(\"Expecting value\", s, err.value) from None\\njson.decoder.JSONDecodeError: Expecting value: line 1 column 1 (char 0)\\n', 'exception': JSONDecodeError('Expecting value: line 1 column 1 (char 0)')}\n"
     ]
    },
    {
     "name": "stderr",
     "output_type": "stream",
     "text": [
      "  3%|█▊                                                                   | 26124/1000000 [1:18:18<42:56:33,  6.30it/s]"
     ]
    },
    {
     "name": "stdout",
     "output_type": "stream",
     "text": [
      "{'traceback': 'Traceback (most recent call last):\\n  File \"C:\\\\Users\\\\ryans\\\\AppData\\\\Local\\\\Temp\\\\ipykernel_31184\\\\3515661714.py\", line 4, in <module>\\n    document = json.loads(payload)\\n               ^^^^^^^^^^^^^^^^^^^\\n  File \"C:\\\\Users\\\\ryans\\\\AppData\\\\Local\\\\Programs\\\\Python\\\\Python311\\\\Lib\\\\json\\\\__init__.py\", line 346, in loads\\n    return _default_decoder.decode(s)\\n           ^^^^^^^^^^^^^^^^^^^^^^^^^^\\n  File \"C:\\\\Users\\\\ryans\\\\AppData\\\\Local\\\\Programs\\\\Python\\\\Python311\\\\Lib\\\\json\\\\decoder.py\", line 337, in decode\\n    obj, end = self.raw_decode(s, idx=_w(s, 0).end())\\n               ^^^^^^^^^^^^^^^^^^^^^^^^^^^^^^^^^^^^^^\\n  File \"C:\\\\Users\\\\ryans\\\\AppData\\\\Local\\\\Programs\\\\Python\\\\Python311\\\\Lib\\\\json\\\\decoder.py\", line 353, in raw_decode\\n    obj, end = self.scan_once(s, idx)\\n               ^^^^^^^^^^^^^^^^^^^^^^\\njson.decoder.JSONDecodeError: Expecting property name enclosed in double quotes: line 1 column 2 (char 1)\\n', 'exception': JSONDecodeError('Expecting property name enclosed in double quotes: line 1 column 2 (char 1)')}\n"
     ]
    },
    {
     "name": "stderr",
     "output_type": "stream",
     "text": [
      "  3%|█▊                                                                  | 26446/1000000 [1:19:49<191:10:35,  1.41it/s]"
     ]
    },
    {
     "name": "stdout",
     "output_type": "stream",
     "text": [
      "{'traceback': 'Traceback (most recent call last):\\n  File \"C:\\\\Users\\\\ryans\\\\AppData\\\\Local\\\\Temp\\\\ipykernel_31184\\\\3515661714.py\", line 4, in <module>\\n    document = json.loads(payload)\\n               ^^^^^^^^^^^^^^^^^^^\\n  File \"C:\\\\Users\\\\ryans\\\\AppData\\\\Local\\\\Programs\\\\Python\\\\Python311\\\\Lib\\\\json\\\\__init__.py\", line 346, in loads\\n    return _default_decoder.decode(s)\\n           ^^^^^^^^^^^^^^^^^^^^^^^^^^\\n  File \"C:\\\\Users\\\\ryans\\\\AppData\\\\Local\\\\Programs\\\\Python\\\\Python311\\\\Lib\\\\json\\\\decoder.py\", line 337, in decode\\n    obj, end = self.raw_decode(s, idx=_w(s, 0).end())\\n               ^^^^^^^^^^^^^^^^^^^^^^^^^^^^^^^^^^^^^^\\n  File \"C:\\\\Users\\\\ryans\\\\AppData\\\\Local\\\\Programs\\\\Python\\\\Python311\\\\Lib\\\\json\\\\decoder.py\", line 355, in raw_decode\\n    raise JSONDecodeError(\"Expecting value\", s, err.value) from None\\njson.decoder.JSONDecodeError: Expecting value: line 1 column 1 (char 0)\\n', 'exception': JSONDecodeError('Expecting value: line 1 column 1 (char 0)')}\n"
     ]
    },
    {
     "name": "stderr",
     "output_type": "stream",
     "text": [
      "  3%|█▊                                                                  | 26449/1000000 [1:19:51<192:50:09,  1.40it/s]"
     ]
    },
    {
     "name": "stdout",
     "output_type": "stream",
     "text": [
      "{'traceback': 'Traceback (most recent call last):\\n  File \"C:\\\\Users\\\\ryans\\\\AppData\\\\Local\\\\Temp\\\\ipykernel_31184\\\\3515661714.py\", line 4, in <module>\\n    document = json.loads(payload)\\n               ^^^^^^^^^^^^^^^^^^^\\n  File \"C:\\\\Users\\\\ryans\\\\AppData\\\\Local\\\\Programs\\\\Python\\\\Python311\\\\Lib\\\\json\\\\__init__.py\", line 346, in loads\\n    return _default_decoder.decode(s)\\n           ^^^^^^^^^^^^^^^^^^^^^^^^^^\\n  File \"C:\\\\Users\\\\ryans\\\\AppData\\\\Local\\\\Programs\\\\Python\\\\Python311\\\\Lib\\\\json\\\\decoder.py\", line 337, in decode\\n    obj, end = self.raw_decode(s, idx=_w(s, 0).end())\\n               ^^^^^^^^^^^^^^^^^^^^^^^^^^^^^^^^^^^^^^\\n  File \"C:\\\\Users\\\\ryans\\\\AppData\\\\Local\\\\Programs\\\\Python\\\\Python311\\\\Lib\\\\json\\\\decoder.py\", line 355, in raw_decode\\n    raise JSONDecodeError(\"Expecting value\", s, err.value) from None\\njson.decoder.JSONDecodeError: Expecting value: line 1 column 1 (char 0)\\n', 'exception': JSONDecodeError('Expecting value: line 1 column 1 (char 0)')}\n"
     ]
    },
    {
     "name": "stderr",
     "output_type": "stream",
     "text": [
      "  3%|█▊                                                                   | 26826/1000000 [1:21:38<72:09:01,  3.75it/s]"
     ]
    },
    {
     "name": "stdout",
     "output_type": "stream",
     "text": [
      "{'traceback': 'Traceback (most recent call last):\\n  File \"C:\\\\Users\\\\ryans\\\\AppData\\\\Local\\\\Temp\\\\ipykernel_31184\\\\3515661714.py\", line 4, in <module>\\n    document = json.loads(payload)\\n               ^^^^^^^^^^^^^^^^^^^\\n  File \"C:\\\\Users\\\\ryans\\\\AppData\\\\Local\\\\Programs\\\\Python\\\\Python311\\\\Lib\\\\json\\\\__init__.py\", line 346, in loads\\n    return _default_decoder.decode(s)\\n           ^^^^^^^^^^^^^^^^^^^^^^^^^^\\n  File \"C:\\\\Users\\\\ryans\\\\AppData\\\\Local\\\\Programs\\\\Python\\\\Python311\\\\Lib\\\\json\\\\decoder.py\", line 337, in decode\\n    obj, end = self.raw_decode(s, idx=_w(s, 0).end())\\n               ^^^^^^^^^^^^^^^^^^^^^^^^^^^^^^^^^^^^^^\\n  File \"C:\\\\Users\\\\ryans\\\\AppData\\\\Local\\\\Programs\\\\Python\\\\Python311\\\\Lib\\\\json\\\\decoder.py\", line 355, in raw_decode\\n    raise JSONDecodeError(\"Expecting value\", s, err.value) from None\\njson.decoder.JSONDecodeError: Expecting value: line 1 column 1 (char 0)\\n', 'exception': JSONDecodeError('Expecting value: line 1 column 1 (char 0)')}\n"
     ]
    },
    {
     "name": "stderr",
     "output_type": "stream",
     "text": [
      "  3%|█▊                                                                  | 26831/1000000 [1:21:40<104:12:04,  2.59it/s]"
     ]
    },
    {
     "name": "stdout",
     "output_type": "stream",
     "text": [
      "{'traceback': 'Traceback (most recent call last):\\n  File \"C:\\\\Users\\\\ryans\\\\AppData\\\\Local\\\\Temp\\\\ipykernel_31184\\\\3515661714.py\", line 4, in <module>\\n    document = json.loads(payload)\\n               ^^^^^^^^^^^^^^^^^^^\\n  File \"C:\\\\Users\\\\ryans\\\\AppData\\\\Local\\\\Programs\\\\Python\\\\Python311\\\\Lib\\\\json\\\\__init__.py\", line 346, in loads\\n    return _default_decoder.decode(s)\\n           ^^^^^^^^^^^^^^^^^^^^^^^^^^\\n  File \"C:\\\\Users\\\\ryans\\\\AppData\\\\Local\\\\Programs\\\\Python\\\\Python311\\\\Lib\\\\json\\\\decoder.py\", line 337, in decode\\n    obj, end = self.raw_decode(s, idx=_w(s, 0).end())\\n               ^^^^^^^^^^^^^^^^^^^^^^^^^^^^^^^^^^^^^^\\n  File \"C:\\\\Users\\\\ryans\\\\AppData\\\\Local\\\\Programs\\\\Python\\\\Python311\\\\Lib\\\\json\\\\decoder.py\", line 355, in raw_decode\\n    raise JSONDecodeError(\"Expecting value\", s, err.value) from None\\njson.decoder.JSONDecodeError: Expecting value: line 1 column 1 (char 0)\\n', 'exception': JSONDecodeError('Expecting value: line 1 column 1 (char 0)')}\n"
     ]
    },
    {
     "name": "stderr",
     "output_type": "stream",
     "text": [
      "  3%|█▊                                                                   | 26858/1000000 [1:21:45<42:13:55,  6.40it/s]"
     ]
    },
    {
     "name": "stdout",
     "output_type": "stream",
     "text": [
      "{'traceback': 'Traceback (most recent call last):\\n  File \"C:\\\\Users\\\\ryans\\\\AppData\\\\Local\\\\Temp\\\\ipykernel_31184\\\\3515661714.py\", line 4, in <module>\\n    document = json.loads(payload)\\n               ^^^^^^^^^^^^^^^^^^^\\n  File \"C:\\\\Users\\\\ryans\\\\AppData\\\\Local\\\\Programs\\\\Python\\\\Python311\\\\Lib\\\\json\\\\__init__.py\", line 346, in loads\\n    return _default_decoder.decode(s)\\n           ^^^^^^^^^^^^^^^^^^^^^^^^^^\\n  File \"C:\\\\Users\\\\ryans\\\\AppData\\\\Local\\\\Programs\\\\Python\\\\Python311\\\\Lib\\\\json\\\\decoder.py\", line 337, in decode\\n    obj, end = self.raw_decode(s, idx=_w(s, 0).end())\\n               ^^^^^^^^^^^^^^^^^^^^^^^^^^^^^^^^^^^^^^\\n  File \"C:\\\\Users\\\\ryans\\\\AppData\\\\Local\\\\Programs\\\\Python\\\\Python311\\\\Lib\\\\json\\\\decoder.py\", line 355, in raw_decode\\n    raise JSONDecodeError(\"Expecting value\", s, err.value) from None\\njson.decoder.JSONDecodeError: Expecting value: line 1 column 1 (char 0)\\n', 'exception': JSONDecodeError('Expecting value: line 1 column 1 (char 0)')}\n"
     ]
    },
    {
     "name": "stderr",
     "output_type": "stream",
     "text": [
      "  3%|█▊                                                                   | 26974/1000000 [1:22:21<89:35:20,  3.02it/s]"
     ]
    },
    {
     "name": "stdout",
     "output_type": "stream",
     "text": [
      "{'traceback': 'Traceback (most recent call last):\\n  File \"C:\\\\Users\\\\ryans\\\\AppData\\\\Local\\\\Temp\\\\ipykernel_31184\\\\3515661714.py\", line 4, in <module>\\n    document = json.loads(payload)\\n               ^^^^^^^^^^^^^^^^^^^\\n  File \"C:\\\\Users\\\\ryans\\\\AppData\\\\Local\\\\Programs\\\\Python\\\\Python311\\\\Lib\\\\json\\\\__init__.py\", line 346, in loads\\n    return _default_decoder.decode(s)\\n           ^^^^^^^^^^^^^^^^^^^^^^^^^^\\n  File \"C:\\\\Users\\\\ryans\\\\AppData\\\\Local\\\\Programs\\\\Python\\\\Python311\\\\Lib\\\\json\\\\decoder.py\", line 337, in decode\\n    obj, end = self.raw_decode(s, idx=_w(s, 0).end())\\n               ^^^^^^^^^^^^^^^^^^^^^^^^^^^^^^^^^^^^^^\\n  File \"C:\\\\Users\\\\ryans\\\\AppData\\\\Local\\\\Programs\\\\Python\\\\Python311\\\\Lib\\\\json\\\\decoder.py\", line 355, in raw_decode\\n    raise JSONDecodeError(\"Expecting value\", s, err.value) from None\\njson.decoder.JSONDecodeError: Expecting value: line 1 column 1 (char 0)\\n', 'exception': JSONDecodeError('Expecting value: line 1 column 1 (char 0)')}\n"
     ]
    },
    {
     "name": "stderr",
     "output_type": "stream",
     "text": [
      "  3%|█▊                                                                   | 27012/1000000 [1:22:31<84:53:50,  3.18it/s]"
     ]
    },
    {
     "name": "stdout",
     "output_type": "stream",
     "text": [
      "{'traceback': 'Traceback (most recent call last):\\n  File \"C:\\\\Users\\\\ryans\\\\AppData\\\\Local\\\\Temp\\\\ipykernel_31184\\\\3515661714.py\", line 4, in <module>\\n    document = json.loads(payload)\\n               ^^^^^^^^^^^^^^^^^^^\\n  File \"C:\\\\Users\\\\ryans\\\\AppData\\\\Local\\\\Programs\\\\Python\\\\Python311\\\\Lib\\\\json\\\\__init__.py\", line 346, in loads\\n    return _default_decoder.decode(s)\\n           ^^^^^^^^^^^^^^^^^^^^^^^^^^\\n  File \"C:\\\\Users\\\\ryans\\\\AppData\\\\Local\\\\Programs\\\\Python\\\\Python311\\\\Lib\\\\json\\\\decoder.py\", line 337, in decode\\n    obj, end = self.raw_decode(s, idx=_w(s, 0).end())\\n               ^^^^^^^^^^^^^^^^^^^^^^^^^^^^^^^^^^^^^^\\n  File \"C:\\\\Users\\\\ryans\\\\AppData\\\\Local\\\\Programs\\\\Python\\\\Python311\\\\Lib\\\\json\\\\decoder.py\", line 355, in raw_decode\\n    raise JSONDecodeError(\"Expecting value\", s, err.value) from None\\njson.decoder.JSONDecodeError: Expecting value: line 1 column 1 (char 0)\\n', 'exception': JSONDecodeError('Expecting value: line 1 column 1 (char 0)')}\n"
     ]
    },
    {
     "name": "stderr",
     "output_type": "stream",
     "text": [
      "  3%|█▊                                                                  | 27080/1000000 [1:22:53<259:37:54,  1.04it/s]"
     ]
    },
    {
     "name": "stdout",
     "output_type": "stream",
     "text": [
      "{'traceback': 'Traceback (most recent call last):\\n  File \"C:\\\\Users\\\\ryans\\\\AppData\\\\Local\\\\Temp\\\\ipykernel_31184\\\\3515661714.py\", line 4, in <module>\\n    document = json.loads(payload)\\n               ^^^^^^^^^^^^^^^^^^^\\n  File \"C:\\\\Users\\\\ryans\\\\AppData\\\\Local\\\\Programs\\\\Python\\\\Python311\\\\Lib\\\\json\\\\__init__.py\", line 346, in loads\\n    return _default_decoder.decode(s)\\n           ^^^^^^^^^^^^^^^^^^^^^^^^^^\\n  File \"C:\\\\Users\\\\ryans\\\\AppData\\\\Local\\\\Programs\\\\Python\\\\Python311\\\\Lib\\\\json\\\\decoder.py\", line 337, in decode\\n    obj, end = self.raw_decode(s, idx=_w(s, 0).end())\\n               ^^^^^^^^^^^^^^^^^^^^^^^^^^^^^^^^^^^^^^\\n  File \"C:\\\\Users\\\\ryans\\\\AppData\\\\Local\\\\Programs\\\\Python\\\\Python311\\\\Lib\\\\json\\\\decoder.py\", line 355, in raw_decode\\n    raise JSONDecodeError(\"Expecting value\", s, err.value) from None\\njson.decoder.JSONDecodeError: Expecting value: line 1 column 1 (char 0)\\n', 'exception': JSONDecodeError('Expecting value: line 1 column 1 (char 0)')}\n"
     ]
    },
    {
     "name": "stderr",
     "output_type": "stream",
     "text": [
      "  3%|█▉                                                                   | 27174/1000000 [1:23:12<44:24:28,  6.09it/s]"
     ]
    },
    {
     "name": "stdout",
     "output_type": "stream",
     "text": [
      "{'traceback': 'Traceback (most recent call last):\\n  File \"C:\\\\Users\\\\ryans\\\\AppData\\\\Local\\\\Temp\\\\ipykernel_31184\\\\3515661714.py\", line 4, in <module>\\n    document = json.loads(payload)\\n               ^^^^^^^^^^^^^^^^^^^\\n  File \"C:\\\\Users\\\\ryans\\\\AppData\\\\Local\\\\Programs\\\\Python\\\\Python311\\\\Lib\\\\json\\\\__init__.py\", line 346, in loads\\n    return _default_decoder.decode(s)\\n           ^^^^^^^^^^^^^^^^^^^^^^^^^^\\n  File \"C:\\\\Users\\\\ryans\\\\AppData\\\\Local\\\\Programs\\\\Python\\\\Python311\\\\Lib\\\\json\\\\decoder.py\", line 337, in decode\\n    obj, end = self.raw_decode(s, idx=_w(s, 0).end())\\n               ^^^^^^^^^^^^^^^^^^^^^^^^^^^^^^^^^^^^^^\\n  File \"C:\\\\Users\\\\ryans\\\\AppData\\\\Local\\\\Programs\\\\Python\\\\Python311\\\\Lib\\\\json\\\\decoder.py\", line 353, in raw_decode\\n    obj, end = self.scan_once(s, idx)\\n               ^^^^^^^^^^^^^^^^^^^^^^\\njson.decoder.JSONDecodeError: Expecting property name enclosed in double quotes: line 1 column 2 (char 1)\\n', 'exception': JSONDecodeError('Expecting property name enclosed in double quotes: line 1 column 2 (char 1)')}\n"
     ]
    },
    {
     "name": "stderr",
     "output_type": "stream",
     "text": [
      "  3%|█▊                                                                  | 27251/1000000 [1:23:34<133:24:29,  2.03it/s]"
     ]
    },
    {
     "name": "stdout",
     "output_type": "stream",
     "text": [
      "{'traceback': 'Traceback (most recent call last):\\n  File \"C:\\\\Users\\\\ryans\\\\AppData\\\\Local\\\\Temp\\\\ipykernel_31184\\\\3515661714.py\", line 4, in <module>\\n    document = json.loads(payload)\\n               ^^^^^^^^^^^^^^^^^^^\\n  File \"C:\\\\Users\\\\ryans\\\\AppData\\\\Local\\\\Programs\\\\Python\\\\Python311\\\\Lib\\\\json\\\\__init__.py\", line 346, in loads\\n    return _default_decoder.decode(s)\\n           ^^^^^^^^^^^^^^^^^^^^^^^^^^\\n  File \"C:\\\\Users\\\\ryans\\\\AppData\\\\Local\\\\Programs\\\\Python\\\\Python311\\\\Lib\\\\json\\\\decoder.py\", line 337, in decode\\n    obj, end = self.raw_decode(s, idx=_w(s, 0).end())\\n               ^^^^^^^^^^^^^^^^^^^^^^^^^^^^^^^^^^^^^^\\n  File \"C:\\\\Users\\\\ryans\\\\AppData\\\\Local\\\\Programs\\\\Python\\\\Python311\\\\Lib\\\\json\\\\decoder.py\", line 353, in raw_decode\\n    obj, end = self.scan_once(s, idx)\\n               ^^^^^^^^^^^^^^^^^^^^^^\\njson.decoder.JSONDecodeError: Expecting property name enclosed in double quotes: line 1 column 2 (char 1)\\n', 'exception': JSONDecodeError('Expecting property name enclosed in double quotes: line 1 column 2 (char 1)')}\n"
     ]
    },
    {
     "name": "stderr",
     "output_type": "stream",
     "text": [
      "  3%|█▉                                                                   | 27281/1000000 [1:23:43<99:48:47,  2.71it/s]"
     ]
    },
    {
     "name": "stdout",
     "output_type": "stream",
     "text": [
      "{'traceback': 'Traceback (most recent call last):\\n  File \"C:\\\\Users\\\\ryans\\\\AppData\\\\Local\\\\Temp\\\\ipykernel_31184\\\\3515661714.py\", line 4, in <module>\\n    document = json.loads(payload)\\n               ^^^^^^^^^^^^^^^^^^^\\n  File \"C:\\\\Users\\\\ryans\\\\AppData\\\\Local\\\\Programs\\\\Python\\\\Python311\\\\Lib\\\\json\\\\__init__.py\", line 346, in loads\\n    return _default_decoder.decode(s)\\n           ^^^^^^^^^^^^^^^^^^^^^^^^^^\\n  File \"C:\\\\Users\\\\ryans\\\\AppData\\\\Local\\\\Programs\\\\Python\\\\Python311\\\\Lib\\\\json\\\\decoder.py\", line 337, in decode\\n    obj, end = self.raw_decode(s, idx=_w(s, 0).end())\\n               ^^^^^^^^^^^^^^^^^^^^^^^^^^^^^^^^^^^^^^\\n  File \"C:\\\\Users\\\\ryans\\\\AppData\\\\Local\\\\Programs\\\\Python\\\\Python311\\\\Lib\\\\json\\\\decoder.py\", line 353, in raw_decode\\n    obj, end = self.scan_once(s, idx)\\n               ^^^^^^^^^^^^^^^^^^^^^^\\njson.decoder.JSONDecodeError: Expecting property name enclosed in double quotes: line 1 column 2 (char 1)\\n', 'exception': JSONDecodeError('Expecting property name enclosed in double quotes: line 1 column 2 (char 1)')}\n"
     ]
    },
    {
     "name": "stderr",
     "output_type": "stream",
     "text": [
      "  3%|█▊                                                                  | 27390/1000000 [1:24:09<140:52:22,  1.92it/s]"
     ]
    },
    {
     "name": "stdout",
     "output_type": "stream",
     "text": [
      "{'traceback': 'Traceback (most recent call last):\\n  File \"C:\\\\Users\\\\ryans\\\\AppData\\\\Local\\\\Temp\\\\ipykernel_31184\\\\3515661714.py\", line 4, in <module>\\n    document = json.loads(payload)\\n               ^^^^^^^^^^^^^^^^^^^\\n  File \"C:\\\\Users\\\\ryans\\\\AppData\\\\Local\\\\Programs\\\\Python\\\\Python311\\\\Lib\\\\json\\\\__init__.py\", line 346, in loads\\n    return _default_decoder.decode(s)\\n           ^^^^^^^^^^^^^^^^^^^^^^^^^^\\n  File \"C:\\\\Users\\\\ryans\\\\AppData\\\\Local\\\\Programs\\\\Python\\\\Python311\\\\Lib\\\\json\\\\decoder.py\", line 337, in decode\\n    obj, end = self.raw_decode(s, idx=_w(s, 0).end())\\n               ^^^^^^^^^^^^^^^^^^^^^^^^^^^^^^^^^^^^^^\\n  File \"C:\\\\Users\\\\ryans\\\\AppData\\\\Local\\\\Programs\\\\Python\\\\Python311\\\\Lib\\\\json\\\\decoder.py\", line 355, in raw_decode\\n    raise JSONDecodeError(\"Expecting value\", s, err.value) from None\\njson.decoder.JSONDecodeError: Expecting value: line 1 column 1 (char 0)\\n', 'exception': JSONDecodeError('Expecting value: line 1 column 1 (char 0)')}\n"
     ]
    },
    {
     "name": "stderr",
     "output_type": "stream",
     "text": [
      "  3%|█▊                                                                  | 27464/1000000 [1:24:33<183:05:20,  1.48it/s]"
     ]
    },
    {
     "name": "stdout",
     "output_type": "stream",
     "text": [
      "{'traceback': 'Traceback (most recent call last):\\n  File \"C:\\\\Users\\\\ryans\\\\AppData\\\\Local\\\\Temp\\\\ipykernel_31184\\\\3515661714.py\", line 4, in <module>\\n    document = json.loads(payload)\\n               ^^^^^^^^^^^^^^^^^^^\\n  File \"C:\\\\Users\\\\ryans\\\\AppData\\\\Local\\\\Programs\\\\Python\\\\Python311\\\\Lib\\\\json\\\\__init__.py\", line 346, in loads\\n    return _default_decoder.decode(s)\\n           ^^^^^^^^^^^^^^^^^^^^^^^^^^\\n  File \"C:\\\\Users\\\\ryans\\\\AppData\\\\Local\\\\Programs\\\\Python\\\\Python311\\\\Lib\\\\json\\\\decoder.py\", line 337, in decode\\n    obj, end = self.raw_decode(s, idx=_w(s, 0).end())\\n               ^^^^^^^^^^^^^^^^^^^^^^^^^^^^^^^^^^^^^^\\n  File \"C:\\\\Users\\\\ryans\\\\AppData\\\\Local\\\\Programs\\\\Python\\\\Python311\\\\Lib\\\\json\\\\decoder.py\", line 355, in raw_decode\\n    raise JSONDecodeError(\"Expecting value\", s, err.value) from None\\njson.decoder.JSONDecodeError: Expecting value: line 1 column 1 (char 0)\\n', 'exception': JSONDecodeError('Expecting value: line 1 column 1 (char 0)')}\n"
     ]
    },
    {
     "name": "stderr",
     "output_type": "stream",
     "text": [
      "  3%|█▉                                                                  | 27632/1000000 [1:25:12<118:37:58,  2.28it/s]"
     ]
    },
    {
     "name": "stdout",
     "output_type": "stream",
     "text": [
      "{'traceback': 'Traceback (most recent call last):\\n  File \"C:\\\\Users\\\\ryans\\\\AppData\\\\Local\\\\Temp\\\\ipykernel_31184\\\\3515661714.py\", line 4, in <module>\\n    document = json.loads(payload)\\n               ^^^^^^^^^^^^^^^^^^^\\n  File \"C:\\\\Users\\\\ryans\\\\AppData\\\\Local\\\\Programs\\\\Python\\\\Python311\\\\Lib\\\\json\\\\__init__.py\", line 346, in loads\\n    return _default_decoder.decode(s)\\n           ^^^^^^^^^^^^^^^^^^^^^^^^^^\\n  File \"C:\\\\Users\\\\ryans\\\\AppData\\\\Local\\\\Programs\\\\Python\\\\Python311\\\\Lib\\\\json\\\\decoder.py\", line 337, in decode\\n    obj, end = self.raw_decode(s, idx=_w(s, 0).end())\\n               ^^^^^^^^^^^^^^^^^^^^^^^^^^^^^^^^^^^^^^\\n  File \"C:\\\\Users\\\\ryans\\\\AppData\\\\Local\\\\Programs\\\\Python\\\\Python311\\\\Lib\\\\json\\\\decoder.py\", line 355, in raw_decode\\n    raise JSONDecodeError(\"Expecting value\", s, err.value) from None\\njson.decoder.JSONDecodeError: Expecting value: line 1 column 1 (char 0)\\n', 'exception': JSONDecodeError('Expecting value: line 1 column 1 (char 0)')}\n"
     ]
    },
    {
     "name": "stderr",
     "output_type": "stream",
     "text": [
      "  3%|█▉                                                                   | 27667/1000000 [1:25:25<88:20:34,  3.06it/s]"
     ]
    },
    {
     "name": "stdout",
     "output_type": "stream",
     "text": [
      "{'traceback': 'Traceback (most recent call last):\\n  File \"C:\\\\Users\\\\ryans\\\\AppData\\\\Local\\\\Temp\\\\ipykernel_31184\\\\3515661714.py\", line 4, in <module>\\n    document = json.loads(payload)\\n               ^^^^^^^^^^^^^^^^^^^\\n  File \"C:\\\\Users\\\\ryans\\\\AppData\\\\Local\\\\Programs\\\\Python\\\\Python311\\\\Lib\\\\json\\\\__init__.py\", line 346, in loads\\n    return _default_decoder.decode(s)\\n           ^^^^^^^^^^^^^^^^^^^^^^^^^^\\n  File \"C:\\\\Users\\\\ryans\\\\AppData\\\\Local\\\\Programs\\\\Python\\\\Python311\\\\Lib\\\\json\\\\decoder.py\", line 337, in decode\\n    obj, end = self.raw_decode(s, idx=_w(s, 0).end())\\n               ^^^^^^^^^^^^^^^^^^^^^^^^^^^^^^^^^^^^^^\\n  File \"C:\\\\Users\\\\ryans\\\\AppData\\\\Local\\\\Programs\\\\Python\\\\Python311\\\\Lib\\\\json\\\\decoder.py\", line 355, in raw_decode\\n    raise JSONDecodeError(\"Expecting value\", s, err.value) from None\\njson.decoder.JSONDecodeError: Expecting value: line 1 column 1 (char 0)\\n', 'exception': JSONDecodeError('Expecting value: line 1 column 1 (char 0)')}\n"
     ]
    },
    {
     "name": "stderr",
     "output_type": "stream",
     "text": [
      "  3%|█▉                                                                   | 27770/1000000 [1:25:49<56:04:14,  4.82it/s]"
     ]
    },
    {
     "name": "stdout",
     "output_type": "stream",
     "text": [
      "{'traceback': 'Traceback (most recent call last):\\n  File \"C:\\\\Users\\\\ryans\\\\AppData\\\\Local\\\\Temp\\\\ipykernel_31184\\\\3515661714.py\", line 4, in <module>\\n    document = json.loads(payload)\\n               ^^^^^^^^^^^^^^^^^^^\\n  File \"C:\\\\Users\\\\ryans\\\\AppData\\\\Local\\\\Programs\\\\Python\\\\Python311\\\\Lib\\\\json\\\\__init__.py\", line 346, in loads\\n    return _default_decoder.decode(s)\\n           ^^^^^^^^^^^^^^^^^^^^^^^^^^\\n  File \"C:\\\\Users\\\\ryans\\\\AppData\\\\Local\\\\Programs\\\\Python\\\\Python311\\\\Lib\\\\json\\\\decoder.py\", line 337, in decode\\n    obj, end = self.raw_decode(s, idx=_w(s, 0).end())\\n               ^^^^^^^^^^^^^^^^^^^^^^^^^^^^^^^^^^^^^^\\n  File \"C:\\\\Users\\\\ryans\\\\AppData\\\\Local\\\\Programs\\\\Python\\\\Python311\\\\Lib\\\\json\\\\decoder.py\", line 355, in raw_decode\\n    raise JSONDecodeError(\"Expecting value\", s, err.value) from None\\njson.decoder.JSONDecodeError: Expecting value: line 1 column 1 (char 0)\\n', 'exception': JSONDecodeError('Expecting value: line 1 column 1 (char 0)')}\n"
     ]
    },
    {
     "name": "stderr",
     "output_type": "stream",
     "text": [
      "  3%|█▉                                                                  | 27841/1000000 [1:26:11<132:52:04,  2.03it/s]"
     ]
    },
    {
     "name": "stdout",
     "output_type": "stream",
     "text": [
      "{'traceback': 'Traceback (most recent call last):\\n  File \"C:\\\\Users\\\\ryans\\\\AppData\\\\Local\\\\Temp\\\\ipykernel_31184\\\\3515661714.py\", line 4, in <module>\\n    document = json.loads(payload)\\n               ^^^^^^^^^^^^^^^^^^^\\n  File \"C:\\\\Users\\\\ryans\\\\AppData\\\\Local\\\\Programs\\\\Python\\\\Python311\\\\Lib\\\\json\\\\__init__.py\", line 346, in loads\\n    return _default_decoder.decode(s)\\n           ^^^^^^^^^^^^^^^^^^^^^^^^^^\\n  File \"C:\\\\Users\\\\ryans\\\\AppData\\\\Local\\\\Programs\\\\Python\\\\Python311\\\\Lib\\\\json\\\\decoder.py\", line 337, in decode\\n    obj, end = self.raw_decode(s, idx=_w(s, 0).end())\\n               ^^^^^^^^^^^^^^^^^^^^^^^^^^^^^^^^^^^^^^\\n  File \"C:\\\\Users\\\\ryans\\\\AppData\\\\Local\\\\Programs\\\\Python\\\\Python311\\\\Lib\\\\json\\\\decoder.py\", line 355, in raw_decode\\n    raise JSONDecodeError(\"Expecting value\", s, err.value) from None\\njson.decoder.JSONDecodeError: Expecting value: line 1 column 1 (char 0)\\n', 'exception': JSONDecodeError('Expecting value: line 1 column 1 (char 0)')}\n"
     ]
    },
    {
     "name": "stderr",
     "output_type": "stream",
     "text": [
      "  3%|█▉                                                                   | 27922/1000000 [1:26:32<73:47:16,  3.66it/s]"
     ]
    },
    {
     "name": "stdout",
     "output_type": "stream",
     "text": [
      "{'traceback': 'Traceback (most recent call last):\\n  File \"C:\\\\Users\\\\ryans\\\\AppData\\\\Local\\\\Temp\\\\ipykernel_31184\\\\3515661714.py\", line 4, in <module>\\n    document = json.loads(payload)\\n               ^^^^^^^^^^^^^^^^^^^\\n  File \"C:\\\\Users\\\\ryans\\\\AppData\\\\Local\\\\Programs\\\\Python\\\\Python311\\\\Lib\\\\json\\\\__init__.py\", line 346, in loads\\n    return _default_decoder.decode(s)\\n           ^^^^^^^^^^^^^^^^^^^^^^^^^^\\n  File \"C:\\\\Users\\\\ryans\\\\AppData\\\\Local\\\\Programs\\\\Python\\\\Python311\\\\Lib\\\\json\\\\decoder.py\", line 337, in decode\\n    obj, end = self.raw_decode(s, idx=_w(s, 0).end())\\n               ^^^^^^^^^^^^^^^^^^^^^^^^^^^^^^^^^^^^^^\\n  File \"C:\\\\Users\\\\ryans\\\\AppData\\\\Local\\\\Programs\\\\Python\\\\Python311\\\\Lib\\\\json\\\\decoder.py\", line 353, in raw_decode\\n    obj, end = self.scan_once(s, idx)\\n               ^^^^^^^^^^^^^^^^^^^^^^\\njson.decoder.JSONDecodeError: Expecting property name enclosed in double quotes: line 1 column 2 (char 1)\\n', 'exception': JSONDecodeError('Expecting property name enclosed in double quotes: line 1 column 2 (char 1)')}\n"
     ]
    },
    {
     "name": "stderr",
     "output_type": "stream",
     "text": [
      "  3%|█▉                                                                  | 27950/1000000 [1:26:38<102:09:44,  2.64it/s]"
     ]
    },
    {
     "name": "stdout",
     "output_type": "stream",
     "text": [
      "{'traceback': 'Traceback (most recent call last):\\n  File \"C:\\\\Users\\\\ryans\\\\AppData\\\\Local\\\\Temp\\\\ipykernel_31184\\\\3515661714.py\", line 4, in <module>\\n    document = json.loads(payload)\\n               ^^^^^^^^^^^^^^^^^^^\\n  File \"C:\\\\Users\\\\ryans\\\\AppData\\\\Local\\\\Programs\\\\Python\\\\Python311\\\\Lib\\\\json\\\\__init__.py\", line 346, in loads\\n    return _default_decoder.decode(s)\\n           ^^^^^^^^^^^^^^^^^^^^^^^^^^\\n  File \"C:\\\\Users\\\\ryans\\\\AppData\\\\Local\\\\Programs\\\\Python\\\\Python311\\\\Lib\\\\json\\\\decoder.py\", line 337, in decode\\n    obj, end = self.raw_decode(s, idx=_w(s, 0).end())\\n               ^^^^^^^^^^^^^^^^^^^^^^^^^^^^^^^^^^^^^^\\n  File \"C:\\\\Users\\\\ryans\\\\AppData\\\\Local\\\\Programs\\\\Python\\\\Python311\\\\Lib\\\\json\\\\decoder.py\", line 355, in raw_decode\\n    raise JSONDecodeError(\"Expecting value\", s, err.value) from None\\njson.decoder.JSONDecodeError: Expecting value: line 1 column 1 (char 0)\\n', 'exception': JSONDecodeError('Expecting value: line 1 column 1 (char 0)')}\n"
     ]
    },
    {
     "name": "stderr",
     "output_type": "stream",
     "text": [
      "  3%|█▉                                                                  | 28203/1000000 [1:27:46<205:03:32,  1.32it/s]"
     ]
    },
    {
     "name": "stdout",
     "output_type": "stream",
     "text": [
      "{'traceback': 'Traceback (most recent call last):\\n  File \"C:\\\\Users\\\\ryans\\\\AppData\\\\Local\\\\Temp\\\\ipykernel_31184\\\\3515661714.py\", line 4, in <module>\\n    document = json.loads(payload)\\n               ^^^^^^^^^^^^^^^^^^^\\n  File \"C:\\\\Users\\\\ryans\\\\AppData\\\\Local\\\\Programs\\\\Python\\\\Python311\\\\Lib\\\\json\\\\__init__.py\", line 346, in loads\\n    return _default_decoder.decode(s)\\n           ^^^^^^^^^^^^^^^^^^^^^^^^^^\\n  File \"C:\\\\Users\\\\ryans\\\\AppData\\\\Local\\\\Programs\\\\Python\\\\Python311\\\\Lib\\\\json\\\\decoder.py\", line 337, in decode\\n    obj, end = self.raw_decode(s, idx=_w(s, 0).end())\\n               ^^^^^^^^^^^^^^^^^^^^^^^^^^^^^^^^^^^^^^\\n  File \"C:\\\\Users\\\\ryans\\\\AppData\\\\Local\\\\Programs\\\\Python\\\\Python311\\\\Lib\\\\json\\\\decoder.py\", line 355, in raw_decode\\n    raise JSONDecodeError(\"Expecting value\", s, err.value) from None\\njson.decoder.JSONDecodeError: Expecting value: line 1 column 1 (char 0)\\n', 'exception': JSONDecodeError('Expecting value: line 1 column 1 (char 0)')}\n"
     ]
    },
    {
     "name": "stderr",
     "output_type": "stream",
     "text": [
      "  3%|█▉                                                                   | 28281/1000000 [1:28:05<77:20:44,  3.49it/s]"
     ]
    },
    {
     "name": "stdout",
     "output_type": "stream",
     "text": [
      "{'traceback': 'Traceback (most recent call last):\\n  File \"C:\\\\Users\\\\ryans\\\\AppData\\\\Local\\\\Temp\\\\ipykernel_31184\\\\3515661714.py\", line 4, in <module>\\n    document = json.loads(payload)\\n               ^^^^^^^^^^^^^^^^^^^\\n  File \"C:\\\\Users\\\\ryans\\\\AppData\\\\Local\\\\Programs\\\\Python\\\\Python311\\\\Lib\\\\json\\\\__init__.py\", line 346, in loads\\n    return _default_decoder.decode(s)\\n           ^^^^^^^^^^^^^^^^^^^^^^^^^^\\n  File \"C:\\\\Users\\\\ryans\\\\AppData\\\\Local\\\\Programs\\\\Python\\\\Python311\\\\Lib\\\\json\\\\decoder.py\", line 337, in decode\\n    obj, end = self.raw_decode(s, idx=_w(s, 0).end())\\n               ^^^^^^^^^^^^^^^^^^^^^^^^^^^^^^^^^^^^^^\\n  File \"C:\\\\Users\\\\ryans\\\\AppData\\\\Local\\\\Programs\\\\Python\\\\Python311\\\\Lib\\\\json\\\\decoder.py\", line 353, in raw_decode\\n    obj, end = self.scan_once(s, idx)\\n               ^^^^^^^^^^^^^^^^^^^^^^\\njson.decoder.JSONDecodeError: Expecting property name enclosed in double quotes: line 1 column 2 (char 1)\\n', 'exception': JSONDecodeError('Expecting property name enclosed in double quotes: line 1 column 2 (char 1)')}\n"
     ]
    },
    {
     "name": "stderr",
     "output_type": "stream",
     "text": [
      "  3%|█▉                                                                   | 28307/1000000 [1:28:10<60:37:36,  4.45it/s]"
     ]
    },
    {
     "name": "stdout",
     "output_type": "stream",
     "text": [
      "{'traceback': 'Traceback (most recent call last):\\n  File \"C:\\\\Users\\\\ryans\\\\AppData\\\\Local\\\\Temp\\\\ipykernel_31184\\\\3515661714.py\", line 4, in <module>\\n    document = json.loads(payload)\\n               ^^^^^^^^^^^^^^^^^^^\\n  File \"C:\\\\Users\\\\ryans\\\\AppData\\\\Local\\\\Programs\\\\Python\\\\Python311\\\\Lib\\\\json\\\\__init__.py\", line 346, in loads\\n    return _default_decoder.decode(s)\\n           ^^^^^^^^^^^^^^^^^^^^^^^^^^\\n  File \"C:\\\\Users\\\\ryans\\\\AppData\\\\Local\\\\Programs\\\\Python\\\\Python311\\\\Lib\\\\json\\\\decoder.py\", line 337, in decode\\n    obj, end = self.raw_decode(s, idx=_w(s, 0).end())\\n               ^^^^^^^^^^^^^^^^^^^^^^^^^^^^^^^^^^^^^^\\n  File \"C:\\\\Users\\\\ryans\\\\AppData\\\\Local\\\\Programs\\\\Python\\\\Python311\\\\Lib\\\\json\\\\decoder.py\", line 353, in raw_decode\\n    obj, end = self.scan_once(s, idx)\\n               ^^^^^^^^^^^^^^^^^^^^^^\\njson.decoder.JSONDecodeError: Expecting property name enclosed in double quotes: line 1 column 2 (char 1)\\n', 'exception': JSONDecodeError('Expecting property name enclosed in double quotes: line 1 column 2 (char 1)')}\n"
     ]
    },
    {
     "name": "stderr",
     "output_type": "stream",
     "text": [
      "  3%|█▉                                                                  | 28445/1000000 [1:28:49<116:23:05,  2.32it/s]"
     ]
    },
    {
     "name": "stdout",
     "output_type": "stream",
     "text": [
      "{'traceback': 'Traceback (most recent call last):\\n  File \"C:\\\\Users\\\\ryans\\\\AppData\\\\Local\\\\Temp\\\\ipykernel_31184\\\\3515661714.py\", line 4, in <module>\\n    document = json.loads(payload)\\n               ^^^^^^^^^^^^^^^^^^^\\n  File \"C:\\\\Users\\\\ryans\\\\AppData\\\\Local\\\\Programs\\\\Python\\\\Python311\\\\Lib\\\\json\\\\__init__.py\", line 346, in loads\\n    return _default_decoder.decode(s)\\n           ^^^^^^^^^^^^^^^^^^^^^^^^^^\\n  File \"C:\\\\Users\\\\ryans\\\\AppData\\\\Local\\\\Programs\\\\Python\\\\Python311\\\\Lib\\\\json\\\\decoder.py\", line 337, in decode\\n    obj, end = self.raw_decode(s, idx=_w(s, 0).end())\\n               ^^^^^^^^^^^^^^^^^^^^^^^^^^^^^^^^^^^^^^\\n  File \"C:\\\\Users\\\\ryans\\\\AppData\\\\Local\\\\Programs\\\\Python\\\\Python311\\\\Lib\\\\json\\\\decoder.py\", line 355, in raw_decode\\n    raise JSONDecodeError(\"Expecting value\", s, err.value) from None\\njson.decoder.JSONDecodeError: Expecting value: line 1 column 1 (char 0)\\n', 'exception': JSONDecodeError('Expecting value: line 1 column 1 (char 0)')}\n"
     ]
    },
    {
     "name": "stderr",
     "output_type": "stream",
     "text": [
      "  3%|█▉                                                                   | 28485/1000000 [1:28:59<80:50:06,  3.34it/s]"
     ]
    },
    {
     "name": "stdout",
     "output_type": "stream",
     "text": [
      "{'traceback': 'Traceback (most recent call last):\\n  File \"C:\\\\Users\\\\ryans\\\\AppData\\\\Local\\\\Temp\\\\ipykernel_31184\\\\3515661714.py\", line 4, in <module>\\n    document = json.loads(payload)\\n               ^^^^^^^^^^^^^^^^^^^\\n  File \"C:\\\\Users\\\\ryans\\\\AppData\\\\Local\\\\Programs\\\\Python\\\\Python311\\\\Lib\\\\json\\\\__init__.py\", line 346, in loads\\n    return _default_decoder.decode(s)\\n           ^^^^^^^^^^^^^^^^^^^^^^^^^^\\n  File \"C:\\\\Users\\\\ryans\\\\AppData\\\\Local\\\\Programs\\\\Python\\\\Python311\\\\Lib\\\\json\\\\decoder.py\", line 337, in decode\\n    obj, end = self.raw_decode(s, idx=_w(s, 0).end())\\n               ^^^^^^^^^^^^^^^^^^^^^^^^^^^^^^^^^^^^^^\\n  File \"C:\\\\Users\\\\ryans\\\\AppData\\\\Local\\\\Programs\\\\Python\\\\Python311\\\\Lib\\\\json\\\\decoder.py\", line 353, in raw_decode\\n    obj, end = self.scan_once(s, idx)\\n               ^^^^^^^^^^^^^^^^^^^^^^\\njson.decoder.JSONDecodeError: Expecting property name enclosed in double quotes: line 1 column 2 (char 1)\\n', 'exception': JSONDecodeError('Expecting property name enclosed in double quotes: line 1 column 2 (char 1)')}\n"
     ]
    },
    {
     "name": "stderr",
     "output_type": "stream",
     "text": [
      "  3%|█▉                                                                   | 28548/1000000 [1:29:13<40:40:34,  6.63it/s]"
     ]
    },
    {
     "name": "stdout",
     "output_type": "stream",
     "text": [
      "{'traceback': 'Traceback (most recent call last):\\n  File \"C:\\\\Users\\\\ryans\\\\AppData\\\\Local\\\\Temp\\\\ipykernel_31184\\\\3515661714.py\", line 4, in <module>\\n    document = json.loads(payload)\\n               ^^^^^^^^^^^^^^^^^^^\\n  File \"C:\\\\Users\\\\ryans\\\\AppData\\\\Local\\\\Programs\\\\Python\\\\Python311\\\\Lib\\\\json\\\\__init__.py\", line 346, in loads\\n    return _default_decoder.decode(s)\\n           ^^^^^^^^^^^^^^^^^^^^^^^^^^\\n  File \"C:\\\\Users\\\\ryans\\\\AppData\\\\Local\\\\Programs\\\\Python\\\\Python311\\\\Lib\\\\json\\\\decoder.py\", line 337, in decode\\n    obj, end = self.raw_decode(s, idx=_w(s, 0).end())\\n               ^^^^^^^^^^^^^^^^^^^^^^^^^^^^^^^^^^^^^^\\n  File \"C:\\\\Users\\\\ryans\\\\AppData\\\\Local\\\\Programs\\\\Python\\\\Python311\\\\Lib\\\\json\\\\decoder.py\", line 353, in raw_decode\\n    obj, end = self.scan_once(s, idx)\\n               ^^^^^^^^^^^^^^^^^^^^^^\\njson.decoder.JSONDecodeError: Expecting property name enclosed in double quotes: line 1 column 2 (char 1)\\n', 'exception': JSONDecodeError('Expecting property name enclosed in double quotes: line 1 column 2 (char 1)')}\n"
     ]
    },
    {
     "name": "stderr",
     "output_type": "stream",
     "text": [
      "  3%|█▉                                                                   | 28724/1000000 [1:30:01<58:01:50,  4.65it/s]"
     ]
    },
    {
     "name": "stdout",
     "output_type": "stream",
     "text": [
      "{'traceback': 'Traceback (most recent call last):\\n  File \"C:\\\\Users\\\\ryans\\\\AppData\\\\Local\\\\Temp\\\\ipykernel_31184\\\\3515661714.py\", line 4, in <module>\\n    document = json.loads(payload)\\n               ^^^^^^^^^^^^^^^^^^^\\n  File \"C:\\\\Users\\\\ryans\\\\AppData\\\\Local\\\\Programs\\\\Python\\\\Python311\\\\Lib\\\\json\\\\__init__.py\", line 346, in loads\\n    return _default_decoder.decode(s)\\n           ^^^^^^^^^^^^^^^^^^^^^^^^^^\\n  File \"C:\\\\Users\\\\ryans\\\\AppData\\\\Local\\\\Programs\\\\Python\\\\Python311\\\\Lib\\\\json\\\\decoder.py\", line 337, in decode\\n    obj, end = self.raw_decode(s, idx=_w(s, 0).end())\\n               ^^^^^^^^^^^^^^^^^^^^^^^^^^^^^^^^^^^^^^\\n  File \"C:\\\\Users\\\\ryans\\\\AppData\\\\Local\\\\Programs\\\\Python\\\\Python311\\\\Lib\\\\json\\\\decoder.py\", line 353, in raw_decode\\n    obj, end = self.scan_once(s, idx)\\n               ^^^^^^^^^^^^^^^^^^^^^^\\njson.decoder.JSONDecodeError: Expecting property name enclosed in double quotes: line 1 column 2 (char 1)\\n', 'exception': JSONDecodeError('Expecting property name enclosed in double quotes: line 1 column 2 (char 1)')}\n"
     ]
    },
    {
     "name": "stderr",
     "output_type": "stream",
     "text": [
      "  3%|█▉                                                                  | 28733/1000000 [1:30:07<174:48:40,  1.54it/s]"
     ]
    },
    {
     "name": "stdout",
     "output_type": "stream",
     "text": [
      "{'traceback': 'Traceback (most recent call last):\\n  File \"C:\\\\Users\\\\ryans\\\\AppData\\\\Local\\\\Temp\\\\ipykernel_31184\\\\3515661714.py\", line 4, in <module>\\n    document = json.loads(payload)\\n               ^^^^^^^^^^^^^^^^^^^\\n  File \"C:\\\\Users\\\\ryans\\\\AppData\\\\Local\\\\Programs\\\\Python\\\\Python311\\\\Lib\\\\json\\\\__init__.py\", line 346, in loads\\n    return _default_decoder.decode(s)\\n           ^^^^^^^^^^^^^^^^^^^^^^^^^^\\n  File \"C:\\\\Users\\\\ryans\\\\AppData\\\\Local\\\\Programs\\\\Python\\\\Python311\\\\Lib\\\\json\\\\decoder.py\", line 337, in decode\\n    obj, end = self.raw_decode(s, idx=_w(s, 0).end())\\n               ^^^^^^^^^^^^^^^^^^^^^^^^^^^^^^^^^^^^^^\\n  File \"C:\\\\Users\\\\ryans\\\\AppData\\\\Local\\\\Programs\\\\Python\\\\Python311\\\\Lib\\\\json\\\\decoder.py\", line 355, in raw_decode\\n    raise JSONDecodeError(\"Expecting value\", s, err.value) from None\\njson.decoder.JSONDecodeError: Expecting value: line 1 column 1 (char 0)\\n', 'exception': JSONDecodeError('Expecting value: line 1 column 1 (char 0)')}\n"
     ]
    },
    {
     "name": "stderr",
     "output_type": "stream",
     "text": [
      "  3%|█▉                                                                  | 29011/1000000 [1:31:30<110:27:46,  2.44it/s]"
     ]
    },
    {
     "name": "stdout",
     "output_type": "stream",
     "text": [
      "{'traceback': 'Traceback (most recent call last):\\n  File \"C:\\\\Users\\\\ryans\\\\AppData\\\\Local\\\\Temp\\\\ipykernel_31184\\\\3515661714.py\", line 4, in <module>\\n    document = json.loads(payload)\\n               ^^^^^^^^^^^^^^^^^^^\\n  File \"C:\\\\Users\\\\ryans\\\\AppData\\\\Local\\\\Programs\\\\Python\\\\Python311\\\\Lib\\\\json\\\\__init__.py\", line 346, in loads\\n    return _default_decoder.decode(s)\\n           ^^^^^^^^^^^^^^^^^^^^^^^^^^\\n  File \"C:\\\\Users\\\\ryans\\\\AppData\\\\Local\\\\Programs\\\\Python\\\\Python311\\\\Lib\\\\json\\\\decoder.py\", line 337, in decode\\n    obj, end = self.raw_decode(s, idx=_w(s, 0).end())\\n               ^^^^^^^^^^^^^^^^^^^^^^^^^^^^^^^^^^^^^^\\n  File \"C:\\\\Users\\\\ryans\\\\AppData\\\\Local\\\\Programs\\\\Python\\\\Python311\\\\Lib\\\\json\\\\decoder.py\", line 353, in raw_decode\\n    obj, end = self.scan_once(s, idx)\\n               ^^^^^^^^^^^^^^^^^^^^^^\\njson.decoder.JSONDecodeError: Expecting property name enclosed in double quotes: line 1 column 2 (char 1)\\n', 'exception': JSONDecodeError('Expecting property name enclosed in double quotes: line 1 column 2 (char 1)')}\n"
     ]
    },
    {
     "name": "stderr",
     "output_type": "stream",
     "text": [
      "  3%|█▉                                                                  | 29114/1000000 [1:31:55<152:09:21,  1.77it/s]"
     ]
    },
    {
     "name": "stdout",
     "output_type": "stream",
     "text": [
      "{'traceback': 'Traceback (most recent call last):\\n  File \"C:\\\\Users\\\\ryans\\\\AppData\\\\Local\\\\Temp\\\\ipykernel_31184\\\\3515661714.py\", line 4, in <module>\\n    document = json.loads(payload)\\n               ^^^^^^^^^^^^^^^^^^^\\n  File \"C:\\\\Users\\\\ryans\\\\AppData\\\\Local\\\\Programs\\\\Python\\\\Python311\\\\Lib\\\\json\\\\__init__.py\", line 346, in loads\\n    return _default_decoder.decode(s)\\n           ^^^^^^^^^^^^^^^^^^^^^^^^^^\\n  File \"C:\\\\Users\\\\ryans\\\\AppData\\\\Local\\\\Programs\\\\Python\\\\Python311\\\\Lib\\\\json\\\\decoder.py\", line 337, in decode\\n    obj, end = self.raw_decode(s, idx=_w(s, 0).end())\\n               ^^^^^^^^^^^^^^^^^^^^^^^^^^^^^^^^^^^^^^\\n  File \"C:\\\\Users\\\\ryans\\\\AppData\\\\Local\\\\Programs\\\\Python\\\\Python311\\\\Lib\\\\json\\\\decoder.py\", line 355, in raw_decode\\n    raise JSONDecodeError(\"Expecting value\", s, err.value) from None\\njson.decoder.JSONDecodeError: Expecting value: line 1 column 1 (char 0)\\n', 'exception': JSONDecodeError('Expecting value: line 1 column 1 (char 0)')}\n"
     ]
    },
    {
     "name": "stderr",
     "output_type": "stream",
     "text": [
      "  3%|█▉                                                                  | 29192/1000000 [1:32:20<104:31:17,  2.58it/s]"
     ]
    },
    {
     "name": "stdout",
     "output_type": "stream",
     "text": [
      "{'traceback': 'Traceback (most recent call last):\\n  File \"C:\\\\Users\\\\ryans\\\\AppData\\\\Local\\\\Temp\\\\ipykernel_31184\\\\3515661714.py\", line 4, in <module>\\n    document = json.loads(payload)\\n               ^^^^^^^^^^^^^^^^^^^\\n  File \"C:\\\\Users\\\\ryans\\\\AppData\\\\Local\\\\Programs\\\\Python\\\\Python311\\\\Lib\\\\json\\\\__init__.py\", line 346, in loads\\n    return _default_decoder.decode(s)\\n           ^^^^^^^^^^^^^^^^^^^^^^^^^^\\n  File \"C:\\\\Users\\\\ryans\\\\AppData\\\\Local\\\\Programs\\\\Python\\\\Python311\\\\Lib\\\\json\\\\decoder.py\", line 337, in decode\\n    obj, end = self.raw_decode(s, idx=_w(s, 0).end())\\n               ^^^^^^^^^^^^^^^^^^^^^^^^^^^^^^^^^^^^^^\\n  File \"C:\\\\Users\\\\ryans\\\\AppData\\\\Local\\\\Programs\\\\Python\\\\Python311\\\\Lib\\\\json\\\\decoder.py\", line 355, in raw_decode\\n    raise JSONDecodeError(\"Expecting value\", s, err.value) from None\\njson.decoder.JSONDecodeError: Expecting value: line 1 column 1 (char 0)\\n', 'exception': JSONDecodeError('Expecting value: line 1 column 1 (char 0)')}\n"
     ]
    },
    {
     "name": "stderr",
     "output_type": "stream",
     "text": [
      "  3%|█▉                                                                  | 29326/1000000 [1:33:01<230:42:42,  1.17it/s]"
     ]
    },
    {
     "name": "stdout",
     "output_type": "stream",
     "text": [
      "{'traceback': 'Traceback (most recent call last):\\n  File \"C:\\\\Users\\\\ryans\\\\AppData\\\\Local\\\\Temp\\\\ipykernel_31184\\\\3515661714.py\", line 4, in <module>\\n    document = json.loads(payload)\\n               ^^^^^^^^^^^^^^^^^^^\\n  File \"C:\\\\Users\\\\ryans\\\\AppData\\\\Local\\\\Programs\\\\Python\\\\Python311\\\\Lib\\\\json\\\\__init__.py\", line 346, in loads\\n    return _default_decoder.decode(s)\\n           ^^^^^^^^^^^^^^^^^^^^^^^^^^\\n  File \"C:\\\\Users\\\\ryans\\\\AppData\\\\Local\\\\Programs\\\\Python\\\\Python311\\\\Lib\\\\json\\\\decoder.py\", line 337, in decode\\n    obj, end = self.raw_decode(s, idx=_w(s, 0).end())\\n               ^^^^^^^^^^^^^^^^^^^^^^^^^^^^^^^^^^^^^^\\n  File \"C:\\\\Users\\\\ryans\\\\AppData\\\\Local\\\\Programs\\\\Python\\\\Python311\\\\Lib\\\\json\\\\decoder.py\", line 355, in raw_decode\\n    raise JSONDecodeError(\"Expecting value\", s, err.value) from None\\njson.decoder.JSONDecodeError: Expecting value: line 1 column 1 (char 0)\\n', 'exception': JSONDecodeError('Expecting value: line 1 column 1 (char 0)')}\n"
     ]
    },
    {
     "name": "stderr",
     "output_type": "stream",
     "text": [
      "  3%|██                                                                   | 29358/1000000 [1:33:06<45:44:58,  5.89it/s]"
     ]
    },
    {
     "name": "stdout",
     "output_type": "stream",
     "text": [
      "{'traceback': 'Traceback (most recent call last):\\n  File \"C:\\\\Users\\\\ryans\\\\AppData\\\\Local\\\\Temp\\\\ipykernel_31184\\\\3515661714.py\", line 4, in <module>\\n    document = json.loads(payload)\\n               ^^^^^^^^^^^^^^^^^^^\\n  File \"C:\\\\Users\\\\ryans\\\\AppData\\\\Local\\\\Programs\\\\Python\\\\Python311\\\\Lib\\\\json\\\\__init__.py\", line 346, in loads\\n    return _default_decoder.decode(s)\\n           ^^^^^^^^^^^^^^^^^^^^^^^^^^\\n  File \"C:\\\\Users\\\\ryans\\\\AppData\\\\Local\\\\Programs\\\\Python\\\\Python311\\\\Lib\\\\json\\\\decoder.py\", line 337, in decode\\n    obj, end = self.raw_decode(s, idx=_w(s, 0).end())\\n               ^^^^^^^^^^^^^^^^^^^^^^^^^^^^^^^^^^^^^^\\n  File \"C:\\\\Users\\\\ryans\\\\AppData\\\\Local\\\\Programs\\\\Python\\\\Python311\\\\Lib\\\\json\\\\decoder.py\", line 353, in raw_decode\\n    obj, end = self.scan_once(s, idx)\\n               ^^^^^^^^^^^^^^^^^^^^^^\\njson.decoder.JSONDecodeError: Expecting property name enclosed in double quotes: line 1 column 2 (char 1)\\n', 'exception': JSONDecodeError('Expecting property name enclosed in double quotes: line 1 column 2 (char 1)')}\n"
     ]
    },
    {
     "name": "stderr",
     "output_type": "stream",
     "text": [
      "  3%|██                                                                   | 29438/1000000 [1:33:27<89:50:23,  3.00it/s]"
     ]
    },
    {
     "name": "stdout",
     "output_type": "stream",
     "text": [
      "{'traceback': 'Traceback (most recent call last):\\n  File \"C:\\\\Users\\\\ryans\\\\AppData\\\\Local\\\\Temp\\\\ipykernel_31184\\\\3515661714.py\", line 4, in <module>\\n    document = json.loads(payload)\\n               ^^^^^^^^^^^^^^^^^^^\\n  File \"C:\\\\Users\\\\ryans\\\\AppData\\\\Local\\\\Programs\\\\Python\\\\Python311\\\\Lib\\\\json\\\\__init__.py\", line 346, in loads\\n    return _default_decoder.decode(s)\\n           ^^^^^^^^^^^^^^^^^^^^^^^^^^\\n  File \"C:\\\\Users\\\\ryans\\\\AppData\\\\Local\\\\Programs\\\\Python\\\\Python311\\\\Lib\\\\json\\\\decoder.py\", line 337, in decode\\n    obj, end = self.raw_decode(s, idx=_w(s, 0).end())\\n               ^^^^^^^^^^^^^^^^^^^^^^^^^^^^^^^^^^^^^^\\n  File \"C:\\\\Users\\\\ryans\\\\AppData\\\\Local\\\\Programs\\\\Python\\\\Python311\\\\Lib\\\\json\\\\decoder.py\", line 353, in raw_decode\\n    obj, end = self.scan_once(s, idx)\\n               ^^^^^^^^^^^^^^^^^^^^^^\\njson.decoder.JSONDecodeError: Expecting property name enclosed in double quotes: line 1 column 2 (char 1)\\n', 'exception': JSONDecodeError('Expecting property name enclosed in double quotes: line 1 column 2 (char 1)')}\n"
     ]
    },
    {
     "name": "stderr",
     "output_type": "stream",
     "text": [
      "  3%|██                                                                  | 29607/1000000 [1:34:15<136:47:39,  1.97it/s]"
     ]
    },
    {
     "name": "stdout",
     "output_type": "stream",
     "text": [
      "{'traceback': 'Traceback (most recent call last):\\n  File \"C:\\\\Users\\\\ryans\\\\AppData\\\\Local\\\\Temp\\\\ipykernel_31184\\\\3515661714.py\", line 4, in <module>\\n    document = json.loads(payload)\\n               ^^^^^^^^^^^^^^^^^^^\\n  File \"C:\\\\Users\\\\ryans\\\\AppData\\\\Local\\\\Programs\\\\Python\\\\Python311\\\\Lib\\\\json\\\\__init__.py\", line 346, in loads\\n    return _default_decoder.decode(s)\\n           ^^^^^^^^^^^^^^^^^^^^^^^^^^\\n  File \"C:\\\\Users\\\\ryans\\\\AppData\\\\Local\\\\Programs\\\\Python\\\\Python311\\\\Lib\\\\json\\\\decoder.py\", line 337, in decode\\n    obj, end = self.raw_decode(s, idx=_w(s, 0).end())\\n               ^^^^^^^^^^^^^^^^^^^^^^^^^^^^^^^^^^^^^^\\n  File \"C:\\\\Users\\\\ryans\\\\AppData\\\\Local\\\\Programs\\\\Python\\\\Python311\\\\Lib\\\\json\\\\decoder.py\", line 355, in raw_decode\\n    raise JSONDecodeError(\"Expecting value\", s, err.value) from None\\njson.decoder.JSONDecodeError: Expecting value: line 1 column 1 (char 0)\\n', 'exception': JSONDecodeError('Expecting value: line 1 column 1 (char 0)')}\n"
     ]
    },
    {
     "name": "stderr",
     "output_type": "stream",
     "text": [
      "  3%|██                                                                   | 29821/1000000 [1:35:13<70:02:26,  3.85it/s]"
     ]
    },
    {
     "name": "stdout",
     "output_type": "stream",
     "text": [
      "{'traceback': 'Traceback (most recent call last):\\n  File \"C:\\\\Users\\\\ryans\\\\AppData\\\\Local\\\\Temp\\\\ipykernel_31184\\\\3515661714.py\", line 4, in <module>\\n    document = json.loads(payload)\\n               ^^^^^^^^^^^^^^^^^^^\\n  File \"C:\\\\Users\\\\ryans\\\\AppData\\\\Local\\\\Programs\\\\Python\\\\Python311\\\\Lib\\\\json\\\\__init__.py\", line 346, in loads\\n    return _default_decoder.decode(s)\\n           ^^^^^^^^^^^^^^^^^^^^^^^^^^\\n  File \"C:\\\\Users\\\\ryans\\\\AppData\\\\Local\\\\Programs\\\\Python\\\\Python311\\\\Lib\\\\json\\\\decoder.py\", line 337, in decode\\n    obj, end = self.raw_decode(s, idx=_w(s, 0).end())\\n               ^^^^^^^^^^^^^^^^^^^^^^^^^^^^^^^^^^^^^^\\n  File \"C:\\\\Users\\\\ryans\\\\AppData\\\\Local\\\\Programs\\\\Python\\\\Python311\\\\Lib\\\\json\\\\decoder.py\", line 353, in raw_decode\\n    obj, end = self.scan_once(s, idx)\\n               ^^^^^^^^^^^^^^^^^^^^^^\\njson.decoder.JSONDecodeError: Expecting property name enclosed in double quotes: line 1 column 2 (char 1)\\n', 'exception': JSONDecodeError('Expecting property name enclosed in double quotes: line 1 column 2 (char 1)')}\n"
     ]
    },
    {
     "name": "stderr",
     "output_type": "stream",
     "text": [
      "  3%|██                                                                   | 29990/1000000 [1:35:55<59:27:57,  4.53it/s]"
     ]
    },
    {
     "name": "stdout",
     "output_type": "stream",
     "text": [
      "{'traceback': 'Traceback (most recent call last):\\n  File \"C:\\\\Users\\\\ryans\\\\AppData\\\\Local\\\\Temp\\\\ipykernel_31184\\\\3515661714.py\", line 4, in <module>\\n    document = json.loads(payload)\\n               ^^^^^^^^^^^^^^^^^^^\\n  File \"C:\\\\Users\\\\ryans\\\\AppData\\\\Local\\\\Programs\\\\Python\\\\Python311\\\\Lib\\\\json\\\\__init__.py\", line 346, in loads\\n    return _default_decoder.decode(s)\\n           ^^^^^^^^^^^^^^^^^^^^^^^^^^\\n  File \"C:\\\\Users\\\\ryans\\\\AppData\\\\Local\\\\Programs\\\\Python\\\\Python311\\\\Lib\\\\json\\\\decoder.py\", line 337, in decode\\n    obj, end = self.raw_decode(s, idx=_w(s, 0).end())\\n               ^^^^^^^^^^^^^^^^^^^^^^^^^^^^^^^^^^^^^^\\n  File \"C:\\\\Users\\\\ryans\\\\AppData\\\\Local\\\\Programs\\\\Python\\\\Python311\\\\Lib\\\\json\\\\decoder.py\", line 355, in raw_decode\\n    raise JSONDecodeError(\"Expecting value\", s, err.value) from None\\njson.decoder.JSONDecodeError: Expecting value: line 1 column 1 (char 0)\\n', 'exception': JSONDecodeError('Expecting value: line 1 column 1 (char 0)')}\n"
     ]
    },
    {
     "name": "stderr",
     "output_type": "stream",
     "text": [
      "  3%|██                                                                 | 30015/1000000 [1:36:25<1223:29:54,  4.54s/it]"
     ]
    },
    {
     "name": "stdout",
     "output_type": "stream",
     "text": [
      "{'traceback': 'Traceback (most recent call last):\\n  File \"C:\\\\Users\\\\ryans\\\\source\\\\repos\\\\venv\\\\Python311\\\\Lib\\\\site-packages\\\\urllib3\\\\connection.py\", line 174, in _new_conn\\n    conn = connection.create_connection(\\n           ^^^^^^^^^^^^^^^^^^^^^^^^^^^^^\\n  File \"C:\\\\Users\\\\ryans\\\\source\\\\repos\\\\venv\\\\Python311\\\\Lib\\\\site-packages\\\\urllib3\\\\util\\\\connection.py\", line 95, in create_connection\\n    raise err\\n  File \"C:\\\\Users\\\\ryans\\\\source\\\\repos\\\\venv\\\\Python311\\\\Lib\\\\site-packages\\\\urllib3\\\\util\\\\connection.py\", line 85, in create_connection\\n    sock.connect(sa)\\nTimeoutError: [WinError 10060] A connection attempt failed because the connected party did not properly respond after a period of time, or established connection failed because connected host has failed to respond\\n\\nDuring handling of the above exception, another exception occurred:\\n\\nTraceback (most recent call last):\\n  File \"C:\\\\Users\\\\ryans\\\\source\\\\repos\\\\venv\\\\Python311\\\\Lib\\\\site-packages\\\\urllib3\\\\connectionpool.py\", line 703, in urlopen\\n    httplib_response = self._make_request(\\n                       ^^^^^^^^^^^^^^^^^^^\\n  File \"C:\\\\Users\\\\ryans\\\\source\\\\repos\\\\venv\\\\Python311\\\\Lib\\\\site-packages\\\\urllib3\\\\connectionpool.py\", line 386, in _make_request\\n    self._validate_conn(conn)\\n  File \"C:\\\\Users\\\\ryans\\\\source\\\\repos\\\\venv\\\\Python311\\\\Lib\\\\site-packages\\\\urllib3\\\\connectionpool.py\", line 1042, in _validate_conn\\n    conn.connect()\\n  File \"C:\\\\Users\\\\ryans\\\\source\\\\repos\\\\venv\\\\Python311\\\\Lib\\\\site-packages\\\\urllib3\\\\connection.py\", line 358, in connect\\n    self.sock = conn = self._new_conn()\\n                       ^^^^^^^^^^^^^^^^\\n  File \"C:\\\\Users\\\\ryans\\\\source\\\\repos\\\\venv\\\\Python311\\\\Lib\\\\site-packages\\\\urllib3\\\\connection.py\", line 179, in _new_conn\\n    raise ConnectTimeoutError(\\nurllib3.exceptions.ConnectTimeoutError: (<urllib3.connection.HTTPSConnection object at 0x000002A66BFA3590>, \\'Connection to www.kaggleusercontent.com timed out. (connect timeout=None)\\')\\n\\nDuring handling of the above exception, another exception occurred:\\n\\nTraceback (most recent call last):\\n  File \"C:\\\\Users\\\\ryans\\\\source\\\\repos\\\\venv\\\\Python311\\\\Lib\\\\site-packages\\\\requests\\\\adapters.py\", line 489, in send\\n    resp = conn.urlopen(\\n           ^^^^^^^^^^^^^\\n  File \"C:\\\\Users\\\\ryans\\\\source\\\\repos\\\\venv\\\\Python311\\\\Lib\\\\site-packages\\\\urllib3\\\\connectionpool.py\", line 787, in urlopen\\n    retries = retries.increment(\\n              ^^^^^^^^^^^^^^^^^^\\n  File \"C:\\\\Users\\\\ryans\\\\source\\\\repos\\\\venv\\\\Python311\\\\Lib\\\\site-packages\\\\urllib3\\\\util\\\\retry.py\", line 592, in increment\\n    raise MaxRetryError(_pool, url, error or ResponseError(cause))\\nurllib3.exceptions.MaxRetryError: HTTPSConnectionPool(host=\\'www.kaggleusercontent.com\\', port=443): Max retries exceeded with url: /episodes/45878166.json (Caused by ConnectTimeoutError(<urllib3.connection.HTTPSConnection object at 0x000002A66BFA3590>, \\'Connection to www.kaggleusercontent.com timed out. (connect timeout=None)\\'))\\n\\nDuring handling of the above exception, another exception occurred:\\n\\nTraceback (most recent call last):\\n  File \"C:\\\\Users\\\\ryans\\\\AppData\\\\Local\\\\Temp\\\\ipykernel_31184\\\\3515661714.py\", line 3, in <module>\\n    payload = requests.get(f\\'https://www.kaggleusercontent.com/episodes/{starting_point-i}.json\\').text\\n              ^^^^^^^^^^^^^^^^^^^^^^^^^^^^^^^^^^^^^^^^^^^^^^^^^^^^^^^^^^^^^^^^^^^^^^^^^^^^^^^^^^^\\n  File \"C:\\\\Users\\\\ryans\\\\source\\\\repos\\\\venv\\\\Python311\\\\Lib\\\\site-packages\\\\requests\\\\api.py\", line 73, in get\\n    return request(\"get\", url, params=params, **kwargs)\\n           ^^^^^^^^^^^^^^^^^^^^^^^^^^^^^^^^^^^^^^^^^^^^\\n  File \"C:\\\\Users\\\\ryans\\\\source\\\\repos\\\\venv\\\\Python311\\\\Lib\\\\site-packages\\\\requests\\\\api.py\", line 59, in request\\n    return session.request(method=method, url=url, **kwargs)\\n           ^^^^^^^^^^^^^^^^^^^^^^^^^^^^^^^^^^^^^^^^^^^^^^^^^\\n  File \"C:\\\\Users\\\\ryans\\\\source\\\\repos\\\\venv\\\\Python311\\\\Lib\\\\site-packages\\\\requests\\\\sessions.py\", line 587, in request\\n    resp = self.send(prep, **send_kwargs)\\n           ^^^^^^^^^^^^^^^^^^^^^^^^^^^^^^\\n  File \"C:\\\\Users\\\\ryans\\\\source\\\\repos\\\\venv\\\\Python311\\\\Lib\\\\site-packages\\\\requests\\\\sessions.py\", line 701, in send\\n    r = adapter.send(request, **kwargs)\\n        ^^^^^^^^^^^^^^^^^^^^^^^^^^^^^^^\\n  File \"C:\\\\Users\\\\ryans\\\\source\\\\repos\\\\venv\\\\Python311\\\\Lib\\\\site-packages\\\\requests\\\\adapters.py\", line 553, in send\\n    raise ConnectTimeout(e, request=request)\\nrequests.exceptions.ConnectTimeout: HTTPSConnectionPool(host=\\'www.kaggleusercontent.com\\', port=443): Max retries exceeded with url: /episodes/45878166.json (Caused by ConnectTimeoutError(<urllib3.connection.HTTPSConnection object at 0x000002A66BFA3590>, \\'Connection to www.kaggleusercontent.com timed out. (connect timeout=None)\\'))\\n', 'exception': ConnectTimeout(MaxRetryError(\"HTTPSConnectionPool(host='www.kaggleusercontent.com', port=443): Max retries exceeded with url: /episodes/45878166.json (Caused by ConnectTimeoutError(<urllib3.connection.HTTPSConnection object at 0x000002A66BFA3590>, 'Connection to www.kaggleusercontent.com timed out. (connect timeout=None)'))\"))}\n"
     ]
    },
    {
     "name": "stderr",
     "output_type": "stream",
     "text": [
      "  3%|██                                                                   | 30030/1000000 [1:36:28<73:41:30,  3.66it/s]"
     ]
    },
    {
     "name": "stdout",
     "output_type": "stream",
     "text": [
      "{'traceback': 'Traceback (most recent call last):\\n  File \"C:\\\\Users\\\\ryans\\\\AppData\\\\Local\\\\Temp\\\\ipykernel_31184\\\\3515661714.py\", line 4, in <module>\\n    document = json.loads(payload)\\n               ^^^^^^^^^^^^^^^^^^^\\n  File \"C:\\\\Users\\\\ryans\\\\AppData\\\\Local\\\\Programs\\\\Python\\\\Python311\\\\Lib\\\\json\\\\__init__.py\", line 346, in loads\\n    return _default_decoder.decode(s)\\n           ^^^^^^^^^^^^^^^^^^^^^^^^^^\\n  File \"C:\\\\Users\\\\ryans\\\\AppData\\\\Local\\\\Programs\\\\Python\\\\Python311\\\\Lib\\\\json\\\\decoder.py\", line 337, in decode\\n    obj, end = self.raw_decode(s, idx=_w(s, 0).end())\\n               ^^^^^^^^^^^^^^^^^^^^^^^^^^^^^^^^^^^^^^\\n  File \"C:\\\\Users\\\\ryans\\\\AppData\\\\Local\\\\Programs\\\\Python\\\\Python311\\\\Lib\\\\json\\\\decoder.py\", line 353, in raw_decode\\n    obj, end = self.scan_once(s, idx)\\n               ^^^^^^^^^^^^^^^^^^^^^^\\njson.decoder.JSONDecodeError: Expecting property name enclosed in double quotes: line 1 column 2 (char 1)\\n', 'exception': JSONDecodeError('Expecting property name enclosed in double quotes: line 1 column 2 (char 1)')}\n"
     ]
    },
    {
     "name": "stderr",
     "output_type": "stream",
     "text": [
      "  3%|██                                                                   | 30413/1000000 [1:38:13<64:03:52,  4.20it/s]"
     ]
    },
    {
     "name": "stdout",
     "output_type": "stream",
     "text": [
      "{'traceback': 'Traceback (most recent call last):\\n  File \"C:\\\\Users\\\\ryans\\\\AppData\\\\Local\\\\Temp\\\\ipykernel_31184\\\\3515661714.py\", line 4, in <module>\\n    document = json.loads(payload)\\n               ^^^^^^^^^^^^^^^^^^^\\n  File \"C:\\\\Users\\\\ryans\\\\AppData\\\\Local\\\\Programs\\\\Python\\\\Python311\\\\Lib\\\\json\\\\__init__.py\", line 346, in loads\\n    return _default_decoder.decode(s)\\n           ^^^^^^^^^^^^^^^^^^^^^^^^^^\\n  File \"C:\\\\Users\\\\ryans\\\\AppData\\\\Local\\\\Programs\\\\Python\\\\Python311\\\\Lib\\\\json\\\\decoder.py\", line 337, in decode\\n    obj, end = self.raw_decode(s, idx=_w(s, 0).end())\\n               ^^^^^^^^^^^^^^^^^^^^^^^^^^^^^^^^^^^^^^\\n  File \"C:\\\\Users\\\\ryans\\\\AppData\\\\Local\\\\Programs\\\\Python\\\\Python311\\\\Lib\\\\json\\\\decoder.py\", line 353, in raw_decode\\n    obj, end = self.scan_once(s, idx)\\n               ^^^^^^^^^^^^^^^^^^^^^^\\njson.decoder.JSONDecodeError: Expecting property name enclosed in double quotes: line 1 column 2 (char 1)\\n', 'exception': JSONDecodeError('Expecting property name enclosed in double quotes: line 1 column 2 (char 1)')}\n"
     ]
    },
    {
     "name": "stderr",
     "output_type": "stream",
     "text": [
      "  3%|██                                                                   | 30691/1000000 [1:39:29<56:50:25,  4.74it/s]"
     ]
    },
    {
     "name": "stdout",
     "output_type": "stream",
     "text": [
      "{'traceback': 'Traceback (most recent call last):\\n  File \"C:\\\\Users\\\\ryans\\\\AppData\\\\Local\\\\Temp\\\\ipykernel_31184\\\\3515661714.py\", line 4, in <module>\\n    document = json.loads(payload)\\n               ^^^^^^^^^^^^^^^^^^^\\n  File \"C:\\\\Users\\\\ryans\\\\AppData\\\\Local\\\\Programs\\\\Python\\\\Python311\\\\Lib\\\\json\\\\__init__.py\", line 346, in loads\\n    return _default_decoder.decode(s)\\n           ^^^^^^^^^^^^^^^^^^^^^^^^^^\\n  File \"C:\\\\Users\\\\ryans\\\\AppData\\\\Local\\\\Programs\\\\Python\\\\Python311\\\\Lib\\\\json\\\\decoder.py\", line 337, in decode\\n    obj, end = self.raw_decode(s, idx=_w(s, 0).end())\\n               ^^^^^^^^^^^^^^^^^^^^^^^^^^^^^^^^^^^^^^\\n  File \"C:\\\\Users\\\\ryans\\\\AppData\\\\Local\\\\Programs\\\\Python\\\\Python311\\\\Lib\\\\json\\\\decoder.py\", line 355, in raw_decode\\n    raise JSONDecodeError(\"Expecting value\", s, err.value) from None\\njson.decoder.JSONDecodeError: Expecting value: line 1 column 1 (char 0)\\n', 'exception': JSONDecodeError('Expecting value: line 1 column 1 (char 0)')}\n"
     ]
    },
    {
     "name": "stderr",
     "output_type": "stream",
     "text": [
      "  3%|██                                                                   | 30768/1000000 [1:39:50<92:19:10,  2.92it/s]"
     ]
    },
    {
     "name": "stdout",
     "output_type": "stream",
     "text": [
      "{'traceback': 'Traceback (most recent call last):\\n  File \"C:\\\\Users\\\\ryans\\\\AppData\\\\Local\\\\Temp\\\\ipykernel_31184\\\\3515661714.py\", line 4, in <module>\\n    document = json.loads(payload)\\n               ^^^^^^^^^^^^^^^^^^^\\n  File \"C:\\\\Users\\\\ryans\\\\AppData\\\\Local\\\\Programs\\\\Python\\\\Python311\\\\Lib\\\\json\\\\__init__.py\", line 346, in loads\\n    return _default_decoder.decode(s)\\n           ^^^^^^^^^^^^^^^^^^^^^^^^^^\\n  File \"C:\\\\Users\\\\ryans\\\\AppData\\\\Local\\\\Programs\\\\Python\\\\Python311\\\\Lib\\\\json\\\\decoder.py\", line 337, in decode\\n    obj, end = self.raw_decode(s, idx=_w(s, 0).end())\\n               ^^^^^^^^^^^^^^^^^^^^^^^^^^^^^^^^^^^^^^\\n  File \"C:\\\\Users\\\\ryans\\\\AppData\\\\Local\\\\Programs\\\\Python\\\\Python311\\\\Lib\\\\json\\\\decoder.py\", line 355, in raw_decode\\n    raise JSONDecodeError(\"Expecting value\", s, err.value) from None\\njson.decoder.JSONDecodeError: Expecting value: line 1 column 1 (char 0)\\n', 'exception': JSONDecodeError('Expecting value: line 1 column 1 (char 0)')}\n"
     ]
    },
    {
     "name": "stderr",
     "output_type": "stream",
     "text": [
      "  3%|██▏                                                                 | 31296/1000000 [1:42:16<146:36:36,  1.84it/s]"
     ]
    },
    {
     "name": "stdout",
     "output_type": "stream",
     "text": [
      "{'traceback': 'Traceback (most recent call last):\\n  File \"C:\\\\Users\\\\ryans\\\\AppData\\\\Local\\\\Temp\\\\ipykernel_31184\\\\3515661714.py\", line 4, in <module>\\n    document = json.loads(payload)\\n               ^^^^^^^^^^^^^^^^^^^\\n  File \"C:\\\\Users\\\\ryans\\\\AppData\\\\Local\\\\Programs\\\\Python\\\\Python311\\\\Lib\\\\json\\\\__init__.py\", line 346, in loads\\n    return _default_decoder.decode(s)\\n           ^^^^^^^^^^^^^^^^^^^^^^^^^^\\n  File \"C:\\\\Users\\\\ryans\\\\AppData\\\\Local\\\\Programs\\\\Python\\\\Python311\\\\Lib\\\\json\\\\decoder.py\", line 337, in decode\\n    obj, end = self.raw_decode(s, idx=_w(s, 0).end())\\n               ^^^^^^^^^^^^^^^^^^^^^^^^^^^^^^^^^^^^^^\\n  File \"C:\\\\Users\\\\ryans\\\\AppData\\\\Local\\\\Programs\\\\Python\\\\Python311\\\\Lib\\\\json\\\\decoder.py\", line 355, in raw_decode\\n    raise JSONDecodeError(\"Expecting value\", s, err.value) from None\\njson.decoder.JSONDecodeError: Expecting value: line 1 column 1 (char 0)\\n', 'exception': JSONDecodeError('Expecting value: line 1 column 1 (char 0)')}\n"
     ]
    },
    {
     "name": "stderr",
     "output_type": "stream",
     "text": [
      "  3%|██▏                                                                 | 31498/1000000 [1:43:07<108:57:53,  2.47it/s]"
     ]
    },
    {
     "name": "stdout",
     "output_type": "stream",
     "text": [
      "{'traceback': 'Traceback (most recent call last):\\n  File \"C:\\\\Users\\\\ryans\\\\AppData\\\\Local\\\\Temp\\\\ipykernel_31184\\\\3515661714.py\", line 4, in <module>\\n    document = json.loads(payload)\\n               ^^^^^^^^^^^^^^^^^^^\\n  File \"C:\\\\Users\\\\ryans\\\\AppData\\\\Local\\\\Programs\\\\Python\\\\Python311\\\\Lib\\\\json\\\\__init__.py\", line 346, in loads\\n    return _default_decoder.decode(s)\\n           ^^^^^^^^^^^^^^^^^^^^^^^^^^\\n  File \"C:\\\\Users\\\\ryans\\\\AppData\\\\Local\\\\Programs\\\\Python\\\\Python311\\\\Lib\\\\json\\\\decoder.py\", line 337, in decode\\n    obj, end = self.raw_decode(s, idx=_w(s, 0).end())\\n               ^^^^^^^^^^^^^^^^^^^^^^^^^^^^^^^^^^^^^^\\n  File \"C:\\\\Users\\\\ryans\\\\AppData\\\\Local\\\\Programs\\\\Python\\\\Python311\\\\Lib\\\\json\\\\decoder.py\", line 355, in raw_decode\\n    raise JSONDecodeError(\"Expecting value\", s, err.value) from None\\njson.decoder.JSONDecodeError: Expecting value: line 1 column 1 (char 0)\\n', 'exception': JSONDecodeError('Expecting value: line 1 column 1 (char 0)')}\n"
     ]
    },
    {
     "name": "stderr",
     "output_type": "stream",
     "text": [
      "  3%|██▏                                                                  | 31846/1000000 [1:44:39<39:48:38,  6.76it/s]"
     ]
    },
    {
     "name": "stdout",
     "output_type": "stream",
     "text": [
      "{'traceback': 'Traceback (most recent call last):\\n  File \"C:\\\\Users\\\\ryans\\\\AppData\\\\Local\\\\Temp\\\\ipykernel_31184\\\\3515661714.py\", line 4, in <module>\\n    document = json.loads(payload)\\n               ^^^^^^^^^^^^^^^^^^^\\n  File \"C:\\\\Users\\\\ryans\\\\AppData\\\\Local\\\\Programs\\\\Python\\\\Python311\\\\Lib\\\\json\\\\__init__.py\", line 346, in loads\\n    return _default_decoder.decode(s)\\n           ^^^^^^^^^^^^^^^^^^^^^^^^^^\\n  File \"C:\\\\Users\\\\ryans\\\\AppData\\\\Local\\\\Programs\\\\Python\\\\Python311\\\\Lib\\\\json\\\\decoder.py\", line 337, in decode\\n    obj, end = self.raw_decode(s, idx=_w(s, 0).end())\\n               ^^^^^^^^^^^^^^^^^^^^^^^^^^^^^^^^^^^^^^\\n  File \"C:\\\\Users\\\\ryans\\\\AppData\\\\Local\\\\Programs\\\\Python\\\\Python311\\\\Lib\\\\json\\\\decoder.py\", line 353, in raw_decode\\n    obj, end = self.scan_once(s, idx)\\n               ^^^^^^^^^^^^^^^^^^^^^^\\njson.decoder.JSONDecodeError: Expecting property name enclosed in double quotes: line 1 column 2 (char 1)\\n', 'exception': JSONDecodeError('Expecting property name enclosed in double quotes: line 1 column 2 (char 1)')}\n"
     ]
    },
    {
     "name": "stderr",
     "output_type": "stream",
     "text": [
      "  3%|██▏                                                                 | 31960/1000000 [1:45:16<147:59:51,  1.82it/s]"
     ]
    },
    {
     "name": "stdout",
     "output_type": "stream",
     "text": [
      "{'traceback': 'Traceback (most recent call last):\\n  File \"C:\\\\Users\\\\ryans\\\\AppData\\\\Local\\\\Temp\\\\ipykernel_31184\\\\3515661714.py\", line 4, in <module>\\n    document = json.loads(payload)\\n               ^^^^^^^^^^^^^^^^^^^\\n  File \"C:\\\\Users\\\\ryans\\\\AppData\\\\Local\\\\Programs\\\\Python\\\\Python311\\\\Lib\\\\json\\\\__init__.py\", line 346, in loads\\n    return _default_decoder.decode(s)\\n           ^^^^^^^^^^^^^^^^^^^^^^^^^^\\n  File \"C:\\\\Users\\\\ryans\\\\AppData\\\\Local\\\\Programs\\\\Python\\\\Python311\\\\Lib\\\\json\\\\decoder.py\", line 337, in decode\\n    obj, end = self.raw_decode(s, idx=_w(s, 0).end())\\n               ^^^^^^^^^^^^^^^^^^^^^^^^^^^^^^^^^^^^^^\\n  File \"C:\\\\Users\\\\ryans\\\\AppData\\\\Local\\\\Programs\\\\Python\\\\Python311\\\\Lib\\\\json\\\\decoder.py\", line 353, in raw_decode\\n    obj, end = self.scan_once(s, idx)\\n               ^^^^^^^^^^^^^^^^^^^^^^\\njson.decoder.JSONDecodeError: Expecting property name enclosed in double quotes: line 1 column 2 (char 1)\\n', 'exception': JSONDecodeError('Expecting property name enclosed in double quotes: line 1 column 2 (char 1)')}\n"
     ]
    },
    {
     "name": "stderr",
     "output_type": "stream",
     "text": [
      "  3%|██▏                                                                 | 32057/1000000 [1:45:38<129:31:24,  2.08it/s]"
     ]
    },
    {
     "name": "stdout",
     "output_type": "stream",
     "text": [
      "{'traceback': 'Traceback (most recent call last):\\n  File \"C:\\\\Users\\\\ryans\\\\AppData\\\\Local\\\\Temp\\\\ipykernel_31184\\\\3515661714.py\", line 4, in <module>\\n    document = json.loads(payload)\\n               ^^^^^^^^^^^^^^^^^^^\\n  File \"C:\\\\Users\\\\ryans\\\\AppData\\\\Local\\\\Programs\\\\Python\\\\Python311\\\\Lib\\\\json\\\\__init__.py\", line 346, in loads\\n    return _default_decoder.decode(s)\\n           ^^^^^^^^^^^^^^^^^^^^^^^^^^\\n  File \"C:\\\\Users\\\\ryans\\\\AppData\\\\Local\\\\Programs\\\\Python\\\\Python311\\\\Lib\\\\json\\\\decoder.py\", line 337, in decode\\n    obj, end = self.raw_decode(s, idx=_w(s, 0).end())\\n               ^^^^^^^^^^^^^^^^^^^^^^^^^^^^^^^^^^^^^^\\n  File \"C:\\\\Users\\\\ryans\\\\AppData\\\\Local\\\\Programs\\\\Python\\\\Python311\\\\Lib\\\\json\\\\decoder.py\", line 355, in raw_decode\\n    raise JSONDecodeError(\"Expecting value\", s, err.value) from None\\njson.decoder.JSONDecodeError: Expecting value: line 1 column 1 (char 0)\\n', 'exception': JSONDecodeError('Expecting value: line 1 column 1 (char 0)')}\n"
     ]
    },
    {
     "name": "stderr",
     "output_type": "stream",
     "text": [
      "  3%|██▏                                                                 | 32065/1000000 [1:45:43<189:14:11,  1.42it/s]"
     ]
    },
    {
     "name": "stdout",
     "output_type": "stream",
     "text": [
      "{'traceback': 'Traceback (most recent call last):\\n  File \"C:\\\\Users\\\\ryans\\\\AppData\\\\Local\\\\Temp\\\\ipykernel_31184\\\\3515661714.py\", line 4, in <module>\\n    document = json.loads(payload)\\n               ^^^^^^^^^^^^^^^^^^^\\n  File \"C:\\\\Users\\\\ryans\\\\AppData\\\\Local\\\\Programs\\\\Python\\\\Python311\\\\Lib\\\\json\\\\__init__.py\", line 346, in loads\\n    return _default_decoder.decode(s)\\n           ^^^^^^^^^^^^^^^^^^^^^^^^^^\\n  File \"C:\\\\Users\\\\ryans\\\\AppData\\\\Local\\\\Programs\\\\Python\\\\Python311\\\\Lib\\\\json\\\\decoder.py\", line 337, in decode\\n    obj, end = self.raw_decode(s, idx=_w(s, 0).end())\\n               ^^^^^^^^^^^^^^^^^^^^^^^^^^^^^^^^^^^^^^\\n  File \"C:\\\\Users\\\\ryans\\\\AppData\\\\Local\\\\Programs\\\\Python\\\\Python311\\\\Lib\\\\json\\\\decoder.py\", line 355, in raw_decode\\n    raise JSONDecodeError(\"Expecting value\", s, err.value) from None\\njson.decoder.JSONDecodeError: Expecting value: line 1 column 1 (char 0)\\n', 'exception': JSONDecodeError('Expecting value: line 1 column 1 (char 0)')}\n"
     ]
    },
    {
     "name": "stderr",
     "output_type": "stream",
     "text": [
      "  3%|██▏                                                                  | 32379/1000000 [1:47:08<81:12:34,  3.31it/s]"
     ]
    },
    {
     "name": "stdout",
     "output_type": "stream",
     "text": [
      "{'traceback': 'Traceback (most recent call last):\\n  File \"C:\\\\Users\\\\ryans\\\\AppData\\\\Local\\\\Temp\\\\ipykernel_31184\\\\3515661714.py\", line 4, in <module>\\n    document = json.loads(payload)\\n               ^^^^^^^^^^^^^^^^^^^\\n  File \"C:\\\\Users\\\\ryans\\\\AppData\\\\Local\\\\Programs\\\\Python\\\\Python311\\\\Lib\\\\json\\\\__init__.py\", line 346, in loads\\n    return _default_decoder.decode(s)\\n           ^^^^^^^^^^^^^^^^^^^^^^^^^^\\n  File \"C:\\\\Users\\\\ryans\\\\AppData\\\\Local\\\\Programs\\\\Python\\\\Python311\\\\Lib\\\\json\\\\decoder.py\", line 337, in decode\\n    obj, end = self.raw_decode(s, idx=_w(s, 0).end())\\n               ^^^^^^^^^^^^^^^^^^^^^^^^^^^^^^^^^^^^^^\\n  File \"C:\\\\Users\\\\ryans\\\\AppData\\\\Local\\\\Programs\\\\Python\\\\Python311\\\\Lib\\\\json\\\\decoder.py\", line 353, in raw_decode\\n    obj, end = self.scan_once(s, idx)\\n               ^^^^^^^^^^^^^^^^^^^^^^\\njson.decoder.JSONDecodeError: Expecting property name enclosed in double quotes: line 1 column 2 (char 1)\\n', 'exception': JSONDecodeError('Expecting property name enclosed in double quotes: line 1 column 2 (char 1)')}\n"
     ]
    },
    {
     "name": "stderr",
     "output_type": "stream",
     "text": [
      "  3%|██▎                                                                  | 32616/1000000 [1:48:10<45:12:58,  5.94it/s]"
     ]
    },
    {
     "name": "stdout",
     "output_type": "stream",
     "text": [
      "{'traceback': 'Traceback (most recent call last):\\n  File \"C:\\\\Users\\\\ryans\\\\AppData\\\\Local\\\\Temp\\\\ipykernel_31184\\\\3515661714.py\", line 4, in <module>\\n    document = json.loads(payload)\\n               ^^^^^^^^^^^^^^^^^^^\\n  File \"C:\\\\Users\\\\ryans\\\\AppData\\\\Local\\\\Programs\\\\Python\\\\Python311\\\\Lib\\\\json\\\\__init__.py\", line 346, in loads\\n    return _default_decoder.decode(s)\\n           ^^^^^^^^^^^^^^^^^^^^^^^^^^\\n  File \"C:\\\\Users\\\\ryans\\\\AppData\\\\Local\\\\Programs\\\\Python\\\\Python311\\\\Lib\\\\json\\\\decoder.py\", line 337, in decode\\n    obj, end = self.raw_decode(s, idx=_w(s, 0).end())\\n               ^^^^^^^^^^^^^^^^^^^^^^^^^^^^^^^^^^^^^^\\n  File \"C:\\\\Users\\\\ryans\\\\AppData\\\\Local\\\\Programs\\\\Python\\\\Python311\\\\Lib\\\\json\\\\decoder.py\", line 355, in raw_decode\\n    raise JSONDecodeError(\"Expecting value\", s, err.value) from None\\njson.decoder.JSONDecodeError: Expecting value: line 1 column 1 (char 0)\\n', 'exception': JSONDecodeError('Expecting value: line 1 column 1 (char 0)')}\n"
     ]
    },
    {
     "name": "stderr",
     "output_type": "stream",
     "text": [
      "  3%|██▏                                                                 | 32622/1000000 [1:48:14<143:37:07,  1.87it/s]"
     ]
    },
    {
     "name": "stdout",
     "output_type": "stream",
     "text": [
      "{'traceback': 'Traceback (most recent call last):\\n  File \"C:\\\\Users\\\\ryans\\\\AppData\\\\Local\\\\Temp\\\\ipykernel_31184\\\\3515661714.py\", line 4, in <module>\\n    document = json.loads(payload)\\n               ^^^^^^^^^^^^^^^^^^^\\n  File \"C:\\\\Users\\\\ryans\\\\AppData\\\\Local\\\\Programs\\\\Python\\\\Python311\\\\Lib\\\\json\\\\__init__.py\", line 346, in loads\\n    return _default_decoder.decode(s)\\n           ^^^^^^^^^^^^^^^^^^^^^^^^^^\\n  File \"C:\\\\Users\\\\ryans\\\\AppData\\\\Local\\\\Programs\\\\Python\\\\Python311\\\\Lib\\\\json\\\\decoder.py\", line 337, in decode\\n    obj, end = self.raw_decode(s, idx=_w(s, 0).end())\\n               ^^^^^^^^^^^^^^^^^^^^^^^^^^^^^^^^^^^^^^\\n  File \"C:\\\\Users\\\\ryans\\\\AppData\\\\Local\\\\Programs\\\\Python\\\\Python311\\\\Lib\\\\json\\\\decoder.py\", line 355, in raw_decode\\n    raise JSONDecodeError(\"Expecting value\", s, err.value) from None\\njson.decoder.JSONDecodeError: Expecting value: line 1 column 1 (char 0)\\n', 'exception': JSONDecodeError('Expecting value: line 1 column 1 (char 0)')}\n"
     ]
    },
    {
     "name": "stderr",
     "output_type": "stream",
     "text": [
      "  3%|██▎                                                                  | 32764/1000000 [1:48:52<68:11:04,  3.94it/s]"
     ]
    },
    {
     "name": "stdout",
     "output_type": "stream",
     "text": [
      "{'traceback': 'Traceback (most recent call last):\\n  File \"C:\\\\Users\\\\ryans\\\\AppData\\\\Local\\\\Temp\\\\ipykernel_31184\\\\3515661714.py\", line 4, in <module>\\n    document = json.loads(payload)\\n               ^^^^^^^^^^^^^^^^^^^\\n  File \"C:\\\\Users\\\\ryans\\\\AppData\\\\Local\\\\Programs\\\\Python\\\\Python311\\\\Lib\\\\json\\\\__init__.py\", line 346, in loads\\n    return _default_decoder.decode(s)\\n           ^^^^^^^^^^^^^^^^^^^^^^^^^^\\n  File \"C:\\\\Users\\\\ryans\\\\AppData\\\\Local\\\\Programs\\\\Python\\\\Python311\\\\Lib\\\\json\\\\decoder.py\", line 337, in decode\\n    obj, end = self.raw_decode(s, idx=_w(s, 0).end())\\n               ^^^^^^^^^^^^^^^^^^^^^^^^^^^^^^^^^^^^^^\\n  File \"C:\\\\Users\\\\ryans\\\\AppData\\\\Local\\\\Programs\\\\Python\\\\Python311\\\\Lib\\\\json\\\\decoder.py\", line 353, in raw_decode\\n    obj, end = self.scan_once(s, idx)\\n               ^^^^^^^^^^^^^^^^^^^^^^\\njson.decoder.JSONDecodeError: Expecting property name enclosed in double quotes: line 1 column 2 (char 1)\\n', 'exception': JSONDecodeError('Expecting property name enclosed in double quotes: line 1 column 2 (char 1)')}\n"
     ]
    },
    {
     "name": "stderr",
     "output_type": "stream",
     "text": [
      "  3%|██▎                                                                  | 32943/1000000 [1:49:43<94:39:48,  2.84it/s]"
     ]
    },
    {
     "name": "stdout",
     "output_type": "stream",
     "text": [
      "{'traceback': 'Traceback (most recent call last):\\n  File \"C:\\\\Users\\\\ryans\\\\AppData\\\\Local\\\\Temp\\\\ipykernel_31184\\\\3515661714.py\", line 4, in <module>\\n    document = json.loads(payload)\\n               ^^^^^^^^^^^^^^^^^^^\\n  File \"C:\\\\Users\\\\ryans\\\\AppData\\\\Local\\\\Programs\\\\Python\\\\Python311\\\\Lib\\\\json\\\\__init__.py\", line 346, in loads\\n    return _default_decoder.decode(s)\\n           ^^^^^^^^^^^^^^^^^^^^^^^^^^\\n  File \"C:\\\\Users\\\\ryans\\\\AppData\\\\Local\\\\Programs\\\\Python\\\\Python311\\\\Lib\\\\json\\\\decoder.py\", line 337, in decode\\n    obj, end = self.raw_decode(s, idx=_w(s, 0).end())\\n               ^^^^^^^^^^^^^^^^^^^^^^^^^^^^^^^^^^^^^^\\n  File \"C:\\\\Users\\\\ryans\\\\AppData\\\\Local\\\\Programs\\\\Python\\\\Python311\\\\Lib\\\\json\\\\decoder.py\", line 353, in raw_decode\\n    obj, end = self.scan_once(s, idx)\\n               ^^^^^^^^^^^^^^^^^^^^^^\\njson.decoder.JSONDecodeError: Expecting property name enclosed in double quotes: line 1 column 2 (char 1)\\n', 'exception': JSONDecodeError('Expecting property name enclosed in double quotes: line 1 column 2 (char 1)')}\n"
     ]
    },
    {
     "name": "stderr",
     "output_type": "stream",
     "text": [
      "  3%|██▏                                                                 | 33010/1000000 [1:50:04<174:15:01,  1.54it/s]"
     ]
    },
    {
     "name": "stdout",
     "output_type": "stream",
     "text": [
      "{'traceback': 'Traceback (most recent call last):\\n  File \"C:\\\\Users\\\\ryans\\\\AppData\\\\Local\\\\Temp\\\\ipykernel_31184\\\\3515661714.py\", line 4, in <module>\\n    document = json.loads(payload)\\n               ^^^^^^^^^^^^^^^^^^^\\n  File \"C:\\\\Users\\\\ryans\\\\AppData\\\\Local\\\\Programs\\\\Python\\\\Python311\\\\Lib\\\\json\\\\__init__.py\", line 346, in loads\\n    return _default_decoder.decode(s)\\n           ^^^^^^^^^^^^^^^^^^^^^^^^^^\\n  File \"C:\\\\Users\\\\ryans\\\\AppData\\\\Local\\\\Programs\\\\Python\\\\Python311\\\\Lib\\\\json\\\\decoder.py\", line 337, in decode\\n    obj, end = self.raw_decode(s, idx=_w(s, 0).end())\\n               ^^^^^^^^^^^^^^^^^^^^^^^^^^^^^^^^^^^^^^\\n  File \"C:\\\\Users\\\\ryans\\\\AppData\\\\Local\\\\Programs\\\\Python\\\\Python311\\\\Lib\\\\json\\\\decoder.py\", line 355, in raw_decode\\n    raise JSONDecodeError(\"Expecting value\", s, err.value) from None\\njson.decoder.JSONDecodeError: Expecting value: line 1 column 1 (char 0)\\n', 'exception': JSONDecodeError('Expecting value: line 1 column 1 (char 0)')}\n"
     ]
    },
    {
     "name": "stderr",
     "output_type": "stream",
     "text": [
      "  3%|██▎                                                                  | 33151/1000000 [1:50:43<75:24:39,  3.56it/s]"
     ]
    },
    {
     "name": "stdout",
     "output_type": "stream",
     "text": [
      "{'traceback': 'Traceback (most recent call last):\\n  File \"C:\\\\Users\\\\ryans\\\\AppData\\\\Local\\\\Temp\\\\ipykernel_31184\\\\3515661714.py\", line 4, in <module>\\n    document = json.loads(payload)\\n               ^^^^^^^^^^^^^^^^^^^\\n  File \"C:\\\\Users\\\\ryans\\\\AppData\\\\Local\\\\Programs\\\\Python\\\\Python311\\\\Lib\\\\json\\\\__init__.py\", line 346, in loads\\n    return _default_decoder.decode(s)\\n           ^^^^^^^^^^^^^^^^^^^^^^^^^^\\n  File \"C:\\\\Users\\\\ryans\\\\AppData\\\\Local\\\\Programs\\\\Python\\\\Python311\\\\Lib\\\\json\\\\decoder.py\", line 337, in decode\\n    obj, end = self.raw_decode(s, idx=_w(s, 0).end())\\n               ^^^^^^^^^^^^^^^^^^^^^^^^^^^^^^^^^^^^^^\\n  File \"C:\\\\Users\\\\ryans\\\\AppData\\\\Local\\\\Programs\\\\Python\\\\Python311\\\\Lib\\\\json\\\\decoder.py\", line 353, in raw_decode\\n    obj, end = self.scan_once(s, idx)\\n               ^^^^^^^^^^^^^^^^^^^^^^\\njson.decoder.JSONDecodeError: Expecting property name enclosed in double quotes: line 1 column 2 (char 1)\\n', 'exception': JSONDecodeError('Expecting property name enclosed in double quotes: line 1 column 2 (char 1)')}\n"
     ]
    },
    {
     "name": "stderr",
     "output_type": "stream",
     "text": [
      "  3%|██▎                                                                  | 33528/1000000 [1:52:27<74:58:41,  3.58it/s]"
     ]
    },
    {
     "name": "stdout",
     "output_type": "stream",
     "text": [
      "{'traceback': 'Traceback (most recent call last):\\n  File \"C:\\\\Users\\\\ryans\\\\AppData\\\\Local\\\\Temp\\\\ipykernel_31184\\\\3515661714.py\", line 4, in <module>\\n    document = json.loads(payload)\\n               ^^^^^^^^^^^^^^^^^^^\\n  File \"C:\\\\Users\\\\ryans\\\\AppData\\\\Local\\\\Programs\\\\Python\\\\Python311\\\\Lib\\\\json\\\\__init__.py\", line 346, in loads\\n    return _default_decoder.decode(s)\\n           ^^^^^^^^^^^^^^^^^^^^^^^^^^\\n  File \"C:\\\\Users\\\\ryans\\\\AppData\\\\Local\\\\Programs\\\\Python\\\\Python311\\\\Lib\\\\json\\\\decoder.py\", line 337, in decode\\n    obj, end = self.raw_decode(s, idx=_w(s, 0).end())\\n               ^^^^^^^^^^^^^^^^^^^^^^^^^^^^^^^^^^^^^^\\n  File \"C:\\\\Users\\\\ryans\\\\AppData\\\\Local\\\\Programs\\\\Python\\\\Python311\\\\Lib\\\\json\\\\decoder.py\", line 353, in raw_decode\\n    obj, end = self.scan_once(s, idx)\\n               ^^^^^^^^^^^^^^^^^^^^^^\\njson.decoder.JSONDecodeError: Expecting property name enclosed in double quotes: line 1 column 2 (char 1)\\n', 'exception': JSONDecodeError('Expecting property name enclosed in double quotes: line 1 column 2 (char 1)')}\n"
     ]
    },
    {
     "name": "stderr",
     "output_type": "stream",
     "text": [
      "  3%|██▎                                                                  | 33885/1000000 [1:54:09<53:48:12,  4.99it/s]"
     ]
    },
    {
     "name": "stdout",
     "output_type": "stream",
     "text": [
      "{'traceback': 'Traceback (most recent call last):\\n  File \"C:\\\\Users\\\\ryans\\\\AppData\\\\Local\\\\Temp\\\\ipykernel_31184\\\\3515661714.py\", line 4, in <module>\\n    document = json.loads(payload)\\n               ^^^^^^^^^^^^^^^^^^^\\n  File \"C:\\\\Users\\\\ryans\\\\AppData\\\\Local\\\\Programs\\\\Python\\\\Python311\\\\Lib\\\\json\\\\__init__.py\", line 346, in loads\\n    return _default_decoder.decode(s)\\n           ^^^^^^^^^^^^^^^^^^^^^^^^^^\\n  File \"C:\\\\Users\\\\ryans\\\\AppData\\\\Local\\\\Programs\\\\Python\\\\Python311\\\\Lib\\\\json\\\\decoder.py\", line 337, in decode\\n    obj, end = self.raw_decode(s, idx=_w(s, 0).end())\\n               ^^^^^^^^^^^^^^^^^^^^^^^^^^^^^^^^^^^^^^\\n  File \"C:\\\\Users\\\\ryans\\\\AppData\\\\Local\\\\Programs\\\\Python\\\\Python311\\\\Lib\\\\json\\\\decoder.py\", line 353, in raw_decode\\n    obj, end = self.scan_once(s, idx)\\n               ^^^^^^^^^^^^^^^^^^^^^^\\njson.decoder.JSONDecodeError: Expecting property name enclosed in double quotes: line 1 column 2 (char 1)\\n', 'exception': JSONDecodeError('Expecting property name enclosed in double quotes: line 1 column 2 (char 1)')}\n"
     ]
    },
    {
     "name": "stderr",
     "output_type": "stream",
     "text": [
      "  3%|██▎                                                                 | 33956/1000000 [1:54:27<120:11:33,  2.23it/s]"
     ]
    },
    {
     "name": "stdout",
     "output_type": "stream",
     "text": [
      "{'traceback': 'Traceback (most recent call last):\\n  File \"C:\\\\Users\\\\ryans\\\\AppData\\\\Local\\\\Temp\\\\ipykernel_31184\\\\3515661714.py\", line 4, in <module>\\n    document = json.loads(payload)\\n               ^^^^^^^^^^^^^^^^^^^\\n  File \"C:\\\\Users\\\\ryans\\\\AppData\\\\Local\\\\Programs\\\\Python\\\\Python311\\\\Lib\\\\json\\\\__init__.py\", line 346, in loads\\n    return _default_decoder.decode(s)\\n           ^^^^^^^^^^^^^^^^^^^^^^^^^^\\n  File \"C:\\\\Users\\\\ryans\\\\AppData\\\\Local\\\\Programs\\\\Python\\\\Python311\\\\Lib\\\\json\\\\decoder.py\", line 337, in decode\\n    obj, end = self.raw_decode(s, idx=_w(s, 0).end())\\n               ^^^^^^^^^^^^^^^^^^^^^^^^^^^^^^^^^^^^^^\\n  File \"C:\\\\Users\\\\ryans\\\\AppData\\\\Local\\\\Programs\\\\Python\\\\Python311\\\\Lib\\\\json\\\\decoder.py\", line 355, in raw_decode\\n    raise JSONDecodeError(\"Expecting value\", s, err.value) from None\\njson.decoder.JSONDecodeError: Expecting value: line 1 column 1 (char 0)\\n', 'exception': JSONDecodeError('Expecting value: line 1 column 1 (char 0)')}\n"
     ]
    },
    {
     "name": "stderr",
     "output_type": "stream",
     "text": [
      "  3%|██▎                                                                  | 33985/1000000 [1:54:35<94:13:23,  2.85it/s]"
     ]
    },
    {
     "name": "stdout",
     "output_type": "stream",
     "text": [
      "{'traceback': 'Traceback (most recent call last):\\n  File \"C:\\\\Users\\\\ryans\\\\AppData\\\\Local\\\\Temp\\\\ipykernel_31184\\\\3515661714.py\", line 4, in <module>\\n    document = json.loads(payload)\\n               ^^^^^^^^^^^^^^^^^^^\\n  File \"C:\\\\Users\\\\ryans\\\\AppData\\\\Local\\\\Programs\\\\Python\\\\Python311\\\\Lib\\\\json\\\\__init__.py\", line 346, in loads\\n    return _default_decoder.decode(s)\\n           ^^^^^^^^^^^^^^^^^^^^^^^^^^\\n  File \"C:\\\\Users\\\\ryans\\\\AppData\\\\Local\\\\Programs\\\\Python\\\\Python311\\\\Lib\\\\json\\\\decoder.py\", line 337, in decode\\n    obj, end = self.raw_decode(s, idx=_w(s, 0).end())\\n               ^^^^^^^^^^^^^^^^^^^^^^^^^^^^^^^^^^^^^^\\n  File \"C:\\\\Users\\\\ryans\\\\AppData\\\\Local\\\\Programs\\\\Python\\\\Python311\\\\Lib\\\\json\\\\decoder.py\", line 353, in raw_decode\\n    obj, end = self.scan_once(s, idx)\\n               ^^^^^^^^^^^^^^^^^^^^^^\\njson.decoder.JSONDecodeError: Expecting property name enclosed in double quotes: line 1 column 2 (char 1)\\n', 'exception': JSONDecodeError('Expecting property name enclosed in double quotes: line 1 column 2 (char 1)')}\n"
     ]
    },
    {
     "name": "stderr",
     "output_type": "stream",
     "text": [
      "  3%|██▎                                                                | 33999/1000000 [1:55:00<1231:02:49,  4.59s/it]"
     ]
    },
    {
     "name": "stdout",
     "output_type": "stream",
     "text": [
      "{'traceback': 'Traceback (most recent call last):\\n  File \"C:\\\\Users\\\\ryans\\\\source\\\\repos\\\\venv\\\\Python311\\\\Lib\\\\site-packages\\\\urllib3\\\\connection.py\", line 174, in _new_conn\\n    conn = connection.create_connection(\\n           ^^^^^^^^^^^^^^^^^^^^^^^^^^^^^\\n  File \"C:\\\\Users\\\\ryans\\\\source\\\\repos\\\\venv\\\\Python311\\\\Lib\\\\site-packages\\\\urllib3\\\\util\\\\connection.py\", line 95, in create_connection\\n    raise err\\n  File \"C:\\\\Users\\\\ryans\\\\source\\\\repos\\\\venv\\\\Python311\\\\Lib\\\\site-packages\\\\urllib3\\\\util\\\\connection.py\", line 85, in create_connection\\n    sock.connect(sa)\\nTimeoutError: [WinError 10060] A connection attempt failed because the connected party did not properly respond after a period of time, or established connection failed because connected host has failed to respond\\n\\nDuring handling of the above exception, another exception occurred:\\n\\nTraceback (most recent call last):\\n  File \"C:\\\\Users\\\\ryans\\\\source\\\\repos\\\\venv\\\\Python311\\\\Lib\\\\site-packages\\\\urllib3\\\\connectionpool.py\", line 703, in urlopen\\n    httplib_response = self._make_request(\\n                       ^^^^^^^^^^^^^^^^^^^\\n  File \"C:\\\\Users\\\\ryans\\\\source\\\\repos\\\\venv\\\\Python311\\\\Lib\\\\site-packages\\\\urllib3\\\\connectionpool.py\", line 386, in _make_request\\n    self._validate_conn(conn)\\n  File \"C:\\\\Users\\\\ryans\\\\source\\\\repos\\\\venv\\\\Python311\\\\Lib\\\\site-packages\\\\urllib3\\\\connectionpool.py\", line 1042, in _validate_conn\\n    conn.connect()\\n  File \"C:\\\\Users\\\\ryans\\\\source\\\\repos\\\\venv\\\\Python311\\\\Lib\\\\site-packages\\\\urllib3\\\\connection.py\", line 358, in connect\\n    self.sock = conn = self._new_conn()\\n                       ^^^^^^^^^^^^^^^^\\n  File \"C:\\\\Users\\\\ryans\\\\source\\\\repos\\\\venv\\\\Python311\\\\Lib\\\\site-packages\\\\urllib3\\\\connection.py\", line 179, in _new_conn\\n    raise ConnectTimeoutError(\\nurllib3.exceptions.ConnectTimeoutError: (<urllib3.connection.HTTPSConnection object at 0x000002A66BD32490>, \\'Connection to www.kaggleusercontent.com timed out. (connect timeout=None)\\')\\n\\nDuring handling of the above exception, another exception occurred:\\n\\nTraceback (most recent call last):\\n  File \"C:\\\\Users\\\\ryans\\\\source\\\\repos\\\\venv\\\\Python311\\\\Lib\\\\site-packages\\\\requests\\\\adapters.py\", line 489, in send\\n    resp = conn.urlopen(\\n           ^^^^^^^^^^^^^\\n  File \"C:\\\\Users\\\\ryans\\\\source\\\\repos\\\\venv\\\\Python311\\\\Lib\\\\site-packages\\\\urllib3\\\\connectionpool.py\", line 787, in urlopen\\n    retries = retries.increment(\\n              ^^^^^^^^^^^^^^^^^^\\n  File \"C:\\\\Users\\\\ryans\\\\source\\\\repos\\\\venv\\\\Python311\\\\Lib\\\\site-packages\\\\urllib3\\\\util\\\\retry.py\", line 592, in increment\\n    raise MaxRetryError(_pool, url, error or ResponseError(cause))\\nurllib3.exceptions.MaxRetryError: HTTPSConnectionPool(host=\\'www.kaggleusercontent.com\\', port=443): Max retries exceeded with url: /episodes/45874182.json (Caused by ConnectTimeoutError(<urllib3.connection.HTTPSConnection object at 0x000002A66BD32490>, \\'Connection to www.kaggleusercontent.com timed out. (connect timeout=None)\\'))\\n\\nDuring handling of the above exception, another exception occurred:\\n\\nTraceback (most recent call last):\\n  File \"C:\\\\Users\\\\ryans\\\\AppData\\\\Local\\\\Temp\\\\ipykernel_31184\\\\3515661714.py\", line 3, in <module>\\n    payload = requests.get(f\\'https://www.kaggleusercontent.com/episodes/{starting_point-i}.json\\').text\\n              ^^^^^^^^^^^^^^^^^^^^^^^^^^^^^^^^^^^^^^^^^^^^^^^^^^^^^^^^^^^^^^^^^^^^^^^^^^^^^^^^^^^\\n  File \"C:\\\\Users\\\\ryans\\\\source\\\\repos\\\\venv\\\\Python311\\\\Lib\\\\site-packages\\\\requests\\\\api.py\", line 73, in get\\n    return request(\"get\", url, params=params, **kwargs)\\n           ^^^^^^^^^^^^^^^^^^^^^^^^^^^^^^^^^^^^^^^^^^^^\\n  File \"C:\\\\Users\\\\ryans\\\\source\\\\repos\\\\venv\\\\Python311\\\\Lib\\\\site-packages\\\\requests\\\\api.py\", line 59, in request\\n    return session.request(method=method, url=url, **kwargs)\\n           ^^^^^^^^^^^^^^^^^^^^^^^^^^^^^^^^^^^^^^^^^^^^^^^^^\\n  File \"C:\\\\Users\\\\ryans\\\\source\\\\repos\\\\venv\\\\Python311\\\\Lib\\\\site-packages\\\\requests\\\\sessions.py\", line 587, in request\\n    resp = self.send(prep, **send_kwargs)\\n           ^^^^^^^^^^^^^^^^^^^^^^^^^^^^^^\\n  File \"C:\\\\Users\\\\ryans\\\\source\\\\repos\\\\venv\\\\Python311\\\\Lib\\\\site-packages\\\\requests\\\\sessions.py\", line 701, in send\\n    r = adapter.send(request, **kwargs)\\n        ^^^^^^^^^^^^^^^^^^^^^^^^^^^^^^^\\n  File \"C:\\\\Users\\\\ryans\\\\source\\\\repos\\\\venv\\\\Python311\\\\Lib\\\\site-packages\\\\requests\\\\adapters.py\", line 553, in send\\n    raise ConnectTimeout(e, request=request)\\nrequests.exceptions.ConnectTimeout: HTTPSConnectionPool(host=\\'www.kaggleusercontent.com\\', port=443): Max retries exceeded with url: /episodes/45874182.json (Caused by ConnectTimeoutError(<urllib3.connection.HTTPSConnection object at 0x000002A66BD32490>, \\'Connection to www.kaggleusercontent.com timed out. (connect timeout=None)\\'))\\n', 'exception': ConnectTimeout(MaxRetryError(\"HTTPSConnectionPool(host='www.kaggleusercontent.com', port=443): Max retries exceeded with url: /episodes/45874182.json (Caused by ConnectTimeoutError(<urllib3.connection.HTTPSConnection object at 0x000002A66BD32490>, 'Connection to www.kaggleusercontent.com timed out. (connect timeout=None)'))\"))}\n"
     ]
    },
    {
     "name": "stderr",
     "output_type": "stream",
     "text": [
      "  3%|██▍                                                                  | 34438/1000000 [1:57:03<44:50:33,  5.98it/s]"
     ]
    },
    {
     "name": "stdout",
     "output_type": "stream",
     "text": [
      "{'traceback': 'Traceback (most recent call last):\\n  File \"C:\\\\Users\\\\ryans\\\\AppData\\\\Local\\\\Temp\\\\ipykernel_31184\\\\3515661714.py\", line 4, in <module>\\n    document = json.loads(payload)\\n               ^^^^^^^^^^^^^^^^^^^\\n  File \"C:\\\\Users\\\\ryans\\\\AppData\\\\Local\\\\Programs\\\\Python\\\\Python311\\\\Lib\\\\json\\\\__init__.py\", line 346, in loads\\n    return _default_decoder.decode(s)\\n           ^^^^^^^^^^^^^^^^^^^^^^^^^^\\n  File \"C:\\\\Users\\\\ryans\\\\AppData\\\\Local\\\\Programs\\\\Python\\\\Python311\\\\Lib\\\\json\\\\decoder.py\", line 337, in decode\\n    obj, end = self.raw_decode(s, idx=_w(s, 0).end())\\n               ^^^^^^^^^^^^^^^^^^^^^^^^^^^^^^^^^^^^^^\\n  File \"C:\\\\Users\\\\ryans\\\\AppData\\\\Local\\\\Programs\\\\Python\\\\Python311\\\\Lib\\\\json\\\\decoder.py\", line 353, in raw_decode\\n    obj, end = self.scan_once(s, idx)\\n               ^^^^^^^^^^^^^^^^^^^^^^\\njson.decoder.JSONDecodeError: Expecting property name enclosed in double quotes: line 1 column 2 (char 1)\\n', 'exception': JSONDecodeError('Expecting property name enclosed in double quotes: line 1 column 2 (char 1)')}\n"
     ]
    },
    {
     "name": "stderr",
     "output_type": "stream",
     "text": [
      "  3%|██▎                                                                | 34532/1000000 [1:57:45<1110:59:05,  4.14s/it]"
     ]
    },
    {
     "name": "stdout",
     "output_type": "stream",
     "text": [
      "{'traceback': 'Traceback (most recent call last):\\n  File \"C:\\\\Users\\\\ryans\\\\source\\\\repos\\\\venv\\\\Python311\\\\Lib\\\\site-packages\\\\urllib3\\\\connectionpool.py\", line 386, in _make_request\\n    self._validate_conn(conn)\\n  File \"C:\\\\Users\\\\ryans\\\\source\\\\repos\\\\venv\\\\Python311\\\\Lib\\\\site-packages\\\\urllib3\\\\connectionpool.py\", line 1042, in _validate_conn\\n    conn.connect()\\n  File \"C:\\\\Users\\\\ryans\\\\source\\\\repos\\\\venv\\\\Python311\\\\Lib\\\\site-packages\\\\urllib3\\\\connection.py\", line 414, in connect\\n    self.sock = ssl_wrap_socket(\\n                ^^^^^^^^^^^^^^^^\\n  File \"C:\\\\Users\\\\ryans\\\\source\\\\repos\\\\venv\\\\Python311\\\\Lib\\\\site-packages\\\\urllib3\\\\util\\\\ssl_.py\", line 449, in ssl_wrap_socket\\n    ssl_sock = _ssl_wrap_socket_impl(\\n               ^^^^^^^^^^^^^^^^^^^^^^\\n  File \"C:\\\\Users\\\\ryans\\\\source\\\\repos\\\\venv\\\\Python311\\\\Lib\\\\site-packages\\\\urllib3\\\\util\\\\ssl_.py\", line 493, in _ssl_wrap_socket_impl\\n    return ssl_context.wrap_socket(sock, server_hostname=server_hostname)\\n           ^^^^^^^^^^^^^^^^^^^^^^^^^^^^^^^^^^^^^^^^^^^^^^^^^^^^^^^^^^^^^^\\n  File \"C:\\\\Users\\\\ryans\\\\AppData\\\\Local\\\\Programs\\\\Python\\\\Python311\\\\Lib\\\\ssl.py\", line 517, in wrap_socket\\n    return self.sslsocket_class._create(\\n           ^^^^^^^^^^^^^^^^^^^^^^^^^^^^^\\n  File \"C:\\\\Users\\\\ryans\\\\AppData\\\\Local\\\\Programs\\\\Python\\\\Python311\\\\Lib\\\\ssl.py\", line 1075, in _create\\n    self.do_handshake()\\n  File \"C:\\\\Users\\\\ryans\\\\AppData\\\\Local\\\\Programs\\\\Python\\\\Python311\\\\Lib\\\\ssl.py\", line 1346, in do_handshake\\n    self._sslobj.do_handshake()\\nTimeoutError: [WinError 10060] A connection attempt failed because the connected party did not properly respond after a period of time, or established connection failed because connected host has failed to respond\\n\\nDuring handling of the above exception, another exception occurred:\\n\\nTraceback (most recent call last):\\n  File \"C:\\\\Users\\\\ryans\\\\source\\\\repos\\\\venv\\\\Python311\\\\Lib\\\\site-packages\\\\requests\\\\adapters.py\", line 489, in send\\n    resp = conn.urlopen(\\n           ^^^^^^^^^^^^^\\n  File \"C:\\\\Users\\\\ryans\\\\source\\\\repos\\\\venv\\\\Python311\\\\Lib\\\\site-packages\\\\urllib3\\\\connectionpool.py\", line 787, in urlopen\\n    retries = retries.increment(\\n              ^^^^^^^^^^^^^^^^^^\\n  File \"C:\\\\Users\\\\ryans\\\\source\\\\repos\\\\venv\\\\Python311\\\\Lib\\\\site-packages\\\\urllib3\\\\util\\\\retry.py\", line 550, in increment\\n    raise six.reraise(type(error), error, _stacktrace)\\n          ^^^^^^^^^^^^^^^^^^^^^^^^^^^^^^^^^^^^^^^^^^^^\\n  File \"C:\\\\Users\\\\ryans\\\\source\\\\repos\\\\venv\\\\Python311\\\\Lib\\\\site-packages\\\\urllib3\\\\packages\\\\six.py\", line 770, in reraise\\n    raise value\\n  File \"C:\\\\Users\\\\ryans\\\\source\\\\repos\\\\venv\\\\Python311\\\\Lib\\\\site-packages\\\\urllib3\\\\connectionpool.py\", line 703, in urlopen\\n    httplib_response = self._make_request(\\n                       ^^^^^^^^^^^^^^^^^^^\\n  File \"C:\\\\Users\\\\ryans\\\\source\\\\repos\\\\venv\\\\Python311\\\\Lib\\\\site-packages\\\\urllib3\\\\connectionpool.py\", line 389, in _make_request\\n    self._raise_timeout(err=e, url=url, timeout_value=conn.timeout)\\n  File \"C:\\\\Users\\\\ryans\\\\source\\\\repos\\\\venv\\\\Python311\\\\Lib\\\\site-packages\\\\urllib3\\\\connectionpool.py\", line 340, in _raise_timeout\\n    raise ReadTimeoutError(\\nurllib3.exceptions.ReadTimeoutError: HTTPSConnectionPool(host=\\'www.kaggleusercontent.com\\', port=443): Read timed out. (read timeout=None)\\n\\nDuring handling of the above exception, another exception occurred:\\n\\nTraceback (most recent call last):\\n  File \"C:\\\\Users\\\\ryans\\\\AppData\\\\Local\\\\Temp\\\\ipykernel_31184\\\\3515661714.py\", line 3, in <module>\\n    payload = requests.get(f\\'https://www.kaggleusercontent.com/episodes/{starting_point-i}.json\\').text\\n              ^^^^^^^^^^^^^^^^^^^^^^^^^^^^^^^^^^^^^^^^^^^^^^^^^^^^^^^^^^^^^^^^^^^^^^^^^^^^^^^^^^^\\n  File \"C:\\\\Users\\\\ryans\\\\source\\\\repos\\\\venv\\\\Python311\\\\Lib\\\\site-packages\\\\requests\\\\api.py\", line 73, in get\\n    return request(\"get\", url, params=params, **kwargs)\\n           ^^^^^^^^^^^^^^^^^^^^^^^^^^^^^^^^^^^^^^^^^^^^\\n  File \"C:\\\\Users\\\\ryans\\\\source\\\\repos\\\\venv\\\\Python311\\\\Lib\\\\site-packages\\\\requests\\\\api.py\", line 59, in request\\n    return session.request(method=method, url=url, **kwargs)\\n           ^^^^^^^^^^^^^^^^^^^^^^^^^^^^^^^^^^^^^^^^^^^^^^^^^\\n  File \"C:\\\\Users\\\\ryans\\\\source\\\\repos\\\\venv\\\\Python311\\\\Lib\\\\site-packages\\\\requests\\\\sessions.py\", line 587, in request\\n    resp = self.send(prep, **send_kwargs)\\n           ^^^^^^^^^^^^^^^^^^^^^^^^^^^^^^\\n  File \"C:\\\\Users\\\\ryans\\\\source\\\\repos\\\\venv\\\\Python311\\\\Lib\\\\site-packages\\\\requests\\\\sessions.py\", line 701, in send\\n    r = adapter.send(request, **kwargs)\\n        ^^^^^^^^^^^^^^^^^^^^^^^^^^^^^^^\\n  File \"C:\\\\Users\\\\ryans\\\\source\\\\repos\\\\venv\\\\Python311\\\\Lib\\\\site-packages\\\\requests\\\\adapters.py\", line 578, in send\\n    raise ReadTimeout(e, request=request)\\nrequests.exceptions.ReadTimeout: HTTPSConnectionPool(host=\\'www.kaggleusercontent.com\\', port=443): Read timed out. (read timeout=None)\\n', 'exception': ReadTimeout(ReadTimeoutError(\"HTTPSConnectionPool(host='www.kaggleusercontent.com', port=443): Read timed out. (read timeout=None)\"))}\n"
     ]
    },
    {
     "name": "stderr",
     "output_type": "stream",
     "text": [
      "  3%|██▍                                                                  | 34542/1000000 [1:57:47<99:56:09,  2.68it/s]"
     ]
    },
    {
     "name": "stdout",
     "output_type": "stream",
     "text": [
      "{'traceback': 'Traceback (most recent call last):\\n  File \"C:\\\\Users\\\\ryans\\\\AppData\\\\Local\\\\Temp\\\\ipykernel_31184\\\\3515661714.py\", line 4, in <module>\\n    document = json.loads(payload)\\n               ^^^^^^^^^^^^^^^^^^^\\n  File \"C:\\\\Users\\\\ryans\\\\AppData\\\\Local\\\\Programs\\\\Python\\\\Python311\\\\Lib\\\\json\\\\__init__.py\", line 346, in loads\\n    return _default_decoder.decode(s)\\n           ^^^^^^^^^^^^^^^^^^^^^^^^^^\\n  File \"C:\\\\Users\\\\ryans\\\\AppData\\\\Local\\\\Programs\\\\Python\\\\Python311\\\\Lib\\\\json\\\\decoder.py\", line 337, in decode\\n    obj, end = self.raw_decode(s, idx=_w(s, 0).end())\\n               ^^^^^^^^^^^^^^^^^^^^^^^^^^^^^^^^^^^^^^\\n  File \"C:\\\\Users\\\\ryans\\\\AppData\\\\Local\\\\Programs\\\\Python\\\\Python311\\\\Lib\\\\json\\\\decoder.py\", line 355, in raw_decode\\n    raise JSONDecodeError(\"Expecting value\", s, err.value) from None\\njson.decoder.JSONDecodeError: Expecting value: line 1 column 1 (char 0)\\n', 'exception': JSONDecodeError('Expecting value: line 1 column 1 (char 0)')}\n"
     ]
    },
    {
     "name": "stderr",
     "output_type": "stream",
     "text": [
      "  3%|██▎                                                                 | 34587/1000000 [1:58:05<191:57:00,  1.40it/s]"
     ]
    },
    {
     "name": "stdout",
     "output_type": "stream",
     "text": [
      "{'traceback': 'Traceback (most recent call last):\\n  File \"C:\\\\Users\\\\ryans\\\\AppData\\\\Local\\\\Temp\\\\ipykernel_31184\\\\3515661714.py\", line 4, in <module>\\n    document = json.loads(payload)\\n               ^^^^^^^^^^^^^^^^^^^\\n  File \"C:\\\\Users\\\\ryans\\\\AppData\\\\Local\\\\Programs\\\\Python\\\\Python311\\\\Lib\\\\json\\\\__init__.py\", line 346, in loads\\n    return _default_decoder.decode(s)\\n           ^^^^^^^^^^^^^^^^^^^^^^^^^^\\n  File \"C:\\\\Users\\\\ryans\\\\AppData\\\\Local\\\\Programs\\\\Python\\\\Python311\\\\Lib\\\\json\\\\decoder.py\", line 337, in decode\\n    obj, end = self.raw_decode(s, idx=_w(s, 0).end())\\n               ^^^^^^^^^^^^^^^^^^^^^^^^^^^^^^^^^^^^^^\\n  File \"C:\\\\Users\\\\ryans\\\\AppData\\\\Local\\\\Programs\\\\Python\\\\Python311\\\\Lib\\\\json\\\\decoder.py\", line 355, in raw_decode\\n    raise JSONDecodeError(\"Expecting value\", s, err.value) from None\\njson.decoder.JSONDecodeError: Expecting value: line 1 column 1 (char 0)\\n', 'exception': JSONDecodeError('Expecting value: line 1 column 1 (char 0)')}\n"
     ]
    },
    {
     "name": "stderr",
     "output_type": "stream",
     "text": [
      "  3%|██▎                                                                 | 34788/1000000 [1:58:56<139:26:00,  1.92it/s]"
     ]
    },
    {
     "name": "stdout",
     "output_type": "stream",
     "text": [
      "{'traceback': 'Traceback (most recent call last):\\n  File \"C:\\\\Users\\\\ryans\\\\AppData\\\\Local\\\\Temp\\\\ipykernel_31184\\\\3515661714.py\", line 4, in <module>\\n    document = json.loads(payload)\\n               ^^^^^^^^^^^^^^^^^^^\\n  File \"C:\\\\Users\\\\ryans\\\\AppData\\\\Local\\\\Programs\\\\Python\\\\Python311\\\\Lib\\\\json\\\\__init__.py\", line 346, in loads\\n    return _default_decoder.decode(s)\\n           ^^^^^^^^^^^^^^^^^^^^^^^^^^\\n  File \"C:\\\\Users\\\\ryans\\\\AppData\\\\Local\\\\Programs\\\\Python\\\\Python311\\\\Lib\\\\json\\\\decoder.py\", line 337, in decode\\n    obj, end = self.raw_decode(s, idx=_w(s, 0).end())\\n               ^^^^^^^^^^^^^^^^^^^^^^^^^^^^^^^^^^^^^^\\n  File \"C:\\\\Users\\\\ryans\\\\AppData\\\\Local\\\\Programs\\\\Python\\\\Python311\\\\Lib\\\\json\\\\decoder.py\", line 355, in raw_decode\\n    raise JSONDecodeError(\"Expecting value\", s, err.value) from None\\njson.decoder.JSONDecodeError: Expecting value: line 1 column 1 (char 0)\\n', 'exception': JSONDecodeError('Expecting value: line 1 column 1 (char 0)')}\n"
     ]
    },
    {
     "name": "stderr",
     "output_type": "stream",
     "text": [
      "  3%|██▍                                                                  | 34830/1000000 [1:59:05<74:10:07,  3.61it/s]"
     ]
    },
    {
     "name": "stdout",
     "output_type": "stream",
     "text": [
      "{'traceback': 'Traceback (most recent call last):\\n  File \"C:\\\\Users\\\\ryans\\\\AppData\\\\Local\\\\Temp\\\\ipykernel_31184\\\\3515661714.py\", line 4, in <module>\\n    document = json.loads(payload)\\n               ^^^^^^^^^^^^^^^^^^^\\n  File \"C:\\\\Users\\\\ryans\\\\AppData\\\\Local\\\\Programs\\\\Python\\\\Python311\\\\Lib\\\\json\\\\__init__.py\", line 346, in loads\\n    return _default_decoder.decode(s)\\n           ^^^^^^^^^^^^^^^^^^^^^^^^^^\\n  File \"C:\\\\Users\\\\ryans\\\\AppData\\\\Local\\\\Programs\\\\Python\\\\Python311\\\\Lib\\\\json\\\\decoder.py\", line 337, in decode\\n    obj, end = self.raw_decode(s, idx=_w(s, 0).end())\\n               ^^^^^^^^^^^^^^^^^^^^^^^^^^^^^^^^^^^^^^\\n  File \"C:\\\\Users\\\\ryans\\\\AppData\\\\Local\\\\Programs\\\\Python\\\\Python311\\\\Lib\\\\json\\\\decoder.py\", line 353, in raw_decode\\n    obj, end = self.scan_once(s, idx)\\n               ^^^^^^^^^^^^^^^^^^^^^^\\njson.decoder.JSONDecodeError: Expecting property name enclosed in double quotes: line 1 column 2 (char 1)\\n', 'exception': JSONDecodeError('Expecting property name enclosed in double quotes: line 1 column 2 (char 1)')}\n"
     ]
    },
    {
     "name": "stderr",
     "output_type": "stream",
     "text": [
      "  3%|██▍                                                                  | 34895/1000000 [1:59:19<86:38:52,  3.09it/s]"
     ]
    },
    {
     "name": "stdout",
     "output_type": "stream",
     "text": [
      "{'traceback': 'Traceback (most recent call last):\\n  File \"C:\\\\Users\\\\ryans\\\\AppData\\\\Local\\\\Temp\\\\ipykernel_31184\\\\3515661714.py\", line 4, in <module>\\n    document = json.loads(payload)\\n               ^^^^^^^^^^^^^^^^^^^\\n  File \"C:\\\\Users\\\\ryans\\\\AppData\\\\Local\\\\Programs\\\\Python\\\\Python311\\\\Lib\\\\json\\\\__init__.py\", line 346, in loads\\n    return _default_decoder.decode(s)\\n           ^^^^^^^^^^^^^^^^^^^^^^^^^^\\n  File \"C:\\\\Users\\\\ryans\\\\AppData\\\\Local\\\\Programs\\\\Python\\\\Python311\\\\Lib\\\\json\\\\decoder.py\", line 337, in decode\\n    obj, end = self.raw_decode(s, idx=_w(s, 0).end())\\n               ^^^^^^^^^^^^^^^^^^^^^^^^^^^^^^^^^^^^^^\\n  File \"C:\\\\Users\\\\ryans\\\\AppData\\\\Local\\\\Programs\\\\Python\\\\Python311\\\\Lib\\\\json\\\\decoder.py\", line 355, in raw_decode\\n    raise JSONDecodeError(\"Expecting value\", s, err.value) from None\\njson.decoder.JSONDecodeError: Expecting value: line 1 column 1 (char 0)\\n', 'exception': JSONDecodeError('Expecting value: line 1 column 1 (char 0)')}\n"
     ]
    },
    {
     "name": "stderr",
     "output_type": "stream",
     "text": [
      "  4%|██▍                                                                  | 35345/1000000 [2:01:24<41:55:30,  6.39it/s]"
     ]
    },
    {
     "name": "stdout",
     "output_type": "stream",
     "text": [
      "{'traceback': 'Traceback (most recent call last):\\n  File \"C:\\\\Users\\\\ryans\\\\AppData\\\\Local\\\\Temp\\\\ipykernel_31184\\\\3515661714.py\", line 4, in <module>\\n    document = json.loads(payload)\\n               ^^^^^^^^^^^^^^^^^^^\\n  File \"C:\\\\Users\\\\ryans\\\\AppData\\\\Local\\\\Programs\\\\Python\\\\Python311\\\\Lib\\\\json\\\\__init__.py\", line 346, in loads\\n    return _default_decoder.decode(s)\\n           ^^^^^^^^^^^^^^^^^^^^^^^^^^\\n  File \"C:\\\\Users\\\\ryans\\\\AppData\\\\Local\\\\Programs\\\\Python\\\\Python311\\\\Lib\\\\json\\\\decoder.py\", line 337, in decode\\n    obj, end = self.raw_decode(s, idx=_w(s, 0).end())\\n               ^^^^^^^^^^^^^^^^^^^^^^^^^^^^^^^^^^^^^^\\n  File \"C:\\\\Users\\\\ryans\\\\AppData\\\\Local\\\\Programs\\\\Python\\\\Python311\\\\Lib\\\\json\\\\decoder.py\", line 355, in raw_decode\\n    raise JSONDecodeError(\"Expecting value\", s, err.value) from None\\njson.decoder.JSONDecodeError: Expecting value: line 1 column 1 (char 0)\\n', 'exception': JSONDecodeError('Expecting value: line 1 column 1 (char 0)')}\n"
     ]
    },
    {
     "name": "stderr",
     "output_type": "stream",
     "text": [
      "  4%|██▍                                                                  | 35778/1000000 [2:03:22<64:04:07,  4.18it/s]"
     ]
    },
    {
     "name": "stdout",
     "output_type": "stream",
     "text": [
      "{'traceback': 'Traceback (most recent call last):\\n  File \"C:\\\\Users\\\\ryans\\\\AppData\\\\Local\\\\Temp\\\\ipykernel_31184\\\\3515661714.py\", line 4, in <module>\\n    document = json.loads(payload)\\n               ^^^^^^^^^^^^^^^^^^^\\n  File \"C:\\\\Users\\\\ryans\\\\AppData\\\\Local\\\\Programs\\\\Python\\\\Python311\\\\Lib\\\\json\\\\__init__.py\", line 346, in loads\\n    return _default_decoder.decode(s)\\n           ^^^^^^^^^^^^^^^^^^^^^^^^^^\\n  File \"C:\\\\Users\\\\ryans\\\\AppData\\\\Local\\\\Programs\\\\Python\\\\Python311\\\\Lib\\\\json\\\\decoder.py\", line 337, in decode\\n    obj, end = self.raw_decode(s, idx=_w(s, 0).end())\\n               ^^^^^^^^^^^^^^^^^^^^^^^^^^^^^^^^^^^^^^\\n  File \"C:\\\\Users\\\\ryans\\\\AppData\\\\Local\\\\Programs\\\\Python\\\\Python311\\\\Lib\\\\json\\\\decoder.py\", line 353, in raw_decode\\n    obj, end = self.scan_once(s, idx)\\n               ^^^^^^^^^^^^^^^^^^^^^^\\njson.decoder.JSONDecodeError: Expecting property name enclosed in double quotes: line 1 column 2 (char 1)\\n', 'exception': JSONDecodeError('Expecting property name enclosed in double quotes: line 1 column 2 (char 1)')}\n"
     ]
    },
    {
     "name": "stderr",
     "output_type": "stream",
     "text": [
      "  4%|██▍                                                                  | 35951/1000000 [2:04:08<51:11:46,  5.23it/s]"
     ]
    },
    {
     "name": "stdout",
     "output_type": "stream",
     "text": [
      "{'traceback': 'Traceback (most recent call last):\\n  File \"C:\\\\Users\\\\ryans\\\\AppData\\\\Local\\\\Temp\\\\ipykernel_31184\\\\3515661714.py\", line 4, in <module>\\n    document = json.loads(payload)\\n               ^^^^^^^^^^^^^^^^^^^\\n  File \"C:\\\\Users\\\\ryans\\\\AppData\\\\Local\\\\Programs\\\\Python\\\\Python311\\\\Lib\\\\json\\\\__init__.py\", line 346, in loads\\n    return _default_decoder.decode(s)\\n           ^^^^^^^^^^^^^^^^^^^^^^^^^^\\n  File \"C:\\\\Users\\\\ryans\\\\AppData\\\\Local\\\\Programs\\\\Python\\\\Python311\\\\Lib\\\\json\\\\decoder.py\", line 337, in decode\\n    obj, end = self.raw_decode(s, idx=_w(s, 0).end())\\n               ^^^^^^^^^^^^^^^^^^^^^^^^^^^^^^^^^^^^^^\\n  File \"C:\\\\Users\\\\ryans\\\\AppData\\\\Local\\\\Programs\\\\Python\\\\Python311\\\\Lib\\\\json\\\\decoder.py\", line 353, in raw_decode\\n    obj, end = self.scan_once(s, idx)\\n               ^^^^^^^^^^^^^^^^^^^^^^\\njson.decoder.JSONDecodeError: Expecting property name enclosed in double quotes: line 1 column 2 (char 1)\\n', 'exception': JSONDecodeError('Expecting property name enclosed in double quotes: line 1 column 2 (char 1)')}\n",
      "{'traceback': 'Traceback (most recent call last):\\n  File \"C:\\\\Users\\\\ryans\\\\AppData\\\\Local\\\\Temp\\\\ipykernel_31184\\\\3515661714.py\", line 4, in <module>\\n    document = json.loads(payload)\\n               ^^^^^^^^^^^^^^^^^^^\\n  File \"C:\\\\Users\\\\ryans\\\\AppData\\\\Local\\\\Programs\\\\Python\\\\Python311\\\\Lib\\\\json\\\\__init__.py\", line 346, in loads\\n    return _default_decoder.decode(s)\\n           ^^^^^^^^^^^^^^^^^^^^^^^^^^\\n  File \"C:\\\\Users\\\\ryans\\\\AppData\\\\Local\\\\Programs\\\\Python\\\\Python311\\\\Lib\\\\json\\\\decoder.py\", line 337, in decode\\n    obj, end = self.raw_decode(s, idx=_w(s, 0).end())\\n               ^^^^^^^^^^^^^^^^^^^^^^^^^^^^^^^^^^^^^^\\n  File \"C:\\\\Users\\\\ryans\\\\AppData\\\\Local\\\\Programs\\\\Python\\\\Python311\\\\Lib\\\\json\\\\decoder.py\", line 353, in raw_decode\\n    obj, end = self.scan_once(s, idx)\\n               ^^^^^^^^^^^^^^^^^^^^^^\\njson.decoder.JSONDecodeError: Expecting property name enclosed in double quotes: line 1 column 2 (char 1)\\n', 'exception': JSONDecodeError('Expecting property name enclosed in double quotes: line 1 column 2 (char 1)')}\n"
     ]
    },
    {
     "name": "stderr",
     "output_type": "stream",
     "text": [
      "  4%|██▍                                                                  | 36130/1000000 [2:04:58<70:37:41,  3.79it/s]"
     ]
    },
    {
     "name": "stdout",
     "output_type": "stream",
     "text": [
      "{'traceback': 'Traceback (most recent call last):\\n  File \"C:\\\\Users\\\\ryans\\\\AppData\\\\Local\\\\Temp\\\\ipykernel_31184\\\\3515661714.py\", line 4, in <module>\\n    document = json.loads(payload)\\n               ^^^^^^^^^^^^^^^^^^^\\n  File \"C:\\\\Users\\\\ryans\\\\AppData\\\\Local\\\\Programs\\\\Python\\\\Python311\\\\Lib\\\\json\\\\__init__.py\", line 346, in loads\\n    return _default_decoder.decode(s)\\n           ^^^^^^^^^^^^^^^^^^^^^^^^^^\\n  File \"C:\\\\Users\\\\ryans\\\\AppData\\\\Local\\\\Programs\\\\Python\\\\Python311\\\\Lib\\\\json\\\\decoder.py\", line 337, in decode\\n    obj, end = self.raw_decode(s, idx=_w(s, 0).end())\\n               ^^^^^^^^^^^^^^^^^^^^^^^^^^^^^^^^^^^^^^\\n  File \"C:\\\\Users\\\\ryans\\\\AppData\\\\Local\\\\Programs\\\\Python\\\\Python311\\\\Lib\\\\json\\\\decoder.py\", line 353, in raw_decode\\n    obj, end = self.scan_once(s, idx)\\n               ^^^^^^^^^^^^^^^^^^^^^^\\njson.decoder.JSONDecodeError: Expecting property name enclosed in double quotes: line 1 column 2 (char 1)\\n', 'exception': JSONDecodeError('Expecting property name enclosed in double quotes: line 1 column 2 (char 1)')}\n"
     ]
    },
    {
     "name": "stderr",
     "output_type": "stream",
     "text": [
      "  4%|██▍                                                                 | 36261/1000000 [2:05:33<119:35:53,  2.24it/s]"
     ]
    },
    {
     "name": "stdout",
     "output_type": "stream",
     "text": [
      "{'traceback': 'Traceback (most recent call last):\\n  File \"C:\\\\Users\\\\ryans\\\\AppData\\\\Local\\\\Temp\\\\ipykernel_31184\\\\3515661714.py\", line 4, in <module>\\n    document = json.loads(payload)\\n               ^^^^^^^^^^^^^^^^^^^\\n  File \"C:\\\\Users\\\\ryans\\\\AppData\\\\Local\\\\Programs\\\\Python\\\\Python311\\\\Lib\\\\json\\\\__init__.py\", line 346, in loads\\n    return _default_decoder.decode(s)\\n           ^^^^^^^^^^^^^^^^^^^^^^^^^^\\n  File \"C:\\\\Users\\\\ryans\\\\AppData\\\\Local\\\\Programs\\\\Python\\\\Python311\\\\Lib\\\\json\\\\decoder.py\", line 337, in decode\\n    obj, end = self.raw_decode(s, idx=_w(s, 0).end())\\n               ^^^^^^^^^^^^^^^^^^^^^^^^^^^^^^^^^^^^^^\\n  File \"C:\\\\Users\\\\ryans\\\\AppData\\\\Local\\\\Programs\\\\Python\\\\Python311\\\\Lib\\\\json\\\\decoder.py\", line 355, in raw_decode\\n    raise JSONDecodeError(\"Expecting value\", s, err.value) from None\\njson.decoder.JSONDecodeError: Expecting value: line 1 column 1 (char 0)\\n', 'exception': JSONDecodeError('Expecting value: line 1 column 1 (char 0)')}\n"
     ]
    },
    {
     "name": "stderr",
     "output_type": "stream",
     "text": [
      "  4%|██▌                                                                  | 36341/1000000 [2:05:56<64:18:22,  4.16it/s]"
     ]
    },
    {
     "name": "stdout",
     "output_type": "stream",
     "text": [
      "{'traceback': 'Traceback (most recent call last):\\n  File \"C:\\\\Users\\\\ryans\\\\AppData\\\\Local\\\\Temp\\\\ipykernel_31184\\\\3515661714.py\", line 4, in <module>\\n    document = json.loads(payload)\\n               ^^^^^^^^^^^^^^^^^^^\\n  File \"C:\\\\Users\\\\ryans\\\\AppData\\\\Local\\\\Programs\\\\Python\\\\Python311\\\\Lib\\\\json\\\\__init__.py\", line 346, in loads\\n    return _default_decoder.decode(s)\\n           ^^^^^^^^^^^^^^^^^^^^^^^^^^\\n  File \"C:\\\\Users\\\\ryans\\\\AppData\\\\Local\\\\Programs\\\\Python\\\\Python311\\\\Lib\\\\json\\\\decoder.py\", line 337, in decode\\n    obj, end = self.raw_decode(s, idx=_w(s, 0).end())\\n               ^^^^^^^^^^^^^^^^^^^^^^^^^^^^^^^^^^^^^^\\n  File \"C:\\\\Users\\\\ryans\\\\AppData\\\\Local\\\\Programs\\\\Python\\\\Python311\\\\Lib\\\\json\\\\decoder.py\", line 353, in raw_decode\\n    obj, end = self.scan_once(s, idx)\\n               ^^^^^^^^^^^^^^^^^^^^^^\\njson.decoder.JSONDecodeError: Expecting property name enclosed in double quotes: line 1 column 2 (char 1)\\n', 'exception': JSONDecodeError('Expecting property name enclosed in double quotes: line 1 column 2 (char 1)')}\n"
     ]
    },
    {
     "name": "stderr",
     "output_type": "stream",
     "text": [
      "  4%|██▌                                                                  | 36404/1000000 [2:06:09<80:55:58,  3.31it/s]"
     ]
    },
    {
     "name": "stdout",
     "output_type": "stream",
     "text": [
      "{'traceback': 'Traceback (most recent call last):\\n  File \"C:\\\\Users\\\\ryans\\\\AppData\\\\Local\\\\Temp\\\\ipykernel_31184\\\\3515661714.py\", line 4, in <module>\\n    document = json.loads(payload)\\n               ^^^^^^^^^^^^^^^^^^^\\n  File \"C:\\\\Users\\\\ryans\\\\AppData\\\\Local\\\\Programs\\\\Python\\\\Python311\\\\Lib\\\\json\\\\__init__.py\", line 346, in loads\\n    return _default_decoder.decode(s)\\n           ^^^^^^^^^^^^^^^^^^^^^^^^^^\\n  File \"C:\\\\Users\\\\ryans\\\\AppData\\\\Local\\\\Programs\\\\Python\\\\Python311\\\\Lib\\\\json\\\\decoder.py\", line 337, in decode\\n    obj, end = self.raw_decode(s, idx=_w(s, 0).end())\\n               ^^^^^^^^^^^^^^^^^^^^^^^^^^^^^^^^^^^^^^\\n  File \"C:\\\\Users\\\\ryans\\\\AppData\\\\Local\\\\Programs\\\\Python\\\\Python311\\\\Lib\\\\json\\\\decoder.py\", line 355, in raw_decode\\n    raise JSONDecodeError(\"Expecting value\", s, err.value) from None\\njson.decoder.JSONDecodeError: Expecting value: line 1 column 1 (char 0)\\n', 'exception': JSONDecodeError('Expecting value: line 1 column 1 (char 0)')}\n"
     ]
    },
    {
     "name": "stderr",
     "output_type": "stream",
     "text": [
      "  4%|██▌                                                                  | 36505/1000000 [2:06:40<38:50:12,  6.89it/s]"
     ]
    },
    {
     "name": "stdout",
     "output_type": "stream",
     "text": [
      "{'traceback': 'Traceback (most recent call last):\\n  File \"C:\\\\Users\\\\ryans\\\\AppData\\\\Local\\\\Temp\\\\ipykernel_31184\\\\3515661714.py\", line 4, in <module>\\n    document = json.loads(payload)\\n               ^^^^^^^^^^^^^^^^^^^\\n  File \"C:\\\\Users\\\\ryans\\\\AppData\\\\Local\\\\Programs\\\\Python\\\\Python311\\\\Lib\\\\json\\\\__init__.py\", line 346, in loads\\n    return _default_decoder.decode(s)\\n           ^^^^^^^^^^^^^^^^^^^^^^^^^^\\n  File \"C:\\\\Users\\\\ryans\\\\AppData\\\\Local\\\\Programs\\\\Python\\\\Python311\\\\Lib\\\\json\\\\decoder.py\", line 337, in decode\\n    obj, end = self.raw_decode(s, idx=_w(s, 0).end())\\n               ^^^^^^^^^^^^^^^^^^^^^^^^^^^^^^^^^^^^^^\\n  File \"C:\\\\Users\\\\ryans\\\\AppData\\\\Local\\\\Programs\\\\Python\\\\Python311\\\\Lib\\\\json\\\\decoder.py\", line 353, in raw_decode\\n    obj, end = self.scan_once(s, idx)\\n               ^^^^^^^^^^^^^^^^^^^^^^\\njson.decoder.JSONDecodeError: Expecting property name enclosed in double quotes: line 1 column 2 (char 1)\\n', 'exception': JSONDecodeError('Expecting property name enclosed in double quotes: line 1 column 2 (char 1)')}\n"
     ]
    },
    {
     "name": "stderr",
     "output_type": "stream",
     "text": [
      "  4%|██▌                                                                  | 36551/1000000 [2:06:51<99:25:54,  2.69it/s]"
     ]
    },
    {
     "name": "stdout",
     "output_type": "stream",
     "text": [
      "{'traceback': 'Traceback (most recent call last):\\n  File \"C:\\\\Users\\\\ryans\\\\AppData\\\\Local\\\\Temp\\\\ipykernel_31184\\\\3515661714.py\", line 4, in <module>\\n    document = json.loads(payload)\\n               ^^^^^^^^^^^^^^^^^^^\\n  File \"C:\\\\Users\\\\ryans\\\\AppData\\\\Local\\\\Programs\\\\Python\\\\Python311\\\\Lib\\\\json\\\\__init__.py\", line 346, in loads\\n    return _default_decoder.decode(s)\\n           ^^^^^^^^^^^^^^^^^^^^^^^^^^\\n  File \"C:\\\\Users\\\\ryans\\\\AppData\\\\Local\\\\Programs\\\\Python\\\\Python311\\\\Lib\\\\json\\\\decoder.py\", line 337, in decode\\n    obj, end = self.raw_decode(s, idx=_w(s, 0).end())\\n               ^^^^^^^^^^^^^^^^^^^^^^^^^^^^^^^^^^^^^^\\n  File \"C:\\\\Users\\\\ryans\\\\AppData\\\\Local\\\\Programs\\\\Python\\\\Python311\\\\Lib\\\\json\\\\decoder.py\", line 355, in raw_decode\\n    raise JSONDecodeError(\"Expecting value\", s, err.value) from None\\njson.decoder.JSONDecodeError: Expecting value: line 1 column 1 (char 0)\\n', 'exception': JSONDecodeError('Expecting value: line 1 column 1 (char 0)')}\n"
     ]
    },
    {
     "name": "stderr",
     "output_type": "stream",
     "text": [
      "  4%|██▌                                                                  | 36686/1000000 [2:07:30<77:01:35,  3.47it/s]"
     ]
    },
    {
     "name": "stdout",
     "output_type": "stream",
     "text": [
      "{'traceback': 'Traceback (most recent call last):\\n  File \"C:\\\\Users\\\\ryans\\\\AppData\\\\Local\\\\Temp\\\\ipykernel_31184\\\\3515661714.py\", line 4, in <module>\\n    document = json.loads(payload)\\n               ^^^^^^^^^^^^^^^^^^^\\n  File \"C:\\\\Users\\\\ryans\\\\AppData\\\\Local\\\\Programs\\\\Python\\\\Python311\\\\Lib\\\\json\\\\__init__.py\", line 346, in loads\\n    return _default_decoder.decode(s)\\n           ^^^^^^^^^^^^^^^^^^^^^^^^^^\\n  File \"C:\\\\Users\\\\ryans\\\\AppData\\\\Local\\\\Programs\\\\Python\\\\Python311\\\\Lib\\\\json\\\\decoder.py\", line 337, in decode\\n    obj, end = self.raw_decode(s, idx=_w(s, 0).end())\\n               ^^^^^^^^^^^^^^^^^^^^^^^^^^^^^^^^^^^^^^\\n  File \"C:\\\\Users\\\\ryans\\\\AppData\\\\Local\\\\Programs\\\\Python\\\\Python311\\\\Lib\\\\json\\\\decoder.py\", line 353, in raw_decode\\n    obj, end = self.scan_once(s, idx)\\n               ^^^^^^^^^^^^^^^^^^^^^^\\njson.decoder.JSONDecodeError: Expecting property name enclosed in double quotes: line 1 column 2 (char 1)\\n', 'exception': JSONDecodeError('Expecting property name enclosed in double quotes: line 1 column 2 (char 1)')}\n"
     ]
    },
    {
     "name": "stderr",
     "output_type": "stream",
     "text": [
      "  4%|██▌                                                                  | 36753/1000000 [2:07:46<82:19:15,  3.25it/s]"
     ]
    },
    {
     "name": "stdout",
     "output_type": "stream",
     "text": [
      "{'traceback': 'Traceback (most recent call last):\\n  File \"C:\\\\Users\\\\ryans\\\\AppData\\\\Local\\\\Temp\\\\ipykernel_31184\\\\3515661714.py\", line 4, in <module>\\n    document = json.loads(payload)\\n               ^^^^^^^^^^^^^^^^^^^\\n  File \"C:\\\\Users\\\\ryans\\\\AppData\\\\Local\\\\Programs\\\\Python\\\\Python311\\\\Lib\\\\json\\\\__init__.py\", line 346, in loads\\n    return _default_decoder.decode(s)\\n           ^^^^^^^^^^^^^^^^^^^^^^^^^^\\n  File \"C:\\\\Users\\\\ryans\\\\AppData\\\\Local\\\\Programs\\\\Python\\\\Python311\\\\Lib\\\\json\\\\decoder.py\", line 337, in decode\\n    obj, end = self.raw_decode(s, idx=_w(s, 0).end())\\n               ^^^^^^^^^^^^^^^^^^^^^^^^^^^^^^^^^^^^^^\\n  File \"C:\\\\Users\\\\ryans\\\\AppData\\\\Local\\\\Programs\\\\Python\\\\Python311\\\\Lib\\\\json\\\\decoder.py\", line 355, in raw_decode\\n    raise JSONDecodeError(\"Expecting value\", s, err.value) from None\\njson.decoder.JSONDecodeError: Expecting value: line 1 column 1 (char 0)\\n', 'exception': JSONDecodeError('Expecting value: line 1 column 1 (char 0)')}\n"
     ]
    },
    {
     "name": "stderr",
     "output_type": "stream",
     "text": [
      "  4%|██▌                                                                  | 37042/1000000 [2:09:08<81:05:22,  3.30it/s]"
     ]
    },
    {
     "name": "stdout",
     "output_type": "stream",
     "text": [
      "{'traceback': 'Traceback (most recent call last):\\n  File \"C:\\\\Users\\\\ryans\\\\AppData\\\\Local\\\\Temp\\\\ipykernel_31184\\\\3515661714.py\", line 4, in <module>\\n    document = json.loads(payload)\\n               ^^^^^^^^^^^^^^^^^^^\\n  File \"C:\\\\Users\\\\ryans\\\\AppData\\\\Local\\\\Programs\\\\Python\\\\Python311\\\\Lib\\\\json\\\\__init__.py\", line 346, in loads\\n    return _default_decoder.decode(s)\\n           ^^^^^^^^^^^^^^^^^^^^^^^^^^\\n  File \"C:\\\\Users\\\\ryans\\\\AppData\\\\Local\\\\Programs\\\\Python\\\\Python311\\\\Lib\\\\json\\\\decoder.py\", line 337, in decode\\n    obj, end = self.raw_decode(s, idx=_w(s, 0).end())\\n               ^^^^^^^^^^^^^^^^^^^^^^^^^^^^^^^^^^^^^^\\n  File \"C:\\\\Users\\\\ryans\\\\AppData\\\\Local\\\\Programs\\\\Python\\\\Python311\\\\Lib\\\\json\\\\decoder.py\", line 355, in raw_decode\\n    raise JSONDecodeError(\"Expecting value\", s, err.value) from None\\njson.decoder.JSONDecodeError: Expecting value: line 1 column 1 (char 0)\\n', 'exception': JSONDecodeError('Expecting value: line 1 column 1 (char 0)')}\n"
     ]
    },
    {
     "name": "stderr",
     "output_type": "stream",
     "text": [
      "  4%|██▌                                                                 | 37144/1000000 [2:09:31<114:34:02,  2.33it/s]"
     ]
    },
    {
     "name": "stdout",
     "output_type": "stream",
     "text": [
      "{'traceback': 'Traceback (most recent call last):\\n  File \"C:\\\\Users\\\\ryans\\\\AppData\\\\Local\\\\Temp\\\\ipykernel_31184\\\\3515661714.py\", line 4, in <module>\\n    document = json.loads(payload)\\n               ^^^^^^^^^^^^^^^^^^^\\n  File \"C:\\\\Users\\\\ryans\\\\AppData\\\\Local\\\\Programs\\\\Python\\\\Python311\\\\Lib\\\\json\\\\__init__.py\", line 346, in loads\\n    return _default_decoder.decode(s)\\n           ^^^^^^^^^^^^^^^^^^^^^^^^^^\\n  File \"C:\\\\Users\\\\ryans\\\\AppData\\\\Local\\\\Programs\\\\Python\\\\Python311\\\\Lib\\\\json\\\\decoder.py\", line 337, in decode\\n    obj, end = self.raw_decode(s, idx=_w(s, 0).end())\\n               ^^^^^^^^^^^^^^^^^^^^^^^^^^^^^^^^^^^^^^\\n  File \"C:\\\\Users\\\\ryans\\\\AppData\\\\Local\\\\Programs\\\\Python\\\\Python311\\\\Lib\\\\json\\\\decoder.py\", line 355, in raw_decode\\n    raise JSONDecodeError(\"Expecting value\", s, err.value) from None\\njson.decoder.JSONDecodeError: Expecting value: line 1 column 1 (char 0)\\n', 'exception': JSONDecodeError('Expecting value: line 1 column 1 (char 0)')}\n"
     ]
    },
    {
     "name": "stderr",
     "output_type": "stream",
     "text": [
      "  4%|██▌                                                                 | 37147/1000000 [2:09:33<149:39:08,  1.79it/s]"
     ]
    },
    {
     "name": "stdout",
     "output_type": "stream",
     "text": [
      "{'traceback': 'Traceback (most recent call last):\\n  File \"C:\\\\Users\\\\ryans\\\\AppData\\\\Local\\\\Temp\\\\ipykernel_31184\\\\3515661714.py\", line 4, in <module>\\n    document = json.loads(payload)\\n               ^^^^^^^^^^^^^^^^^^^\\n  File \"C:\\\\Users\\\\ryans\\\\AppData\\\\Local\\\\Programs\\\\Python\\\\Python311\\\\Lib\\\\json\\\\__init__.py\", line 346, in loads\\n    return _default_decoder.decode(s)\\n           ^^^^^^^^^^^^^^^^^^^^^^^^^^\\n  File \"C:\\\\Users\\\\ryans\\\\AppData\\\\Local\\\\Programs\\\\Python\\\\Python311\\\\Lib\\\\json\\\\decoder.py\", line 337, in decode\\n    obj, end = self.raw_decode(s, idx=_w(s, 0).end())\\n               ^^^^^^^^^^^^^^^^^^^^^^^^^^^^^^^^^^^^^^\\n  File \"C:\\\\Users\\\\ryans\\\\AppData\\\\Local\\\\Programs\\\\Python\\\\Python311\\\\Lib\\\\json\\\\decoder.py\", line 355, in raw_decode\\n    raise JSONDecodeError(\"Expecting value\", s, err.value) from None\\njson.decoder.JSONDecodeError: Expecting value: line 1 column 1 (char 0)\\n', 'exception': JSONDecodeError('Expecting value: line 1 column 1 (char 0)')}\n"
     ]
    },
    {
     "name": "stderr",
     "output_type": "stream",
     "text": [
      "  4%|██▌                                                                  | 37527/1000000 [2:11:24<84:53:58,  3.15it/s]"
     ]
    },
    {
     "name": "stdout",
     "output_type": "stream",
     "text": [
      "{'traceback': 'Traceback (most recent call last):\\n  File \"C:\\\\Users\\\\ryans\\\\AppData\\\\Local\\\\Temp\\\\ipykernel_31184\\\\3515661714.py\", line 4, in <module>\\n    document = json.loads(payload)\\n               ^^^^^^^^^^^^^^^^^^^\\n  File \"C:\\\\Users\\\\ryans\\\\AppData\\\\Local\\\\Programs\\\\Python\\\\Python311\\\\Lib\\\\json\\\\__init__.py\", line 346, in loads\\n    return _default_decoder.decode(s)\\n           ^^^^^^^^^^^^^^^^^^^^^^^^^^\\n  File \"C:\\\\Users\\\\ryans\\\\AppData\\\\Local\\\\Programs\\\\Python\\\\Python311\\\\Lib\\\\json\\\\decoder.py\", line 337, in decode\\n    obj, end = self.raw_decode(s, idx=_w(s, 0).end())\\n               ^^^^^^^^^^^^^^^^^^^^^^^^^^^^^^^^^^^^^^\\n  File \"C:\\\\Users\\\\ryans\\\\AppData\\\\Local\\\\Programs\\\\Python\\\\Python311\\\\Lib\\\\json\\\\decoder.py\", line 355, in raw_decode\\n    raise JSONDecodeError(\"Expecting value\", s, err.value) from None\\njson.decoder.JSONDecodeError: Expecting value: line 1 column 1 (char 0)\\n', 'exception': JSONDecodeError('Expecting value: line 1 column 1 (char 0)')}\n"
     ]
    },
    {
     "name": "stderr",
     "output_type": "stream",
     "text": [
      "  4%|██▋                                                                  | 38339/1000000 [2:15:14<91:41:21,  2.91it/s]"
     ]
    },
    {
     "name": "stdout",
     "output_type": "stream",
     "text": [
      "{'traceback': 'Traceback (most recent call last):\\n  File \"C:\\\\Users\\\\ryans\\\\AppData\\\\Local\\\\Temp\\\\ipykernel_31184\\\\3515661714.py\", line 4, in <module>\\n    document = json.loads(payload)\\n               ^^^^^^^^^^^^^^^^^^^\\n  File \"C:\\\\Users\\\\ryans\\\\AppData\\\\Local\\\\Programs\\\\Python\\\\Python311\\\\Lib\\\\json\\\\__init__.py\", line 346, in loads\\n    return _default_decoder.decode(s)\\n           ^^^^^^^^^^^^^^^^^^^^^^^^^^\\n  File \"C:\\\\Users\\\\ryans\\\\AppData\\\\Local\\\\Programs\\\\Python\\\\Python311\\\\Lib\\\\json\\\\decoder.py\", line 337, in decode\\n    obj, end = self.raw_decode(s, idx=_w(s, 0).end())\\n               ^^^^^^^^^^^^^^^^^^^^^^^^^^^^^^^^^^^^^^\\n  File \"C:\\\\Users\\\\ryans\\\\AppData\\\\Local\\\\Programs\\\\Python\\\\Python311\\\\Lib\\\\json\\\\decoder.py\", line 353, in raw_decode\\n    obj, end = self.scan_once(s, idx)\\n               ^^^^^^^^^^^^^^^^^^^^^^\\njson.decoder.JSONDecodeError: Expecting property name enclosed in double quotes: line 1 column 2 (char 1)\\n', 'exception': JSONDecodeError('Expecting property name enclosed in double quotes: line 1 column 2 (char 1)')}\n"
     ]
    },
    {
     "name": "stderr",
     "output_type": "stream",
     "text": [
      "  4%|██▋                                                                  | 38548/1000000 [2:16:07<77:01:17,  3.47it/s]"
     ]
    },
    {
     "name": "stdout",
     "output_type": "stream",
     "text": [
      "{'traceback': 'Traceback (most recent call last):\\n  File \"C:\\\\Users\\\\ryans\\\\AppData\\\\Local\\\\Temp\\\\ipykernel_31184\\\\3515661714.py\", line 4, in <module>\\n    document = json.loads(payload)\\n               ^^^^^^^^^^^^^^^^^^^\\n  File \"C:\\\\Users\\\\ryans\\\\AppData\\\\Local\\\\Programs\\\\Python\\\\Python311\\\\Lib\\\\json\\\\__init__.py\", line 346, in loads\\n    return _default_decoder.decode(s)\\n           ^^^^^^^^^^^^^^^^^^^^^^^^^^\\n  File \"C:\\\\Users\\\\ryans\\\\AppData\\\\Local\\\\Programs\\\\Python\\\\Python311\\\\Lib\\\\json\\\\decoder.py\", line 337, in decode\\n    obj, end = self.raw_decode(s, idx=_w(s, 0).end())\\n               ^^^^^^^^^^^^^^^^^^^^^^^^^^^^^^^^^^^^^^\\n  File \"C:\\\\Users\\\\ryans\\\\AppData\\\\Local\\\\Programs\\\\Python\\\\Python311\\\\Lib\\\\json\\\\decoder.py\", line 353, in raw_decode\\n    obj, end = self.scan_once(s, idx)\\n               ^^^^^^^^^^^^^^^^^^^^^^\\njson.decoder.JSONDecodeError: Expecting property name enclosed in double quotes: line 1 column 2 (char 1)\\n', 'exception': JSONDecodeError('Expecting property name enclosed in double quotes: line 1 column 2 (char 1)')}\n"
     ]
    },
    {
     "name": "stderr",
     "output_type": "stream",
     "text": [
      "  4%|██▌                                                                 | 38552/1000000 [2:16:09<128:44:15,  2.07it/s]"
     ]
    },
    {
     "name": "stdout",
     "output_type": "stream",
     "text": [
      "{'traceback': 'Traceback (most recent call last):\\n  File \"C:\\\\Users\\\\ryans\\\\AppData\\\\Local\\\\Temp\\\\ipykernel_31184\\\\3515661714.py\", line 4, in <module>\\n    document = json.loads(payload)\\n               ^^^^^^^^^^^^^^^^^^^\\n  File \"C:\\\\Users\\\\ryans\\\\AppData\\\\Local\\\\Programs\\\\Python\\\\Python311\\\\Lib\\\\json\\\\__init__.py\", line 346, in loads\\n    return _default_decoder.decode(s)\\n           ^^^^^^^^^^^^^^^^^^^^^^^^^^\\n  File \"C:\\\\Users\\\\ryans\\\\AppData\\\\Local\\\\Programs\\\\Python\\\\Python311\\\\Lib\\\\json\\\\decoder.py\", line 337, in decode\\n    obj, end = self.raw_decode(s, idx=_w(s, 0).end())\\n               ^^^^^^^^^^^^^^^^^^^^^^^^^^^^^^^^^^^^^^\\n  File \"C:\\\\Users\\\\ryans\\\\AppData\\\\Local\\\\Programs\\\\Python\\\\Python311\\\\Lib\\\\json\\\\decoder.py\", line 355, in raw_decode\\n    raise JSONDecodeError(\"Expecting value\", s, err.value) from None\\njson.decoder.JSONDecodeError: Expecting value: line 1 column 1 (char 0)\\n', 'exception': JSONDecodeError('Expecting value: line 1 column 1 (char 0)')}\n"
     ]
    },
    {
     "name": "stderr",
     "output_type": "stream",
     "text": [
      "  4%|██▋                                                                  | 38625/1000000 [2:16:25<49:07:02,  5.44it/s]"
     ]
    },
    {
     "name": "stdout",
     "output_type": "stream",
     "text": [
      "{'traceback': 'Traceback (most recent call last):\\n  File \"C:\\\\Users\\\\ryans\\\\AppData\\\\Local\\\\Temp\\\\ipykernel_31184\\\\3515661714.py\", line 4, in <module>\\n    document = json.loads(payload)\\n               ^^^^^^^^^^^^^^^^^^^\\n  File \"C:\\\\Users\\\\ryans\\\\AppData\\\\Local\\\\Programs\\\\Python\\\\Python311\\\\Lib\\\\json\\\\__init__.py\", line 346, in loads\\n    return _default_decoder.decode(s)\\n           ^^^^^^^^^^^^^^^^^^^^^^^^^^\\n  File \"C:\\\\Users\\\\ryans\\\\AppData\\\\Local\\\\Programs\\\\Python\\\\Python311\\\\Lib\\\\json\\\\decoder.py\", line 337, in decode\\n    obj, end = self.raw_decode(s, idx=_w(s, 0).end())\\n               ^^^^^^^^^^^^^^^^^^^^^^^^^^^^^^^^^^^^^^\\n  File \"C:\\\\Users\\\\ryans\\\\AppData\\\\Local\\\\Programs\\\\Python\\\\Python311\\\\Lib\\\\json\\\\decoder.py\", line 353, in raw_decode\\n    obj, end = self.scan_once(s, idx)\\n               ^^^^^^^^^^^^^^^^^^^^^^\\njson.decoder.JSONDecodeError: Expecting property name enclosed in double quotes: line 1 column 2 (char 1)\\n', 'exception': JSONDecodeError('Expecting property name enclosed in double quotes: line 1 column 2 (char 1)')}\n"
     ]
    },
    {
     "name": "stderr",
     "output_type": "stream",
     "text": [
      "  4%|██▋                                                                  | 39115/1000000 [2:18:40<72:39:23,  3.67it/s]"
     ]
    },
    {
     "name": "stdout",
     "output_type": "stream",
     "text": [
      "{'traceback': 'Traceback (most recent call last):\\n  File \"C:\\\\Users\\\\ryans\\\\AppData\\\\Local\\\\Temp\\\\ipykernel_31184\\\\3515661714.py\", line 4, in <module>\\n    document = json.loads(payload)\\n               ^^^^^^^^^^^^^^^^^^^\\n  File \"C:\\\\Users\\\\ryans\\\\AppData\\\\Local\\\\Programs\\\\Python\\\\Python311\\\\Lib\\\\json\\\\__init__.py\", line 346, in loads\\n    return _default_decoder.decode(s)\\n           ^^^^^^^^^^^^^^^^^^^^^^^^^^\\n  File \"C:\\\\Users\\\\ryans\\\\AppData\\\\Local\\\\Programs\\\\Python\\\\Python311\\\\Lib\\\\json\\\\decoder.py\", line 337, in decode\\n    obj, end = self.raw_decode(s, idx=_w(s, 0).end())\\n               ^^^^^^^^^^^^^^^^^^^^^^^^^^^^^^^^^^^^^^\\n  File \"C:\\\\Users\\\\ryans\\\\AppData\\\\Local\\\\Programs\\\\Python\\\\Python311\\\\Lib\\\\json\\\\decoder.py\", line 353, in raw_decode\\n    obj, end = self.scan_once(s, idx)\\n               ^^^^^^^^^^^^^^^^^^^^^^\\njson.decoder.JSONDecodeError: Expecting property name enclosed in double quotes: line 1 column 2 (char 1)\\n', 'exception': JSONDecodeError('Expecting property name enclosed in double quotes: line 1 column 2 (char 1)')}\n"
     ]
    },
    {
     "name": "stderr",
     "output_type": "stream",
     "text": [
      "  4%|██▋                                                                  | 39176/1000000 [2:18:55<74:41:25,  3.57it/s]"
     ]
    },
    {
     "name": "stdout",
     "output_type": "stream",
     "text": [
      "{'traceback': 'Traceback (most recent call last):\\n  File \"C:\\\\Users\\\\ryans\\\\AppData\\\\Local\\\\Temp\\\\ipykernel_31184\\\\3515661714.py\", line 4, in <module>\\n    document = json.loads(payload)\\n               ^^^^^^^^^^^^^^^^^^^\\n  File \"C:\\\\Users\\\\ryans\\\\AppData\\\\Local\\\\Programs\\\\Python\\\\Python311\\\\Lib\\\\json\\\\__init__.py\", line 346, in loads\\n    return _default_decoder.decode(s)\\n           ^^^^^^^^^^^^^^^^^^^^^^^^^^\\n  File \"C:\\\\Users\\\\ryans\\\\AppData\\\\Local\\\\Programs\\\\Python\\\\Python311\\\\Lib\\\\json\\\\decoder.py\", line 337, in decode\\n    obj, end = self.raw_decode(s, idx=_w(s, 0).end())\\n               ^^^^^^^^^^^^^^^^^^^^^^^^^^^^^^^^^^^^^^\\n  File \"C:\\\\Users\\\\ryans\\\\AppData\\\\Local\\\\Programs\\\\Python\\\\Python311\\\\Lib\\\\json\\\\decoder.py\", line 355, in raw_decode\\n    raise JSONDecodeError(\"Expecting value\", s, err.value) from None\\njson.decoder.JSONDecodeError: Expecting value: line 1 column 1 (char 0)\\n', 'exception': JSONDecodeError('Expecting value: line 1 column 1 (char 0)')}\n"
     ]
    },
    {
     "name": "stderr",
     "output_type": "stream",
     "text": [
      "  4%|██▋                                                                  | 39292/1000000 [2:19:27<78:52:41,  3.38it/s]"
     ]
    },
    {
     "name": "stdout",
     "output_type": "stream",
     "text": [
      "{'traceback': 'Traceback (most recent call last):\\n  File \"C:\\\\Users\\\\ryans\\\\AppData\\\\Local\\\\Temp\\\\ipykernel_31184\\\\3515661714.py\", line 4, in <module>\\n    document = json.loads(payload)\\n               ^^^^^^^^^^^^^^^^^^^\\n  File \"C:\\\\Users\\\\ryans\\\\AppData\\\\Local\\\\Programs\\\\Python\\\\Python311\\\\Lib\\\\json\\\\__init__.py\", line 346, in loads\\n    return _default_decoder.decode(s)\\n           ^^^^^^^^^^^^^^^^^^^^^^^^^^\\n  File \"C:\\\\Users\\\\ryans\\\\AppData\\\\Local\\\\Programs\\\\Python\\\\Python311\\\\Lib\\\\json\\\\decoder.py\", line 337, in decode\\n    obj, end = self.raw_decode(s, idx=_w(s, 0).end())\\n               ^^^^^^^^^^^^^^^^^^^^^^^^^^^^^^^^^^^^^^\\n  File \"C:\\\\Users\\\\ryans\\\\AppData\\\\Local\\\\Programs\\\\Python\\\\Python311\\\\Lib\\\\json\\\\decoder.py\", line 353, in raw_decode\\n    obj, end = self.scan_once(s, idx)\\n               ^^^^^^^^^^^^^^^^^^^^^^\\njson.decoder.JSONDecodeError: Expecting property name enclosed in double quotes: line 1 column 2 (char 1)\\n', 'exception': JSONDecodeError('Expecting property name enclosed in double quotes: line 1 column 2 (char 1)')}\n"
     ]
    },
    {
     "name": "stderr",
     "output_type": "stream",
     "text": [
      "  4%|██▋                                                                  | 39420/1000000 [2:19:56<39:52:25,  6.69it/s]"
     ]
    },
    {
     "name": "stdout",
     "output_type": "stream",
     "text": [
      "{'traceback': 'Traceback (most recent call last):\\n  File \"C:\\\\Users\\\\ryans\\\\AppData\\\\Local\\\\Temp\\\\ipykernel_31184\\\\3515661714.py\", line 4, in <module>\\n    document = json.loads(payload)\\n               ^^^^^^^^^^^^^^^^^^^\\n  File \"C:\\\\Users\\\\ryans\\\\AppData\\\\Local\\\\Programs\\\\Python\\\\Python311\\\\Lib\\\\json\\\\__init__.py\", line 346, in loads\\n    return _default_decoder.decode(s)\\n           ^^^^^^^^^^^^^^^^^^^^^^^^^^\\n  File \"C:\\\\Users\\\\ryans\\\\AppData\\\\Local\\\\Programs\\\\Python\\\\Python311\\\\Lib\\\\json\\\\decoder.py\", line 337, in decode\\n    obj, end = self.raw_decode(s, idx=_w(s, 0).end())\\n               ^^^^^^^^^^^^^^^^^^^^^^^^^^^^^^^^^^^^^^\\n  File \"C:\\\\Users\\\\ryans\\\\AppData\\\\Local\\\\Programs\\\\Python\\\\Python311\\\\Lib\\\\json\\\\decoder.py\", line 355, in raw_decode\\n    raise JSONDecodeError(\"Expecting value\", s, err.value) from None\\njson.decoder.JSONDecodeError: Expecting value: line 1 column 1 (char 0)\\n', 'exception': JSONDecodeError('Expecting value: line 1 column 1 (char 0)')}\n"
     ]
    },
    {
     "name": "stderr",
     "output_type": "stream",
     "text": [
      "  4%|██▋                                                                 | 39423/1000000 [2:19:57<102:17:48,  2.61it/s]"
     ]
    },
    {
     "name": "stdout",
     "output_type": "stream",
     "text": [
      "{'traceback': 'Traceback (most recent call last):\\n  File \"C:\\\\Users\\\\ryans\\\\AppData\\\\Local\\\\Temp\\\\ipykernel_31184\\\\3515661714.py\", line 4, in <module>\\n    document = json.loads(payload)\\n               ^^^^^^^^^^^^^^^^^^^\\n  File \"C:\\\\Users\\\\ryans\\\\AppData\\\\Local\\\\Programs\\\\Python\\\\Python311\\\\Lib\\\\json\\\\__init__.py\", line 346, in loads\\n    return _default_decoder.decode(s)\\n           ^^^^^^^^^^^^^^^^^^^^^^^^^^\\n  File \"C:\\\\Users\\\\ryans\\\\AppData\\\\Local\\\\Programs\\\\Python\\\\Python311\\\\Lib\\\\json\\\\decoder.py\", line 337, in decode\\n    obj, end = self.raw_decode(s, idx=_w(s, 0).end())\\n               ^^^^^^^^^^^^^^^^^^^^^^^^^^^^^^^^^^^^^^\\n  File \"C:\\\\Users\\\\ryans\\\\AppData\\\\Local\\\\Programs\\\\Python\\\\Python311\\\\Lib\\\\json\\\\decoder.py\", line 355, in raw_decode\\n    raise JSONDecodeError(\"Expecting value\", s, err.value) from None\\njson.decoder.JSONDecodeError: Expecting value: line 1 column 1 (char 0)\\n', 'exception': JSONDecodeError('Expecting value: line 1 column 1 (char 0)')}\n"
     ]
    },
    {
     "name": "stderr",
     "output_type": "stream",
     "text": [
      "  4%|██▋                                                                  | 39665/1000000 [2:21:05<41:44:47,  6.39it/s]"
     ]
    },
    {
     "name": "stdout",
     "output_type": "stream",
     "text": [
      "{'traceback': 'Traceback (most recent call last):\\n  File \"C:\\\\Users\\\\ryans\\\\AppData\\\\Local\\\\Temp\\\\ipykernel_31184\\\\3515661714.py\", line 4, in <module>\\n    document = json.loads(payload)\\n               ^^^^^^^^^^^^^^^^^^^\\n  File \"C:\\\\Users\\\\ryans\\\\AppData\\\\Local\\\\Programs\\\\Python\\\\Python311\\\\Lib\\\\json\\\\__init__.py\", line 346, in loads\\n    return _default_decoder.decode(s)\\n           ^^^^^^^^^^^^^^^^^^^^^^^^^^\\n  File \"C:\\\\Users\\\\ryans\\\\AppData\\\\Local\\\\Programs\\\\Python\\\\Python311\\\\Lib\\\\json\\\\decoder.py\", line 337, in decode\\n    obj, end = self.raw_decode(s, idx=_w(s, 0).end())\\n               ^^^^^^^^^^^^^^^^^^^^^^^^^^^^^^^^^^^^^^\\n  File \"C:\\\\Users\\\\ryans\\\\AppData\\\\Local\\\\Programs\\\\Python\\\\Python311\\\\Lib\\\\json\\\\decoder.py\", line 355, in raw_decode\\n    raise JSONDecodeError(\"Expecting value\", s, err.value) from None\\njson.decoder.JSONDecodeError: Expecting value: line 1 column 1 (char 0)\\n', 'exception': JSONDecodeError('Expecting value: line 1 column 1 (char 0)')}\n"
     ]
    },
    {
     "name": "stderr",
     "output_type": "stream",
     "text": [
      "  4%|██▋                                                                  | 39675/1000000 [2:21:08<70:57:58,  3.76it/s]"
     ]
    },
    {
     "name": "stdout",
     "output_type": "stream",
     "text": [
      "{'traceback': 'Traceback (most recent call last):\\n  File \"C:\\\\Users\\\\ryans\\\\AppData\\\\Local\\\\Temp\\\\ipykernel_31184\\\\3515661714.py\", line 4, in <module>\\n    document = json.loads(payload)\\n               ^^^^^^^^^^^^^^^^^^^\\n  File \"C:\\\\Users\\\\ryans\\\\AppData\\\\Local\\\\Programs\\\\Python\\\\Python311\\\\Lib\\\\json\\\\__init__.py\", line 346, in loads\\n    return _default_decoder.decode(s)\\n           ^^^^^^^^^^^^^^^^^^^^^^^^^^\\n  File \"C:\\\\Users\\\\ryans\\\\AppData\\\\Local\\\\Programs\\\\Python\\\\Python311\\\\Lib\\\\json\\\\decoder.py\", line 337, in decode\\n    obj, end = self.raw_decode(s, idx=_w(s, 0).end())\\n               ^^^^^^^^^^^^^^^^^^^^^^^^^^^^^^^^^^^^^^\\n  File \"C:\\\\Users\\\\ryans\\\\AppData\\\\Local\\\\Programs\\\\Python\\\\Python311\\\\Lib\\\\json\\\\decoder.py\", line 353, in raw_decode\\n    obj, end = self.scan_once(s, idx)\\n               ^^^^^^^^^^^^^^^^^^^^^^\\njson.decoder.JSONDecodeError: Expecting property name enclosed in double quotes: line 1 column 2 (char 1)\\n', 'exception': JSONDecodeError('Expecting property name enclosed in double quotes: line 1 column 2 (char 1)')}\n"
     ]
    },
    {
     "name": "stderr",
     "output_type": "stream",
     "text": [
      "  4%|██▋                                                                  | 39852/1000000 [2:21:57<59:07:47,  4.51it/s]"
     ]
    },
    {
     "name": "stdout",
     "output_type": "stream",
     "text": [
      "{'traceback': 'Traceback (most recent call last):\\n  File \"C:\\\\Users\\\\ryans\\\\AppData\\\\Local\\\\Temp\\\\ipykernel_31184\\\\3515661714.py\", line 4, in <module>\\n    document = json.loads(payload)\\n               ^^^^^^^^^^^^^^^^^^^\\n  File \"C:\\\\Users\\\\ryans\\\\AppData\\\\Local\\\\Programs\\\\Python\\\\Python311\\\\Lib\\\\json\\\\__init__.py\", line 346, in loads\\n    return _default_decoder.decode(s)\\n           ^^^^^^^^^^^^^^^^^^^^^^^^^^\\n  File \"C:\\\\Users\\\\ryans\\\\AppData\\\\Local\\\\Programs\\\\Python\\\\Python311\\\\Lib\\\\json\\\\decoder.py\", line 337, in decode\\n    obj, end = self.raw_decode(s, idx=_w(s, 0).end())\\n               ^^^^^^^^^^^^^^^^^^^^^^^^^^^^^^^^^^^^^^\\n  File \"C:\\\\Users\\\\ryans\\\\AppData\\\\Local\\\\Programs\\\\Python\\\\Python311\\\\Lib\\\\json\\\\decoder.py\", line 353, in raw_decode\\n    obj, end = self.scan_once(s, idx)\\n               ^^^^^^^^^^^^^^^^^^^^^^\\njson.decoder.JSONDecodeError: Expecting property name enclosed in double quotes: line 1 column 2 (char 1)\\n', 'exception': JSONDecodeError('Expecting property name enclosed in double quotes: line 1 column 2 (char 1)')}\n"
     ]
    },
    {
     "name": "stderr",
     "output_type": "stream",
     "text": [
      "  4%|██▊                                                                  | 39890/1000000 [2:22:05<45:20:49,  5.88it/s]"
     ]
    },
    {
     "name": "stdout",
     "output_type": "stream",
     "text": [
      "{'traceback': 'Traceback (most recent call last):\\n  File \"C:\\\\Users\\\\ryans\\\\AppData\\\\Local\\\\Temp\\\\ipykernel_31184\\\\3515661714.py\", line 4, in <module>\\n    document = json.loads(payload)\\n               ^^^^^^^^^^^^^^^^^^^\\n  File \"C:\\\\Users\\\\ryans\\\\AppData\\\\Local\\\\Programs\\\\Python\\\\Python311\\\\Lib\\\\json\\\\__init__.py\", line 346, in loads\\n    return _default_decoder.decode(s)\\n           ^^^^^^^^^^^^^^^^^^^^^^^^^^\\n  File \"C:\\\\Users\\\\ryans\\\\AppData\\\\Local\\\\Programs\\\\Python\\\\Python311\\\\Lib\\\\json\\\\decoder.py\", line 337, in decode\\n    obj, end = self.raw_decode(s, idx=_w(s, 0).end())\\n               ^^^^^^^^^^^^^^^^^^^^^^^^^^^^^^^^^^^^^^\\n  File \"C:\\\\Users\\\\ryans\\\\AppData\\\\Local\\\\Programs\\\\Python\\\\Python311\\\\Lib\\\\json\\\\decoder.py\", line 355, in raw_decode\\n    raise JSONDecodeError(\"Expecting value\", s, err.value) from None\\njson.decoder.JSONDecodeError: Expecting value: line 1 column 1 (char 0)\\n', 'exception': JSONDecodeError('Expecting value: line 1 column 1 (char 0)')}\n"
     ]
    },
    {
     "name": "stderr",
     "output_type": "stream",
     "text": [
      "  4%|██▊                                                                  | 40071/1000000 [2:22:57<38:12:08,  6.98it/s]"
     ]
    },
    {
     "name": "stdout",
     "output_type": "stream",
     "text": [
      "{'traceback': 'Traceback (most recent call last):\\n  File \"C:\\\\Users\\\\ryans\\\\AppData\\\\Local\\\\Temp\\\\ipykernel_31184\\\\3515661714.py\", line 4, in <module>\\n    document = json.loads(payload)\\n               ^^^^^^^^^^^^^^^^^^^\\n  File \"C:\\\\Users\\\\ryans\\\\AppData\\\\Local\\\\Programs\\\\Python\\\\Python311\\\\Lib\\\\json\\\\__init__.py\", line 346, in loads\\n    return _default_decoder.decode(s)\\n           ^^^^^^^^^^^^^^^^^^^^^^^^^^\\n  File \"C:\\\\Users\\\\ryans\\\\AppData\\\\Local\\\\Programs\\\\Python\\\\Python311\\\\Lib\\\\json\\\\decoder.py\", line 337, in decode\\n    obj, end = self.raw_decode(s, idx=_w(s, 0).end())\\n               ^^^^^^^^^^^^^^^^^^^^^^^^^^^^^^^^^^^^^^\\n  File \"C:\\\\Users\\\\ryans\\\\AppData\\\\Local\\\\Programs\\\\Python\\\\Python311\\\\Lib\\\\json\\\\decoder.py\", line 353, in raw_decode\\n    obj, end = self.scan_once(s, idx)\\n               ^^^^^^^^^^^^^^^^^^^^^^\\njson.decoder.JSONDecodeError: Expecting property name enclosed in double quotes: line 1 column 2 (char 1)\\n', 'exception': JSONDecodeError('Expecting property name enclosed in double quotes: line 1 column 2 (char 1)')}\n"
     ]
    },
    {
     "name": "stderr",
     "output_type": "stream",
     "text": [
      "  4%|██▊                                                                  | 40073/1000000 [2:22:58<43:40:42,  6.10it/s]"
     ]
    },
    {
     "name": "stdout",
     "output_type": "stream",
     "text": [
      "{'traceback': 'Traceback (most recent call last):\\n  File \"C:\\\\Users\\\\ryans\\\\AppData\\\\Local\\\\Temp\\\\ipykernel_31184\\\\3515661714.py\", line 4, in <module>\\n    document = json.loads(payload)\\n               ^^^^^^^^^^^^^^^^^^^\\n  File \"C:\\\\Users\\\\ryans\\\\AppData\\\\Local\\\\Programs\\\\Python\\\\Python311\\\\Lib\\\\json\\\\__init__.py\", line 346, in loads\\n    return _default_decoder.decode(s)\\n           ^^^^^^^^^^^^^^^^^^^^^^^^^^\\n  File \"C:\\\\Users\\\\ryans\\\\AppData\\\\Local\\\\Programs\\\\Python\\\\Python311\\\\Lib\\\\json\\\\decoder.py\", line 337, in decode\\n    obj, end = self.raw_decode(s, idx=_w(s, 0).end())\\n               ^^^^^^^^^^^^^^^^^^^^^^^^^^^^^^^^^^^^^^\\n  File \"C:\\\\Users\\\\ryans\\\\AppData\\\\Local\\\\Programs\\\\Python\\\\Python311\\\\Lib\\\\json\\\\decoder.py\", line 353, in raw_decode\\n    obj, end = self.scan_once(s, idx)\\n               ^^^^^^^^^^^^^^^^^^^^^^\\njson.decoder.JSONDecodeError: Expecting property name enclosed in double quotes: line 1 column 2 (char 1)\\n', 'exception': JSONDecodeError('Expecting property name enclosed in double quotes: line 1 column 2 (char 1)')}\n"
     ]
    },
    {
     "name": "stderr",
     "output_type": "stream",
     "text": [
      "  4%|██▋                                                                 | 40290/1000000 [2:23:55<141:06:31,  1.89it/s]"
     ]
    },
    {
     "name": "stdout",
     "output_type": "stream",
     "text": [
      "{'traceback': 'Traceback (most recent call last):\\n  File \"C:\\\\Users\\\\ryans\\\\AppData\\\\Local\\\\Temp\\\\ipykernel_31184\\\\3515661714.py\", line 4, in <module>\\n    document = json.loads(payload)\\n               ^^^^^^^^^^^^^^^^^^^\\n  File \"C:\\\\Users\\\\ryans\\\\AppData\\\\Local\\\\Programs\\\\Python\\\\Python311\\\\Lib\\\\json\\\\__init__.py\", line 346, in loads\\n    return _default_decoder.decode(s)\\n           ^^^^^^^^^^^^^^^^^^^^^^^^^^\\n  File \"C:\\\\Users\\\\ryans\\\\AppData\\\\Local\\\\Programs\\\\Python\\\\Python311\\\\Lib\\\\json\\\\decoder.py\", line 337, in decode\\n    obj, end = self.raw_decode(s, idx=_w(s, 0).end())\\n               ^^^^^^^^^^^^^^^^^^^^^^^^^^^^^^^^^^^^^^\\n  File \"C:\\\\Users\\\\ryans\\\\AppData\\\\Local\\\\Programs\\\\Python\\\\Python311\\\\Lib\\\\json\\\\decoder.py\", line 355, in raw_decode\\n    raise JSONDecodeError(\"Expecting value\", s, err.value) from None\\njson.decoder.JSONDecodeError: Expecting value: line 1 column 1 (char 0)\\n', 'exception': JSONDecodeError('Expecting value: line 1 column 1 (char 0)')}\n"
     ]
    },
    {
     "name": "stderr",
     "output_type": "stream",
     "text": [
      "  4%|██▊                                                                  | 40532/1000000 [2:24:56<79:45:56,  3.34it/s]"
     ]
    },
    {
     "name": "stdout",
     "output_type": "stream",
     "text": [
      "{'traceback': 'Traceback (most recent call last):\\n  File \"C:\\\\Users\\\\ryans\\\\AppData\\\\Local\\\\Temp\\\\ipykernel_31184\\\\3515661714.py\", line 4, in <module>\\n    document = json.loads(payload)\\n               ^^^^^^^^^^^^^^^^^^^\\n  File \"C:\\\\Users\\\\ryans\\\\AppData\\\\Local\\\\Programs\\\\Python\\\\Python311\\\\Lib\\\\json\\\\__init__.py\", line 346, in loads\\n    return _default_decoder.decode(s)\\n           ^^^^^^^^^^^^^^^^^^^^^^^^^^\\n  File \"C:\\\\Users\\\\ryans\\\\AppData\\\\Local\\\\Programs\\\\Python\\\\Python311\\\\Lib\\\\json\\\\decoder.py\", line 337, in decode\\n    obj, end = self.raw_decode(s, idx=_w(s, 0).end())\\n               ^^^^^^^^^^^^^^^^^^^^^^^^^^^^^^^^^^^^^^\\n  File \"C:\\\\Users\\\\ryans\\\\AppData\\\\Local\\\\Programs\\\\Python\\\\Python311\\\\Lib\\\\json\\\\decoder.py\", line 355, in raw_decode\\n    raise JSONDecodeError(\"Expecting value\", s, err.value) from None\\njson.decoder.JSONDecodeError: Expecting value: line 1 column 1 (char 0)\\n', 'exception': JSONDecodeError('Expecting value: line 1 column 1 (char 0)')}\n"
     ]
    },
    {
     "name": "stderr",
     "output_type": "stream",
     "text": [
      "  4%|██▊                                                                 | 40607/1000000 [2:25:17<104:54:57,  2.54it/s]"
     ]
    },
    {
     "name": "stdout",
     "output_type": "stream",
     "text": [
      "{'traceback': 'Traceback (most recent call last):\\n  File \"C:\\\\Users\\\\ryans\\\\AppData\\\\Local\\\\Temp\\\\ipykernel_31184\\\\3515661714.py\", line 4, in <module>\\n    document = json.loads(payload)\\n               ^^^^^^^^^^^^^^^^^^^\\n  File \"C:\\\\Users\\\\ryans\\\\AppData\\\\Local\\\\Programs\\\\Python\\\\Python311\\\\Lib\\\\json\\\\__init__.py\", line 346, in loads\\n    return _default_decoder.decode(s)\\n           ^^^^^^^^^^^^^^^^^^^^^^^^^^\\n  File \"C:\\\\Users\\\\ryans\\\\AppData\\\\Local\\\\Programs\\\\Python\\\\Python311\\\\Lib\\\\json\\\\decoder.py\", line 337, in decode\\n    obj, end = self.raw_decode(s, idx=_w(s, 0).end())\\n               ^^^^^^^^^^^^^^^^^^^^^^^^^^^^^^^^^^^^^^\\n  File \"C:\\\\Users\\\\ryans\\\\AppData\\\\Local\\\\Programs\\\\Python\\\\Python311\\\\Lib\\\\json\\\\decoder.py\", line 353, in raw_decode\\n    obj, end = self.scan_once(s, idx)\\n               ^^^^^^^^^^^^^^^^^^^^^^\\njson.decoder.JSONDecodeError: Expecting property name enclosed in double quotes: line 1 column 2 (char 1)\\n', 'exception': JSONDecodeError('Expecting property name enclosed in double quotes: line 1 column 2 (char 1)')}\n"
     ]
    },
    {
     "name": "stderr",
     "output_type": "stream",
     "text": [
      "  4%|██▊                                                                 | 40636/1000000 [2:25:24<136:05:21,  1.96it/s]"
     ]
    },
    {
     "name": "stdout",
     "output_type": "stream",
     "text": [
      "{'traceback': 'Traceback (most recent call last):\\n  File \"C:\\\\Users\\\\ryans\\\\AppData\\\\Local\\\\Temp\\\\ipykernel_31184\\\\3515661714.py\", line 4, in <module>\\n    document = json.loads(payload)\\n               ^^^^^^^^^^^^^^^^^^^\\n  File \"C:\\\\Users\\\\ryans\\\\AppData\\\\Local\\\\Programs\\\\Python\\\\Python311\\\\Lib\\\\json\\\\__init__.py\", line 346, in loads\\n    return _default_decoder.decode(s)\\n           ^^^^^^^^^^^^^^^^^^^^^^^^^^\\n  File \"C:\\\\Users\\\\ryans\\\\AppData\\\\Local\\\\Programs\\\\Python\\\\Python311\\\\Lib\\\\json\\\\decoder.py\", line 337, in decode\\n    obj, end = self.raw_decode(s, idx=_w(s, 0).end())\\n               ^^^^^^^^^^^^^^^^^^^^^^^^^^^^^^^^^^^^^^\\n  File \"C:\\\\Users\\\\ryans\\\\AppData\\\\Local\\\\Programs\\\\Python\\\\Python311\\\\Lib\\\\json\\\\decoder.py\", line 355, in raw_decode\\n    raise JSONDecodeError(\"Expecting value\", s, err.value) from None\\njson.decoder.JSONDecodeError: Expecting value: line 1 column 1 (char 0)\\n', 'exception': JSONDecodeError('Expecting value: line 1 column 1 (char 0)')}\n"
     ]
    },
    {
     "name": "stderr",
     "output_type": "stream",
     "text": [
      "  4%|██▊                                                                  | 40848/1000000 [2:26:19<88:54:25,  3.00it/s]"
     ]
    },
    {
     "name": "stdout",
     "output_type": "stream",
     "text": [
      "{'traceback': 'Traceback (most recent call last):\\n  File \"C:\\\\Users\\\\ryans\\\\AppData\\\\Local\\\\Temp\\\\ipykernel_31184\\\\3515661714.py\", line 4, in <module>\\n    document = json.loads(payload)\\n               ^^^^^^^^^^^^^^^^^^^\\n  File \"C:\\\\Users\\\\ryans\\\\AppData\\\\Local\\\\Programs\\\\Python\\\\Python311\\\\Lib\\\\json\\\\__init__.py\", line 346, in loads\\n    return _default_decoder.decode(s)\\n           ^^^^^^^^^^^^^^^^^^^^^^^^^^\\n  File \"C:\\\\Users\\\\ryans\\\\AppData\\\\Local\\\\Programs\\\\Python\\\\Python311\\\\Lib\\\\json\\\\decoder.py\", line 337, in decode\\n    obj, end = self.raw_decode(s, idx=_w(s, 0).end())\\n               ^^^^^^^^^^^^^^^^^^^^^^^^^^^^^^^^^^^^^^\\n  File \"C:\\\\Users\\\\ryans\\\\AppData\\\\Local\\\\Programs\\\\Python\\\\Python311\\\\Lib\\\\json\\\\decoder.py\", line 353, in raw_decode\\n    obj, end = self.scan_once(s, idx)\\n               ^^^^^^^^^^^^^^^^^^^^^^\\njson.decoder.JSONDecodeError: Expecting property name enclosed in double quotes: line 1 column 2 (char 1)\\n', 'exception': JSONDecodeError('Expecting property name enclosed in double quotes: line 1 column 2 (char 1)')}\n"
     ]
    },
    {
     "name": "stderr",
     "output_type": "stream",
     "text": [
      "  4%|██▊                                                                  | 40945/1000000 [2:26:45<96:48:46,  2.75it/s]"
     ]
    },
    {
     "name": "stdout",
     "output_type": "stream",
     "text": [
      "{'traceback': 'Traceback (most recent call last):\\n  File \"C:\\\\Users\\\\ryans\\\\AppData\\\\Local\\\\Temp\\\\ipykernel_31184\\\\3515661714.py\", line 4, in <module>\\n    document = json.loads(payload)\\n               ^^^^^^^^^^^^^^^^^^^\\n  File \"C:\\\\Users\\\\ryans\\\\AppData\\\\Local\\\\Programs\\\\Python\\\\Python311\\\\Lib\\\\json\\\\__init__.py\", line 346, in loads\\n    return _default_decoder.decode(s)\\n           ^^^^^^^^^^^^^^^^^^^^^^^^^^\\n  File \"C:\\\\Users\\\\ryans\\\\AppData\\\\Local\\\\Programs\\\\Python\\\\Python311\\\\Lib\\\\json\\\\decoder.py\", line 337, in decode\\n    obj, end = self.raw_decode(s, idx=_w(s, 0).end())\\n               ^^^^^^^^^^^^^^^^^^^^^^^^^^^^^^^^^^^^^^\\n  File \"C:\\\\Users\\\\ryans\\\\AppData\\\\Local\\\\Programs\\\\Python\\\\Python311\\\\Lib\\\\json\\\\decoder.py\", line 355, in raw_decode\\n    raise JSONDecodeError(\"Expecting value\", s, err.value) from None\\njson.decoder.JSONDecodeError: Expecting value: line 1 column 1 (char 0)\\n', 'exception': JSONDecodeError('Expecting value: line 1 column 1 (char 0)')}\n"
     ]
    },
    {
     "name": "stderr",
     "output_type": "stream",
     "text": [
      "  4%|██▊                                                                  | 40948/1000000 [2:26:46<69:39:20,  3.82it/s]"
     ]
    },
    {
     "name": "stdout",
     "output_type": "stream",
     "text": [
      "{'traceback': 'Traceback (most recent call last):\\n  File \"C:\\\\Users\\\\ryans\\\\AppData\\\\Local\\\\Temp\\\\ipykernel_31184\\\\3515661714.py\", line 4, in <module>\\n    document = json.loads(payload)\\n               ^^^^^^^^^^^^^^^^^^^\\n  File \"C:\\\\Users\\\\ryans\\\\AppData\\\\Local\\\\Programs\\\\Python\\\\Python311\\\\Lib\\\\json\\\\__init__.py\", line 346, in loads\\n    return _default_decoder.decode(s)\\n           ^^^^^^^^^^^^^^^^^^^^^^^^^^\\n  File \"C:\\\\Users\\\\ryans\\\\AppData\\\\Local\\\\Programs\\\\Python\\\\Python311\\\\Lib\\\\json\\\\decoder.py\", line 337, in decode\\n    obj, end = self.raw_decode(s, idx=_w(s, 0).end())\\n               ^^^^^^^^^^^^^^^^^^^^^^^^^^^^^^^^^^^^^^\\n  File \"C:\\\\Users\\\\ryans\\\\AppData\\\\Local\\\\Programs\\\\Python\\\\Python311\\\\Lib\\\\json\\\\decoder.py\", line 353, in raw_decode\\n    obj, end = self.scan_once(s, idx)\\n               ^^^^^^^^^^^^^^^^^^^^^^\\njson.decoder.JSONDecodeError: Expecting property name enclosed in double quotes: line 1 column 2 (char 1)\\n', 'exception': JSONDecodeError('Expecting property name enclosed in double quotes: line 1 column 2 (char 1)')}\n"
     ]
    },
    {
     "name": "stderr",
     "output_type": "stream",
     "text": [
      "  4%|██▊                                                                  | 41097/1000000 [2:27:25<79:06:03,  3.37it/s]"
     ]
    },
    {
     "name": "stdout",
     "output_type": "stream",
     "text": [
      "{'traceback': 'Traceback (most recent call last):\\n  File \"C:\\\\Users\\\\ryans\\\\AppData\\\\Local\\\\Temp\\\\ipykernel_31184\\\\3515661714.py\", line 4, in <module>\\n    document = json.loads(payload)\\n               ^^^^^^^^^^^^^^^^^^^\\n  File \"C:\\\\Users\\\\ryans\\\\AppData\\\\Local\\\\Programs\\\\Python\\\\Python311\\\\Lib\\\\json\\\\__init__.py\", line 346, in loads\\n    return _default_decoder.decode(s)\\n           ^^^^^^^^^^^^^^^^^^^^^^^^^^\\n  File \"C:\\\\Users\\\\ryans\\\\AppData\\\\Local\\\\Programs\\\\Python\\\\Python311\\\\Lib\\\\json\\\\decoder.py\", line 337, in decode\\n    obj, end = self.raw_decode(s, idx=_w(s, 0).end())\\n               ^^^^^^^^^^^^^^^^^^^^^^^^^^^^^^^^^^^^^^\\n  File \"C:\\\\Users\\\\ryans\\\\AppData\\\\Local\\\\Programs\\\\Python\\\\Python311\\\\Lib\\\\json\\\\decoder.py\", line 353, in raw_decode\\n    obj, end = self.scan_once(s, idx)\\n               ^^^^^^^^^^^^^^^^^^^^^^\\njson.decoder.JSONDecodeError: Expecting property name enclosed in double quotes: line 1 column 2 (char 1)\\n', 'exception': JSONDecodeError('Expecting property name enclosed in double quotes: line 1 column 2 (char 1)')}\n"
     ]
    },
    {
     "name": "stderr",
     "output_type": "stream",
     "text": [
      "  4%|██▊                                                                  | 41271/1000000 [2:28:12<98:08:26,  2.71it/s]"
     ]
    },
    {
     "name": "stdout",
     "output_type": "stream",
     "text": [
      "{'traceback': 'Traceback (most recent call last):\\n  File \"C:\\\\Users\\\\ryans\\\\AppData\\\\Local\\\\Temp\\\\ipykernel_31184\\\\3515661714.py\", line 4, in <module>\\n    document = json.loads(payload)\\n               ^^^^^^^^^^^^^^^^^^^\\n  File \"C:\\\\Users\\\\ryans\\\\AppData\\\\Local\\\\Programs\\\\Python\\\\Python311\\\\Lib\\\\json\\\\__init__.py\", line 346, in loads\\n    return _default_decoder.decode(s)\\n           ^^^^^^^^^^^^^^^^^^^^^^^^^^\\n  File \"C:\\\\Users\\\\ryans\\\\AppData\\\\Local\\\\Programs\\\\Python\\\\Python311\\\\Lib\\\\json\\\\decoder.py\", line 337, in decode\\n    obj, end = self.raw_decode(s, idx=_w(s, 0).end())\\n               ^^^^^^^^^^^^^^^^^^^^^^^^^^^^^^^^^^^^^^\\n  File \"C:\\\\Users\\\\ryans\\\\AppData\\\\Local\\\\Programs\\\\Python\\\\Python311\\\\Lib\\\\json\\\\decoder.py\", line 355, in raw_decode\\n    raise JSONDecodeError(\"Expecting value\", s, err.value) from None\\njson.decoder.JSONDecodeError: Expecting value: line 1 column 1 (char 0)\\n', 'exception': JSONDecodeError('Expecting value: line 1 column 1 (char 0)')}\n"
     ]
    },
    {
     "name": "stderr",
     "output_type": "stream",
     "text": [
      "  4%|██▉                                                                  | 41751/1000000 [2:30:23<45:00:48,  5.91it/s]"
     ]
    },
    {
     "name": "stdout",
     "output_type": "stream",
     "text": [
      "{'traceback': 'Traceback (most recent call last):\\n  File \"C:\\\\Users\\\\ryans\\\\AppData\\\\Local\\\\Temp\\\\ipykernel_31184\\\\3515661714.py\", line 4, in <module>\\n    document = json.loads(payload)\\n               ^^^^^^^^^^^^^^^^^^^\\n  File \"C:\\\\Users\\\\ryans\\\\AppData\\\\Local\\\\Programs\\\\Python\\\\Python311\\\\Lib\\\\json\\\\__init__.py\", line 346, in loads\\n    return _default_decoder.decode(s)\\n           ^^^^^^^^^^^^^^^^^^^^^^^^^^\\n  File \"C:\\\\Users\\\\ryans\\\\AppData\\\\Local\\\\Programs\\\\Python\\\\Python311\\\\Lib\\\\json\\\\decoder.py\", line 337, in decode\\n    obj, end = self.raw_decode(s, idx=_w(s, 0).end())\\n               ^^^^^^^^^^^^^^^^^^^^^^^^^^^^^^^^^^^^^^\\n  File \"C:\\\\Users\\\\ryans\\\\AppData\\\\Local\\\\Programs\\\\Python\\\\Python311\\\\Lib\\\\json\\\\decoder.py\", line 355, in raw_decode\\n    raise JSONDecodeError(\"Expecting value\", s, err.value) from None\\njson.decoder.JSONDecodeError: Expecting value: line 1 column 1 (char 0)\\n', 'exception': JSONDecodeError('Expecting value: line 1 column 1 (char 0)')}\n"
     ]
    },
    {
     "name": "stderr",
     "output_type": "stream",
     "text": [
      "  4%|██▊                                                                 | 41760/1000000 [2:30:28<158:02:06,  1.68it/s]"
     ]
    },
    {
     "name": "stdout",
     "output_type": "stream",
     "text": [
      "{'traceback': 'Traceback (most recent call last):\\n  File \"C:\\\\Users\\\\ryans\\\\AppData\\\\Local\\\\Temp\\\\ipykernel_31184\\\\3515661714.py\", line 4, in <module>\\n    document = json.loads(payload)\\n               ^^^^^^^^^^^^^^^^^^^\\n  File \"C:\\\\Users\\\\ryans\\\\AppData\\\\Local\\\\Programs\\\\Python\\\\Python311\\\\Lib\\\\json\\\\__init__.py\", line 346, in loads\\n    return _default_decoder.decode(s)\\n           ^^^^^^^^^^^^^^^^^^^^^^^^^^\\n  File \"C:\\\\Users\\\\ryans\\\\AppData\\\\Local\\\\Programs\\\\Python\\\\Python311\\\\Lib\\\\json\\\\decoder.py\", line 337, in decode\\n    obj, end = self.raw_decode(s, idx=_w(s, 0).end())\\n               ^^^^^^^^^^^^^^^^^^^^^^^^^^^^^^^^^^^^^^\\n  File \"C:\\\\Users\\\\ryans\\\\AppData\\\\Local\\\\Programs\\\\Python\\\\Python311\\\\Lib\\\\json\\\\decoder.py\", line 355, in raw_decode\\n    raise JSONDecodeError(\"Expecting value\", s, err.value) from None\\njson.decoder.JSONDecodeError: Expecting value: line 1 column 1 (char 0)\\n', 'exception': JSONDecodeError('Expecting value: line 1 column 1 (char 0)')}\n"
     ]
    },
    {
     "name": "stderr",
     "output_type": "stream",
     "text": [
      "  4%|██▉                                                                  | 41996/1000000 [2:31:28<45:56:52,  5.79it/s]"
     ]
    },
    {
     "name": "stdout",
     "output_type": "stream",
     "text": [
      "{'traceback': 'Traceback (most recent call last):\\n  File \"C:\\\\Users\\\\ryans\\\\AppData\\\\Local\\\\Temp\\\\ipykernel_31184\\\\3515661714.py\", line 4, in <module>\\n    document = json.loads(payload)\\n               ^^^^^^^^^^^^^^^^^^^\\n  File \"C:\\\\Users\\\\ryans\\\\AppData\\\\Local\\\\Programs\\\\Python\\\\Python311\\\\Lib\\\\json\\\\__init__.py\", line 346, in loads\\n    return _default_decoder.decode(s)\\n           ^^^^^^^^^^^^^^^^^^^^^^^^^^\\n  File \"C:\\\\Users\\\\ryans\\\\AppData\\\\Local\\\\Programs\\\\Python\\\\Python311\\\\Lib\\\\json\\\\decoder.py\", line 337, in decode\\n    obj, end = self.raw_decode(s, idx=_w(s, 0).end())\\n               ^^^^^^^^^^^^^^^^^^^^^^^^^^^^^^^^^^^^^^\\n  File \"C:\\\\Users\\\\ryans\\\\AppData\\\\Local\\\\Programs\\\\Python\\\\Python311\\\\Lib\\\\json\\\\decoder.py\", line 355, in raw_decode\\n    raise JSONDecodeError(\"Expecting value\", s, err.value) from None\\njson.decoder.JSONDecodeError: Expecting value: line 1 column 1 (char 0)\\n', 'exception': JSONDecodeError('Expecting value: line 1 column 1 (char 0)')}\n"
     ]
    },
    {
     "name": "stderr",
     "output_type": "stream",
     "text": [
      "  4%|██▊                                                                | 42398/1000000 [2:33:53<1733:23:16,  6.52s/it]"
     ]
    },
    {
     "name": "stdout",
     "output_type": "stream",
     "text": [
      "{'traceback': 'Traceback (most recent call last):\\n  File \"C:\\\\Users\\\\ryans\\\\source\\\\repos\\\\venv\\\\Python311\\\\Lib\\\\site-packages\\\\urllib3\\\\connection.py\", line 174, in _new_conn\\n    conn = connection.create_connection(\\n           ^^^^^^^^^^^^^^^^^^^^^^^^^^^^^\\n  File \"C:\\\\Users\\\\ryans\\\\source\\\\repos\\\\venv\\\\Python311\\\\Lib\\\\site-packages\\\\urllib3\\\\util\\\\connection.py\", line 95, in create_connection\\n    raise err\\n  File \"C:\\\\Users\\\\ryans\\\\source\\\\repos\\\\venv\\\\Python311\\\\Lib\\\\site-packages\\\\urllib3\\\\util\\\\connection.py\", line 85, in create_connection\\n    sock.connect(sa)\\nTimeoutError: [WinError 10060] A connection attempt failed because the connected party did not properly respond after a period of time, or established connection failed because connected host has failed to respond\\n\\nDuring handling of the above exception, another exception occurred:\\n\\nTraceback (most recent call last):\\n  File \"C:\\\\Users\\\\ryans\\\\source\\\\repos\\\\venv\\\\Python311\\\\Lib\\\\site-packages\\\\urllib3\\\\connectionpool.py\", line 703, in urlopen\\n    httplib_response = self._make_request(\\n                       ^^^^^^^^^^^^^^^^^^^\\n  File \"C:\\\\Users\\\\ryans\\\\source\\\\repos\\\\venv\\\\Python311\\\\Lib\\\\site-packages\\\\urllib3\\\\connectionpool.py\", line 386, in _make_request\\n    self._validate_conn(conn)\\n  File \"C:\\\\Users\\\\ryans\\\\source\\\\repos\\\\venv\\\\Python311\\\\Lib\\\\site-packages\\\\urllib3\\\\connectionpool.py\", line 1042, in _validate_conn\\n    conn.connect()\\n  File \"C:\\\\Users\\\\ryans\\\\source\\\\repos\\\\venv\\\\Python311\\\\Lib\\\\site-packages\\\\urllib3\\\\connection.py\", line 358, in connect\\n    self.sock = conn = self._new_conn()\\n                       ^^^^^^^^^^^^^^^^\\n  File \"C:\\\\Users\\\\ryans\\\\source\\\\repos\\\\venv\\\\Python311\\\\Lib\\\\site-packages\\\\urllib3\\\\connection.py\", line 179, in _new_conn\\n    raise ConnectTimeoutError(\\nurllib3.exceptions.ConnectTimeoutError: (<urllib3.connection.HTTPSConnection object at 0x000002A67078EB90>, \\'Connection to www.kaggleusercontent.com timed out. (connect timeout=None)\\')\\n\\nDuring handling of the above exception, another exception occurred:\\n\\nTraceback (most recent call last):\\n  File \"C:\\\\Users\\\\ryans\\\\source\\\\repos\\\\venv\\\\Python311\\\\Lib\\\\site-packages\\\\requests\\\\adapters.py\", line 489, in send\\n    resp = conn.urlopen(\\n           ^^^^^^^^^^^^^\\n  File \"C:\\\\Users\\\\ryans\\\\source\\\\repos\\\\venv\\\\Python311\\\\Lib\\\\site-packages\\\\urllib3\\\\connectionpool.py\", line 787, in urlopen\\n    retries = retries.increment(\\n              ^^^^^^^^^^^^^^^^^^\\n  File \"C:\\\\Users\\\\ryans\\\\source\\\\repos\\\\venv\\\\Python311\\\\Lib\\\\site-packages\\\\urllib3\\\\util\\\\retry.py\", line 592, in increment\\n    raise MaxRetryError(_pool, url, error or ResponseError(cause))\\nurllib3.exceptions.MaxRetryError: HTTPSConnectionPool(host=\\'www.kaggleusercontent.com\\', port=443): Max retries exceeded with url: /episodes/45865782.json (Caused by ConnectTimeoutError(<urllib3.connection.HTTPSConnection object at 0x000002A67078EB90>, \\'Connection to www.kaggleusercontent.com timed out. (connect timeout=None)\\'))\\n\\nDuring handling of the above exception, another exception occurred:\\n\\nTraceback (most recent call last):\\n  File \"C:\\\\Users\\\\ryans\\\\AppData\\\\Local\\\\Temp\\\\ipykernel_31184\\\\3515661714.py\", line 3, in <module>\\n    payload = requests.get(f\\'https://www.kaggleusercontent.com/episodes/{starting_point-i}.json\\').text\\n              ^^^^^^^^^^^^^^^^^^^^^^^^^^^^^^^^^^^^^^^^^^^^^^^^^^^^^^^^^^^^^^^^^^^^^^^^^^^^^^^^^^^\\n  File \"C:\\\\Users\\\\ryans\\\\source\\\\repos\\\\venv\\\\Python311\\\\Lib\\\\site-packages\\\\requests\\\\api.py\", line 73, in get\\n    return request(\"get\", url, params=params, **kwargs)\\n           ^^^^^^^^^^^^^^^^^^^^^^^^^^^^^^^^^^^^^^^^^^^^\\n  File \"C:\\\\Users\\\\ryans\\\\source\\\\repos\\\\venv\\\\Python311\\\\Lib\\\\site-packages\\\\requests\\\\api.py\", line 59, in request\\n    return session.request(method=method, url=url, **kwargs)\\n           ^^^^^^^^^^^^^^^^^^^^^^^^^^^^^^^^^^^^^^^^^^^^^^^^^\\n  File \"C:\\\\Users\\\\ryans\\\\source\\\\repos\\\\venv\\\\Python311\\\\Lib\\\\site-packages\\\\requests\\\\sessions.py\", line 587, in request\\n    resp = self.send(prep, **send_kwargs)\\n           ^^^^^^^^^^^^^^^^^^^^^^^^^^^^^^\\n  File \"C:\\\\Users\\\\ryans\\\\source\\\\repos\\\\venv\\\\Python311\\\\Lib\\\\site-packages\\\\requests\\\\sessions.py\", line 701, in send\\n    r = adapter.send(request, **kwargs)\\n        ^^^^^^^^^^^^^^^^^^^^^^^^^^^^^^^\\n  File \"C:\\\\Users\\\\ryans\\\\source\\\\repos\\\\venv\\\\Python311\\\\Lib\\\\site-packages\\\\requests\\\\adapters.py\", line 553, in send\\n    raise ConnectTimeout(e, request=request)\\nrequests.exceptions.ConnectTimeout: HTTPSConnectionPool(host=\\'www.kaggleusercontent.com\\', port=443): Max retries exceeded with url: /episodes/45865782.json (Caused by ConnectTimeoutError(<urllib3.connection.HTTPSConnection object at 0x000002A67078EB90>, \\'Connection to www.kaggleusercontent.com timed out. (connect timeout=None)\\'))\\n', 'exception': ConnectTimeout(MaxRetryError(\"HTTPSConnectionPool(host='www.kaggleusercontent.com', port=443): Max retries exceeded with url: /episodes/45865782.json (Caused by ConnectTimeoutError(<urllib3.connection.HTTPSConnection object at 0x000002A67078EB90>, 'Connection to www.kaggleusercontent.com timed out. (connect timeout=None)'))\"))}\n"
     ]
    },
    {
     "name": "stderr",
     "output_type": "stream",
     "text": [
      "  4%|██▉                                                                 | 42498/1000000 [2:34:25<110:08:52,  2.41it/s]"
     ]
    },
    {
     "name": "stdout",
     "output_type": "stream",
     "text": [
      "{'traceback': 'Traceback (most recent call last):\\n  File \"C:\\\\Users\\\\ryans\\\\AppData\\\\Local\\\\Temp\\\\ipykernel_31184\\\\3515661714.py\", line 4, in <module>\\n    document = json.loads(payload)\\n               ^^^^^^^^^^^^^^^^^^^\\n  File \"C:\\\\Users\\\\ryans\\\\AppData\\\\Local\\\\Programs\\\\Python\\\\Python311\\\\Lib\\\\json\\\\__init__.py\", line 346, in loads\\n    return _default_decoder.decode(s)\\n           ^^^^^^^^^^^^^^^^^^^^^^^^^^\\n  File \"C:\\\\Users\\\\ryans\\\\AppData\\\\Local\\\\Programs\\\\Python\\\\Python311\\\\Lib\\\\json\\\\decoder.py\", line 337, in decode\\n    obj, end = self.raw_decode(s, idx=_w(s, 0).end())\\n               ^^^^^^^^^^^^^^^^^^^^^^^^^^^^^^^^^^^^^^\\n  File \"C:\\\\Users\\\\ryans\\\\AppData\\\\Local\\\\Programs\\\\Python\\\\Python311\\\\Lib\\\\json\\\\decoder.py\", line 355, in raw_decode\\n    raise JSONDecodeError(\"Expecting value\", s, err.value) from None\\njson.decoder.JSONDecodeError: Expecting value: line 1 column 1 (char 0)\\n', 'exception': JSONDecodeError('Expecting value: line 1 column 1 (char 0)')}\n"
     ]
    },
    {
     "name": "stderr",
     "output_type": "stream",
     "text": [
      "  4%|██▉                                                                 | 42705/1000000 [2:35:31<101:36:18,  2.62it/s]"
     ]
    },
    {
     "name": "stdout",
     "output_type": "stream",
     "text": [
      "{'traceback': 'Traceback (most recent call last):\\n  File \"C:\\\\Users\\\\ryans\\\\AppData\\\\Local\\\\Temp\\\\ipykernel_31184\\\\3515661714.py\", line 4, in <module>\\n    document = json.loads(payload)\\n               ^^^^^^^^^^^^^^^^^^^\\n  File \"C:\\\\Users\\\\ryans\\\\AppData\\\\Local\\\\Programs\\\\Python\\\\Python311\\\\Lib\\\\json\\\\__init__.py\", line 346, in loads\\n    return _default_decoder.decode(s)\\n           ^^^^^^^^^^^^^^^^^^^^^^^^^^\\n  File \"C:\\\\Users\\\\ryans\\\\AppData\\\\Local\\\\Programs\\\\Python\\\\Python311\\\\Lib\\\\json\\\\decoder.py\", line 337, in decode\\n    obj, end = self.raw_decode(s, idx=_w(s, 0).end())\\n               ^^^^^^^^^^^^^^^^^^^^^^^^^^^^^^^^^^^^^^\\n  File \"C:\\\\Users\\\\ryans\\\\AppData\\\\Local\\\\Programs\\\\Python\\\\Python311\\\\Lib\\\\json\\\\decoder.py\", line 355, in raw_decode\\n    raise JSONDecodeError(\"Expecting value\", s, err.value) from None\\njson.decoder.JSONDecodeError: Expecting value: line 1 column 1 (char 0)\\n', 'exception': JSONDecodeError('Expecting value: line 1 column 1 (char 0)')}\n"
     ]
    },
    {
     "name": "stderr",
     "output_type": "stream",
     "text": [
      "  4%|██▉                                                                  | 42801/1000000 [2:35:57<35:55:29,  7.40it/s]"
     ]
    },
    {
     "name": "stdout",
     "output_type": "stream",
     "text": [
      "{'traceback': 'Traceback (most recent call last):\\n  File \"C:\\\\Users\\\\ryans\\\\AppData\\\\Local\\\\Temp\\\\ipykernel_31184\\\\3515661714.py\", line 4, in <module>\\n    document = json.loads(payload)\\n               ^^^^^^^^^^^^^^^^^^^\\n  File \"C:\\\\Users\\\\ryans\\\\AppData\\\\Local\\\\Programs\\\\Python\\\\Python311\\\\Lib\\\\json\\\\__init__.py\", line 346, in loads\\n    return _default_decoder.decode(s)\\n           ^^^^^^^^^^^^^^^^^^^^^^^^^^\\n  File \"C:\\\\Users\\\\ryans\\\\AppData\\\\Local\\\\Programs\\\\Python\\\\Python311\\\\Lib\\\\json\\\\decoder.py\", line 337, in decode\\n    obj, end = self.raw_decode(s, idx=_w(s, 0).end())\\n               ^^^^^^^^^^^^^^^^^^^^^^^^^^^^^^^^^^^^^^\\n  File \"C:\\\\Users\\\\ryans\\\\AppData\\\\Local\\\\Programs\\\\Python\\\\Python311\\\\Lib\\\\json\\\\decoder.py\", line 353, in raw_decode\\n    obj, end = self.scan_once(s, idx)\\n               ^^^^^^^^^^^^^^^^^^^^^^\\njson.decoder.JSONDecodeError: Expecting property name enclosed in double quotes: line 1 column 2 (char 1)\\n', 'exception': JSONDecodeError('Expecting property name enclosed in double quotes: line 1 column 2 (char 1)')}\n"
     ]
    },
    {
     "name": "stderr",
     "output_type": "stream",
     "text": [
      "  4%|██▉                                                                 | 42847/1000000 [2:36:14<112:13:19,  2.37it/s]"
     ]
    },
    {
     "name": "stdout",
     "output_type": "stream",
     "text": [
      "{'traceback': 'Traceback (most recent call last):\\n  File \"C:\\\\Users\\\\ryans\\\\AppData\\\\Local\\\\Temp\\\\ipykernel_31184\\\\3515661714.py\", line 4, in <module>\\n    document = json.loads(payload)\\n               ^^^^^^^^^^^^^^^^^^^\\n  File \"C:\\\\Users\\\\ryans\\\\AppData\\\\Local\\\\Programs\\\\Python\\\\Python311\\\\Lib\\\\json\\\\__init__.py\", line 346, in loads\\n    return _default_decoder.decode(s)\\n           ^^^^^^^^^^^^^^^^^^^^^^^^^^\\n  File \"C:\\\\Users\\\\ryans\\\\AppData\\\\Local\\\\Programs\\\\Python\\\\Python311\\\\Lib\\\\json\\\\decoder.py\", line 337, in decode\\n    obj, end = self.raw_decode(s, idx=_w(s, 0).end())\\n               ^^^^^^^^^^^^^^^^^^^^^^^^^^^^^^^^^^^^^^\\n  File \"C:\\\\Users\\\\ryans\\\\AppData\\\\Local\\\\Programs\\\\Python\\\\Python311\\\\Lib\\\\json\\\\decoder.py\", line 355, in raw_decode\\n    raise JSONDecodeError(\"Expecting value\", s, err.value) from None\\njson.decoder.JSONDecodeError: Expecting value: line 1 column 1 (char 0)\\n', 'exception': JSONDecodeError('Expecting value: line 1 column 1 (char 0)')}\n"
     ]
    },
    {
     "name": "stderr",
     "output_type": "stream",
     "text": [
      "  4%|██▉                                                                  | 43179/1000000 [2:37:57<82:58:16,  3.20it/s]"
     ]
    },
    {
     "name": "stdout",
     "output_type": "stream",
     "text": [
      "{'traceback': 'Traceback (most recent call last):\\n  File \"C:\\\\Users\\\\ryans\\\\AppData\\\\Local\\\\Temp\\\\ipykernel_31184\\\\3515661714.py\", line 4, in <module>\\n    document = json.loads(payload)\\n               ^^^^^^^^^^^^^^^^^^^\\n  File \"C:\\\\Users\\\\ryans\\\\AppData\\\\Local\\\\Programs\\\\Python\\\\Python311\\\\Lib\\\\json\\\\__init__.py\", line 346, in loads\\n    return _default_decoder.decode(s)\\n           ^^^^^^^^^^^^^^^^^^^^^^^^^^\\n  File \"C:\\\\Users\\\\ryans\\\\AppData\\\\Local\\\\Programs\\\\Python\\\\Python311\\\\Lib\\\\json\\\\decoder.py\", line 337, in decode\\n    obj, end = self.raw_decode(s, idx=_w(s, 0).end())\\n               ^^^^^^^^^^^^^^^^^^^^^^^^^^^^^^^^^^^^^^\\n  File \"C:\\\\Users\\\\ryans\\\\AppData\\\\Local\\\\Programs\\\\Python\\\\Python311\\\\Lib\\\\json\\\\decoder.py\", line 355, in raw_decode\\n    raise JSONDecodeError(\"Expecting value\", s, err.value) from None\\njson.decoder.JSONDecodeError: Expecting value: line 1 column 1 (char 0)\\n', 'exception': JSONDecodeError('Expecting value: line 1 column 1 (char 0)')}\n"
     ]
    },
    {
     "name": "stderr",
     "output_type": "stream",
     "text": [
      "  4%|██▉                                                                  | 43200/1000000 [2:38:06<85:43:28,  3.10it/s]"
     ]
    },
    {
     "name": "stdout",
     "output_type": "stream",
     "text": [
      "{'traceback': 'Traceback (most recent call last):\\n  File \"C:\\\\Users\\\\ryans\\\\AppData\\\\Local\\\\Temp\\\\ipykernel_31184\\\\3515661714.py\", line 4, in <module>\\n    document = json.loads(payload)\\n               ^^^^^^^^^^^^^^^^^^^\\n  File \"C:\\\\Users\\\\ryans\\\\AppData\\\\Local\\\\Programs\\\\Python\\\\Python311\\\\Lib\\\\json\\\\__init__.py\", line 346, in loads\\n    return _default_decoder.decode(s)\\n           ^^^^^^^^^^^^^^^^^^^^^^^^^^\\n  File \"C:\\\\Users\\\\ryans\\\\AppData\\\\Local\\\\Programs\\\\Python\\\\Python311\\\\Lib\\\\json\\\\decoder.py\", line 337, in decode\\n    obj, end = self.raw_decode(s, idx=_w(s, 0).end())\\n               ^^^^^^^^^^^^^^^^^^^^^^^^^^^^^^^^^^^^^^\\n  File \"C:\\\\Users\\\\ryans\\\\AppData\\\\Local\\\\Programs\\\\Python\\\\Python311\\\\Lib\\\\json\\\\decoder.py\", line 355, in raw_decode\\n    raise JSONDecodeError(\"Expecting value\", s, err.value) from None\\njson.decoder.JSONDecodeError: Expecting value: line 1 column 1 (char 0)\\n', 'exception': JSONDecodeError('Expecting value: line 1 column 1 (char 0)')}\n"
     ]
    },
    {
     "name": "stderr",
     "output_type": "stream",
     "text": [
      "  4%|██▉                                                                  | 43236/1000000 [2:38:15<64:24:53,  4.13it/s]"
     ]
    },
    {
     "name": "stdout",
     "output_type": "stream",
     "text": [
      "{'traceback': 'Traceback (most recent call last):\\n  File \"C:\\\\Users\\\\ryans\\\\AppData\\\\Local\\\\Temp\\\\ipykernel_31184\\\\3515661714.py\", line 4, in <module>\\n    document = json.loads(payload)\\n               ^^^^^^^^^^^^^^^^^^^\\n  File \"C:\\\\Users\\\\ryans\\\\AppData\\\\Local\\\\Programs\\\\Python\\\\Python311\\\\Lib\\\\json\\\\__init__.py\", line 346, in loads\\n    return _default_decoder.decode(s)\\n           ^^^^^^^^^^^^^^^^^^^^^^^^^^\\n  File \"C:\\\\Users\\\\ryans\\\\AppData\\\\Local\\\\Programs\\\\Python\\\\Python311\\\\Lib\\\\json\\\\decoder.py\", line 337, in decode\\n    obj, end = self.raw_decode(s, idx=_w(s, 0).end())\\n               ^^^^^^^^^^^^^^^^^^^^^^^^^^^^^^^^^^^^^^\\n  File \"C:\\\\Users\\\\ryans\\\\AppData\\\\Local\\\\Programs\\\\Python\\\\Python311\\\\Lib\\\\json\\\\decoder.py\", line 355, in raw_decode\\n    raise JSONDecodeError(\"Expecting value\", s, err.value) from None\\njson.decoder.JSONDecodeError: Expecting value: line 1 column 1 (char 0)\\n', 'exception': JSONDecodeError('Expecting value: line 1 column 1 (char 0)')}\n",
      "{'traceback': 'Traceback (most recent call last):\\n  File \"C:\\\\Users\\\\ryans\\\\AppData\\\\Local\\\\Temp\\\\ipykernel_31184\\\\3515661714.py\", line 4, in <module>\\n    document = json.loads(payload)\\n               ^^^^^^^^^^^^^^^^^^^\\n  File \"C:\\\\Users\\\\ryans\\\\AppData\\\\Local\\\\Programs\\\\Python\\\\Python311\\\\Lib\\\\json\\\\__init__.py\", line 346, in loads\\n    return _default_decoder.decode(s)\\n           ^^^^^^^^^^^^^^^^^^^^^^^^^^\\n  File \"C:\\\\Users\\\\ryans\\\\AppData\\\\Local\\\\Programs\\\\Python\\\\Python311\\\\Lib\\\\json\\\\decoder.py\", line 337, in decode\\n    obj, end = self.raw_decode(s, idx=_w(s, 0).end())\\n               ^^^^^^^^^^^^^^^^^^^^^^^^^^^^^^^^^^^^^^\\n  File \"C:\\\\Users\\\\ryans\\\\AppData\\\\Local\\\\Programs\\\\Python\\\\Python311\\\\Lib\\\\json\\\\decoder.py\", line 353, in raw_decode\\n    obj, end = self.scan_once(s, idx)\\n               ^^^^^^^^^^^^^^^^^^^^^^\\njson.decoder.JSONDecodeError: Expecting property name enclosed in double quotes: line 1 column 2 (char 1)\\n', 'exception': JSONDecodeError('Expecting property name enclosed in double quotes: line 1 column 2 (char 1)')}\n"
     ]
    },
    {
     "name": "stderr",
     "output_type": "stream",
     "text": [
      "  4%|██▉                                                                  | 43282/1000000 [2:38:30<58:48:00,  4.52it/s]"
     ]
    },
    {
     "name": "stdout",
     "output_type": "stream",
     "text": [
      "{'traceback': 'Traceback (most recent call last):\\n  File \"C:\\\\Users\\\\ryans\\\\AppData\\\\Local\\\\Temp\\\\ipykernel_31184\\\\3515661714.py\", line 4, in <module>\\n    document = json.loads(payload)\\n               ^^^^^^^^^^^^^^^^^^^\\n  File \"C:\\\\Users\\\\ryans\\\\AppData\\\\Local\\\\Programs\\\\Python\\\\Python311\\\\Lib\\\\json\\\\__init__.py\", line 346, in loads\\n    return _default_decoder.decode(s)\\n           ^^^^^^^^^^^^^^^^^^^^^^^^^^\\n  File \"C:\\\\Users\\\\ryans\\\\AppData\\\\Local\\\\Programs\\\\Python\\\\Python311\\\\Lib\\\\json\\\\decoder.py\", line 337, in decode\\n    obj, end = self.raw_decode(s, idx=_w(s, 0).end())\\n               ^^^^^^^^^^^^^^^^^^^^^^^^^^^^^^^^^^^^^^\\n  File \"C:\\\\Users\\\\ryans\\\\AppData\\\\Local\\\\Programs\\\\Python\\\\Python311\\\\Lib\\\\json\\\\decoder.py\", line 355, in raw_decode\\n    raise JSONDecodeError(\"Expecting value\", s, err.value) from None\\njson.decoder.JSONDecodeError: Expecting value: line 1 column 1 (char 0)\\n', 'exception': JSONDecodeError('Expecting value: line 1 column 1 (char 0)')}\n"
     ]
    },
    {
     "name": "stderr",
     "output_type": "stream",
     "text": [
      "  4%|██▉                                                                  | 43297/1000000 [2:38:37<75:29:49,  3.52it/s]"
     ]
    },
    {
     "name": "stdout",
     "output_type": "stream",
     "text": [
      "{'traceback': 'Traceback (most recent call last):\\n  File \"C:\\\\Users\\\\ryans\\\\AppData\\\\Local\\\\Temp\\\\ipykernel_31184\\\\3515661714.py\", line 4, in <module>\\n    document = json.loads(payload)\\n               ^^^^^^^^^^^^^^^^^^^\\n  File \"C:\\\\Users\\\\ryans\\\\AppData\\\\Local\\\\Programs\\\\Python\\\\Python311\\\\Lib\\\\json\\\\__init__.py\", line 346, in loads\\n    return _default_decoder.decode(s)\\n           ^^^^^^^^^^^^^^^^^^^^^^^^^^\\n  File \"C:\\\\Users\\\\ryans\\\\AppData\\\\Local\\\\Programs\\\\Python\\\\Python311\\\\Lib\\\\json\\\\decoder.py\", line 337, in decode\\n    obj, end = self.raw_decode(s, idx=_w(s, 0).end())\\n               ^^^^^^^^^^^^^^^^^^^^^^^^^^^^^^^^^^^^^^\\n  File \"C:\\\\Users\\\\ryans\\\\AppData\\\\Local\\\\Programs\\\\Python\\\\Python311\\\\Lib\\\\json\\\\decoder.py\", line 353, in raw_decode\\n    obj, end = self.scan_once(s, idx)\\n               ^^^^^^^^^^^^^^^^^^^^^^\\njson.decoder.JSONDecodeError: Expecting property name enclosed in double quotes: line 1 column 2 (char 1)\\n', 'exception': JSONDecodeError('Expecting property name enclosed in double quotes: line 1 column 2 (char 1)')}\n"
     ]
    },
    {
     "name": "stderr",
     "output_type": "stream",
     "text": [
      "  4%|██▉                                                                  | 43392/1000000 [2:39:11<81:28:47,  3.26it/s]"
     ]
    },
    {
     "name": "stdout",
     "output_type": "stream",
     "text": [
      "{'traceback': 'Traceback (most recent call last):\\n  File \"C:\\\\Users\\\\ryans\\\\AppData\\\\Local\\\\Temp\\\\ipykernel_31184\\\\3515661714.py\", line 4, in <module>\\n    document = json.loads(payload)\\n               ^^^^^^^^^^^^^^^^^^^\\n  File \"C:\\\\Users\\\\ryans\\\\AppData\\\\Local\\\\Programs\\\\Python\\\\Python311\\\\Lib\\\\json\\\\__init__.py\", line 346, in loads\\n    return _default_decoder.decode(s)\\n           ^^^^^^^^^^^^^^^^^^^^^^^^^^\\n  File \"C:\\\\Users\\\\ryans\\\\AppData\\\\Local\\\\Programs\\\\Python\\\\Python311\\\\Lib\\\\json\\\\decoder.py\", line 337, in decode\\n    obj, end = self.raw_decode(s, idx=_w(s, 0).end())\\n               ^^^^^^^^^^^^^^^^^^^^^^^^^^^^^^^^^^^^^^\\n  File \"C:\\\\Users\\\\ryans\\\\AppData\\\\Local\\\\Programs\\\\Python\\\\Python311\\\\Lib\\\\json\\\\decoder.py\", line 355, in raw_decode\\n    raise JSONDecodeError(\"Expecting value\", s, err.value) from None\\njson.decoder.JSONDecodeError: Expecting value: line 1 column 1 (char 0)\\n', 'exception': JSONDecodeError('Expecting value: line 1 column 1 (char 0)')}\n"
     ]
    },
    {
     "name": "stderr",
     "output_type": "stream",
     "text": [
      "  4%|███                                                                  | 43512/1000000 [2:39:50<38:26:30,  6.91it/s]"
     ]
    },
    {
     "name": "stdout",
     "output_type": "stream",
     "text": [
      "{'traceback': 'Traceback (most recent call last):\\n  File \"C:\\\\Users\\\\ryans\\\\AppData\\\\Local\\\\Temp\\\\ipykernel_31184\\\\3515661714.py\", line 4, in <module>\\n    document = json.loads(payload)\\n               ^^^^^^^^^^^^^^^^^^^\\n  File \"C:\\\\Users\\\\ryans\\\\AppData\\\\Local\\\\Programs\\\\Python\\\\Python311\\\\Lib\\\\json\\\\__init__.py\", line 346, in loads\\n    return _default_decoder.decode(s)\\n           ^^^^^^^^^^^^^^^^^^^^^^^^^^\\n  File \"C:\\\\Users\\\\ryans\\\\AppData\\\\Local\\\\Programs\\\\Python\\\\Python311\\\\Lib\\\\json\\\\decoder.py\", line 337, in decode\\n    obj, end = self.raw_decode(s, idx=_w(s, 0).end())\\n               ^^^^^^^^^^^^^^^^^^^^^^^^^^^^^^^^^^^^^^\\n  File \"C:\\\\Users\\\\ryans\\\\AppData\\\\Local\\\\Programs\\\\Python\\\\Python311\\\\Lib\\\\json\\\\decoder.py\", line 355, in raw_decode\\n    raise JSONDecodeError(\"Expecting value\", s, err.value) from None\\njson.decoder.JSONDecodeError: Expecting value: line 1 column 1 (char 0)\\n', 'exception': JSONDecodeError('Expecting value: line 1 column 1 (char 0)')}\n"
     ]
    },
    {
     "name": "stderr",
     "output_type": "stream",
     "text": [
      "  4%|███                                                                  | 43572/1000000 [2:40:11<68:12:18,  3.90it/s]"
     ]
    }
   ],
   "source": [
    "for i in tqdm(range(0, 1000000)):\n",
    "    try:\n",
    "        payload = requests.get(f'https://www.kaggleusercontent.com/episodes/{starting_point-i}.json').text\n",
    "        document = json.loads(payload)\n",
    "        \n",
    "        if document['title'] == 'ConnectX' and document['version'] == '1.0.1':\n",
    "            if 'board' in document['steps'][-1:][0][0]['observation']:\n",
    "                f = open(f\"N:\\\\connectxdocs\\\\{starting_point-i}.json\", \"a\")\n",
    "                f.write(payload)\n",
    "                f.close()\n",
    "        #mi.insert_payload(payload)\n",
    "    except Exception as e:\n",
    "        print(eh.formatexception(e))"
   ]
  },
  {
   "cell_type": "code",
   "execution_count": 9,
   "id": "680c3b5d-0030-4e9a-aab0-5fcfd031c13c",
   "metadata": {},
   "outputs": [],
   "source": [
    "#mi.empty_collection()"
   ]
  },
  {
   "cell_type": "code",
   "execution_count": null,
   "id": "457dfb36-008b-48f8-a6bb-50819634b28c",
   "metadata": {},
   "outputs": [],
   "source": [
    "import requests\n",
    "import sys\n",
    "\n",
    "result = requests.get('https://google.com')\n",
    "sys.stdout.write(str(len(result.text)))\n"
   ]
  },
  {
   "cell_type": "code",
   "execution_count": null,
   "id": "5ce08e89-2e17-47b9-adcc-6ccf938e9143",
   "metadata": {},
   "outputs": [],
   "source": []
  },
  {
   "cell_type": "code",
   "execution_count": null,
   "id": "a3b66889-5dc2-4a7b-8227-6cc899f695d6",
   "metadata": {},
   "outputs": [],
   "source": [
    "mi.insert_payload(payload)"
   ]
  },
  {
   "cell_type": "code",
   "execution_count": null,
   "id": "5054383f-6853-43c0-904f-5583d4bcdb00",
   "metadata": {},
   "outputs": [],
   "source": []
  },
  {
   "cell_type": "code",
   "execution_count": null,
   "id": "36ddda3b-da08-4355-a8b7-7cc39eccb844",
   "metadata": {},
   "outputs": [],
   "source": []
  }
 ],
 "metadata": {
  "kernelspec": {
   "display_name": "Python 3 (ipykernel)",
   "language": "python",
   "name": "python3"
  },
  "language_info": {
   "codemirror_mode": {
    "name": "ipython",
    "version": 3
   },
   "file_extension": ".py",
   "mimetype": "text/x-python",
   "name": "python",
   "nbconvert_exporter": "python",
   "pygments_lexer": "ipython3",
   "version": "3.11.1"
  }
 },
 "nbformat": 4,
 "nbformat_minor": 5
}
