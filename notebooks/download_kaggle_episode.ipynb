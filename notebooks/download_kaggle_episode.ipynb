{
 "cells": [
  {
   "cell_type": "code",
   "execution_count": 6,
   "id": "cc0b013c-4550-415e-a1e1-c6f1c994cb0d",
   "metadata": {},
   "outputs": [
    {
     "data": {
      "text/plain": [
       "True"
      ]
     },
     "execution_count": 6,
     "metadata": {},
     "output_type": "execute_result"
    }
   ],
   "source": [
    "from dotenv import load_dotenv\n",
    "import os, requests, sys, json\n",
    "from IPython.display import JSON\n",
    "from pathlib import Path\n",
    "import logging.handlers\n",
    "from tqdm import tqdm\n",
    "\n",
    "module_path = os.path.abspath(os.path.join('..'))\n",
    "if module_path not in sys.path:\n",
    "    sys.path.append(module_path)\n",
    "\n",
    "from Helpers.Exception_Handling import Exception_Handling as eh\n",
    "from Helpers.Mongo_Interface import Mongo_Interface as mi\n",
    "\n",
    "env_path = Path(fr\"{os.environ['USERPROFILE']}\\.env\") \n",
    "load_dotenv(dotenv_path=env_path)"
   ]
  },
  {
   "cell_type": "code",
   "execution_count": 10,
   "id": "b87a53a5-8912-448f-923e-9d628611cb20",
   "metadata": {},
   "outputs": [],
   "source": [
    "starting_point = 45908179"
   ]
  },
  {
   "cell_type": "code",
   "execution_count": 11,
   "id": "9e94f2b4-8b30-40e1-98e4-b0910f936e21",
   "metadata": {
    "tags": []
   },
   "outputs": [
    {
     "data": {
      "application/json": {
       "configuration": {
        "actTimeout": 2,
        "agentTimeout": 60,
        "columns": 7,
        "episodeSteps": 1000,
        "inarow": 4,
        "rows": 6,
        "runTimeout": 1200,
        "timeout": 2
       },
       "description": "Classic Connect in a row but configurable.",
       "id": "ed9b3142-84bc-11ed-84db-0242ac130202",
       "info": {
        "EpisodeId": 45908179,
        "LiveVideoPath": null,
        "TeamNames": [
         "Ryan Susman",
         "Tim-Cedric Inhoff"
        ]
       },
       "name": "connectx",
       "rewards": [
        1,
        -1
       ],
       "schema_version": 1,
       "specification": {
        "action": {
         "default": 0,
         "description": "Column to drop a checker onto the board.",
         "minimum": 0,
         "type": "integer"
        },
        "agents": [
         2
        ],
        "configuration": {
         "actTimeout": {
          "default": 2,
          "description": "Maximum runtime (seconds) to obtain an action from an agent.",
          "minimum": 0,
          "type": "number"
         },
         "agentTimeout": {
          "default": 60,
          "description": "Obsolete field kept for backwards compatibility, please use observation.remainingOverageTime.",
          "minimum": 0,
          "type": "number"
         },
         "columns": {
          "default": 7,
          "description": "The number of columns on the board",
          "minimum": 1,
          "type": "integer"
         },
         "episodeSteps": {
          "default": 1000,
          "description": "Maximum number of steps in the episode.",
          "minimum": 1,
          "type": "integer"
         },
         "inarow": {
          "default": 4,
          "description": "The number of checkers in a row required to win.",
          "minimum": 1,
          "type": "integer"
         },
         "rows": {
          "default": 6,
          "description": "The number of rows on the board",
          "minimum": 1,
          "type": "integer"
         },
         "runTimeout": {
          "default": 1200,
          "description": "Maximum runtime (seconds) of an episode (not necessarily DONE).",
          "minimum": 0,
          "type": "number"
         },
         "timeout": {
          "default": 2,
          "description": "Obsolete copy of actTimeout maintained for backwards compatibility. May be removed in the future.",
          "minimum": 0,
          "type": "integer"
         }
        },
        "info": {},
        "observation": {
         "board": {
          "default": [],
          "description": "Serialized grid (rows x columns). 0 = Empty, 1 = P1, 2 = P2",
          "shared": true,
          "type": "array"
         },
         "mark": {
          "defaults": [
           1,
           2
          ],
          "description": "Which checkers are the agents.",
          "enum": [
           1,
           2
          ]
         },
         "remainingOverageTime": {
          "default": 60,
          "description": "Total remaining banked time (seconds) that can be used in excess of per-step actTimeouts -- agent is disqualified with TIMEOUT status when this drops below 0.",
          "minimum": 0,
          "shared": false,
          "type": "number"
         },
         "step": {
          "default": 0,
          "description": "Current step within the episode.",
          "minimum": 0,
          "shared": true,
          "type": "integer"
         }
        },
        "reward": {
         "default": 0,
         "description": "-1 = Lost, 0 = Draw/Ongoing, 1 = Won",
         "enum": [
          -1,
          0,
          1
         ],
         "type": [
          "number",
          "null"
         ]
        }
       },
       "statuses": [
        "DONE",
        "DONE"
       ],
       "steps": [
        [
         {
          "action": 0,
          "info": {},
          "observation": {
           "board": [
            0,
            0,
            0,
            0,
            0,
            0,
            0,
            0,
            0,
            0,
            0,
            0,
            0,
            0,
            0,
            0,
            0,
            0,
            0,
            0,
            0,
            0,
            0,
            0,
            0,
            0,
            0,
            0,
            0,
            0,
            0,
            0,
            0,
            0,
            0,
            0,
            0,
            0,
            0,
            0,
            0,
            0
           ],
           "mark": 1,
           "remainingOverageTime": 60,
           "step": 0
          },
          "reward": 0,
          "status": "ACTIVE"
         },
         {
          "action": 0,
          "info": {},
          "observation": {
           "mark": 2,
           "remainingOverageTime": 60
          },
          "reward": 0,
          "status": "INACTIVE"
         }
        ],
        [
         {
          "action": 1,
          "info": {},
          "observation": {
           "board": [
            0,
            0,
            0,
            0,
            0,
            0,
            0,
            0,
            0,
            0,
            0,
            0,
            0,
            0,
            0,
            0,
            0,
            0,
            0,
            0,
            0,
            0,
            0,
            0,
            0,
            0,
            0,
            0,
            0,
            0,
            0,
            0,
            0,
            0,
            0,
            0,
            1,
            0,
            0,
            0,
            0,
            0
           ],
           "mark": 1,
           "remainingOverageTime": 59.236893,
           "step": 1
          },
          "reward": 0,
          "status": "INACTIVE"
         },
         {
          "action": 0,
          "info": {},
          "observation": {
           "mark": 2,
           "remainingOverageTime": 60
          },
          "reward": 0,
          "status": "ACTIVE"
         }
        ],
        [
         {
          "action": 0,
          "info": {},
          "observation": {
           "board": [
            0,
            0,
            0,
            0,
            0,
            0,
            0,
            0,
            0,
            0,
            0,
            0,
            0,
            0,
            0,
            0,
            0,
            0,
            0,
            0,
            0,
            0,
            0,
            0,
            0,
            0,
            0,
            0,
            0,
            0,
            0,
            0,
            0,
            0,
            0,
            0,
            1,
            0,
            2,
            0,
            0,
            0
           ],
           "mark": 1,
           "remainingOverageTime": 59.236893,
           "step": 2
          },
          "reward": 0,
          "status": "ACTIVE"
         },
         {
          "action": 3,
          "info": {},
          "observation": {
           "mark": 2,
           "remainingOverageTime": 60
          },
          "reward": 0,
          "status": "INACTIVE"
         }
        ],
        [
         {
          "action": 1,
          "info": {},
          "observation": {
           "board": [
            0,
            0,
            0,
            0,
            0,
            0,
            0,
            0,
            0,
            0,
            0,
            0,
            0,
            0,
            0,
            0,
            0,
            0,
            0,
            0,
            0,
            0,
            0,
            0,
            0,
            0,
            0,
            0,
            0,
            1,
            0,
            0,
            0,
            0,
            0,
            0,
            1,
            0,
            2,
            0,
            0,
            0
           ],
           "mark": 1,
           "remainingOverageTime": 59.236893,
           "step": 3
          },
          "reward": 0,
          "status": "INACTIVE"
         },
         {
          "action": 0,
          "info": {},
          "observation": {
           "mark": 2,
           "remainingOverageTime": 60
          },
          "reward": 0,
          "status": "ACTIVE"
         }
        ],
        [
         {
          "action": 0,
          "info": {},
          "observation": {
           "board": [
            0,
            0,
            0,
            0,
            0,
            0,
            0,
            0,
            0,
            0,
            0,
            0,
            0,
            0,
            0,
            0,
            0,
            0,
            0,
            0,
            0,
            0,
            2,
            0,
            0,
            0,
            0,
            0,
            0,
            1,
            0,
            0,
            0,
            0,
            0,
            0,
            1,
            0,
            2,
            0,
            0,
            0
           ],
           "mark": 1,
           "remainingOverageTime": 59.236893,
           "step": 4
          },
          "reward": 0,
          "status": "ACTIVE"
         },
         {
          "action": 1,
          "info": {},
          "observation": {
           "mark": 2,
           "remainingOverageTime": 60
          },
          "reward": 0,
          "status": "INACTIVE"
         }
        ],
        [
         {
          "action": 4,
          "info": {},
          "observation": {
           "board": [
            0,
            0,
            0,
            0,
            0,
            0,
            0,
            0,
            0,
            0,
            0,
            0,
            0,
            0,
            0,
            0,
            0,
            0,
            0,
            0,
            0,
            0,
            2,
            0,
            0,
            0,
            0,
            0,
            0,
            1,
            0,
            0,
            0,
            0,
            0,
            0,
            1,
            0,
            2,
            1,
            0,
            0
           ],
           "mark": 1,
           "remainingOverageTime": 59.236893,
           "step": 5
          },
          "reward": 0,
          "status": "INACTIVE"
         },
         {
          "action": 0,
          "info": {},
          "observation": {
           "mark": 2,
           "remainingOverageTime": 60
          },
          "reward": 0,
          "status": "ACTIVE"
         }
        ],
        [
         {
          "action": 0,
          "info": {},
          "observation": {
           "board": [
            0,
            0,
            0,
            0,
            0,
            0,
            0,
            0,
            0,
            0,
            0,
            0,
            0,
            0,
            0,
            0,
            0,
            0,
            0,
            0,
            0,
            0,
            2,
            0,
            0,
            0,
            0,
            0,
            0,
            1,
            0,
            0,
            2,
            0,
            0,
            0,
            1,
            0,
            2,
            1,
            0,
            0
           ],
           "mark": 1,
           "remainingOverageTime": 59.236893,
           "step": 6
          },
          "reward": 0,
          "status": "ACTIVE"
         },
         {
          "action": 4,
          "info": {},
          "observation": {
           "mark": 2,
           "remainingOverageTime": 60
          },
          "reward": 0,
          "status": "INACTIVE"
         }
        ],
        [
         {
          "action": 1,
          "info": {},
          "observation": {
           "board": [
            0,
            0,
            0,
            0,
            0,
            0,
            0,
            0,
            0,
            0,
            0,
            0,
            0,
            0,
            0,
            1,
            0,
            0,
            0,
            0,
            0,
            0,
            2,
            0,
            0,
            0,
            0,
            0,
            0,
            1,
            0,
            0,
            2,
            0,
            0,
            0,
            1,
            0,
            2,
            1,
            0,
            0
           ],
           "mark": 1,
           "remainingOverageTime": 59.236893,
           "step": 7
          },
          "reward": 0,
          "status": "INACTIVE"
         },
         {
          "action": 0,
          "info": {},
          "observation": {
           "mark": 2,
           "remainingOverageTime": 60
          },
          "reward": 0,
          "status": "ACTIVE"
         }
        ],
        [
         {
          "action": 0,
          "info": {},
          "observation": {
           "board": [
            0,
            0,
            0,
            0,
            0,
            0,
            0,
            0,
            0,
            0,
            0,
            0,
            0,
            0,
            0,
            1,
            0,
            0,
            0,
            0,
            0,
            0,
            2,
            0,
            0,
            0,
            0,
            0,
            0,
            1,
            0,
            2,
            2,
            0,
            0,
            0,
            1,
            0,
            2,
            1,
            0,
            0
           ],
           "mark": 1,
           "remainingOverageTime": 59.236893,
           "step": 8
          },
          "reward": 0,
          "status": "ACTIVE"
         },
         {
          "action": 3,
          "info": {},
          "observation": {
           "mark": 2,
           "remainingOverageTime": 60
          },
          "reward": 0,
          "status": "INACTIVE"
         }
        ],
        [
         {
          "action": 3,
          "info": {},
          "observation": {
           "board": [
            0,
            0,
            0,
            0,
            0,
            0,
            0,
            0,
            0,
            0,
            0,
            0,
            0,
            0,
            0,
            1,
            0,
            0,
            0,
            0,
            0,
            0,
            2,
            0,
            1,
            0,
            0,
            0,
            0,
            1,
            0,
            2,
            2,
            0,
            0,
            0,
            1,
            0,
            2,
            1,
            0,
            0
           ],
           "mark": 1,
           "remainingOverageTime": 59.236893,
           "step": 9
          },
          "reward": 0,
          "status": "INACTIVE"
         },
         {
          "action": 0,
          "info": {},
          "observation": {
           "mark": 2,
           "remainingOverageTime": 60
          },
          "reward": 0,
          "status": "ACTIVE"
         }
        ],
        [
         {
          "action": 0,
          "info": {},
          "observation": {
           "board": [
            0,
            0,
            0,
            0,
            0,
            0,
            0,
            0,
            0,
            0,
            0,
            0,
            0,
            0,
            0,
            1,
            0,
            0,
            0,
            0,
            0,
            0,
            2,
            0,
            1,
            2,
            0,
            0,
            0,
            1,
            0,
            2,
            2,
            0,
            0,
            0,
            1,
            0,
            2,
            1,
            0,
            0
           ],
           "mark": 1,
           "remainingOverageTime": 59.236893,
           "step": 10
          },
          "reward": 0,
          "status": "ACTIVE"
         },
         {
          "action": 4,
          "info": {},
          "observation": {
           "mark": 2,
           "remainingOverageTime": 60
          },
          "reward": 0,
          "status": "INACTIVE"
         }
        ],
        [
         {
          "action": 4,
          "info": {},
          "observation": {
           "board": [
            0,
            0,
            0,
            0,
            0,
            0,
            0,
            0,
            0,
            0,
            0,
            0,
            0,
            0,
            0,
            1,
            0,
            0,
            1,
            0,
            0,
            0,
            2,
            0,
            1,
            2,
            0,
            0,
            0,
            1,
            0,
            2,
            2,
            0,
            0,
            0,
            1,
            0,
            2,
            1,
            0,
            0
           ],
           "mark": 1,
           "remainingOverageTime": 59.236893,
           "step": 11
          },
          "reward": 0,
          "status": "INACTIVE"
         },
         {
          "action": 0,
          "info": {},
          "observation": {
           "mark": 2,
           "remainingOverageTime": 60
          },
          "reward": 0,
          "status": "ACTIVE"
         }
        ],
        [
         {
          "action": 0,
          "info": {},
          "observation": {
           "board": [
            0,
            0,
            0,
            0,
            0,
            0,
            0,
            0,
            0,
            0,
            0,
            0,
            0,
            0,
            0,
            1,
            0,
            0,
            1,
            0,
            0,
            0,
            2,
            0,
            1,
            2,
            0,
            0,
            0,
            1,
            0,
            2,
            2,
            0,
            0,
            0,
            1,
            2,
            2,
            1,
            0,
            0
           ],
           "mark": 1,
           "remainingOverageTime": 59.236893,
           "step": 12
          },
          "reward": 0,
          "status": "ACTIVE"
         },
         {
          "action": 2,
          "info": {},
          "observation": {
           "mark": 2,
           "remainingOverageTime": 60
          },
          "reward": 0,
          "status": "INACTIVE"
         }
        ],
        [
         {
          "action": 2,
          "info": {},
          "observation": {
           "board": [
            0,
            0,
            0,
            0,
            0,
            0,
            0,
            0,
            0,
            0,
            0,
            0,
            0,
            0,
            0,
            1,
            0,
            0,
            1,
            0,
            0,
            0,
            2,
            0,
            1,
            2,
            0,
            0,
            0,
            1,
            1,
            2,
            2,
            0,
            0,
            0,
            1,
            2,
            2,
            1,
            0,
            0
           ],
           "mark": 1,
           "remainingOverageTime": 59.236893,
           "step": 13
          },
          "reward": 1,
          "status": "DONE"
         },
         {
          "action": 0,
          "info": {},
          "observation": {
           "mark": 2,
           "remainingOverageTime": 60
          },
          "reward": -1,
          "status": "DONE"
         }
        ]
       ],
       "title": "ConnectX",
       "version": "1.0.1"
      },
      "text/plain": [
       "<IPython.core.display.JSON object>"
      ]
     },
     "execution_count": 11,
     "metadata": {
      "application/json": {
       "expanded": false,
       "root": "root"
      }
     },
     "output_type": "execute_result"
    }
   ],
   "source": [
    "payload = json.loads(requests.get(f'https://www.kaggleusercontent.com/episodes/{starting_point}.json').text)\n",
    "JSON(payload)"
   ]
  },
  {
   "cell_type": "code",
   "execution_count": null,
   "id": "cd3cf12f-9812-4c7d-baf7-544d661efedf",
   "metadata": {},
   "outputs": [
    {
     "name": "stderr",
     "output_type": "stream",
     "text": [
      "  1%|▎                                                                        | 501/100000 [04:42<170:49:45,  6.18s/it]"
     ]
    },
    {
     "name": "stdout",
     "output_type": "stream",
     "text": [
      "{'traceback': 'Traceback (most recent call last):\\n  File \"C:\\\\Users\\\\ryans\\\\source\\\\repos\\\\venv\\\\Python311\\\\Lib\\\\site-packages\\\\urllib3\\\\connectionpool.py\", line 386, in _make_request\\n    self._validate_conn(conn)\\n  File \"C:\\\\Users\\\\ryans\\\\source\\\\repos\\\\venv\\\\Python311\\\\Lib\\\\site-packages\\\\urllib3\\\\connectionpool.py\", line 1042, in _validate_conn\\n    conn.connect()\\n  File \"C:\\\\Users\\\\ryans\\\\source\\\\repos\\\\venv\\\\Python311\\\\Lib\\\\site-packages\\\\urllib3\\\\connection.py\", line 414, in connect\\n    self.sock = ssl_wrap_socket(\\n                ^^^^^^^^^^^^^^^^\\n  File \"C:\\\\Users\\\\ryans\\\\source\\\\repos\\\\venv\\\\Python311\\\\Lib\\\\site-packages\\\\urllib3\\\\util\\\\ssl_.py\", line 449, in ssl_wrap_socket\\n    ssl_sock = _ssl_wrap_socket_impl(\\n               ^^^^^^^^^^^^^^^^^^^^^^\\n  File \"C:\\\\Users\\\\ryans\\\\source\\\\repos\\\\venv\\\\Python311\\\\Lib\\\\site-packages\\\\urllib3\\\\util\\\\ssl_.py\", line 493, in _ssl_wrap_socket_impl\\n    return ssl_context.wrap_socket(sock, server_hostname=server_hostname)\\n           ^^^^^^^^^^^^^^^^^^^^^^^^^^^^^^^^^^^^^^^^^^^^^^^^^^^^^^^^^^^^^^\\n  File \"C:\\\\Users\\\\ryans\\\\AppData\\\\Local\\\\Programs\\\\Python\\\\Python311\\\\Lib\\\\ssl.py\", line 517, in wrap_socket\\n    return self.sslsocket_class._create(\\n           ^^^^^^^^^^^^^^^^^^^^^^^^^^^^^\\n  File \"C:\\\\Users\\\\ryans\\\\AppData\\\\Local\\\\Programs\\\\Python\\\\Python311\\\\Lib\\\\ssl.py\", line 1075, in _create\\n    self.do_handshake()\\n  File \"C:\\\\Users\\\\ryans\\\\AppData\\\\Local\\\\Programs\\\\Python\\\\Python311\\\\Lib\\\\ssl.py\", line 1346, in do_handshake\\n    self._sslobj.do_handshake()\\nTimeoutError: [WinError 10060] A connection attempt failed because the connected party did not properly respond after a period of time, or established connection failed because connected host has failed to respond\\n\\nDuring handling of the above exception, another exception occurred:\\n\\nTraceback (most recent call last):\\n  File \"C:\\\\Users\\\\ryans\\\\source\\\\repos\\\\venv\\\\Python311\\\\Lib\\\\site-packages\\\\requests\\\\adapters.py\", line 489, in send\\n    resp = conn.urlopen(\\n           ^^^^^^^^^^^^^\\n  File \"C:\\\\Users\\\\ryans\\\\source\\\\repos\\\\venv\\\\Python311\\\\Lib\\\\site-packages\\\\urllib3\\\\connectionpool.py\", line 787, in urlopen\\n    retries = retries.increment(\\n              ^^^^^^^^^^^^^^^^^^\\n  File \"C:\\\\Users\\\\ryans\\\\source\\\\repos\\\\venv\\\\Python311\\\\Lib\\\\site-packages\\\\urllib3\\\\util\\\\retry.py\", line 550, in increment\\n    raise six.reraise(type(error), error, _stacktrace)\\n          ^^^^^^^^^^^^^^^^^^^^^^^^^^^^^^^^^^^^^^^^^^^^\\n  File \"C:\\\\Users\\\\ryans\\\\source\\\\repos\\\\venv\\\\Python311\\\\Lib\\\\site-packages\\\\urllib3\\\\packages\\\\six.py\", line 770, in reraise\\n    raise value\\n  File \"C:\\\\Users\\\\ryans\\\\source\\\\repos\\\\venv\\\\Python311\\\\Lib\\\\site-packages\\\\urllib3\\\\connectionpool.py\", line 703, in urlopen\\n    httplib_response = self._make_request(\\n                       ^^^^^^^^^^^^^^^^^^^\\n  File \"C:\\\\Users\\\\ryans\\\\source\\\\repos\\\\venv\\\\Python311\\\\Lib\\\\site-packages\\\\urllib3\\\\connectionpool.py\", line 389, in _make_request\\n    self._raise_timeout(err=e, url=url, timeout_value=conn.timeout)\\n  File \"C:\\\\Users\\\\ryans\\\\source\\\\repos\\\\venv\\\\Python311\\\\Lib\\\\site-packages\\\\urllib3\\\\connectionpool.py\", line 340, in _raise_timeout\\n    raise ReadTimeoutError(\\nurllib3.exceptions.ReadTimeoutError: HTTPSConnectionPool(host=\\'www.kaggleusercontent.com\\', port=443): Read timed out. (read timeout=None)\\n\\nDuring handling of the above exception, another exception occurred:\\n\\nTraceback (most recent call last):\\n  File \"C:\\\\Users\\\\ryans\\\\AppData\\\\Local\\\\Temp\\\\ipykernel_39860\\\\2371101090.py\", line 3, in <module>\\n    payload = json.loads(requests.get(f\\'https://www.kaggleusercontent.com/episodes/{starting_point-i}.json\\').text)\\n                         ^^^^^^^^^^^^^^^^^^^^^^^^^^^^^^^^^^^^^^^^^^^^^^^^^^^^^^^^^^^^^^^^^^^^^^^^^^^^^^^^^^^\\n  File \"C:\\\\Users\\\\ryans\\\\source\\\\repos\\\\venv\\\\Python311\\\\Lib\\\\site-packages\\\\requests\\\\api.py\", line 73, in get\\n    return request(\"get\", url, params=params, **kwargs)\\n           ^^^^^^^^^^^^^^^^^^^^^^^^^^^^^^^^^^^^^^^^^^^^\\n  File \"C:\\\\Users\\\\ryans\\\\source\\\\repos\\\\venv\\\\Python311\\\\Lib\\\\site-packages\\\\requests\\\\api.py\", line 59, in request\\n    return session.request(method=method, url=url, **kwargs)\\n           ^^^^^^^^^^^^^^^^^^^^^^^^^^^^^^^^^^^^^^^^^^^^^^^^^\\n  File \"C:\\\\Users\\\\ryans\\\\source\\\\repos\\\\venv\\\\Python311\\\\Lib\\\\site-packages\\\\requests\\\\sessions.py\", line 587, in request\\n    resp = self.send(prep, **send_kwargs)\\n           ^^^^^^^^^^^^^^^^^^^^^^^^^^^^^^\\n  File \"C:\\\\Users\\\\ryans\\\\source\\\\repos\\\\venv\\\\Python311\\\\Lib\\\\site-packages\\\\requests\\\\sessions.py\", line 701, in send\\n    r = adapter.send(request, **kwargs)\\n        ^^^^^^^^^^^^^^^^^^^^^^^^^^^^^^^\\n  File \"C:\\\\Users\\\\ryans\\\\source\\\\repos\\\\venv\\\\Python311\\\\Lib\\\\site-packages\\\\requests\\\\adapters.py\", line 578, in send\\n    raise ReadTimeout(e, request=request)\\nrequests.exceptions.ReadTimeout: HTTPSConnectionPool(host=\\'www.kaggleusercontent.com\\', port=443): Read timed out. (read timeout=None)\\n', 'exception': ReadTimeout(ReadTimeoutError(\"HTTPSConnectionPool(host='www.kaggleusercontent.com', port=443): Read timed out. (read timeout=None)\"))}\n"
     ]
    },
    {
     "name": "stderr",
     "output_type": "stream",
     "text": [
      "  2%|█▋                                                                      | 2285/100000 [21:07<166:17:58,  6.13s/it]"
     ]
    },
    {
     "name": "stdout",
     "output_type": "stream",
     "text": [
      "{'traceback': 'Traceback (most recent call last):\\n  File \"C:\\\\Users\\\\ryans\\\\source\\\\repos\\\\venv\\\\Python311\\\\Lib\\\\site-packages\\\\urllib3\\\\connectionpool.py\", line 386, in _make_request\\n    self._validate_conn(conn)\\n  File \"C:\\\\Users\\\\ryans\\\\source\\\\repos\\\\venv\\\\Python311\\\\Lib\\\\site-packages\\\\urllib3\\\\connectionpool.py\", line 1042, in _validate_conn\\n    conn.connect()\\n  File \"C:\\\\Users\\\\ryans\\\\source\\\\repos\\\\venv\\\\Python311\\\\Lib\\\\site-packages\\\\urllib3\\\\connection.py\", line 414, in connect\\n    self.sock = ssl_wrap_socket(\\n                ^^^^^^^^^^^^^^^^\\n  File \"C:\\\\Users\\\\ryans\\\\source\\\\repos\\\\venv\\\\Python311\\\\Lib\\\\site-packages\\\\urllib3\\\\util\\\\ssl_.py\", line 449, in ssl_wrap_socket\\n    ssl_sock = _ssl_wrap_socket_impl(\\n               ^^^^^^^^^^^^^^^^^^^^^^\\n  File \"C:\\\\Users\\\\ryans\\\\source\\\\repos\\\\venv\\\\Python311\\\\Lib\\\\site-packages\\\\urllib3\\\\util\\\\ssl_.py\", line 493, in _ssl_wrap_socket_impl\\n    return ssl_context.wrap_socket(sock, server_hostname=server_hostname)\\n           ^^^^^^^^^^^^^^^^^^^^^^^^^^^^^^^^^^^^^^^^^^^^^^^^^^^^^^^^^^^^^^\\n  File \"C:\\\\Users\\\\ryans\\\\AppData\\\\Local\\\\Programs\\\\Python\\\\Python311\\\\Lib\\\\ssl.py\", line 517, in wrap_socket\\n    return self.sslsocket_class._create(\\n           ^^^^^^^^^^^^^^^^^^^^^^^^^^^^^\\n  File \"C:\\\\Users\\\\ryans\\\\AppData\\\\Local\\\\Programs\\\\Python\\\\Python311\\\\Lib\\\\ssl.py\", line 1075, in _create\\n    self.do_handshake()\\n  File \"C:\\\\Users\\\\ryans\\\\AppData\\\\Local\\\\Programs\\\\Python\\\\Python311\\\\Lib\\\\ssl.py\", line 1346, in do_handshake\\n    self._sslobj.do_handshake()\\nTimeoutError: [WinError 10060] A connection attempt failed because the connected party did not properly respond after a period of time, or established connection failed because connected host has failed to respond\\n\\nDuring handling of the above exception, another exception occurred:\\n\\nTraceback (most recent call last):\\n  File \"C:\\\\Users\\\\ryans\\\\source\\\\repos\\\\venv\\\\Python311\\\\Lib\\\\site-packages\\\\requests\\\\adapters.py\", line 489, in send\\n    resp = conn.urlopen(\\n           ^^^^^^^^^^^^^\\n  File \"C:\\\\Users\\\\ryans\\\\source\\\\repos\\\\venv\\\\Python311\\\\Lib\\\\site-packages\\\\urllib3\\\\connectionpool.py\", line 787, in urlopen\\n    retries = retries.increment(\\n              ^^^^^^^^^^^^^^^^^^\\n  File \"C:\\\\Users\\\\ryans\\\\source\\\\repos\\\\venv\\\\Python311\\\\Lib\\\\site-packages\\\\urllib3\\\\util\\\\retry.py\", line 550, in increment\\n    raise six.reraise(type(error), error, _stacktrace)\\n          ^^^^^^^^^^^^^^^^^^^^^^^^^^^^^^^^^^^^^^^^^^^^\\n  File \"C:\\\\Users\\\\ryans\\\\source\\\\repos\\\\venv\\\\Python311\\\\Lib\\\\site-packages\\\\urllib3\\\\packages\\\\six.py\", line 770, in reraise\\n    raise value\\n  File \"C:\\\\Users\\\\ryans\\\\source\\\\repos\\\\venv\\\\Python311\\\\Lib\\\\site-packages\\\\urllib3\\\\connectionpool.py\", line 703, in urlopen\\n    httplib_response = self._make_request(\\n                       ^^^^^^^^^^^^^^^^^^^\\n  File \"C:\\\\Users\\\\ryans\\\\source\\\\repos\\\\venv\\\\Python311\\\\Lib\\\\site-packages\\\\urllib3\\\\connectionpool.py\", line 389, in _make_request\\n    self._raise_timeout(err=e, url=url, timeout_value=conn.timeout)\\n  File \"C:\\\\Users\\\\ryans\\\\source\\\\repos\\\\venv\\\\Python311\\\\Lib\\\\site-packages\\\\urllib3\\\\connectionpool.py\", line 340, in _raise_timeout\\n    raise ReadTimeoutError(\\nurllib3.exceptions.ReadTimeoutError: HTTPSConnectionPool(host=\\'www.kaggleusercontent.com\\', port=443): Read timed out. (read timeout=None)\\n\\nDuring handling of the above exception, another exception occurred:\\n\\nTraceback (most recent call last):\\n  File \"C:\\\\Users\\\\ryans\\\\AppData\\\\Local\\\\Temp\\\\ipykernel_39860\\\\2371101090.py\", line 3, in <module>\\n    payload = json.loads(requests.get(f\\'https://www.kaggleusercontent.com/episodes/{starting_point-i}.json\\').text)\\n                         ^^^^^^^^^^^^^^^^^^^^^^^^^^^^^^^^^^^^^^^^^^^^^^^^^^^^^^^^^^^^^^^^^^^^^^^^^^^^^^^^^^^\\n  File \"C:\\\\Users\\\\ryans\\\\source\\\\repos\\\\venv\\\\Python311\\\\Lib\\\\site-packages\\\\requests\\\\api.py\", line 73, in get\\n    return request(\"get\", url, params=params, **kwargs)\\n           ^^^^^^^^^^^^^^^^^^^^^^^^^^^^^^^^^^^^^^^^^^^^\\n  File \"C:\\\\Users\\\\ryans\\\\source\\\\repos\\\\venv\\\\Python311\\\\Lib\\\\site-packages\\\\requests\\\\api.py\", line 59, in request\\n    return session.request(method=method, url=url, **kwargs)\\n           ^^^^^^^^^^^^^^^^^^^^^^^^^^^^^^^^^^^^^^^^^^^^^^^^^\\n  File \"C:\\\\Users\\\\ryans\\\\source\\\\repos\\\\venv\\\\Python311\\\\Lib\\\\site-packages\\\\requests\\\\sessions.py\", line 587, in request\\n    resp = self.send(prep, **send_kwargs)\\n           ^^^^^^^^^^^^^^^^^^^^^^^^^^^^^^\\n  File \"C:\\\\Users\\\\ryans\\\\source\\\\repos\\\\venv\\\\Python311\\\\Lib\\\\site-packages\\\\requests\\\\sessions.py\", line 701, in send\\n    r = adapter.send(request, **kwargs)\\n        ^^^^^^^^^^^^^^^^^^^^^^^^^^^^^^^\\n  File \"C:\\\\Users\\\\ryans\\\\source\\\\repos\\\\venv\\\\Python311\\\\Lib\\\\site-packages\\\\requests\\\\adapters.py\", line 578, in send\\n    raise ReadTimeout(e, request=request)\\nrequests.exceptions.ReadTimeout: HTTPSConnectionPool(host=\\'www.kaggleusercontent.com\\', port=443): Read timed out. (read timeout=None)\\n', 'exception': ReadTimeout(ReadTimeoutError(\"HTTPSConnectionPool(host='www.kaggleusercontent.com', port=443): Read timed out. (read timeout=None)\"))}\n"
     ]
    },
    {
     "name": "stderr",
     "output_type": "stream",
     "text": [
      "  3%|██▍                                                                     | 3423/100000 [31:33<179:39:45,  6.70s/it]"
     ]
    },
    {
     "name": "stdout",
     "output_type": "stream",
     "text": [
      "{'traceback': 'Traceback (most recent call last):\\n  File \"C:\\\\Users\\\\ryans\\\\source\\\\repos\\\\venv\\\\Python311\\\\Lib\\\\site-packages\\\\urllib3\\\\connection.py\", line 174, in _new_conn\\n    conn = connection.create_connection(\\n           ^^^^^^^^^^^^^^^^^^^^^^^^^^^^^\\n  File \"C:\\\\Users\\\\ryans\\\\source\\\\repos\\\\venv\\\\Python311\\\\Lib\\\\site-packages\\\\urllib3\\\\util\\\\connection.py\", line 95, in create_connection\\n    raise err\\n  File \"C:\\\\Users\\\\ryans\\\\source\\\\repos\\\\venv\\\\Python311\\\\Lib\\\\site-packages\\\\urllib3\\\\util\\\\connection.py\", line 85, in create_connection\\n    sock.connect(sa)\\nTimeoutError: [WinError 10060] A connection attempt failed because the connected party did not properly respond after a period of time, or established connection failed because connected host has failed to respond\\n\\nDuring handling of the above exception, another exception occurred:\\n\\nTraceback (most recent call last):\\n  File \"C:\\\\Users\\\\ryans\\\\source\\\\repos\\\\venv\\\\Python311\\\\Lib\\\\site-packages\\\\urllib3\\\\connectionpool.py\", line 703, in urlopen\\n    httplib_response = self._make_request(\\n                       ^^^^^^^^^^^^^^^^^^^\\n  File \"C:\\\\Users\\\\ryans\\\\source\\\\repos\\\\venv\\\\Python311\\\\Lib\\\\site-packages\\\\urllib3\\\\connectionpool.py\", line 386, in _make_request\\n    self._validate_conn(conn)\\n  File \"C:\\\\Users\\\\ryans\\\\source\\\\repos\\\\venv\\\\Python311\\\\Lib\\\\site-packages\\\\urllib3\\\\connectionpool.py\", line 1042, in _validate_conn\\n    conn.connect()\\n  File \"C:\\\\Users\\\\ryans\\\\source\\\\repos\\\\venv\\\\Python311\\\\Lib\\\\site-packages\\\\urllib3\\\\connection.py\", line 358, in connect\\n    self.sock = conn = self._new_conn()\\n                       ^^^^^^^^^^^^^^^^\\n  File \"C:\\\\Users\\\\ryans\\\\source\\\\repos\\\\venv\\\\Python311\\\\Lib\\\\site-packages\\\\urllib3\\\\connection.py\", line 179, in _new_conn\\n    raise ConnectTimeoutError(\\nurllib3.exceptions.ConnectTimeoutError: (<urllib3.connection.HTTPSConnection object at 0x000001EF72D0CA50>, \\'Connection to www.kaggleusercontent.com timed out. (connect timeout=None)\\')\\n\\nDuring handling of the above exception, another exception occurred:\\n\\nTraceback (most recent call last):\\n  File \"C:\\\\Users\\\\ryans\\\\source\\\\repos\\\\venv\\\\Python311\\\\Lib\\\\site-packages\\\\requests\\\\adapters.py\", line 489, in send\\n    resp = conn.urlopen(\\n           ^^^^^^^^^^^^^\\n  File \"C:\\\\Users\\\\ryans\\\\source\\\\repos\\\\venv\\\\Python311\\\\Lib\\\\site-packages\\\\urllib3\\\\connectionpool.py\", line 787, in urlopen\\n    retries = retries.increment(\\n              ^^^^^^^^^^^^^^^^^^\\n  File \"C:\\\\Users\\\\ryans\\\\source\\\\repos\\\\venv\\\\Python311\\\\Lib\\\\site-packages\\\\urllib3\\\\util\\\\retry.py\", line 592, in increment\\n    raise MaxRetryError(_pool, url, error or ResponseError(cause))\\nurllib3.exceptions.MaxRetryError: HTTPSConnectionPool(host=\\'www.kaggleusercontent.com\\', port=443): Max retries exceeded with url: /episodes/45904757.json (Caused by ConnectTimeoutError(<urllib3.connection.HTTPSConnection object at 0x000001EF72D0CA50>, \\'Connection to www.kaggleusercontent.com timed out. (connect timeout=None)\\'))\\n\\nDuring handling of the above exception, another exception occurred:\\n\\nTraceback (most recent call last):\\n  File \"C:\\\\Users\\\\ryans\\\\AppData\\\\Local\\\\Temp\\\\ipykernel_39860\\\\2371101090.py\", line 3, in <module>\\n    payload = json.loads(requests.get(f\\'https://www.kaggleusercontent.com/episodes/{starting_point-i}.json\\').text)\\n                         ^^^^^^^^^^^^^^^^^^^^^^^^^^^^^^^^^^^^^^^^^^^^^^^^^^^^^^^^^^^^^^^^^^^^^^^^^^^^^^^^^^^\\n  File \"C:\\\\Users\\\\ryans\\\\source\\\\repos\\\\venv\\\\Python311\\\\Lib\\\\site-packages\\\\requests\\\\api.py\", line 73, in get\\n    return request(\"get\", url, params=params, **kwargs)\\n           ^^^^^^^^^^^^^^^^^^^^^^^^^^^^^^^^^^^^^^^^^^^^\\n  File \"C:\\\\Users\\\\ryans\\\\source\\\\repos\\\\venv\\\\Python311\\\\Lib\\\\site-packages\\\\requests\\\\api.py\", line 59, in request\\n    return session.request(method=method, url=url, **kwargs)\\n           ^^^^^^^^^^^^^^^^^^^^^^^^^^^^^^^^^^^^^^^^^^^^^^^^^\\n  File \"C:\\\\Users\\\\ryans\\\\source\\\\repos\\\\venv\\\\Python311\\\\Lib\\\\site-packages\\\\requests\\\\sessions.py\", line 587, in request\\n    resp = self.send(prep, **send_kwargs)\\n           ^^^^^^^^^^^^^^^^^^^^^^^^^^^^^^\\n  File \"C:\\\\Users\\\\ryans\\\\source\\\\repos\\\\venv\\\\Python311\\\\Lib\\\\site-packages\\\\requests\\\\sessions.py\", line 701, in send\\n    r = adapter.send(request, **kwargs)\\n        ^^^^^^^^^^^^^^^^^^^^^^^^^^^^^^^\\n  File \"C:\\\\Users\\\\ryans\\\\source\\\\repos\\\\venv\\\\Python311\\\\Lib\\\\site-packages\\\\requests\\\\adapters.py\", line 553, in send\\n    raise ConnectTimeout(e, request=request)\\nrequests.exceptions.ConnectTimeout: HTTPSConnectionPool(host=\\'www.kaggleusercontent.com\\', port=443): Max retries exceeded with url: /episodes/45904757.json (Caused by ConnectTimeoutError(<urllib3.connection.HTTPSConnection object at 0x000001EF72D0CA50>, \\'Connection to www.kaggleusercontent.com timed out. (connect timeout=None)\\'))\\n', 'exception': ConnectTimeout(MaxRetryError(\"HTTPSConnectionPool(host='www.kaggleusercontent.com', port=443): Max retries exceeded with url: /episodes/45904757.json (Caused by ConnectTimeoutError(<urllib3.connection.HTTPSConnection object at 0x000001EF72D0CA50>, 'Connection to www.kaggleusercontent.com timed out. (connect timeout=None)'))\"))}\n"
     ]
    },
    {
     "name": "stderr",
     "output_type": "stream",
     "text": [
      "  9%|██████▏                                                                | 8646/100000 [1:20:57<12:42:18,  2.00it/s]"
     ]
    }
   ],
   "source": [
    "for i in tqdm(range(0, 100000)):\n",
    "    try:\n",
    "        payload = json.loads(requests.get(f'https://www.kaggleusercontent.com/episodes/{starting_point-i}.json').text)\n",
    "        mi.insert_payload(payload)\n",
    "    except Exception as e:\n",
    "        print(eh.formatexception(e))"
   ]
  },
  {
   "cell_type": "code",
   "execution_count": 9,
   "id": "680c3b5d-0030-4e9a-aab0-5fcfd031c13c",
   "metadata": {},
   "outputs": [],
   "source": [
    "#mi.empty_collection()"
   ]
  },
  {
   "cell_type": "code",
   "execution_count": null,
   "id": "457dfb36-008b-48f8-a6bb-50819634b28c",
   "metadata": {},
   "outputs": [],
   "source": [
    "import requests\n",
    "import sys\n",
    "\n",
    "result = requests.get('https://google.com')\n",
    "sys.stdout.write(str(len(result.text)))\n"
   ]
  },
  {
   "cell_type": "code",
   "execution_count": null,
   "id": "5ce08e89-2e17-47b9-adcc-6ccf938e9143",
   "metadata": {},
   "outputs": [],
   "source": []
  },
  {
   "cell_type": "code",
   "execution_count": null,
   "id": "a3b66889-5dc2-4a7b-8227-6cc899f695d6",
   "metadata": {},
   "outputs": [],
   "source": [
    "mi.insert_payload(payload)"
   ]
  },
  {
   "cell_type": "code",
   "execution_count": null,
   "id": "5054383f-6853-43c0-904f-5583d4bcdb00",
   "metadata": {},
   "outputs": [],
   "source": []
  },
  {
   "cell_type": "code",
   "execution_count": null,
   "id": "36ddda3b-da08-4355-a8b7-7cc39eccb844",
   "metadata": {},
   "outputs": [],
   "source": []
  }
 ],
 "metadata": {
  "kernelspec": {
   "display_name": "Python 3 (ipykernel)",
   "language": "python",
   "name": "python3"
  },
  "language_info": {
   "codemirror_mode": {
    "name": "ipython",
    "version": 3
   },
   "file_extension": ".py",
   "mimetype": "text/x-python",
   "name": "python",
   "nbconvert_exporter": "python",
   "pygments_lexer": "ipython3",
   "version": "3.11.1"
  }
 },
 "nbformat": 4,
 "nbformat_minor": 5
}
