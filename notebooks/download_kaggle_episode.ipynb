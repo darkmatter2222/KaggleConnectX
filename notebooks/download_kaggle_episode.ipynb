{
 "cells": [
  {
   "cell_type": "code",
   "execution_count": 5,
   "id": "cc0b013c-4550-415e-a1e1-c6f1c994cb0d",
   "metadata": {},
   "outputs": [
    {
     "data": {
      "text/plain": [
       "True"
      ]
     },
     "execution_count": 5,
     "metadata": {},
     "output_type": "execute_result"
    }
   ],
   "source": [
    "from dotenv import load_dotenv\n",
    "import os, requests, sys, json\n",
    "from IPython.display import JSON\n",
    "from pathlib import Path\n",
    "import logging.handlers\n",
    "from tqdm import tqdm\n",
    "\n",
    "module_path = os.path.abspath(os.path.join('..'))\n",
    "if module_path not in sys.path:\n",
    "    sys.path.append(module_path)\n",
    "\n",
    "from Helpers.Exception_Handling import Exception_Handling as eh\n",
    "from Helpers.Mongo_Interface import Mongo_Interface as mi\n",
    "\n",
    "env_path = Path(fr\"{os.environ['USERPROFILE']}\\.env\") \n",
    "load_dotenv(dotenv_path=env_path)"
   ]
  },
  {
   "cell_type": "code",
   "execution_count": 6,
   "id": "b87a53a5-8912-448f-923e-9d628611cb20",
   "metadata": {},
   "outputs": [],
   "source": [
    "starting_point = 45900930"
   ]
  },
  {
   "cell_type": "code",
   "execution_count": 7,
   "id": "9e94f2b4-8b30-40e1-98e4-b0910f936e21",
   "metadata": {
    "tags": []
   },
   "outputs": [
    {
     "data": {
      "application/json": {
       "configuration": {
        "actTimeout": 2,
        "agentTimeout": 60,
        "columns": 7,
        "episodeSteps": 1000,
        "inarow": 4,
        "rows": 6,
        "runTimeout": 1200,
        "timeout": 2
       },
       "description": "Classic Connect in a row but configurable.",
       "id": "70b84166-83e9-11ed-94c9-0242ac130203",
       "info": {
        "EpisodeId": 45900930,
        "LiveVideoPath": null,
        "TeamNames": [
         "NikolayKonstantinov",
         "Ryan Susman"
        ]
       },
       "name": "connectx",
       "rewards": [
        1,
        -1
       ],
       "schema_version": 1,
       "specification": {
        "action": {
         "default": 0,
         "description": "Column to drop a checker onto the board.",
         "minimum": 0,
         "type": "integer"
        },
        "agents": [
         2
        ],
        "configuration": {
         "actTimeout": {
          "default": 2,
          "description": "Maximum runtime (seconds) to obtain an action from an agent.",
          "minimum": 0,
          "type": "number"
         },
         "agentTimeout": {
          "default": 60,
          "description": "Obsolete field kept for backwards compatibility, please use observation.remainingOverageTime.",
          "minimum": 0,
          "type": "number"
         },
         "columns": {
          "default": 7,
          "description": "The number of columns on the board",
          "minimum": 1,
          "type": "integer"
         },
         "episodeSteps": {
          "default": 1000,
          "description": "Maximum number of steps in the episode.",
          "minimum": 1,
          "type": "integer"
         },
         "inarow": {
          "default": 4,
          "description": "The number of checkers in a row required to win.",
          "minimum": 1,
          "type": "integer"
         },
         "rows": {
          "default": 6,
          "description": "The number of rows on the board",
          "minimum": 1,
          "type": "integer"
         },
         "runTimeout": {
          "default": 1200,
          "description": "Maximum runtime (seconds) of an episode (not necessarily DONE).",
          "minimum": 0,
          "type": "number"
         },
         "timeout": {
          "default": 2,
          "description": "Obsolete copy of actTimeout maintained for backwards compatibility. May be removed in the future.",
          "minimum": 0,
          "type": "integer"
         }
        },
        "info": {},
        "observation": {
         "board": {
          "default": [],
          "description": "Serialized grid (rows x columns). 0 = Empty, 1 = P1, 2 = P2",
          "shared": true,
          "type": "array"
         },
         "mark": {
          "defaults": [
           1,
           2
          ],
          "description": "Which checkers are the agents.",
          "enum": [
           1,
           2
          ]
         },
         "remainingOverageTime": {
          "default": 60,
          "description": "Total remaining banked time (seconds) that can be used in excess of per-step actTimeouts -- agent is disqualified with TIMEOUT status when this drops below 0.",
          "minimum": 0,
          "shared": false,
          "type": "number"
         },
         "step": {
          "default": 0,
          "description": "Current step within the episode.",
          "minimum": 0,
          "shared": true,
          "type": "integer"
         }
        },
        "reward": {
         "default": 0,
         "description": "-1 = Lost, 0 = Draw/Ongoing, 1 = Won",
         "enum": [
          -1,
          0,
          1
         ],
         "type": [
          "number",
          "null"
         ]
        }
       },
       "statuses": [
        "DONE",
        "DONE"
       ],
       "steps": [
        [
         {
          "action": 0,
          "info": {},
          "observation": {
           "board": [
            0,
            0,
            0,
            0,
            0,
            0,
            0,
            0,
            0,
            0,
            0,
            0,
            0,
            0,
            0,
            0,
            0,
            0,
            0,
            0,
            0,
            0,
            0,
            0,
            0,
            0,
            0,
            0,
            0,
            0,
            0,
            0,
            0,
            0,
            0,
            0,
            0,
            0,
            0,
            0,
            0,
            0
           ],
           "mark": 1,
           "remainingOverageTime": 60,
           "step": 0
          },
          "reward": 0,
          "status": "ACTIVE"
         },
         {
          "action": 0,
          "info": {},
          "observation": {
           "mark": 2,
           "remainingOverageTime": 60
          },
          "reward": 0,
          "status": "INACTIVE"
         }
        ],
        [
         {
          "action": 4,
          "info": {},
          "observation": {
           "board": [
            0,
            0,
            0,
            0,
            0,
            0,
            0,
            0,
            0,
            0,
            0,
            0,
            0,
            0,
            0,
            0,
            0,
            0,
            0,
            0,
            0,
            0,
            0,
            0,
            0,
            0,
            0,
            0,
            0,
            0,
            0,
            0,
            0,
            0,
            0,
            0,
            0,
            0,
            0,
            1,
            0,
            0
           ],
           "mark": 1,
           "remainingOverageTime": 60,
           "step": 1
          },
          "reward": 0,
          "status": "INACTIVE"
         },
         {
          "action": 0,
          "info": {},
          "observation": {
           "mark": 2,
           "remainingOverageTime": 60
          },
          "reward": 0,
          "status": "ACTIVE"
         }
        ],
        [
         {
          "action": 0,
          "info": {},
          "observation": {
           "board": [
            0,
            0,
            0,
            0,
            0,
            0,
            0,
            0,
            0,
            0,
            0,
            0,
            0,
            0,
            0,
            0,
            0,
            0,
            0,
            0,
            0,
            0,
            0,
            0,
            0,
            0,
            0,
            0,
            0,
            0,
            0,
            0,
            2,
            0,
            0,
            0,
            0,
            0,
            0,
            1,
            0,
            0
           ],
           "mark": 1,
           "remainingOverageTime": 60,
           "step": 2
          },
          "reward": 0,
          "status": "ACTIVE"
         },
         {
          "action": 4,
          "info": {},
          "observation": {
           "mark": 2,
           "remainingOverageTime": 58.68326
          },
          "reward": 0,
          "status": "INACTIVE"
         }
        ],
        [
         {
          "action": 1,
          "info": {},
          "observation": {
           "board": [
            0,
            0,
            0,
            0,
            0,
            0,
            0,
            0,
            0,
            0,
            0,
            0,
            0,
            0,
            0,
            0,
            0,
            0,
            0,
            0,
            0,
            0,
            0,
            0,
            0,
            0,
            0,
            0,
            0,
            0,
            0,
            0,
            2,
            0,
            0,
            0,
            1,
            0,
            0,
            1,
            0,
            0
           ],
           "mark": 1,
           "remainingOverageTime": 60,
           "step": 3
          },
          "reward": 0,
          "status": "INACTIVE"
         },
         {
          "action": 0,
          "info": {},
          "observation": {
           "mark": 2,
           "remainingOverageTime": 58.68326
          },
          "reward": 0,
          "status": "ACTIVE"
         }
        ],
        [
         {
          "action": 0,
          "info": {},
          "observation": {
           "board": [
            0,
            0,
            0,
            0,
            0,
            0,
            0,
            0,
            0,
            0,
            0,
            0,
            0,
            0,
            0,
            0,
            0,
            0,
            0,
            0,
            0,
            0,
            0,
            0,
            0,
            0,
            0,
            0,
            0,
            2,
            0,
            0,
            2,
            0,
            0,
            0,
            1,
            0,
            0,
            1,
            0,
            0
           ],
           "mark": 1,
           "remainingOverageTime": 60,
           "step": 4
          },
          "reward": 0,
          "status": "ACTIVE"
         },
         {
          "action": 1,
          "info": {},
          "observation": {
           "mark": 2,
           "remainingOverageTime": 58.68326
          },
          "reward": 0,
          "status": "INACTIVE"
         }
        ],
        [
         {
          "action": 0,
          "info": {},
          "observation": {
           "board": [
            0,
            0,
            0,
            0,
            0,
            0,
            0,
            0,
            0,
            0,
            0,
            0,
            0,
            0,
            0,
            0,
            0,
            0,
            0,
            0,
            0,
            0,
            0,
            0,
            0,
            0,
            0,
            0,
            0,
            2,
            0,
            0,
            2,
            0,
            0,
            1,
            1,
            0,
            0,
            1,
            0,
            0
           ],
           "mark": 1,
           "remainingOverageTime": 60,
           "step": 5
          },
          "reward": 0,
          "status": "INACTIVE"
         },
         {
          "action": 0,
          "info": {},
          "observation": {
           "mark": 2,
           "remainingOverageTime": 58.68326
          },
          "reward": 0,
          "status": "ACTIVE"
         }
        ],
        [
         {
          "action": 0,
          "info": {},
          "observation": {
           "board": [
            0,
            0,
            0,
            0,
            0,
            0,
            0,
            0,
            0,
            0,
            0,
            0,
            0,
            0,
            0,
            0,
            0,
            0,
            0,
            0,
            0,
            0,
            0,
            0,
            0,
            0,
            0,
            0,
            2,
            2,
            0,
            0,
            2,
            0,
            0,
            1,
            1,
            0,
            0,
            1,
            0,
            0
           ],
           "mark": 1,
           "remainingOverageTime": 60,
           "step": 6
          },
          "reward": 0,
          "status": "ACTIVE"
         },
         {
          "action": 0,
          "info": {},
          "observation": {
           "mark": 2,
           "remainingOverageTime": 58.68326
          },
          "reward": 0,
          "status": "INACTIVE"
         }
        ],
        [
         {
          "action": 5,
          "info": {},
          "observation": {
           "board": [
            0,
            0,
            0,
            0,
            0,
            0,
            0,
            0,
            0,
            0,
            0,
            0,
            0,
            0,
            0,
            0,
            0,
            0,
            0,
            0,
            0,
            0,
            0,
            0,
            0,
            0,
            0,
            0,
            2,
            2,
            0,
            0,
            2,
            0,
            0,
            1,
            1,
            0,
            0,
            1,
            1,
            0
           ],
           "mark": 1,
           "remainingOverageTime": 60,
           "step": 7
          },
          "reward": 0,
          "status": "INACTIVE"
         },
         {
          "action": 0,
          "info": {},
          "observation": {
           "mark": 2,
           "remainingOverageTime": 58.68326
          },
          "reward": 0,
          "status": "ACTIVE"
         }
        ],
        [
         {
          "action": 0,
          "info": {},
          "observation": {
           "board": [
            0,
            0,
            0,
            0,
            0,
            0,
            0,
            0,
            0,
            0,
            0,
            0,
            0,
            0,
            0,
            0,
            0,
            0,
            0,
            0,
            0,
            0,
            0,
            0,
            0,
            2,
            0,
            0,
            2,
            2,
            0,
            0,
            2,
            0,
            0,
            1,
            1,
            0,
            0,
            1,
            1,
            0
           ],
           "mark": 1,
           "remainingOverageTime": 60,
           "step": 8
          },
          "reward": 0,
          "status": "ACTIVE"
         },
         {
          "action": 4,
          "info": {},
          "observation": {
           "mark": 2,
           "remainingOverageTime": 58.68326
          },
          "reward": 0,
          "status": "INACTIVE"
         }
        ],
        [
         {
          "action": 4,
          "info": {},
          "observation": {
           "board": [
            0,
            0,
            0,
            0,
            0,
            0,
            0,
            0,
            0,
            0,
            0,
            0,
            0,
            0,
            0,
            0,
            0,
            0,
            1,
            0,
            0,
            0,
            0,
            0,
            0,
            2,
            0,
            0,
            2,
            2,
            0,
            0,
            2,
            0,
            0,
            1,
            1,
            0,
            0,
            1,
            1,
            0
           ],
           "mark": 1,
           "remainingOverageTime": 60,
           "step": 9
          },
          "reward": 0,
          "status": "INACTIVE"
         },
         {
          "action": 0,
          "info": {},
          "observation": {
           "mark": 2,
           "remainingOverageTime": 58.68326
          },
          "reward": 0,
          "status": "ACTIVE"
         }
        ],
        [
         {
          "action": 0,
          "info": {},
          "observation": {
           "board": [
            0,
            0,
            0,
            0,
            0,
            0,
            0,
            0,
            0,
            0,
            0,
            0,
            0,
            0,
            0,
            0,
            0,
            0,
            1,
            0,
            0,
            0,
            0,
            0,
            0,
            2,
            0,
            0,
            2,
            2,
            0,
            0,
            2,
            0,
            0,
            1,
            1,
            0,
            2,
            1,
            1,
            0
           ],
           "mark": 1,
           "remainingOverageTime": 60,
           "step": 10
          },
          "reward": 0,
          "status": "ACTIVE"
         },
         {
          "action": 3,
          "info": {},
          "observation": {
           "mark": 2,
           "remainingOverageTime": 58.68326
          },
          "reward": 0,
          "status": "INACTIVE"
         }
        ],
        [
         {
          "action": 4,
          "info": {},
          "observation": {
           "board": [
            0,
            0,
            0,
            0,
            0,
            0,
            0,
            0,
            0,
            0,
            0,
            1,
            0,
            0,
            0,
            0,
            0,
            0,
            1,
            0,
            0,
            0,
            0,
            0,
            0,
            2,
            0,
            0,
            2,
            2,
            0,
            0,
            2,
            0,
            0,
            1,
            1,
            0,
            2,
            1,
            1,
            0
           ],
           "mark": 1,
           "remainingOverageTime": 60,
           "step": 11
          },
          "reward": 0,
          "status": "INACTIVE"
         },
         {
          "action": 0,
          "info": {},
          "observation": {
           "mark": 2,
           "remainingOverageTime": 58.68326
          },
          "reward": 0,
          "status": "ACTIVE"
         }
        ],
        [
         {
          "action": 0,
          "info": {},
          "observation": {
           "board": [
            0,
            0,
            0,
            0,
            0,
            0,
            0,
            0,
            0,
            0,
            0,
            1,
            0,
            0,
            0,
            0,
            0,
            0,
            1,
            0,
            0,
            0,
            0,
            0,
            0,
            2,
            0,
            0,
            2,
            2,
            0,
            0,
            2,
            0,
            0,
            1,
            1,
            0,
            2,
            1,
            1,
            2
           ],
           "mark": 1,
           "remainingOverageTime": 60,
           "step": 12
          },
          "reward": 0,
          "status": "ACTIVE"
         },
         {
          "action": 6,
          "info": {},
          "observation": {
           "mark": 2,
           "remainingOverageTime": 58.68326
          },
          "reward": 0,
          "status": "INACTIVE"
         }
        ],
        [
         {
          "action": 0,
          "info": {},
          "observation": {
           "board": [
            0,
            0,
            0,
            0,
            0,
            0,
            0,
            0,
            0,
            0,
            0,
            1,
            0,
            0,
            0,
            0,
            0,
            0,
            1,
            0,
            0,
            1,
            0,
            0,
            0,
            2,
            0,
            0,
            2,
            2,
            0,
            0,
            2,
            0,
            0,
            1,
            1,
            0,
            2,
            1,
            1,
            2
           ],
           "mark": 1,
           "remainingOverageTime": 60,
           "step": 13
          },
          "reward": 0,
          "status": "INACTIVE"
         },
         {
          "action": 0,
          "info": {},
          "observation": {
           "mark": 2,
           "remainingOverageTime": 58.68326
          },
          "reward": 0,
          "status": "ACTIVE"
         }
        ],
        [
         {
          "action": 0,
          "info": {},
          "observation": {
           "board": [
            0,
            0,
            0,
            0,
            0,
            0,
            0,
            0,
            0,
            0,
            0,
            1,
            0,
            0,
            0,
            0,
            0,
            0,
            1,
            0,
            0,
            1,
            0,
            0,
            0,
            2,
            0,
            0,
            2,
            2,
            0,
            0,
            2,
            0,
            2,
            1,
            1,
            0,
            2,
            1,
            1,
            2
           ],
           "mark": 1,
           "remainingOverageTime": 60,
           "step": 14
          },
          "reward": 0,
          "status": "ACTIVE"
         },
         {
          "action": 6,
          "info": {},
          "observation": {
           "mark": 2,
           "remainingOverageTime": 58.68326
          },
          "reward": 0,
          "status": "INACTIVE"
         }
        ],
        [
         {
          "action": 1,
          "info": {},
          "observation": {
           "board": [
            0,
            0,
            0,
            0,
            0,
            0,
            0,
            0,
            0,
            0,
            0,
            1,
            0,
            0,
            0,
            0,
            0,
            0,
            1,
            0,
            0,
            1,
            1,
            0,
            0,
            2,
            0,
            0,
            2,
            2,
            0,
            0,
            2,
            0,
            2,
            1,
            1,
            0,
            2,
            1,
            1,
            2
           ],
           "mark": 1,
           "remainingOverageTime": 60,
           "step": 15
          },
          "reward": 0,
          "status": "INACTIVE"
         },
         {
          "action": 0,
          "info": {},
          "observation": {
           "mark": 2,
           "remainingOverageTime": 58.68326
          },
          "reward": 0,
          "status": "ACTIVE"
         }
        ],
        [
         {
          "action": 0,
          "info": {},
          "observation": {
           "board": [
            0,
            0,
            0,
            0,
            0,
            0,
            0,
            0,
            0,
            0,
            0,
            1,
            0,
            0,
            2,
            0,
            0,
            0,
            1,
            0,
            0,
            1,
            1,
            0,
            0,
            2,
            0,
            0,
            2,
            2,
            0,
            0,
            2,
            0,
            2,
            1,
            1,
            0,
            2,
            1,
            1,
            2
           ],
           "mark": 1,
           "remainingOverageTime": 60,
           "step": 16
          },
          "reward": 0,
          "status": "ACTIVE"
         },
         {
          "action": 0,
          "info": {},
          "observation": {
           "mark": 2,
           "remainingOverageTime": 58.68326
          },
          "reward": 0,
          "status": "INACTIVE"
         }
        ],
        [
         {
          "action": 1,
          "info": {},
          "observation": {
           "board": [
            0,
            0,
            0,
            0,
            0,
            0,
            0,
            0,
            0,
            0,
            0,
            1,
            0,
            0,
            2,
            1,
            0,
            0,
            1,
            0,
            0,
            1,
            1,
            0,
            0,
            2,
            0,
            0,
            2,
            2,
            0,
            0,
            2,
            0,
            2,
            1,
            1,
            0,
            2,
            1,
            1,
            2
           ],
           "mark": 1,
           "remainingOverageTime": 60,
           "step": 17
          },
          "reward": 0,
          "status": "INACTIVE"
         },
         {
          "action": 0,
          "info": {},
          "observation": {
           "mark": 2,
           "remainingOverageTime": 58.68326
          },
          "reward": 0,
          "status": "ACTIVE"
         }
        ],
        [
         {
          "action": 0,
          "info": {},
          "observation": {
           "board": [
            0,
            0,
            0,
            0,
            0,
            0,
            0,
            0,
            2,
            0,
            0,
            1,
            0,
            0,
            2,
            1,
            0,
            0,
            1,
            0,
            0,
            1,
            1,
            0,
            0,
            2,
            0,
            0,
            2,
            2,
            0,
            0,
            2,
            0,
            2,
            1,
            1,
            0,
            2,
            1,
            1,
            2
           ],
           "mark": 1,
           "remainingOverageTime": 60,
           "step": 18
          },
          "reward": 0,
          "status": "ACTIVE"
         },
         {
          "action": 1,
          "info": {},
          "observation": {
           "mark": 2,
           "remainingOverageTime": 58.68326
          },
          "reward": 0,
          "status": "INACTIVE"
         }
        ],
        [
         {
          "action": 4,
          "info": {},
          "observation": {
           "board": [
            0,
            0,
            0,
            0,
            1,
            0,
            0,
            0,
            2,
            0,
            0,
            1,
            0,
            0,
            2,
            1,
            0,
            0,
            1,
            0,
            0,
            1,
            1,
            0,
            0,
            2,
            0,
            0,
            2,
            2,
            0,
            0,
            2,
            0,
            2,
            1,
            1,
            0,
            2,
            1,
            1,
            2
           ],
           "mark": 1,
           "remainingOverageTime": 60,
           "step": 19
          },
          "reward": 0,
          "status": "INACTIVE"
         },
         {
          "action": 0,
          "info": {},
          "observation": {
           "mark": 2,
           "remainingOverageTime": 58.68326
          },
          "reward": 0,
          "status": "ACTIVE"
         }
        ],
        [
         {
          "action": 0,
          "info": {},
          "observation": {
           "board": [
            0,
            0,
            0,
            0,
            1,
            0,
            0,
            0,
            2,
            0,
            0,
            1,
            0,
            0,
            2,
            1,
            0,
            0,
            1,
            0,
            0,
            1,
            1,
            0,
            0,
            2,
            0,
            0,
            2,
            2,
            0,
            0,
            2,
            0,
            2,
            1,
            1,
            2,
            2,
            1,
            1,
            2
           ],
           "mark": 1,
           "remainingOverageTime": 60,
           "step": 20
          },
          "reward": 0,
          "status": "ACTIVE"
         },
         {
          "action": 2,
          "info": {},
          "observation": {
           "mark": 2,
           "remainingOverageTime": 58.68326
          },
          "reward": 0,
          "status": "INACTIVE"
         }
        ],
        [
         {
          "action": 0,
          "info": {},
          "observation": {
           "board": [
            0,
            0,
            0,
            0,
            1,
            0,
            0,
            1,
            2,
            0,
            0,
            1,
            0,
            0,
            2,
            1,
            0,
            0,
            1,
            0,
            0,
            1,
            1,
            0,
            0,
            2,
            0,
            0,
            2,
            2,
            0,
            0,
            2,
            0,
            2,
            1,
            1,
            2,
            2,
            1,
            1,
            2
           ],
           "mark": 1,
           "remainingOverageTime": 60,
           "step": 21
          },
          "reward": 0,
          "status": "INACTIVE"
         },
         {
          "action": 0,
          "info": {},
          "observation": {
           "mark": 2,
           "remainingOverageTime": 58.68326
          },
          "reward": 0,
          "status": "ACTIVE"
         }
        ],
        [
         {
          "action": 0,
          "info": {},
          "observation": {
           "board": [
            0,
            0,
            0,
            0,
            1,
            0,
            0,
            1,
            2,
            0,
            0,
            1,
            0,
            0,
            2,
            1,
            0,
            0,
            1,
            0,
            0,
            1,
            1,
            0,
            0,
            2,
            0,
            2,
            2,
            2,
            0,
            0,
            2,
            0,
            2,
            1,
            1,
            2,
            2,
            1,
            1,
            2
           ],
           "mark": 1,
           "remainingOverageTime": 60,
           "step": 22
          },
          "reward": 0,
          "status": "ACTIVE"
         },
         {
          "action": 6,
          "info": {},
          "observation": {
           "mark": 2,
           "remainingOverageTime": 58.68326
          },
          "reward": 0,
          "status": "INACTIVE"
         }
        ],
        [
         {
          "action": 6,
          "info": {},
          "observation": {
           "board": [
            0,
            0,
            0,
            0,
            1,
            0,
            0,
            1,
            2,
            0,
            0,
            1,
            0,
            0,
            2,
            1,
            0,
            0,
            1,
            0,
            1,
            1,
            1,
            0,
            0,
            2,
            0,
            2,
            2,
            2,
            0,
            0,
            2,
            0,
            2,
            1,
            1,
            2,
            2,
            1,
            1,
            2
           ],
           "mark": 1,
           "remainingOverageTime": 60,
           "step": 23
          },
          "reward": 0,
          "status": "INACTIVE"
         },
         {
          "action": 0,
          "info": {},
          "observation": {
           "mark": 2,
           "remainingOverageTime": 58.68326
          },
          "reward": 0,
          "status": "ACTIVE"
         }
        ],
        [
         {
          "action": 0,
          "info": {},
          "observation": {
           "board": [
            0,
            0,
            0,
            0,
            1,
            0,
            0,
            1,
            2,
            0,
            0,
            1,
            0,
            0,
            2,
            1,
            0,
            0,
            1,
            0,
            1,
            1,
            1,
            0,
            0,
            2,
            0,
            2,
            2,
            2,
            0,
            0,
            2,
            2,
            2,
            1,
            1,
            2,
            2,
            1,
            1,
            2
           ],
           "mark": 1,
           "remainingOverageTime": 60,
           "step": 24
          },
          "reward": 0,
          "status": "ACTIVE"
         },
         {
          "action": 5,
          "info": {},
          "observation": {
           "mark": 2,
           "remainingOverageTime": 58.68326
          },
          "reward": 0,
          "status": "INACTIVE"
         }
        ],
        [
         {
          "action": 3,
          "info": {},
          "observation": {
           "board": [
            0,
            0,
            0,
            0,
            1,
            0,
            0,
            1,
            2,
            0,
            0,
            1,
            0,
            0,
            2,
            1,
            0,
            0,
            1,
            0,
            1,
            1,
            1,
            0,
            0,
            2,
            0,
            2,
            2,
            2,
            0,
            1,
            2,
            2,
            2,
            1,
            1,
            2,
            2,
            1,
            1,
            2
           ],
           "mark": 1,
           "remainingOverageTime": 60,
           "step": 25
          },
          "reward": 0,
          "status": "INACTIVE"
         },
         {
          "action": 0,
          "info": {},
          "observation": {
           "mark": 2,
           "remainingOverageTime": 58.68326
          },
          "reward": 0,
          "status": "ACTIVE"
         }
        ],
        [
         {
          "action": 0,
          "info": {},
          "observation": {
           "board": [
            0,
            0,
            0,
            0,
            1,
            0,
            0,
            1,
            2,
            0,
            0,
            1,
            0,
            2,
            2,
            1,
            0,
            0,
            1,
            0,
            1,
            1,
            1,
            0,
            0,
            2,
            0,
            2,
            2,
            2,
            0,
            1,
            2,
            2,
            2,
            1,
            1,
            2,
            2,
            1,
            1,
            2
           ],
           "mark": 1,
           "remainingOverageTime": 60,
           "step": 26
          },
          "reward": 0,
          "status": "ACTIVE"
         },
         {
          "action": 6,
          "info": {},
          "observation": {
           "mark": 2,
           "remainingOverageTime": 58.68326
          },
          "reward": 0,
          "status": "INACTIVE"
         }
        ],
        [
         {
          "action": 0,
          "info": {},
          "observation": {
           "board": [
            1,
            0,
            0,
            0,
            1,
            0,
            0,
            1,
            2,
            0,
            0,
            1,
            0,
            2,
            2,
            1,
            0,
            0,
            1,
            0,
            1,
            1,
            1,
            0,
            0,
            2,
            0,
            2,
            2,
            2,
            0,
            1,
            2,
            2,
            2,
            1,
            1,
            2,
            2,
            1,
            1,
            2
           ],
           "mark": 1,
           "remainingOverageTime": 60,
           "step": 27
          },
          "reward": 0,
          "status": "INACTIVE"
         },
         {
          "action": 0,
          "info": {},
          "observation": {
           "mark": 2,
           "remainingOverageTime": 58.68326
          },
          "reward": 0,
          "status": "ACTIVE"
         }
        ],
        [
         {
          "action": 0,
          "info": {},
          "observation": {
           "board": [
            1,
            0,
            0,
            0,
            1,
            0,
            0,
            1,
            2,
            0,
            0,
            1,
            0,
            2,
            2,
            1,
            0,
            0,
            1,
            0,
            1,
            1,
            1,
            0,
            0,
            2,
            0,
            2,
            2,
            2,
            2,
            1,
            2,
            2,
            2,
            1,
            1,
            2,
            2,
            1,
            1,
            2
           ],
           "mark": 1,
           "remainingOverageTime": 60,
           "step": 28
          },
          "reward": 0,
          "status": "ACTIVE"
         },
         {
          "action": 2,
          "info": {},
          "observation": {
           "mark": 2,
           "remainingOverageTime": 58.68326
          },
          "reward": 0,
          "status": "INACTIVE"
         }
        ],
        [
         {
          "action": 2,
          "info": {},
          "observation": {
           "board": [
            1,
            0,
            0,
            0,
            1,
            0,
            0,
            1,
            2,
            0,
            0,
            1,
            0,
            2,
            2,
            1,
            0,
            0,
            1,
            0,
            1,
            1,
            1,
            1,
            0,
            2,
            0,
            2,
            2,
            2,
            2,
            1,
            2,
            2,
            2,
            1,
            1,
            2,
            2,
            1,
            1,
            2
           ],
           "mark": 1,
           "remainingOverageTime": 60,
           "step": 29
          },
          "reward": 1,
          "status": "DONE"
         },
         {
          "action": 0,
          "info": {},
          "observation": {
           "mark": 2,
           "remainingOverageTime": 58.68326
          },
          "reward": -1,
          "status": "DONE"
         }
        ]
       ],
       "title": "ConnectX",
       "version": "1.0.1"
      },
      "text/plain": [
       "<IPython.core.display.JSON object>"
      ]
     },
     "execution_count": 7,
     "metadata": {
      "application/json": {
       "expanded": false,
       "root": "root"
      }
     },
     "output_type": "execute_result"
    }
   ],
   "source": [
    "payload = json.loads(requests.get(f'https://www.kaggleusercontent.com/episodes/{starting_point}.json').text)\n",
    "JSON(payload)"
   ]
  },
  {
   "cell_type": "code",
   "execution_count": 8,
   "id": "cd3cf12f-9812-4c7d-baf7-544d661efedf",
   "metadata": {},
   "outputs": [
    {
     "name": "stderr",
     "output_type": "stream",
     "text": [
      "  0%|▎                                                                            | 41/10000 [00:21<1:26:18,  1.92it/s]\n",
      "\n",
      "KeyboardInterrupt\n",
      "\n"
     ]
    }
   ],
   "source": [
    "for i in tqdm(range(0, 10000)):\n",
    "    payload = json.loads(requests.get(f'https://www.kaggleusercontent.com/episodes/{starting_point-i}.json').text)\n",
    "    mi.insert_payload(payload)"
   ]
  },
  {
   "cell_type": "code",
   "execution_count": 4,
   "id": "680c3b5d-0030-4e9a-aab0-5fcfd031c13c",
   "metadata": {},
   "outputs": [],
   "source": [
    "#mi.empty_collection()"
   ]
  },
  {
   "cell_type": "code",
   "execution_count": null,
   "id": "457dfb36-008b-48f8-a6bb-50819634b28c",
   "metadata": {},
   "outputs": [],
   "source": []
  },
  {
   "cell_type": "code",
   "execution_count": null,
   "id": "5ce08e89-2e17-47b9-adcc-6ccf938e9143",
   "metadata": {},
   "outputs": [],
   "source": []
  },
  {
   "cell_type": "code",
   "execution_count": 3,
   "id": "a3b66889-5dc2-4a7b-8227-6cc899f695d6",
   "metadata": {},
   "outputs": [
    {
     "data": {
      "text/plain": [
       "ObjectId('63a7a38f7180394434ee8b93')"
      ]
     },
     "execution_count": 3,
     "metadata": {},
     "output_type": "execute_result"
    }
   ],
   "source": [
    "mi.insert_payload(payload)"
   ]
  },
  {
   "cell_type": "code",
   "execution_count": null,
   "id": "5054383f-6853-43c0-904f-5583d4bcdb00",
   "metadata": {},
   "outputs": [],
   "source": []
  },
  {
   "cell_type": "code",
   "execution_count": null,
   "id": "36ddda3b-da08-4355-a8b7-7cc39eccb844",
   "metadata": {},
   "outputs": [],
   "source": []
  }
 ],
 "metadata": {
  "kernelspec": {
   "display_name": "Python 3 (ipykernel)",
   "language": "python",
   "name": "python3"
  },
  "language_info": {
   "codemirror_mode": {
    "name": "ipython",
    "version": 3
   },
   "file_extension": ".py",
   "mimetype": "text/x-python",
   "name": "python",
   "nbconvert_exporter": "python",
   "pygments_lexer": "ipython3",
   "version": "3.11.1"
  }
 },
 "nbformat": 4,
 "nbformat_minor": 5
}
