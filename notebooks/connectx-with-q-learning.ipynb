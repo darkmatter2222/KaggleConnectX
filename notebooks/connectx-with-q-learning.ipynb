{
 "cells": [
  {
   "cell_type": "markdown",
   "metadata": {},
   "source": [
    "# About Q-Learning algorithm\n",
    "> \"Q-learning is a model-free reinforcement learning algorithm. The goal of Q-learning is to learn a policy, which tells an agent what action to take under what circumstances. It does not require a model (hence the connotation \"model-free\") of the environment, and it can handle problems with stochastic transitions and rewards, without requiring adaptations.\"\n",
    "[*wiki*](https://en.wikipedia.org/wiki/Q-learning)"
   ]
  },
  {
   "cell_type": "markdown",
   "metadata": {},
   "source": [
    "<a class=\"anchor\" id=\"ToC\"></a>\n",
    "# Table of Contents\n",
    "1. [Install libraries](#install_libraries)\n",
    "1. [Import libraries](#import_libraries)\n",
    "1. [Define useful classes](#define_useful_classes)\n",
    "1. [Create ConnectX environment](#create_connectx_environment)\n",
    "1. [Configure hyper-parameters](#configure_hyper_parameters)\n",
    "1. [Train the agent](#train_the_agent)\n",
    "1. [Create an agent](#create_an_agent)\n",
    "1. [Evaluate the agent](#evaluate_the_agent)"
   ]
  },
  {
   "cell_type": "markdown",
   "metadata": {},
   "source": [
    "<a class=\"anchor\" id=\"install_libraries\"></a>\n",
    "# Install libraries\n",
    "[Back to Table of Contents](#ToC)"
   ]
  },
  {
   "cell_type": "code",
   "execution_count": 1,
   "metadata": {},
   "outputs": [
    {
     "name": "stderr",
     "output_type": "stream",
     "text": [
      "The system cannot find the path specified.\n"
     ]
    }
   ],
   "source": [
    "!pip install 'kaggle-environments==0.1.6' > /dev/null 2>&1"
   ]
  },
  {
   "cell_type": "markdown",
   "metadata": {},
   "source": [
    "<a class=\"anchor\" id=\"import_libraries\"></a>\n",
    "# Import libraries\n",
    "[Back to Table of Contents](#ToC)"
   ]
  },
  {
   "cell_type": "code",
   "execution_count": 1,
   "metadata": {
    "_cell_guid": "b1076dfc-b9ad-4769-8c92-a6c4dae69d19",
    "_uuid": "8f2839f25d086af736a60e9eeb907d3b93b6e0e5"
   },
   "outputs": [
    {
     "name": "stdout",
     "output_type": "stream",
     "text": [
      "Loading environment lux_ai_2022 failed: No module named 'vec_noise'\n"
     ]
    }
   ],
   "source": [
    "import numpy as np\n",
    "import gym\n",
    "import random\n",
    "import matplotlib.pyplot as plt\n",
    "from random import choice\n",
    "from tqdm import tqdm\n",
    "from kaggle_environments import evaluate, make\n",
    "import threading\n",
    "from multiprocessing import Process\n",
    "import multiprocessing as mp\n",
    "from os.path import exists\n",
    "import json\n",
    "\n",
    "import time\n",
    "import datetime as dt"
   ]
  },
  {
   "cell_type": "markdown",
   "metadata": {},
   "source": [
    "<a class=\"anchor\" id=\"define_useful_classes\"></a>\n",
    "# Define useful classes\n",
    "NOTE: It's not easy to generate a Q-Table with all possible states; and even if I can do so, the huge number of states will cost much of memory. So, I use the approach that dynamically adding newly discovered states into an object of QTable class created below.\n",
    "\n",
    "[Back to Table of Contents](#ToC)"
   ]
  },
  {
   "cell_type": "code",
   "execution_count": 2,
   "metadata": {
    "_cell_guid": "79c7e3d0-c299-4dcb-8224-4455121ee9b0",
    "_uuid": "d629ff2d2480ee46fbb7e2d37f6b5fab8052498a"
   },
   "outputs": [],
   "source": [
    "class ConnectX(gym.Env):\n",
    "    def __init__(self, switch_prob=0.5):\n",
    "        self.env = make('connectx', debug=True)\n",
    "        self.pair = [None, 'negamax']\n",
    "        self.trainer = self.env.train(self.pair)\n",
    "        self.switch_prob = switch_prob\n",
    "        \n",
    "        # Define required gym fields (examples):\n",
    "        config = self.env.configuration\n",
    "        self.action_space = gym.spaces.Discrete(config.columns)\n",
    "        self.observation_space = gym.spaces.Discrete(config.columns * config.rows)\n",
    "\n",
    "    def switch_trainer(self):\n",
    "        self.pair = self.pair[::-1]\n",
    "        self.trainer = self.env.train(self.pair)\n",
    "\n",
    "    def step(self, action):\n",
    "        return self.trainer.step(action)\n",
    "    \n",
    "    def reset(self):\n",
    "        if random.uniform(0, 1) < self.switch_prob:\n",
    "            self.switch_trainer()\n",
    "        return self.trainer.reset()\n",
    "    \n",
    "    def render(self, **kwargs):\n",
    "        return self.env.render(**kwargs)\n",
    "\n",
    "    \n",
    "class QTable:\n",
    "    def __init__(self, action_space):\n",
    "        self.file = 'qtable.json'\n",
    "        self.load_table()\n",
    "        self.action_space = action_space\n",
    "        \n",
    "    def add_item(self, state_key):\n",
    "        self.table[state_key] = list(np.zeros(self.action_space.n))\n",
    "        \n",
    "    def __call__(self, state):\n",
    "        board = state['board'][:] # Get a copy\n",
    "        board.append(state.mark)\n",
    "        state_key = np.array(board).astype(str)\n",
    "        state_key = hex(int(''.join(state_key), 3))[2:]\n",
    "        if state_key not in self.table.keys():\n",
    "            self.add_item(state_key)\n",
    "        \n",
    "        return self.table[state_key]\n",
    "    \n",
    "    def load_table(self, ):\n",
    "        if exists(self.file):\n",
    "            f = open(self.file)\n",
    "            self.table = json.loads(f.read())\n",
    "            f.close()\n",
    "        else:\n",
    "            self.table = dict()\n",
    "\n",
    "    def save_qtable(self,):\n",
    "        f = open(self.file,\"w\")\n",
    "        document = json.dumps(self.table)\n",
    "        f.write(document)\n",
    "        f.close()   "
   ]
  },
  {
   "cell_type": "markdown",
   "metadata": {},
   "source": [
    "<a class=\"anchor\" id=\"create_connectx_environment\"></a>\n",
    "# Create ConnectX environment\n",
    "[Back to Table of Contents](#ToC)"
   ]
  },
  {
   "cell_type": "code",
   "execution_count": 3,
   "metadata": {},
   "outputs": [],
   "source": [
    "env = ConnectX()"
   ]
  },
  {
   "cell_type": "code",
   "execution_count": 4,
   "metadata": {},
   "outputs": [
    {
     "data": {
      "text/plain": [
       "{'env': <kaggle_environments.core.Environment at 0x175bc41b3a0>,\n",
       " 'pair': [None, 'negamax'],\n",
       " 'trainer': {'step': <function kaggle_environments.core.Environment.train.<locals>.step(action)>,\n",
       "  'reset': <function kaggle_environments.core.Environment.train.<locals>.reset()>},\n",
       " 'switch_prob': 0.5,\n",
       " 'action_space': Discrete(7),\n",
       " 'observation_space': Discrete(42)}"
      ]
     },
     "execution_count": 4,
     "metadata": {},
     "output_type": "execute_result"
    }
   ],
   "source": [
    "env.__dict__"
   ]
  },
  {
   "cell_type": "code",
   "execution_count": 5,
   "metadata": {},
   "outputs": [],
   "source": [
    "env.env.debug=False"
   ]
  },
  {
   "cell_type": "code",
   "execution_count": 6,
   "metadata": {},
   "outputs": [
    {
     "data": {
      "text/plain": [
       "False"
      ]
     },
     "execution_count": 6,
     "metadata": {},
     "output_type": "execute_result"
    }
   ],
   "source": [
    "env.env.debug"
   ]
  },
  {
   "cell_type": "markdown",
   "metadata": {},
   "source": [
    "<a class=\"anchor\" id=\"configure_hyper_parameters\"></a>\n",
    "# Configure hyper-parameters\n",
    "[Back to Table of Contents](#ToC)"
   ]
  },
  {
   "cell_type": "code",
   "execution_count": 7,
   "metadata": {},
   "outputs": [],
   "source": [
    "alpha = 0.1\n",
    "gamma = 0.6\n",
    "epsilon = 0.99\n",
    "min_epsilon = 0.3\n",
    "\n",
    "episodes = 100000\n",
    "\n",
    "alpha_decay_step = 10000\n",
    "alpha_decay_rate = 0.99\n",
    "epsilon_decay_rate = 0.99999"
   ]
  },
  {
   "cell_type": "markdown",
   "metadata": {},
   "source": [
    "<a class=\"anchor\" id=\"train_the_agent\"></a>\n",
    "# Train the agent\n",
    "[Back to Table of Contents](#ToC)"
   ]
  },
  {
   "cell_type": "code",
   "execution_count": 8,
   "metadata": {},
   "outputs": [],
   "source": [
    "q_table = QTable(env.action_space)"
   ]
  },
  {
   "cell_type": "code",
   "execution_count": 9,
   "metadata": {},
   "outputs": [
    {
     "data": {
      "text/plain": [
       "990"
      ]
     },
     "execution_count": 9,
     "metadata": {},
     "output_type": "execute_result"
    }
   ],
   "source": [
    "len(q_table.table)"
   ]
  },
  {
   "cell_type": "code",
   "execution_count": 14,
   "metadata": {},
   "outputs": [],
   "source": [
    "all_epochs = []\n",
    "all_total_rewards = []\n",
    "all_avg_rewards = [] # Last 100 steps\n",
    "all_qtable_rows = []\n",
    "all_epsilons = []\n",
    "def trainer(alpha, gamma, epsilon, min_epsilon, episodes, alpha_decay_step, alpha_decay_rate, epsilon_decay_rate):\n",
    "    env = ConnectX()\n",
    "    for i in tqdm(range(episodes)):\n",
    "        if i / 100 == 0:\n",
    "            q_table.save_qtable()\n",
    "        state = env.reset()\n",
    "\n",
    "        epsilon = max(min_epsilon, epsilon * epsilon_decay_rate)\n",
    "        epochs, total_rewards = 0, 0\n",
    "        done = False\n",
    "\n",
    "        while not done:\n",
    "            if random.uniform(0, 1) < epsilon:\n",
    "                action = choice([c for c in range(env.action_space.n) if state['board'][c] == 0])\n",
    "            else:\n",
    "                row = q_table(state)[:]\n",
    "                selected_items = []\n",
    "                for j in range(env.action_space.n):\n",
    "                    if state['board'][j] == 0:\n",
    "                        selected_items.append(row[j])\n",
    "                    else:\n",
    "                        selected_items.append(-1e7)\n",
    "                action = int(np.argmax(selected_items))\n",
    "\n",
    "            next_state, reward, done, info = env.step(action)\n",
    "\n",
    "            # Apply new rules\n",
    "            if done:\n",
    "                if reward == 1: # Won\n",
    "                    reward = 20\n",
    "                elif reward == 0: # Lost\n",
    "                    reward = -20\n",
    "                else: # Draw\n",
    "                    reward = 10\n",
    "            else:\n",
    "                reward = -0.05 # Try to prevent the agent from taking a long move\n",
    "\n",
    "            old_value = q_table(state)[action]\n",
    "            next_max = np.max(q_table(next_state))\n",
    "\n",
    "            # Update Q-value\n",
    "            new_value = (1 - alpha) * old_value + alpha * (reward + gamma * next_max)\n",
    "            q_table(state)[action] = new_value\n",
    "\n",
    "            state = next_state\n",
    "            epochs += 1\n",
    "            total_rewards += reward\n",
    "\n",
    "\n",
    "        all_epochs.append(epochs)\n",
    "        all_total_rewards.append(total_rewards)\n",
    "        avg_rewards = np.mean(all_total_rewards[max(0, i-100):(i+1)])\n",
    "        all_avg_rewards.append(avg_rewards)\n",
    "        all_qtable_rows.append(len(q_table.table))\n",
    "        all_epsilons.append(epsilon)\n",
    "\n",
    "        if (i+1) % alpha_decay_step == 0:\n",
    "            alpha *= alpha_decay_rate"
   ]
  },
  {
   "cell_type": "code",
   "execution_count": null,
   "metadata": {
    "tags": []
   },
   "outputs": [
    {
     "name": "stderr",
     "output_type": "stream",
     "text": [
      "  1%|▋                                                                         | 922/100000 [07:52<14:42:40,  1.87it/s]"
     ]
    }
   ],
   "source": [
    "trainer(alpha, gamma, epsilon, min_epsilon, episodes, alpha_decay_step, alpha_decay_rate, epsilon_decay_rate)"
   ]
  },
  {
   "cell_type": "code",
   "execution_count": 15,
   "metadata": {},
   "outputs": [
    {
     "data": {
      "text/plain": [
       "990"
      ]
     },
     "execution_count": 15,
     "metadata": {},
     "output_type": "execute_result"
    }
   ],
   "source": [
    "len(q_table.table)"
   ]
  },
  {
   "cell_type": "code",
   "execution_count": 41,
   "metadata": {},
   "outputs": [],
   "source": []
  },
  {
   "cell_type": "code",
   "execution_count": null,
   "metadata": {},
   "outputs": [],
   "source": []
  },
  {
   "cell_type": "code",
   "execution_count": 23,
   "metadata": {
    "_kg_hide-input": true
   },
   "outputs": [],
   "source": [
    "# for k in q_table.table.keys():\n",
    "#     print('State:', k)\n",
    "#     print('Action-Value:', list(q_table.table[k]), '\\n')"
   ]
  },
  {
   "cell_type": "code",
   "execution_count": 19,
   "metadata": {
    "_kg_hide-input": true
   },
   "outputs": [],
   "source": [
    "# plt.plot(all_epochs)\n",
    "# plt.xlabel('Episode')\n",
    "# plt.ylabel('Num of steps')\n",
    "# plt.show()"
   ]
  },
  {
   "cell_type": "code",
   "execution_count": 20,
   "metadata": {
    "_kg_hide-input": true
   },
   "outputs": [],
   "source": [
    "# plt.plot(all_total_rewards)\n",
    "# plt.xlabel('Episode')\n",
    "# plt.ylabel('Total rewards')\n",
    "# plt.show()"
   ]
  },
  {
   "cell_type": "code",
   "execution_count": 16,
   "metadata": {},
   "outputs": [
    {
     "data": {
      "image/png": "[encoded data removed]",
      "text/plain": [
       "<Figure size 640x480 with 1 Axes>"
      ]
     },
     "metadata": {},
     "output_type": "display_data"
    }
   ],
   "source": [
    "plt.plot(all_avg_rewards)\n",
    "plt.xlabel('Episode')\n",
    "plt.ylabel('Avg rewards (100)')\n",
    "plt.show()"
   ]
  },
  {
   "cell_type": "code",
   "execution_count": 17,
   "metadata": {},
   "outputs": [
    {
     "data": {
      "image/png": "[encoded data removed]",
      "text/plain": [
       "<Figure size 640x480 with 1 Axes>"
      ]
     },
     "metadata": {},
     "output_type": "display_data"
    }
   ],
   "source": [
    "plt.plot(all_qtable_rows)\n",
    "plt.xlabel('Episode')\n",
    "plt.ylabel('Explored states')\n",
    "plt.show()"
   ]
  },
  {
   "cell_type": "code",
   "execution_count": 18,
   "metadata": {},
   "outputs": [
    {
     "data": {
      "image/png": "[encoded data removed]",
      "text/plain": [
       "<Figure size 640x480 with 1 Axes>"
      ]
     },
     "metadata": {},
     "output_type": "display_data"
    }
   ],
   "source": [
    "plt.plot(all_epsilons)\n",
    "plt.xlabel('Episode')\n",
    "plt.ylabel('Epsilon')\n",
    "plt.show()"
   ]
  },
  {
   "cell_type": "markdown",
   "metadata": {},
   "source": [
    "<a class=\"anchor\" id=\"create_an_agent\"></a>\n",
    "# Create an Agent\n",
    "[Back to Table of Contents](#ToC)"
   ]
  },
  {
   "cell_type": "code",
   "execution_count": 24,
   "metadata": {},
   "outputs": [],
   "source": [
    "tmp_dict_q_table = q_table.table.copy()\n",
    "dict_q_table = dict()\n",
    "\n",
    "for k in tmp_dict_q_table:\n",
    "    if np.count_nonzero(tmp_dict_q_table[k]) > 0:\n",
    "        dict_q_table[k] = int(np.argmax(tmp_dict_q_table[k]))"
   ]
  },
  {
   "cell_type": "code",
   "execution_count": 25,
   "metadata": {},
   "outputs": [],
   "source": [
    "my_agent = '''def my_agent(observation, configuration):\n",
    "    from random import choice\n",
    "\n",
    "    q_table = ''' \\\n",
    "    + str(dict_q_table).replace(' ', '') \\\n",
    "    + '''\n",
    "\n",
    "    board = observation.board[:]\n",
    "    board.append(observation.mark)\n",
    "    state_key = list(map(str, board))\n",
    "    state_key = hex(int(''.join(state_key), 3))[2:]\n",
    "\n",
    "    if state_key not in q_table.keys():\n",
    "        return choice([c for c in range(configuration.columns) if observation.board[c] == 0])\n",
    "\n",
    "    action = q_table[state_key]\n",
    "\n",
    "    if observation.board[action] != 0:\n",
    "        return choice([c for c in range(configuration.columns) if observation.board[c] == 0])\n",
    "\n",
    "    return action\n",
    "    '''"
   ]
  },
  {
   "cell_type": "code",
   "execution_count": 26,
   "metadata": {},
   "outputs": [],
   "source": [
    "with open('submission.py', 'w') as f:\n",
    "    f.write(my_agent)"
   ]
  },
  {
   "cell_type": "markdown",
   "metadata": {},
   "source": [
    "<a class=\"anchor\" id=\"evaluate_the_agent\"></a>\n",
    "# Evaluate the agent\n",
    "[Back to Table of Contents](#ToC)"
   ]
  },
  {
   "cell_type": "code",
   "execution_count": 28,
   "metadata": {},
   "outputs": [],
   "source": [
    "from submission import my_agent"
   ]
  },
  {
   "cell_type": "code",
   "execution_count": 29,
   "metadata": {},
   "outputs": [
    {
     "ename": "ZeroDivisionError",
     "evalue": "division by zero",
     "output_type": "error",
     "traceback": [
      "\u001b[1;31m---------------------------------------------------------------------------\u001b[0m",
      "\u001b[1;31mZeroDivisionError\u001b[0m                         Traceback (most recent call last)",
      "Cell \u001b[1;32mIn[29], line 5\u001b[0m\n\u001b[0;32m      2\u001b[0m     \u001b[38;5;28;01mreturn\u001b[39;00m \u001b[38;5;28msum\u001b[39m(r[\u001b[38;5;241m0\u001b[39m] \u001b[38;5;28;01mfor\u001b[39;00m r \u001b[38;5;129;01min\u001b[39;00m rewards) \u001b[38;5;241m/\u001b[39m \u001b[38;5;28msum\u001b[39m(r[\u001b[38;5;241m0\u001b[39m] \u001b[38;5;241m+\u001b[39m r[\u001b[38;5;241m1\u001b[39m] \u001b[38;5;28;01mfor\u001b[39;00m r \u001b[38;5;129;01min\u001b[39;00m rewards)\n\u001b[0;32m      4\u001b[0m \u001b[38;5;66;03m# Run multiple episodes to estimate agent's performance.\u001b[39;00m\n\u001b[1;32m----> 5\u001b[0m \u001b[38;5;28mprint\u001b[39m(\u001b[38;5;124m\"\u001b[39m\u001b[38;5;124mMy Agent vs Random Agent:\u001b[39m\u001b[38;5;124m\"\u001b[39m, \u001b[43mmean_reward\u001b[49m\u001b[43m(\u001b[49m\u001b[43mevaluate\u001b[49m\u001b[43m(\u001b[49m\u001b[38;5;124;43m\"\u001b[39;49m\u001b[38;5;124;43mconnectx\u001b[39;49m\u001b[38;5;124;43m\"\u001b[39;49m\u001b[43m,\u001b[49m\u001b[43m \u001b[49m\u001b[43m[\u001b[49m\u001b[43mmy_agent\u001b[49m\u001b[43m,\u001b[49m\u001b[43m \u001b[49m\u001b[38;5;124;43m\"\u001b[39;49m\u001b[38;5;124;43mrandom\u001b[39;49m\u001b[38;5;124;43m\"\u001b[39;49m\u001b[43m]\u001b[49m\u001b[43m,\u001b[49m\u001b[43m \u001b[49m\u001b[43mnum_episodes\u001b[49m\u001b[38;5;241;43m=\u001b[39;49m\u001b[38;5;241;43m10\u001b[39;49m\u001b[43m)\u001b[49m\u001b[43m)\u001b[49m)\n\u001b[0;32m      6\u001b[0m \u001b[38;5;28mprint\u001b[39m(\u001b[38;5;124m\"\u001b[39m\u001b[38;5;124mMy Agent vs Negamax Agent:\u001b[39m\u001b[38;5;124m\"\u001b[39m, mean_reward(evaluate(\u001b[38;5;124m\"\u001b[39m\u001b[38;5;124mconnectx\u001b[39m\u001b[38;5;124m\"\u001b[39m, [my_agent, \u001b[38;5;124m\"\u001b[39m\u001b[38;5;124mnegamax\u001b[39m\u001b[38;5;124m\"\u001b[39m], num_episodes\u001b[38;5;241m=\u001b[39m\u001b[38;5;241m10\u001b[39m)))\n",
      "Cell \u001b[1;32mIn[29], line 2\u001b[0m, in \u001b[0;36mmean_reward\u001b[1;34m(rewards)\u001b[0m\n\u001b[0;32m      1\u001b[0m \u001b[38;5;28;01mdef\u001b[39;00m \u001b[38;5;21mmean_reward\u001b[39m(rewards):\n\u001b[1;32m----> 2\u001b[0m     \u001b[38;5;28;01mreturn\u001b[39;00m \u001b[38;5;28;43msum\u001b[39;49m\u001b[43m(\u001b[49m\u001b[43mr\u001b[49m\u001b[43m[\u001b[49m\u001b[38;5;241;43m0\u001b[39;49m\u001b[43m]\u001b[49m\u001b[43m \u001b[49m\u001b[38;5;28;43;01mfor\u001b[39;49;00m\u001b[43m \u001b[49m\u001b[43mr\u001b[49m\u001b[43m \u001b[49m\u001b[38;5;129;43;01min\u001b[39;49;00m\u001b[43m \u001b[49m\u001b[43mrewards\u001b[49m\u001b[43m)\u001b[49m\u001b[43m \u001b[49m\u001b[38;5;241;43m/\u001b[39;49m\u001b[43m \u001b[49m\u001b[38;5;28;43msum\u001b[39;49m\u001b[43m(\u001b[49m\u001b[43mr\u001b[49m\u001b[43m[\u001b[49m\u001b[38;5;241;43m0\u001b[39;49m\u001b[43m]\u001b[49m\u001b[43m \u001b[49m\u001b[38;5;241;43m+\u001b[39;49m\u001b[43m \u001b[49m\u001b[43mr\u001b[49m\u001b[43m[\u001b[49m\u001b[38;5;241;43m1\u001b[39;49m\u001b[43m]\u001b[49m\u001b[43m \u001b[49m\u001b[38;5;28;43;01mfor\u001b[39;49;00m\u001b[43m \u001b[49m\u001b[43mr\u001b[49m\u001b[43m \u001b[49m\u001b[38;5;129;43;01min\u001b[39;49;00m\u001b[43m \u001b[49m\u001b[43mrewards\u001b[49m\u001b[43m)\u001b[49m\n",
      "\u001b[1;31mZeroDivisionError\u001b[0m: division by zero"
     ]
    }
   ],
   "source": [
    "def mean_reward(rewards):\n",
    "    return sum(r[0] for r in rewards) / sum(r[0] + r[1] for r in rewards)\n",
    "\n",
    "# Run multiple episodes to estimate agent's performance.\n",
    "print(\"My Agent vs Random Agent:\", mean_reward(evaluate(\"connectx\", [my_agent, \"random\"], num_episodes=10)))\n",
    "print(\"My Agent vs Negamax Agent:\", mean_reward(evaluate(\"connectx\", [my_agent, \"negamax\"], num_episodes=10)))"
   ]
  },
  {
   "cell_type": "code",
   "execution_count": null,
   "metadata": {},
   "outputs": [],
   "source": []
  }
 ],
 "metadata": {
  "kernelspec": {
   "display_name": "Python 3 (ipykernel)",
   "language": "python",
   "name": "python3"
  },
  "language_info": {
   "codemirror_mode": {
    "name": "ipython",
    "version": 3
   },
   "file_extension": ".py",
   "mimetype": "text/x-python",
   "name": "python",
   "nbconvert_exporter": "python",
   "pygments_lexer": "ipython3",
   "version": "3.10.9"
  },
  "widgets": {
   "application/vnd.jupyter.widget-state+json": {
    "state": {
     "0f0f043967bb40b3a5d848c028977045": {
      "model_module": "@jupyter-widgets/controls",
      "model_module_version": "1.5.0",
      "model_name": "HBoxModel",
      "state": {
       "_dom_classes": [],
       "_model_module": "@jupyter-widgets/controls",
       "_model_module_version": "1.5.0",
       "_model_name": "HBoxModel",
       "_view_count": null,
       "_view_module": "@jupyter-widgets/controls",
       "_view_module_version": "1.5.0",
       "_view_name": "HBoxView",
       "box_style": "",
       "children": [
        "IPY_MODEL_8a9bbbc8298f40268e68c686065466a4",
        "IPY_MODEL_c23bcea5b79c450e9233e1607e882a7a"
       ],
       "layout": "IPY_MODEL_baea61270cdd4495a2a82a9e6ef25673"
      }
     },
     "38b8aa2352b14877a540222285da0e94": {
      "model_module": "@jupyter-widgets/controls",
      "model_module_version": "1.5.0",
      "model_name": "ProgressStyleModel",
      "state": {
       "_model_module": "@jupyter-widgets/controls",
       "_model_module_version": "1.5.0",
       "_model_name": "ProgressStyleModel",
       "_view_count": null,
       "_view_module": "@jupyter-widgets/base",
       "_view_module_version": "1.2.0",
       "_view_name": "StyleView",
       "bar_color": null,
       "description_width": "initial"
      }
     },
     "789876113059481baf597e3d96fd47a8": {
      "model_module": "@jupyter-widgets/base",
      "model_module_version": "1.2.0",
      "model_name": "LayoutModel",
      "state": {
       "_model_module": "@jupyter-widgets/base",
       "_model_module_version": "1.2.0",
       "_model_name": "LayoutModel",
       "_view_count": null,
       "_view_module": "@jupyter-widgets/base",
       "_view_module_version": "1.2.0",
       "_view_name": "LayoutView",
       "align_content": null,
       "align_items": null,
       "align_self": null,
       "border": null,
       "bottom": null,
       "display": null,
       "flex": null,
       "flex_flow": null,
       "grid_area": null,
       "grid_auto_columns": null,
       "grid_auto_flow": null,
       "grid_auto_rows": null,
       "grid_column": null,
       "grid_gap": null,
       "grid_row": null,
       "grid_template_areas": null,
       "grid_template_columns": null,
       "grid_template_rows": null,
       "height": null,
       "justify_content": null,
       "justify_items": null,
       "left": null,
       "margin": null,
       "max_height": null,
       "max_width": null,
       "min_height": null,
       "min_width": null,
       "object_fit": null,
       "object_position": null,
       "order": null,
       "overflow": null,
       "overflow_x": null,
       "overflow_y": null,
       "padding": null,
       "right": null,
       "top": null,
       "visibility": null,
       "width": null
      }
     },
     "7dcf549cac8442dea877f5cf32716b55": {
      "model_module": "@jupyter-widgets/controls",
      "model_module_version": "1.5.0",
      "model_name": "DescriptionStyleModel",
      "state": {
       "_model_module": "@jupyter-widgets/controls",
       "_model_module_version": "1.5.0",
       "_model_name": "DescriptionStyleModel",
       "_view_count": null,
       "_view_module": "@jupyter-widgets/base",
       "_view_module_version": "1.2.0",
       "_view_name": "StyleView",
       "description_width": ""
      }
     },
     "8a9bbbc8298f40268e68c686065466a4": {
      "model_module": "@jupyter-widgets/controls",
      "model_module_version": "1.5.0",
      "model_name": "IntProgressModel",
      "state": {
       "_dom_classes": [],
       "_model_module": "@jupyter-widgets/controls",
       "_model_module_version": "1.5.0",
       "_model_name": "IntProgressModel",
       "_view_count": null,
       "_view_module": "@jupyter-widgets/controls",
       "_view_module_version": "1.5.0",
       "_view_name": "ProgressView",
       "bar_style": "success",
       "description": "100%",
       "description_tooltip": null,
       "layout": "IPY_MODEL_789876113059481baf597e3d96fd47a8",
       "max": 10000,
       "min": 0,
       "orientation": "horizontal",
       "style": "IPY_MODEL_38b8aa2352b14877a540222285da0e94",
       "value": 10000
      }
     },
     "baea61270cdd4495a2a82a9e6ef25673": {
      "model_module": "@jupyter-widgets/base",
      "model_module_version": "1.2.0",
      "model_name": "LayoutModel",
      "state": {
       "_model_module": "@jupyter-widgets/base",
       "_model_module_version": "1.2.0",
       "_model_name": "LayoutModel",
       "_view_count": null,
       "_view_module": "@jupyter-widgets/base",
       "_view_module_version": "1.2.0",
       "_view_name": "LayoutView",
       "align_content": null,
       "align_items": null,
       "align_self": null,
       "border": null,
       "bottom": null,
       "display": null,
       "flex": null,
       "flex_flow": null,
       "grid_area": null,
       "grid_auto_columns": null,
       "grid_auto_flow": null,
       "grid_auto_rows": null,
       "grid_column": null,
       "grid_gap": null,
       "grid_row": null,
       "grid_template_areas": null,
       "grid_template_columns": null,
       "grid_template_rows": null,
       "height": null,
       "justify_content": null,
       "justify_items": null,
       "left": null,
       "margin": null,
       "max_height": null,
       "max_width": null,
       "min_height": null,
       "min_width": null,
       "object_fit": null,
       "object_position": null,
       "order": null,
       "overflow": null,
       "overflow_x": null,
       "overflow_y": null,
       "padding": null,
       "right": null,
       "top": null,
       "visibility": null,
       "width": null
      }
     },
     "c23bcea5b79c450e9233e1607e882a7a": {
      "model_module": "@jupyter-widgets/controls",
      "model_module_version": "1.5.0",
      "model_name": "HTMLModel",
      "state": {
       "_dom_classes": [],
       "_model_module": "@jupyter-widgets/controls",
       "_model_module_version": "1.5.0",
       "_model_name": "HTMLModel",
       "_view_count": null,
       "_view_module": "@jupyter-widgets/controls",
       "_view_module_version": "1.5.0",
       "_view_name": "HTMLView",
       "description": "",
       "description_tooltip": null,
       "layout": "IPY_MODEL_c6eac9c61e5946d8a46356dd1e678932",
       "placeholder": "​",
       "style": "IPY_MODEL_7dcf549cac8442dea877f5cf32716b55",
       "value": " 10000/10000 [5:01:19&lt;00:00,  1.81s/it]"
      }
     },
     "c6eac9c61e5946d8a46356dd1e678932": {
      "model_module": "@jupyter-widgets/base",
      "model_module_version": "1.2.0",
      "model_name": "LayoutModel",
      "state": {
       "_model_module": "@jupyter-widgets/base",
       "_model_module_version": "1.2.0",
       "_model_name": "LayoutModel",
       "_view_count": null,
       "_view_module": "@jupyter-widgets/base",
       "_view_module_version": "1.2.0",
       "_view_name": "LayoutView",
       "align_content": null,
       "align_items": null,
       "align_self": null,
       "border": null,
       "bottom": null,
       "display": null,
       "flex": null,
       "flex_flow": null,
       "grid_area": null,
       "grid_auto_columns": null,
       "grid_auto_flow": null,
       "grid_auto_rows": null,
       "grid_column": null,
       "grid_gap": null,
       "grid_row": null,
       "grid_template_areas": null,
       "grid_template_columns": null,
       "grid_template_rows": null,
       "height": null,
       "justify_content": null,
       "justify_items": null,
       "left": null,
       "margin": null,
       "max_height": null,
       "max_width": null,
       "min_height": null,
       "min_width": null,
       "object_fit": null,
       "object_position": null,
       "order": null,
       "overflow": null,
       "overflow_x": null,
       "overflow_y": null,
       "padding": null,
       "right": null,
       "top": null,
       "visibility": null,
       "width": null
      }
     }
    },
    "version_major": 2,
    "version_minor": 0
   }
  }
 },
 "nbformat": 4,
 "nbformat_minor": 4
}
