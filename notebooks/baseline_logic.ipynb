{
 "cells": [
  {
   "cell_type": "code",
   "execution_count": 1,
   "id": "2500d3ce-1905-4846-9383-13fc2a87e75f",
   "metadata": {},
   "outputs": [],
   "source": [
    "import pandas as pd\n",
    "import numpy as np\n",
    "import random\n",
    "from tqdm import tqdm\n",
    "from scipy.signal import convolve2d"
   ]
  },
  {
   "cell_type": "code",
   "execution_count": 2,
   "id": "d66d25cc-fcaf-4a54-81d5-000802630add",
   "metadata": {},
   "outputs": [],
   "source": [
    "horizontal_kernel = np.array([[ 1, 1, 1, 1]])\n",
    "vertical_kernel = np.transpose(horizontal_kernel)\n",
    "diag1_kernel = np.eye(4, dtype=np.uint8)\n",
    "diag2_kernel = np.fliplr(diag1_kernel)\n",
    "detection_kernels = [horizontal_kernel, vertical_kernel, diag1_kernel, diag2_kernel]"
   ]
  },
  {
   "cell_type": "code",
   "execution_count": 3,
   "id": "411a589e-c85c-421a-9184-46fb027a3953",
   "metadata": {},
   "outputs": [],
   "source": [
    "board = np.array([\n",
    "    [0,0,1,0],\n",
    "    [0,2,1,0],\n",
    "    [0,2,1,0],\n",
    "    [0,2,1,0],\n",
    "])"
   ]
  },
  {
   "cell_type": "code",
   "execution_count": 4,
   "id": "0014c3aa-f6ee-4e48-bef7-07e47ce8190e",
   "metadata": {},
   "outputs": [],
   "source": [
    "def winning_move(board, player):\n",
    "    for kernel in detection_kernels:\n",
    "        if (convolve2d(board == player, kernel, mode=\"valid\") == 4).any():\n",
    "            return True\n",
    "    return False"
   ]
  },
  {
   "cell_type": "code",
   "execution_count": 5,
   "id": "2c8c61e1-d6e9-44c3-9e95-2e96bc3f63fb",
   "metadata": {},
   "outputs": [
    {
     "data": {
      "text/plain": [
       "False"
      ]
     },
     "execution_count": 5,
     "metadata": {},
     "output_type": "execute_result"
    }
   ],
   "source": [
    "winning_move(board, 2)"
   ]
  },
  {
   "cell_type": "markdown",
   "id": "85438a70-7f2a-4ce1-b2bc-ebcd2c964383",
   "metadata": {},
   "source": [
    "# Balanced Random"
   ]
  },
  {
   "cell_type": "code",
   "execution_count": 6,
   "id": "7b3b66b5-9a8b-4abf-b69c-08e4e8aad6c2",
   "metadata": {
    "jupyter": {
     "source_hidden": true
    },
    "tags": []
   },
   "outputs": [
    {
     "data": {
      "text/plain": [
       "result\n",
       "Human Win    508\n",
       "Robot Win    488\n",
       "Stale          4\n",
       "Name: tick, dtype: int64"
      ]
     },
     "execution_count": 6,
     "metadata": {},
     "output_type": "execute_result"
    }
   ],
   "source": [
    "game_history = []\n",
    "\n",
    "def human_move(board):\n",
    "    human_key = 1\n",
    "    human_targets = np.argwhere(board[:1] == 0)[:,1].tolist()\n",
    "    if len(human_targets) == 0:\n",
    "        #print('no plays left for human')\n",
    "        raise ValueError(\"stale\")\n",
    "    human_col_choice = random.choice(human_targets) # random placement verticaly based on top row\n",
    "    human_row_land = np.argmax(np.argwhere(board[:,human_col_choice] == 0)) # Lowest possible placement possible\n",
    "    board[human_row_land, human_col_choice] = human_key\n",
    "    return board\n",
    "\n",
    "def robot_move(board):\n",
    "    robot_key = 2\n",
    "    robot_targets = np.argwhere(board[:1] == 0)[:,1].tolist()\n",
    "    if len(robot_targets) == 0:\n",
    "        #print('no plays left for robot')\n",
    "        raise ValueError(\"stale\")\n",
    "    robot_col_choice = random.choice(robot_targets) # random placement verticaly based on top row\n",
    "    robot_row_land = np.argmax(np.argwhere(board[:,robot_col_choice] == 0)) # Lowest possible placement possible\n",
    "    board[robot_row_land, robot_col_choice] = robot_key\n",
    "    return board   \n",
    "\n",
    "for i in range(0, 1000):\n",
    "    board = np.array([\n",
    "        [0,0,0,0,0,0,0],\n",
    "        [0,0,0,0,0,0,0],\n",
    "        [0,0,0,0,0,0,0],\n",
    "        [0,0,0,0,0,0,0],\n",
    "        [0,0,0,0,0,0,0],\n",
    "        [0,0,0,0,0,0,0],\n",
    "    ])\n",
    "    players = [1, 2]\n",
    "    first_player = random.choice(players)\n",
    "    while True:\n",
    "        try:\n",
    "            if first_player == 1:\n",
    "                board = human_move(board)\n",
    "                human_win = winning_move(board, 1)\n",
    "                if human_win:\n",
    "                    #print('human win')\n",
    "                    game_history.append('Human Win')\n",
    "                    break\n",
    "\n",
    "                board = robot_move(board)\n",
    "                robot_win = winning_move(board, 2)\n",
    "                if robot_win:\n",
    "                    #print('robot win')\n",
    "                    game_history.append('Robot Win')\n",
    "                    break\n",
    "            elif first_player == 2:\n",
    "                board = robot_move(board)\n",
    "                robot_win = winning_move(board, 2)\n",
    "                if robot_win:\n",
    "                    #print('robot win')\n",
    "                    game_history.append('Robot Win')\n",
    "                    break  \n",
    "\n",
    "                board = human_move(board)\n",
    "                human_win = winning_move(board, 1)\n",
    "                if human_win:\n",
    "                    #print('human win')\n",
    "                    game_history.append('Human Win')\n",
    "                    break\n",
    "        except ValueError as e:\n",
    "            game_history.append('Stale')\n",
    "            break\n",
    "\n",
    "df = pd.DataFrame(data=game_history, columns=['result'])\n",
    "df['tick'] = 1\n",
    "df.groupby('result')['tick'].sum()"
   ]
  },
  {
   "cell_type": "markdown",
   "id": "49f7a9a0-2424-41c2-a709-c21a83dd173a",
   "metadata": {},
   "source": [
    "# Precheck for winning Play"
   ]
  },
  {
   "cell_type": "code",
   "execution_count": 7,
   "id": "b52403e2-5f30-4043-921d-b5677f36503b",
   "metadata": {
    "jupyter": {
     "source_hidden": true
    },
    "tags": []
   },
   "outputs": [
    {
     "data": {
      "text/plain": [
       "result\n",
       "Human Win    769\n",
       "Robot Win    231\n",
       "Name: tick, dtype: int64"
      ]
     },
     "execution_count": 7,
     "metadata": {},
     "output_type": "execute_result"
    }
   ],
   "source": [
    "game_history = []\n",
    "\n",
    "def human_move(board):\n",
    "    human_key = 1\n",
    "    human_targets = np.argwhere(board[:1] == 0)[:,1].tolist()\n",
    "    if len(human_targets) == 0:\n",
    "        #print('no plays left for human')\n",
    "        raise ValueError(\"stale\")\n",
    "\n",
    "    sim_win = False\n",
    "    sim_win_target = 0\n",
    "    for target in human_targets:\n",
    "        board_copy = board.copy()\n",
    "        human_row_land = np.argmax(np.argwhere(board[:,target] == 0)) # Lowest possible placement possible\n",
    "        board_copy[human_row_land, target] = human_key\n",
    "        sim_human_win = winning_move(board_copy, 1)\n",
    "        if sim_human_win:\n",
    "            sim_win = True\n",
    "            sim_win_target = target\n",
    "            break\n",
    "    if sim_win:\n",
    "        human_row_land = np.argmax(np.argwhere(board[:,sim_win_target] == 0)) # Lowest possible placement possible\n",
    "        board[human_row_land, sim_win_target] = human_key\n",
    "    else:\n",
    "        human_col_choice = random.choice(human_targets) # random placement verticaly based on top row\n",
    "        human_row_land = np.argmax(np.argwhere(board[:,human_col_choice] == 0)) # Lowest possible placement possible\n",
    "        board[human_row_land, human_col_choice] = human_key\n",
    "    return board\n",
    "\n",
    "def robot_move(board):\n",
    "    robot_key = 2\n",
    "    robot_targets = np.argwhere(board[:1] == 0)[:,1].tolist()\n",
    "    if len(robot_targets) == 0:\n",
    "        #print('no plays left for robot')\n",
    "        raise ValueError(\"stale\")\n",
    "    robot_col_choice = random.choice(robot_targets) # random placement verticaly based on top row\n",
    "    robot_row_land = np.argmax(np.argwhere(board[:,robot_col_choice] == 0)) # Lowest possible placement possible\n",
    "    board[robot_row_land, robot_col_choice] = robot_key\n",
    "    return board   \n",
    "\n",
    "for i in range(0, 1000):\n",
    "    board = np.array([\n",
    "        [0,0,0,0,0,0,0],\n",
    "        [0,0,0,0,0,0,0],\n",
    "        [0,0,0,0,0,0,0],\n",
    "        [0,0,0,0,0,0,0],\n",
    "        [0,0,0,0,0,0,0],\n",
    "        [0,0,0,0,0,0,0],\n",
    "    ])\n",
    "    players = [1, 2]\n",
    "    first_player = random.choice(players)\n",
    "    while True:\n",
    "        try:\n",
    "            if first_player == 1:\n",
    "                board = human_move(board)\n",
    "                human_win = winning_move(board, 1)\n",
    "                if human_win:\n",
    "                    #print('human win')\n",
    "                    game_history.append('Human Win')\n",
    "                    break\n",
    "\n",
    "                board = robot_move(board)\n",
    "                robot_win = winning_move(board, 2)\n",
    "                if robot_win:\n",
    "                    #print('robot win')\n",
    "                    game_history.append('Robot Win')\n",
    "                    break\n",
    "            elif first_player == 2:\n",
    "                board = robot_move(board)\n",
    "                robot_win = winning_move(board, 2)\n",
    "                if robot_win:\n",
    "                    #print('robot win')\n",
    "                    game_history.append('Robot Win')\n",
    "                    break  \n",
    "\n",
    "                board = human_move(board)\n",
    "                human_win = winning_move(board, 1)\n",
    "                if human_win:\n",
    "                    #print('human win')\n",
    "                    game_history.append('Human Win')\n",
    "                    break\n",
    "        except ValueError as e:\n",
    "            game_history.append('Stale')\n",
    "            break\n",
    "\n",
    "df = pd.DataFrame(data=game_history, columns=['result'])\n",
    "df['tick'] = 1\n",
    "df.groupby('result')['tick'].sum()"
   ]
  },
  {
   "cell_type": "markdown",
   "id": "455429bc-10c2-4ce1-bd35-32d19b2c2d25",
   "metadata": {},
   "source": [
    "# Precheck for Winning and Blocking Play"
   ]
  },
  {
   "cell_type": "code",
   "execution_count": 8,
   "id": "62ad3795-7a7e-4779-b928-509dc2c62503",
   "metadata": {
    "jupyter": {
     "source_hidden": true
    },
    "tags": []
   },
   "outputs": [
    {
     "data": {
      "text/plain": [
       "result\n",
       "Human Win    955\n",
       "Robot Win     43\n",
       "Stale          2\n",
       "Name: tick, dtype: int64"
      ]
     },
     "execution_count": 8,
     "metadata": {},
     "output_type": "execute_result"
    }
   ],
   "source": [
    "game_history = []\n",
    "robot_key = 2\n",
    "human_key = 1\n",
    "\n",
    "def human_move(board):\n",
    "    human_key = 1\n",
    "    human_targets = np.argwhere(board[:1] == 0)[:,1].tolist()\n",
    "    if len(human_targets) == 0:\n",
    "        #print('no plays left for human')\n",
    "        raise ValueError(\"stale\")\n",
    "\n",
    "    sim_win = False\n",
    "    sim_win_target = 0\n",
    "    for target in human_targets:\n",
    "        board_copy = board.copy()\n",
    "        human_row_land = np.argmax(np.argwhere(board[:,target] == 0)) # Lowest possible placement possible\n",
    "        board_copy[human_row_land, target] = human_key\n",
    "        sim_human_win = winning_move(board_copy, 1)\n",
    "        if sim_human_win:\n",
    "            sim_win = True\n",
    "            sim_win_target = target\n",
    "            break\n",
    "    if sim_win:\n",
    "        human_row_land = np.argmax(np.argwhere(board[:,sim_win_target] == 0)) # Lowest possible placement possible\n",
    "        board[human_row_land, sim_win_target] = human_key\n",
    "    else:\n",
    "        \n",
    "        sim_loss = False\n",
    "        sim_loss_target = 0\n",
    "        \n",
    "        enemy_targets = human_targets #renaming for simplicity\n",
    "        \n",
    "        for target in enemy_targets:\n",
    "            board_copy = board.copy()\n",
    "            enemy_row_land = np.argmax(np.argwhere(board[:,target] == 0)) # Lowest possible placement possible\n",
    "            board_copy[enemy_row_land, target] = robot_key\n",
    "            sim_human_loss = winning_move(board_copy, robot_key)\n",
    "            if sim_human_loss:\n",
    "                sim_loss = True\n",
    "                sim_loss_target = target\n",
    "                break\n",
    "        if sim_loss:\n",
    "            human_row_land = np.argmax(np.argwhere(board[:,sim_loss_target] == 0)) # Lowest possible placement possible\n",
    "            board[human_row_land, sim_loss_target] = human_key\n",
    "        else:\n",
    "            human_col_choice = random.choice(human_targets) # random placement verticaly based on top row\n",
    "            human_row_land = np.argmax(np.argwhere(board[:,human_col_choice] == 0)) # Lowest possible placement possible\n",
    "            board[human_row_land, human_col_choice] = human_key\n",
    "    return board\n",
    "\n",
    "def robot_move(board):\n",
    "    robot_targets = np.argwhere(board[:1] == 0)[:,1].tolist()\n",
    "    if len(robot_targets) == 0:\n",
    "        #print('no plays left for robot')\n",
    "        raise ValueError(\"stale\")\n",
    "    robot_col_choice = random.choice(robot_targets) # random placement verticaly based on top row\n",
    "    robot_row_land = np.argmax(np.argwhere(board[:,robot_col_choice] == 0)) # Lowest possible placement possible\n",
    "    board[robot_row_land, robot_col_choice] = robot_key\n",
    "    return board   \n",
    "\n",
    "for i in range(0, 1000):\n",
    "    board = np.array([\n",
    "        [0,0,0,0,0,0,0],\n",
    "        [0,0,0,0,0,0,0],\n",
    "        [0,0,0,0,0,0,0],\n",
    "        [0,0,0,0,0,0,0],\n",
    "        [0,0,0,0,0,0,0],\n",
    "        [0,0,0,0,0,0,0],\n",
    "    ])\n",
    "    players = [1, 2]\n",
    "    first_player = random.choice(players)\n",
    "    while True:\n",
    "        try:\n",
    "            if first_player == 1:\n",
    "                board = human_move(board)\n",
    "                human_win = winning_move(board, 1)\n",
    "                if human_win:\n",
    "                    #print('human win')\n",
    "                    game_history.append('Human Win')\n",
    "                    break\n",
    "\n",
    "                board = robot_move(board)\n",
    "                robot_win = winning_move(board, 2)\n",
    "                if robot_win:\n",
    "                    #print('robot win')\n",
    "                    game_history.append('Robot Win')\n",
    "                    break\n",
    "            elif first_player == 2:\n",
    "                board = robot_move(board)\n",
    "                robot_win = winning_move(board, 2)\n",
    "                if robot_win:\n",
    "                    #print('robot win')\n",
    "                    game_history.append('Robot Win')\n",
    "                    break  \n",
    "\n",
    "                board = human_move(board)\n",
    "                human_win = winning_move(board, 1)\n",
    "                if human_win:\n",
    "                    #print('human win')\n",
    "                    game_history.append('Human Win')\n",
    "                    break\n",
    "        except ValueError as e:\n",
    "            game_history.append('Stale')\n",
    "            break\n",
    "\n",
    "df = pd.DataFrame(data=game_history, columns=['result'])\n",
    "df['tick'] = 1\n",
    "df.groupby('result')['tick'].sum()"
   ]
  },
  {
   "cell_type": "markdown",
   "id": "2d6015d1-fc7a-4442-882c-f12c4bcf35b9",
   "metadata": {},
   "source": [
    "# Convert to agnostic"
   ]
  },
  {
   "cell_type": "code",
   "execution_count": 9,
   "id": "04d35b26-8f42-4699-9647-51286ec55ae8",
   "metadata": {
    "jupyter": {
     "source_hidden": true
    },
    "tags": []
   },
   "outputs": [
    {
     "data": {
      "text/plain": [
       "result\n",
       "Human Win    93\n",
       "Robot Win     6\n",
       "Stale         1\n",
       "Name: tick, dtype: int64"
      ]
     },
     "execution_count": 9,
     "metadata": {},
     "output_type": "execute_result"
    }
   ],
   "source": [
    "game_history = []\n",
    "robot_key = 2\n",
    "human_key = 1\n",
    "\n",
    "def smart_move(board, me, enemey):\n",
    "    targets = np.argwhere(board[:1] == 0)[:,1].tolist()\n",
    "    if len(targets) == 0:\n",
    "        raise ValueError(\"stale\")\n",
    "\n",
    "    sim_win = False\n",
    "    sim_win_target = 0\n",
    "    for target in targets:\n",
    "        board_copy = board.copy()\n",
    "        me_row_land = np.argmax(np.argwhere(board[:,target] == 0)) # Lowest possible placement possible\n",
    "        board_copy[me_row_land, target] = me\n",
    "        sim_me_win = winning_move(board_copy, me)\n",
    "        if sim_me_win:\n",
    "            sim_win = True\n",
    "            sim_win_target = target\n",
    "            break\n",
    "    if sim_win:\n",
    "        me_row_land = np.argmax(np.argwhere(board[:,sim_win_target] == 0)) # Lowest possible placement possible\n",
    "        board[me_row_land, sim_win_target] = me\n",
    "    else:\n",
    "        sim_loss = False\n",
    "        sim_loss_target = 0\n",
    "        \n",
    "        for target in targets:\n",
    "            board_copy = board.copy()\n",
    "            enemy_row_land = np.argmax(np.argwhere(board[:,target] == 0)) # Lowest possible placement possible\n",
    "            board_copy[enemy_row_land, target] = enemey\n",
    "            sim_me_loss = winning_move(board_copy, enemey)\n",
    "            if sim_me_loss:\n",
    "                sim_loss = True\n",
    "                sim_loss_target = target\n",
    "                break\n",
    "        if sim_loss:\n",
    "            me_row_land = np.argmax(np.argwhere(board[:,sim_loss_target] == 0)) # Lowest possible placement possible\n",
    "            board[me_row_land, sim_loss_target] = me\n",
    "        else:\n",
    "            me_col_choice = random.choice(targets) # random placement verticaly based on top row\n",
    "            me_row_land = np.argmax(np.argwhere(board[:,me_col_choice] == 0)) # Lowest possible placement possible\n",
    "            board[me_row_land, me_col_choice] = me\n",
    "    return board\n",
    "\n",
    "def random_move(board, me, enemy):\n",
    "    me_targets = np.argwhere(board[:1] == 0)[:,1].tolist()\n",
    "    if len(me_targets) == 0:\n",
    "        raise ValueError(\"stale\")\n",
    "    me_col_choice = random.choice(me_targets) # random placement verticaly based on top row\n",
    "    me_row_land = np.argmax(np.argwhere(board[:,me_col_choice] == 0)) # Lowest possible placement possible\n",
    "    board[me_row_land, me_col_choice] = me\n",
    "    return board   \n",
    "\n",
    "for i in range(0, 100):\n",
    "    board = np.array([\n",
    "        [0,0,0,0,0,0,0],\n",
    "        [0,0,0,0,0,0,0],\n",
    "        [0,0,0,0,0,0,0],\n",
    "        [0,0,0,0,0,0,0],\n",
    "        [0,0,0,0,0,0,0],\n",
    "        [0,0,0,0,0,0,0],\n",
    "    ])\n",
    "    players = [1, 2]\n",
    "    first_player = random.choice(players)\n",
    "    while True:\n",
    "        try:\n",
    "            if first_player == 1:\n",
    "                board = smart_move(board, human_key, robot_key)\n",
    "                human_win = winning_move(board, 1)\n",
    "                if human_win:\n",
    "                    game_history.append('Human Win')\n",
    "                    break\n",
    "\n",
    "                board = random_move(board, robot_key, human_key)\n",
    "                robot_win = winning_move(board, 2)\n",
    "                if robot_win:\n",
    "                    game_history.append('Robot Win')\n",
    "                    break\n",
    "            elif first_player == 2:\n",
    "                board = random_move(board, robot_key, human_key)\n",
    "                robot_win = winning_move(board, 2)\n",
    "                if robot_win:\n",
    "                    game_history.append('Robot Win')\n",
    "                    break  \n",
    "\n",
    "                board = smart_move(board, human_key, robot_key)\n",
    "                human_win = winning_move(board, 1)\n",
    "                if human_win:\n",
    "                    game_history.append('Human Win')\n",
    "                    break\n",
    "        except ValueError as e:\n",
    "            game_history.append('Stale')\n",
    "            break\n",
    "\n",
    "df = pd.DataFrame(data=game_history, columns=['result'])\n",
    "df['tick'] = 1\n",
    "df.groupby('result')['tick'].sum()"
   ]
  },
  {
   "cell_type": "markdown",
   "id": "6e7fb99c-5b63-47ad-b025-0a9d90834b20",
   "metadata": {},
   "source": [
    "# make smart look two tiers into the futre for failure"
   ]
  },
  {
   "cell_type": "code",
   "execution_count": 10,
   "id": "c7541c94-eb46-4082-a649-57c2810909b6",
   "metadata": {
    "jupyter": {
     "source_hidden": true
    },
    "tags": []
   },
   "outputs": [
    {
     "name": "stderr",
     "output_type": "stream",
     "text": [
      "100%|█████████████████████████████████████████████████████████████████████████████| 1000/1000 [00:05<00:00, 194.29it/s]\n"
     ]
    },
    {
     "data": {
      "text/plain": [
       "result\n",
       "Human Win    976\n",
       "Robot Win     24\n",
       "Name: tick, dtype: int64"
      ]
     },
     "execution_count": 10,
     "metadata": {},
     "output_type": "execute_result"
    }
   ],
   "source": [
    "game_history = []\n",
    "robot_key = 2\n",
    "human_key = 1\n",
    "\n",
    "def smart_move(board, me, enemey, recurse_count = 0):\n",
    "    targets = np.argwhere(board[:1] == 0)[:,1].tolist()\n",
    "    if len(targets) == 0:\n",
    "        raise ValueError(\"stale\")\n",
    "\n",
    "    sim_win = False\n",
    "    sim_win_target = 0\n",
    "    for target in targets:\n",
    "        board_copy = board.copy()\n",
    "        me_row_land = np.argmax(np.argwhere(board[:,target] == 0)) # Lowest possible placement possible\n",
    "        board_copy[me_row_land, target] = me\n",
    "        sim_me_win = winning_move(board_copy, me)\n",
    "        if sim_me_win:\n",
    "            sim_win = True\n",
    "            sim_win_target = target\n",
    "            break\n",
    "    if sim_win:\n",
    "        me_row_land = np.argmax(np.argwhere(board[:,sim_win_target] == 0)) # Lowest possible placement possible\n",
    "        board[me_row_land, sim_win_target] = me\n",
    "    else:\n",
    "        sim_loss = False\n",
    "        sim_loss_target = 0\n",
    "        \n",
    "        for target in targets:\n",
    "            board_copy = board.copy()\n",
    "            enemy_row_land = np.argmax(np.argwhere(board[:,target] == 0)) # Lowest possible placement possible\n",
    "            board_copy[enemy_row_land, target] = enemey\n",
    "            sim_me_loss = winning_move(board_copy, enemey)\n",
    "            if sim_me_loss:\n",
    "                sim_loss = True\n",
    "                sim_loss_target = target\n",
    "                break\n",
    "        if sim_loss:\n",
    "            me_row_land = np.argmax(np.argwhere(board[:,sim_loss_target] == 0)) # Lowest possible placement possible\n",
    "            board[me_row_land, sim_loss_target] = me\n",
    "        else:\n",
    "            perform_rand_move = False\n",
    "            if len(targets) > 1 & recurse_count == 0:\n",
    "                ## recurse this 1x times\n",
    "                possible_valid_target = None\n",
    "                for target in targets:\n",
    "                    recurse_board_1 = board.copy()\n",
    "                    me_col_choice = target\n",
    "                    me_row_land = np.argmax(np.argwhere(recurse_board_1[:,me_col_choice] == 0)) # Lowest possible placement possible\n",
    "                    recurse_board_1[me_row_land, me_col_choice] = me\n",
    "                    # assume enemy plays smart\n",
    "                    recurse_count = recurse_count + 1\n",
    "                    recurse_board_2 = smart_move(recurse_board_1, enemey, me, recurse_count)\n",
    "                    enemy_win = winning_move(recurse_board_2, enemey)\n",
    "                    if not enemy_win:\n",
    "                        possible_valid_target = target\n",
    "                        break\n",
    "                if possible_valid_target != None:\n",
    "                    me_col_choice = possible_valid_target # random placement verticaly based on top row\n",
    "                    me_row_land = np.argmax(np.argwhere(board[:,me_col_choice] == 0)) # Lowest possible placement possible\n",
    "                    board[me_row_land, me_col_choice] = me\n",
    "                else:\n",
    "                    perform_rand_move = True\n",
    "            else:\n",
    "                perform_rand_move = True\n",
    "                \n",
    "            if perform_rand_move:\n",
    "                me_col_choice = random.choice(targets) # random placement verticaly based on top row\n",
    "                me_row_land = np.argmax(np.argwhere(board[:,me_col_choice] == 0)) # Lowest possible placement possible\n",
    "                board[me_row_land, me_col_choice] = me\n",
    "    return board\n",
    "\n",
    "def random_move(board, me, enemy):\n",
    "    me_targets = np.argwhere(board[:1] == 0)[:,1].tolist()\n",
    "    if len(me_targets) == 0:\n",
    "        raise ValueError(\"stale\")\n",
    "    me_col_choice = random.choice(me_targets) # random placement verticaly based on top row\n",
    "    me_row_land = np.argmax(np.argwhere(board[:,me_col_choice] == 0)) # Lowest possible placement possible\n",
    "    board[me_row_land, me_col_choice] = me\n",
    "    return board   \n",
    "\n",
    "for i in tqdm(range(0, 1000)):\n",
    "    board = np.array([\n",
    "        [0,0,0,0,0,0,0],\n",
    "        [0,0,0,0,0,0,0],\n",
    "        [0,0,0,0,0,0,0],\n",
    "        [0,0,0,0,0,0,0],\n",
    "        [0,0,0,0,0,0,0],\n",
    "        [0,0,0,0,0,0,0],\n",
    "    ])\n",
    "    players = [human_key, robot_key]\n",
    "    first_player = random.choice(players)\n",
    "    while True:\n",
    "        try:\n",
    "            if first_player == 1:\n",
    "                board = smart_move(board, human_key, robot_key)\n",
    "                human_win = winning_move(board, 1)\n",
    "                if human_win:\n",
    "                    game_history.append('Human Win')\n",
    "                    break\n",
    "\n",
    "                board = random_move(board, robot_key, human_key)\n",
    "                robot_win = winning_move(board, 2)\n",
    "                if robot_win:\n",
    "                    game_history.append('Robot Win')\n",
    "                    break\n",
    "            elif first_player == 2:\n",
    "                board = random_move(board, robot_key, human_key)\n",
    "                robot_win = winning_move(board, 2)\n",
    "                if robot_win:\n",
    "                    game_history.append('Robot Win')\n",
    "                    break  \n",
    "\n",
    "                board = smart_move(board, human_key, robot_key)\n",
    "                human_win = winning_move(board, 1)\n",
    "                if human_win:\n",
    "                    game_history.append('Human Win')\n",
    "                    break\n",
    "        except ValueError as e:\n",
    "            game_history.append('Stale')\n",
    "            break\n",
    "\n",
    "df = pd.DataFrame(data=game_history, columns=['result'])\n",
    "df['tick'] = 1\n",
    "df.groupby('result')['tick'].sum()"
   ]
  },
  {
   "cell_type": "markdown",
   "id": "c9a039a7-d1f0-4884-885c-3c5e7594710b",
   "metadata": {},
   "source": [
    "# Add Truth table"
   ]
  },
  {
   "cell_type": "code",
   "execution_count": 11,
   "id": "bbb1d597-f9fb-42e3-8d83-f05f4231fb49",
   "metadata": {
    "jupyter": {
     "source_hidden": true
    },
    "tags": []
   },
   "outputs": [
    {
     "name": "stderr",
     "output_type": "stream",
     "text": [
      "100%|█████████████████████████████████████████████████████████████████████████████| 1000/1000 [00:05<00:00, 171.12it/s]\n"
     ]
    },
    {
     "data": {
      "text/plain": [
       "result\n",
       "Human Win    964\n",
       "Robot Win     36\n",
       "Name: tick, dtype: int64"
      ]
     },
     "execution_count": 11,
     "metadata": {},
     "output_type": "execute_result"
    }
   ],
   "source": [
    "df_map = pd.read_csv('N:\\\\connectxactions\\\\actions.csv', index_col = [item for item in range(1, 43)])\n",
    "game_history = []\n",
    "robot_key = 2\n",
    "human_key = 1\n",
    "b = []\n",
    "hold = []\n",
    "def smart_move(board, me, enemey, recurse_count = 0, target_chosen=0):\n",
    "    global b\n",
    "    global hold\n",
    "    target_chosen = target_chosen\n",
    "    targets = np.argwhere(board[:1] == 0)[:,1].tolist()\n",
    "    if len(targets) == 0:\n",
    "        raise ValueError(\"stale\")\n",
    "\n",
    "    sim_win = False\n",
    "    sim_win_target = 0\n",
    "    for target in targets:\n",
    "        board_copy = board.copy()\n",
    "        me_row_land = np.argmax(np.argwhere(board[:,target] == 0)) # Lowest possible placement possible\n",
    "        board_copy[me_row_land, target] = me\n",
    "        sim_me_win = winning_move(board_copy, me)\n",
    "        if sim_me_win:\n",
    "            sim_win = True\n",
    "            sim_win_target = target\n",
    "            break\n",
    "    if sim_win:\n",
    "        me_row_land = np.argmax(np.argwhere(board[:,sim_win_target] == 0)) # Lowest possible placement possible\n",
    "        board[me_row_land, sim_win_target] = me\n",
    "        target_chosen = sim_win_target\n",
    "    else:\n",
    "        sim_loss = False\n",
    "        sim_loss_target = 0\n",
    "        \n",
    "        for target in targets:\n",
    "            board_copy = board.copy()\n",
    "            enemy_row_land = np.argmax(np.argwhere(board[:,target] == 0)) # Lowest possible placement possible\n",
    "            board_copy[enemy_row_land, target] = enemey\n",
    "            sim_me_loss = winning_move(board_copy, enemey)\n",
    "            if sim_me_loss:\n",
    "                sim_loss = True\n",
    "                sim_loss_target = target\n",
    "                break\n",
    "        if sim_loss:\n",
    "            me_row_land = np.argmax(np.argwhere(board[:,sim_loss_target] == 0)) # Lowest possible placement possible\n",
    "            board[me_row_land, sim_loss_target] = me\n",
    "            target_chosen = sim_loss_target\n",
    "        else:\n",
    "            flat_board = board.flatten().tolist()\n",
    "            hold = flat_board\n",
    "            predicted = False\n",
    "            try:\n",
    "                hold = tuple(flat_board)\n",
    "                flat_board.append(me)\n",
    "                result = df_map.loc[tuple(flat_board), 'target']\n",
    "                predicted = True\n",
    " \n",
    "                me_row_land = np.argmax(np.argwhere(board[:,result] == 0)) # Lowest possible placement possible\n",
    "    \n",
    "                \n",
    "\n",
    "                board[me_row_land, result] = me\n",
    "                target_chosen = result\n",
    "            except Exception as e:\n",
    "           \n",
    "                pass\n",
    "            \n",
    "            perform_rand_move = False\n",
    "            if len(targets) > 1 & recurse_count == 0 & predicted == False:\n",
    "                ## recurse this 1x times\n",
    "                possible_valid_target = None\n",
    "                for target in targets:\n",
    "                    recurse_board_1 = board.copy()\n",
    "                    me_col_choice = target\n",
    "                    me_row_land = np.argmax(np.argwhere(recurse_board_1[:,me_col_choice] == 0)) # Lowest possible placement possible\n",
    "                    recurse_board_1[me_row_land, me_col_choice] = me\n",
    "                    # assume enemy plays smart\n",
    "                    recurse_count = recurse_count + 1\n",
    "                    recurse_board_2 = smart_move(recurse_board_1, enemey, me, recurse_count)\n",
    "                    enemy_win = winning_move(recurse_board_2, enemey)\n",
    "                    if not enemy_win:\n",
    "                        possible_valid_target = target\n",
    "                        break\n",
    "                if possible_valid_target != None:\n",
    "                    me_col_choice = possible_valid_target # random placement verticaly based on top row\n",
    "                    me_row_land = np.argmax(np.argwhere(board[:,me_col_choice] == 0)) # Lowest possible placement possible\n",
    "                    board[me_row_land, me_col_choice] = me\n",
    "                    target_chosen = me_col_choice\n",
    "                else:\n",
    "                    perform_rand_move = True\n",
    "            else:\n",
    "                perform_rand_move = True\n",
    "                \n",
    "            if perform_rand_move:\n",
    "                me_col_choice = random.choice(targets) # random placement verticaly based on top row\n",
    "                me_row_land = np.argmax(np.argwhere(board[:,me_col_choice] == 0)) # Lowest possible placement possible\n",
    "                board[me_row_land, me_col_choice] = me\n",
    "                target_chosen = me_col_choice\n",
    "    return board\n",
    "\n",
    "def random_move(board, me, enemy):\n",
    "    me_targets = np.argwhere(board[:1] == 0)[:,1].tolist()\n",
    "    if len(me_targets) == 0:\n",
    "        raise ValueError(\"stale\")\n",
    "    me_col_choice = random.choice(me_targets) # random placement verticaly based on top row\n",
    "    me_row_land = np.argmax(np.argwhere(board[:,me_col_choice] == 0)) # Lowest possible placement possible\n",
    "    board[me_row_land, me_col_choice] = me\n",
    "    return board   \n",
    "\n",
    "for i in tqdm(range(0, 1000)):\n",
    "    board = np.array([\n",
    "        [0,0,0,0,0,0,0],\n",
    "        [0,0,0,0,0,0,0],\n",
    "        [0,0,0,0,0,0,0],\n",
    "        [0,0,0,0,0,0,0],\n",
    "        [0,0,0,0,0,0,0],\n",
    "        [0,0,0,0,0,0,0],\n",
    "    ])\n",
    "    players = [human_key, robot_key]\n",
    "    first_player = random.choice(players)\n",
    "    while True:\n",
    "        try:\n",
    "            if first_player == 1:\n",
    "                board = smart_move(board, human_key, robot_key)\n",
    "                human_win = winning_move(board, 1)\n",
    "                if human_win:\n",
    "                    game_history.append('Human Win')\n",
    "                    break\n",
    "\n",
    "                board = random_move(board, robot_key, human_key)\n",
    "                robot_win = winning_move(board, 2)\n",
    "                if robot_win:\n",
    "                    game_history.append('Robot Win')\n",
    "                    break\n",
    "            elif first_player == 2:\n",
    "                board = random_move(board, robot_key, human_key)\n",
    "                robot_win = winning_move(board, 2)\n",
    "                if robot_win:\n",
    "                    game_history.append('Robot Win')\n",
    "                    break  \n",
    "\n",
    "                board = smart_move(board, human_key, robot_key)\n",
    "                human_win = winning_move(board, 1)\n",
    "                if human_win:\n",
    "                    game_history.append('Human Win')\n",
    "                    break\n",
    "        except ValueError as e:\n",
    "            game_history.append('Stale')\n",
    "            break\n",
    "\n",
    "df = pd.DataFrame(data=game_history, columns=['result'])\n",
    "df['tick'] = 1\n",
    "df.groupby('result')['tick'].sum()"
   ]
  },
  {
   "cell_type": "markdown",
   "id": "f9a4823d-a045-4a0d-acee-84c8b07669d6",
   "metadata": {},
   "source": [
    "# With Neural Network"
   ]
  },
  {
   "cell_type": "code",
   "execution_count": 6,
   "id": "33d8e061-cce2-4479-b336-88905f27fb6a",
   "metadata": {},
   "outputs": [],
   "source": [
    "import keras\n",
    "model2 = keras.models.load_model('test.h5')"
   ]
  },
  {
   "cell_type": "code",
   "execution_count": 54,
   "id": "364db7aa-69c5-4eab-bcba-b069f2e1f235",
   "metadata": {},
   "outputs": [
    {
     "ename": "TypeError",
     "evalue": "fromhex() argument must be str, not _io.TextIOWrapper",
     "output_type": "error",
     "traceback": [
      "\u001b[1;31m---------------------------------------------------------------------------\u001b[0m",
      "\u001b[1;31mTypeError\u001b[0m                                 Traceback (most recent call last)",
      "Cell \u001b[1;32mIn[54], line 1\u001b[0m\n\u001b[1;32m----> 1\u001b[0m \u001b[38;5;28;43mbytes\u001b[39;49m\u001b[38;5;241;43m.\u001b[39;49m\u001b[43mfromhex\u001b[49m\u001b[43m(\u001b[49m\u001b[38;5;28;43mopen\u001b[39;49m\u001b[43m(\u001b[49m\u001b[38;5;124;43m'\u001b[39;49m\u001b[38;5;124;43mtest.h5\u001b[39;49m\u001b[38;5;124;43m'\u001b[39;49m\u001b[43m)\u001b[49m\u001b[43m)\u001b[49m\n",
      "\u001b[1;31mTypeError\u001b[0m: fromhex() argument must be str, not _io.TextIOWrapper"
     ]
    }
   ],
   "source": [
    "\n"
   ]
  },
  {
   "cell_type": "code",
   "execution_count": 51,
   "id": "e734e137-5020-4827-a487-30ce10251e00",
   "metadata": {
    "tags": []
   },
   "outputs": [
    {
     "ename": "TypeError",
     "evalue": "decoding to str: need a bytes-like object, _io.BytesIO found",
     "output_type": "error",
     "traceback": [
      "\u001b[1;31m---------------------------------------------------------------------------\u001b[0m",
      "\u001b[1;31mTypeError\u001b[0m                                 Traceback (most recent call last)",
      "Cell \u001b[1;32mIn[51], line 1\u001b[0m\n\u001b[1;32m----> 1\u001b[0m \u001b[38;5;28;43mstr\u001b[39;49m\u001b[43m(\u001b[49m\u001b[43mbuf\u001b[49m\u001b[43m,\u001b[49m\u001b[43m \u001b[49m\u001b[38;5;124;43m'\u001b[39;49m\u001b[38;5;124;43mUTF-8\u001b[39;49m\u001b[38;5;124;43m'\u001b[39;49m\u001b[43m)\u001b[49m\n",
      "\u001b[1;31mTypeError\u001b[0m: decoding to str: need a bytes-like object, _io.BytesIO found"
     ]
    }
   ],
   "source": []
  },
  {
   "cell_type": "code",
   "execution_count": 45,
   "id": "c9e4cf2a-a649-4fde-aa29-313beb85d308",
   "metadata": {},
   "outputs": [
    {
     "ename": "ValueError",
     "evalue": "You called `set_weights(weights)` on layer \"sequential_3\" with a weight list of length 6, but the layer was expecting 0 weights. Provided weights: [array([[ 7.53086090e-01,  7.58508265e-01, -4.8506...",
     "output_type": "error",
     "traceback": [
      "\u001b[1;31m---------------------------------------------------------------------------\u001b[0m",
      "\u001b[1;31mValueError\u001b[0m                                Traceback (most recent call last)",
      "Cell \u001b[1;32mIn[45], line 1\u001b[0m\n\u001b[1;32m----> 1\u001b[0m \u001b[43mdeserialize\u001b[49m\u001b[43m(\u001b[49m\u001b[43mbstring\u001b[49m\u001b[43m)\u001b[49m\n",
      "Cell \u001b[1;32mIn[43], line 14\u001b[0m, in \u001b[0;36mdeserialize\u001b[1;34m(cnn_bytes)\u001b[0m\n\u001b[0;32m     12\u001b[0m cnninstance \u001b[38;5;241m=\u001b[39m cnnclass()\n\u001b[0;32m     13\u001b[0m cnninstance\u001b[38;5;241m.\u001b[39mbuild((\u001b[38;5;28;01mNone\u001b[39;00m,\u001b[38;5;241m43\u001b[39m))\n\u001b[1;32m---> 14\u001b[0m \u001b[43mcnninstance\u001b[49m\u001b[38;5;241;43m.\u001b[39;49m\u001b[43mset_weights\u001b[49m\u001b[43m(\u001b[49m\u001b[43mweights\u001b[49m\u001b[43m)\u001b[49m\n\u001b[0;32m     15\u001b[0m \u001b[38;5;28;01mreturn\u001b[39;00m cnninstance\n",
      "File \u001b[1;32m~\\source\\repos\\venv\\Python39\\lib\\site-packages\\keras\\engine\\base_layer.py:1747\u001b[0m, in \u001b[0;36mLayer.set_weights\u001b[1;34m(self, weights)\u001b[0m\n\u001b[0;32m   1744\u001b[0m         expected_num_weights \u001b[38;5;241m+\u001b[39m\u001b[38;5;241m=\u001b[39m \u001b[38;5;241m1\u001b[39m\n\u001b[0;32m   1746\u001b[0m \u001b[38;5;28;01mif\u001b[39;00m expected_num_weights \u001b[38;5;241m!=\u001b[39m \u001b[38;5;28mlen\u001b[39m(weights):\n\u001b[1;32m-> 1747\u001b[0m     \u001b[38;5;28;01mraise\u001b[39;00m \u001b[38;5;167;01mValueError\u001b[39;00m(\n\u001b[0;32m   1748\u001b[0m         \u001b[38;5;124m'\u001b[39m\u001b[38;5;124mYou called `set_weights(weights)` on layer \u001b[39m\u001b[38;5;124m\"\u001b[39m\u001b[38;5;132;01m%s\u001b[39;00m\u001b[38;5;124m\"\u001b[39m\u001b[38;5;124m \u001b[39m\u001b[38;5;124m'\u001b[39m\n\u001b[0;32m   1749\u001b[0m         \u001b[38;5;124m\"\u001b[39m\u001b[38;5;124mwith a weight list of length \u001b[39m\u001b[38;5;132;01m%s\u001b[39;00m\u001b[38;5;124m, but the layer was \u001b[39m\u001b[38;5;124m\"\u001b[39m\n\u001b[0;32m   1750\u001b[0m         \u001b[38;5;124m\"\u001b[39m\u001b[38;5;124mexpecting \u001b[39m\u001b[38;5;132;01m%s\u001b[39;00m\u001b[38;5;124m weights. Provided weights: \u001b[39m\u001b[38;5;132;01m%s\u001b[39;00m\u001b[38;5;124m...\u001b[39m\u001b[38;5;124m\"\u001b[39m\n\u001b[0;32m   1751\u001b[0m         \u001b[38;5;241m%\u001b[39m (\n\u001b[0;32m   1752\u001b[0m             \u001b[38;5;28mself\u001b[39m\u001b[38;5;241m.\u001b[39mname,\n\u001b[0;32m   1753\u001b[0m             \u001b[38;5;28mlen\u001b[39m(weights),\n\u001b[0;32m   1754\u001b[0m             expected_num_weights,\n\u001b[0;32m   1755\u001b[0m             \u001b[38;5;28mstr\u001b[39m(weights)[:\u001b[38;5;241m50\u001b[39m],\n\u001b[0;32m   1756\u001b[0m         )\n\u001b[0;32m   1757\u001b[0m     )\n\u001b[0;32m   1759\u001b[0m weight_index \u001b[38;5;241m=\u001b[39m \u001b[38;5;241m0\u001b[39m\n\u001b[0;32m   1760\u001b[0m weight_value_tuples \u001b[38;5;241m=\u001b[39m []\n",
      "\u001b[1;31mValueError\u001b[0m: You called `set_weights(weights)` on layer \"sequential_3\" with a weight list of length 6, but the layer was expecting 0 weights. Provided weights: [array([[ 7.53086090e-01,  7.58508265e-01, -4.8506..."
     ]
    }
   ],
   "source": []
  },
  {
   "cell_type": "code",
   "execution_count": 7,
   "id": "0c877dee-c333-4804-8001-c889ddbc03be",
   "metadata": {
    "collapsed": true,
    "jupyter": {
     "outputs_hidden": true
    },
    "tags": []
   },
   "outputs": [
    {
     "name": "stderr",
     "output_type": "stream",
     "text": [
      "  0%|                                                                                          | 0/100 [00:00<?, ?it/s]"
     ]
    },
    {
     "name": "stdout",
     "output_type": "stream",
     "text": [
      "1/1 [==============================] - 1s 561ms/step\n",
      "me_row_land = 5   Result = 3\n",
      "3\n",
      "1/1 [==============================] - 0s 29ms/step\n",
      "me_row_land = 4   Result = 0\n",
      "0\n",
      "1/1 [==============================] - 0s 26ms/step\n",
      "me_row_land = 2   Result = 0\n",
      "0\n",
      "1/1 [==============================] - 0s 27ms/step\n",
      "me_row_land = 1   Result = 0\n",
      "0\n",
      "1/1 [==============================] - 0s 29ms/step\n",
      "me_row_land = 0   Result = 0\n",
      "0\n",
      "1/1 [==============================] - 0s 41ms/step\n",
      "me_row_land = 4   Result = 6\n",
      "6\n",
      "1/1 [==============================] - 0s 28ms/step\n",
      "me_row_land = 3   Result = 3\n",
      "3\n",
      "1/1 [==============================] - 0s 28ms/step\n",
      "me_row_land = 2   Result = 3\n",
      "3\n",
      "1/1 [==============================] - 0s 27ms/step\n",
      "me_row_land = 4   Result = 1\n",
      "1\n",
      "1/1 [==============================] - 0s 28ms/step\n"
     ]
    },
    {
     "name": "stderr",
     "output_type": "stream",
     "text": [
      "  1%|▊                                                                                 | 1/100 [00:01<01:45,  1.06s/it]"
     ]
    },
    {
     "name": "stdout",
     "output_type": "stream",
     "text": [
      "me_row_land = 3   Result = 1\n",
      "1\n",
      "1/1 [==============================] - 0s 28ms/step\n",
      "me_row_land = 5   Result = 3\n",
      "3\n",
      "1/1 [==============================] - 0s 27ms/step\n",
      "me_row_land = 4   Result = 3\n",
      "3\n",
      "1/1 [==============================] - 0s 27ms/step\n",
      "me_row_land = 3   Result = 1\n",
      "1\n",
      "1/1 [==============================] - 0s 26ms/step\n",
      "me_row_land = 2   Result = 1\n",
      "1\n",
      "1/1 [==============================] - 0s 26ms/step\n",
      "me_row_land = 4   Result = 0\n",
      "0\n",
      "1/1 [==============================] - 0s 26ms/step\n",
      "me_row_land = 3   Result = 0\n",
      "0\n",
      "1/1 [==============================] - 0s 26ms/step\n"
     ]
    },
    {
     "name": "stderr",
     "output_type": "stream",
     "text": [
      "  2%|█▋                                                                                | 2/100 [00:01<01:02,  1.56it/s]"
     ]
    },
    {
     "name": "stdout",
     "output_type": "stream",
     "text": [
      "me_row_land = 2   Result = 0\n",
      "0\n",
      "1/1 [==============================] - 0s 27ms/step\n",
      "me_row_land = 5   Result = 3\n",
      "3\n",
      "1/1 [==============================] - 0s 26ms/step\n",
      "me_row_land = 4   Result = 5\n",
      "5\n",
      "1/1 [==============================] - 0s 26ms/step\n",
      "me_row_land = 3   Result = 5\n",
      "5\n",
      "1/1 [==============================] - 0s 26ms/step\n"
     ]
    },
    {
     "name": "stderr",
     "output_type": "stream",
     "text": [
      "  3%|██▍                                                                               | 3/100 [00:01<00:42,  2.30it/s]"
     ]
    },
    {
     "name": "stdout",
     "output_type": "stream",
     "text": [
      "me_row_land = 2   Result = 5\n",
      "5\n",
      "1/1 [==============================] - 0s 26ms/step\n",
      "me_row_land = 5   Result = 3\n",
      "3\n",
      "1/1 [==============================] - 0s 26ms/step\n",
      "me_row_land = 4   Result = 3\n",
      "3\n",
      "1/1 [==============================] - 0s 26ms/step\n",
      "me_row_land = 3   Result = 3\n",
      "3\n",
      "1/1 [==============================] - 0s 26ms/step\n",
      "me_row_land = 4   Result = 5\n",
      "5\n",
      "1/1 [==============================] - 0s 29ms/step\n",
      "me_row_land = 3   Result = 5\n",
      "5\n",
      "1/1 [==============================] - 0s 28ms/step\n"
     ]
    },
    {
     "name": "stderr",
     "output_type": "stream",
     "text": [
      "  4%|███▎                                                                              | 4/100 [00:01<00:36,  2.63it/s]"
     ]
    },
    {
     "name": "stdout",
     "output_type": "stream",
     "text": [
      "me_row_land = 2   Result = 5\n",
      "5\n",
      "1/1 [==============================] - 0s 28ms/step\n",
      "me_row_land = 4   Result = 6\n",
      "6\n",
      "1/1 [==============================] - 0s 27ms/step\n",
      "me_row_land = 3   Result = 6\n",
      "6\n",
      "1/1 [==============================] - 0s 28ms/step\n"
     ]
    },
    {
     "name": "stderr",
     "output_type": "stream",
     "text": [
      "  5%|████                                                                              | 5/100 [00:02<00:28,  3.36it/s]"
     ]
    },
    {
     "name": "stdout",
     "output_type": "stream",
     "text": [
      "me_row_land = 2   Result = 6\n",
      "6\n",
      "1/1 [==============================] - 0s 27ms/step\n",
      "me_row_land = 4   Result = 3\n",
      "3\n",
      "1/1 [==============================] - 0s 29ms/step\n",
      "me_row_land = 3   Result = 3\n",
      "3\n",
      "1/1 [==============================] - 0s 28ms/step\n",
      "me_row_land = 4   Result = 5\n",
      "5\n",
      "1/1 [==============================] - 0s 28ms/step\n",
      "me_row_land = 3   Result = 5\n",
      "5\n",
      "1/1 [==============================] - 0s 27ms/step\n"
     ]
    },
    {
     "name": "stderr",
     "output_type": "stream",
     "text": [
      "  6%|████▉                                                                             | 6/100 [00:02<00:26,  3.53it/s]"
     ]
    },
    {
     "name": "stdout",
     "output_type": "stream",
     "text": [
      "me_row_land = 2   Result = 5\n",
      "5\n",
      "1/1 [==============================] - 0s 28ms/step\n",
      "me_row_land = 5   Result = 3\n",
      "3\n",
      "1/1 [==============================] - 0s 26ms/step\n",
      "me_row_land = 4   Result = 3\n",
      "3\n",
      "1/1 [==============================] - 0s 26ms/step\n",
      "me_row_land = 2   Result = 3\n",
      "3\n",
      "1/1 [==============================] - 0s 27ms/step\n",
      "me_row_land = 3   Result = 4\n",
      "4\n",
      "1/1 [==============================] - 0s 26ms/step\n",
      "me_row_land = 2   Result = 4\n",
      "4\n",
      "1/1 [==============================] - 0s 26ms/step\n",
      "me_row_land = 5   Result = 2\n",
      "2\n",
      "1/1 [==============================] - 0s 26ms/step\n",
      "me_row_land = 4   Result = 2\n",
      "2\n",
      "1/1 [==============================] - 0s 26ms/step\n"
     ]
    },
    {
     "name": "stderr",
     "output_type": "stream",
     "text": [
      "  7%|█████▋                                                                            | 7/100 [00:02<00:29,  3.15it/s]"
     ]
    },
    {
     "name": "stdout",
     "output_type": "stream",
     "text": [
      "me_row_land = 3   Result = 2\n",
      "2\n",
      "1/1 [==============================] - 0s 26ms/step\n",
      "me_row_land = 4   Result = 3\n",
      "3\n",
      "1/1 [==============================] - 0s 25ms/step\n",
      "me_row_land = 3   Result = 3\n",
      "3\n",
      "1/1 [==============================] - 0s 28ms/step\n",
      "me_row_land = 3   Result = 5\n",
      "5\n",
      "1/1 [==============================] - 0s 26ms/step\n",
      "me_row_land = 2   Result = 5\n",
      "5\n",
      "1/1 [==============================] - 0s 26ms/step\n",
      "me_row_land = 0   Result = 5\n",
      "5\n",
      "1/1 [==============================] - 0s 26ms/step\n",
      "me_row_land = 3   Result = 4\n",
      "4\n",
      "1/1 [==============================] - 0s 26ms/step\n",
      "me_row_land = 2   Result = 4\n",
      "4\n",
      "1/1 [==============================] - 0s 26ms/step\n"
     ]
    },
    {
     "name": "stderr",
     "output_type": "stream",
     "text": [
      "  8%|██████▌                                                                           | 8/100 [00:03<00:31,  2.93it/s]"
     ]
    },
    {
     "name": "stdout",
     "output_type": "stream",
     "text": [
      "me_row_land = 1   Result = 4\n",
      "4\n",
      "1/1 [==============================] - 0s 26ms/step\n",
      "me_row_land = 4   Result = 0\n",
      "0\n",
      "1/1 [==============================] - 0s 26ms/step\n",
      "me_row_land = 3   Result = 0\n",
      "0\n",
      "1/1 [==============================] - 0s 26ms/step\n"
     ]
    },
    {
     "name": "stderr",
     "output_type": "stream",
     "text": [
      "  9%|███████▍                                                                          | 9/100 [00:03<00:25,  3.56it/s]"
     ]
    },
    {
     "name": "stdout",
     "output_type": "stream",
     "text": [
      "me_row_land = 2   Result = 0\n",
      "0\n",
      "1/1 [==============================] - 0s 25ms/step\n",
      "me_row_land = 5   Result = 3\n",
      "3\n",
      "1/1 [==============================] - 0s 25ms/step\n",
      "me_row_land = 3   Result = 3\n",
      "3\n",
      "1/1 [==============================] - 0s 27ms/step\n",
      "me_row_land = 2   Result = 3\n",
      "3\n",
      "1/1 [==============================] - 0s 26ms/step\n",
      "me_row_land = 4   Result = 0\n",
      "0\n",
      "1/1 [==============================] - 0s 25ms/step\n",
      "me_row_land = 3   Result = 0\n",
      "0\n",
      "1/1 [==============================] - 0s 26ms/step\n"
     ]
    },
    {
     "name": "stderr",
     "output_type": "stream",
     "text": [
      " 10%|████████                                                                         | 10/100 [00:03<00:25,  3.54it/s]"
     ]
    },
    {
     "name": "stdout",
     "output_type": "stream",
     "text": [
      "me_row_land = 2   Result = 0\n",
      "0\n",
      "1/1 [==============================] - 0s 27ms/step\n",
      "me_row_land = 5   Result = 3\n",
      "3\n",
      "1/1 [==============================] - 0s 26ms/step\n",
      "me_row_land = 4   Result = 5\n",
      "5\n",
      "1/1 [==============================] - 0s 26ms/step\n",
      "me_row_land = 3   Result = 5\n",
      "5\n",
      "1/1 [==============================] - 0s 26ms/step\n"
     ]
    },
    {
     "name": "stderr",
     "output_type": "stream",
     "text": [
      " 11%|████████▉                                                                        | 11/100 [00:03<00:22,  3.92it/s]"
     ]
    },
    {
     "name": "stdout",
     "output_type": "stream",
     "text": [
      "me_row_land = 2   Result = 5\n",
      "5\n",
      "1/1 [==============================] - 0s 27ms/step\n",
      "me_row_land = 4   Result = 0\n",
      "0\n",
      "1/1 [==============================] - 0s 26ms/step\n",
      "me_row_land = 3   Result = 0\n",
      "0\n",
      "1/1 [==============================] - 0s 27ms/step\n"
     ]
    },
    {
     "name": "stderr",
     "output_type": "stream",
     "text": [
      " 12%|█████████▋                                                                       | 12/100 [00:03<00:19,  4.52it/s]"
     ]
    },
    {
     "name": "stdout",
     "output_type": "stream",
     "text": [
      "me_row_land = 2   Result = 0\n",
      "0\n",
      "1/1 [==============================] - 0s 25ms/step\n",
      "me_row_land = 5   Result = 3\n",
      "3\n",
      "1/1 [==============================] - 0s 26ms/step\n",
      "me_row_land = 4   Result = 0\n",
      "0\n",
      "1/1 [==============================] - 0s 26ms/step\n",
      "me_row_land = 2   Result = 0\n",
      "0\n",
      "1/1 [==============================] - 0s 28ms/step\n",
      "me_row_land = 0   Result = 0\n",
      "0\n",
      "1/1 [==============================] - 0s 27ms/step\n",
      "me_row_land = 5   Result = 1\n",
      "1\n",
      "1/1 [==============================] - 0s 28ms/step\n",
      "me_row_land = 4   Result = 1\n",
      "1\n",
      "1/1 [==============================] - 0s 27ms/step\n"
     ]
    },
    {
     "name": "stderr",
     "output_type": "stream",
     "text": [
      " 13%|██████████▌                                                                      | 13/100 [00:04<00:22,  3.85it/s]"
     ]
    },
    {
     "name": "stdout",
     "output_type": "stream",
     "text": [
      "me_row_land = 3   Result = 1\n",
      "1\n",
      "1/1 [==============================] - 0s 29ms/step\n",
      "me_row_land = 4   Result = 0\n",
      "0\n",
      "1/1 [==============================] - 0s 27ms/step\n",
      "me_row_land = 2   Result = 0\n",
      "0\n",
      "1/1 [==============================] - 0s 28ms/step\n",
      "me_row_land = 1   Result = 0\n",
      "0\n",
      "1/1 [==============================] - 0s 25ms/step\n",
      "me_row_land = 0   Result = 0\n",
      "0\n",
      "1/1 [==============================] - 0s 26ms/step\n",
      "me_row_land = 3   Result = 2\n",
      "2\n",
      "1/1 [==============================] - 0s 27ms/step\n",
      "me_row_land = 2   Result = 2\n",
      "2\n",
      "1/1 [==============================] - 0s 26ms/step\n",
      "me_row_land = 1   Result = 2\n",
      "2\n",
      "1/1 [==============================] - 0s 26ms/step\n",
      "me_row_land = 3   Result = 1\n",
      "1\n",
      "1/1 [==============================] - 0s 25ms/step\n",
      "me_row_land = 3   Result = 3\n",
      "3\n",
      "1/1 [==============================] - 0s 26ms/step\n",
      "me_row_land = 2   Result = 3\n",
      "3\n",
      "1/1 [==============================] - 0s 26ms/step\n",
      "me_row_land = 0   Result = 1\n",
      "1\n",
      "1/1 [==============================] - 0s 25ms/step\n",
      "me_row_land = 4   Result = 6\n",
      "6\n",
      "1/1 [==============================] - 0s 27ms/step\n"
     ]
    },
    {
     "name": "stderr",
     "output_type": "stream",
     "text": [
      " 14%|███████████▎                                                                     | 14/100 [00:04<00:32,  2.68it/s]"
     ]
    },
    {
     "name": "stdout",
     "output_type": "stream",
     "text": [
      "me_row_land = 3   Result = 6\n",
      "6\n",
      "1/1 [==============================] - 0s 25ms/step\n",
      "me_row_land = 4   Result = 0\n",
      "0\n",
      "1/1 [==============================] - 0s 26ms/step\n",
      "me_row_land = 3   Result = 0\n",
      "0\n",
      "1/1 [==============================] - 0s 25ms/step\n"
     ]
    },
    {
     "name": "stderr",
     "output_type": "stream",
     "text": [
      " 15%|████████████▏                                                                    | 15/100 [00:04<00:25,  3.28it/s]"
     ]
    },
    {
     "name": "stdout",
     "output_type": "stream",
     "text": [
      "me_row_land = 2   Result = 0\n",
      "0\n",
      "1/1 [==============================] - 0s 27ms/step\n",
      "me_row_land = 5   Result = 3\n",
      "3\n",
      "1/1 [==============================] - 0s 25ms/step\n",
      "me_row_land = 4   Result = 6\n",
      "6\n",
      "1/1 [==============================] - 0s 26ms/step\n",
      "me_row_land = 3   Result = 6\n",
      "6\n",
      "1/1 [==============================] - 0s 26ms/step\n",
      "me_row_land = 1   Result = 6\n",
      "6\n",
      "1/1 [==============================] - 0s 25ms/step\n",
      "me_row_land = 3   Result = 0\n",
      "0\n",
      "1/1 [==============================] - 0s 25ms/step\n",
      "me_row_land = 2   Result = 0\n",
      "0\n",
      "1/1 [==============================] - 0s 25ms/step\n",
      "me_row_land = 0   Result = 0\n",
      "0\n",
      "1/1 [==============================] - 0s 25ms/step\n",
      "me_row_land = 4   Result = 2\n",
      "2\n",
      "1/1 [==============================] - 0s 26ms/step\n",
      "me_row_land = 3   Result = 2\n",
      "2\n",
      "1/1 [==============================] - 0s 25ms/step\n",
      "me_row_land = 2   Result = 2\n",
      "2\n",
      "1/1 [==============================] - 0s 26ms/step\n",
      "me_row_land = 3   Result = 3\n",
      "3\n",
      "1/1 [==============================] - 0s 26ms/step\n",
      "me_row_land = 3   Result = 4\n",
      "4\n",
      "1/1 [==============================] - 0s 25ms/step\n",
      "me_row_land = 0   Result = 2\n",
      "2\n",
      "1/1 [==============================] - 0s 26ms/step\n"
     ]
    },
    {
     "name": "stderr",
     "output_type": "stream",
     "text": [
      " 16%|████████████▉                                                                    | 16/100 [00:05<00:34,  2.41it/s]"
     ]
    },
    {
     "name": "stdout",
     "output_type": "stream",
     "text": [
      "me_row_land = 4   Result = 5\n",
      "5\n",
      "1/1 [==============================] - 0s 25ms/step\n",
      "me_row_land = 4   Result = 3\n",
      "3\n",
      "1/1 [==============================] - 0s 26ms/step\n",
      "me_row_land = 3   Result = 3\n",
      "3\n",
      "1/1 [==============================] - 0s 25ms/step\n",
      "me_row_land = 4   Result = 2\n",
      "2\n",
      "1/1 [==============================] - 0s 28ms/step\n",
      "me_row_land = 3   Result = 2\n",
      "2\n",
      "1/1 [==============================] - 0s 25ms/step\n",
      "me_row_land = 1   Result = 0\n",
      "0\n",
      "1/1 [==============================] - 0s 27ms/step\n",
      "me_row_land = 0   Result = 0\n",
      "0\n",
      "1/1 [==============================] - 0s 27ms/step\n"
     ]
    },
    {
     "name": "stderr",
     "output_type": "stream",
     "text": [
      " 17%|█████████████▊                                                                   | 17/100 [00:05<00:32,  2.55it/s]"
     ]
    },
    {
     "name": "stdout",
     "output_type": "stream",
     "text": [
      "me_row_land = 3   Result = 4\n",
      "4\n",
      "1/1 [==============================] - 0s 26ms/step\n",
      "me_row_land = 5   Result = 3\n",
      "3\n",
      "1/1 [==============================] - 0s 26ms/step\n",
      "me_row_land = 4   Result = 5\n",
      "5\n",
      "1/1 [==============================] - 0s 26ms/step\n",
      "me_row_land = 3   Result = 5\n",
      "5\n",
      "1/1 [==============================] - 0s 27ms/step\n",
      "me_row_land = 3   Result = 3\n",
      "3\n",
      "1/1 [==============================] - 0s 26ms/step\n",
      "me_row_land = 2   Result = 3\n",
      "3\n",
      "1/1 [==============================] - 0s 26ms/step\n"
     ]
    },
    {
     "name": "stderr",
     "output_type": "stream",
     "text": [
      " 18%|██████████████▌                                                                  | 18/100 [00:06<00:29,  2.76it/s]"
     ]
    },
    {
     "name": "stdout",
     "output_type": "stream",
     "text": [
      "me_row_land = 1   Result = 3\n",
      "3\n",
      "1/1 [==============================] - 0s 26ms/step\n",
      "me_row_land = 5   Result = 3\n",
      "3\n",
      "1/1 [==============================] - 0s 26ms/step\n",
      "me_row_land = 4   Result = 2\n",
      "2\n",
      "1/1 [==============================] - 0s 26ms/step\n",
      "me_row_land = 3   Result = 2\n",
      "2\n",
      "1/1 [==============================] - 0s 25ms/step\n",
      "me_row_land = 2   Result = 2\n",
      "2\n",
      "1/1 [==============================] - 0s 26ms/step\n",
      "me_row_land = 4   Result = 3\n",
      "3\n",
      "1/1 [==============================] - 0s 26ms/step\n"
     ]
    },
    {
     "name": "stderr",
     "output_type": "stream",
     "text": [
      " 19%|███████████████▍                                                                 | 19/100 [00:06<00:27,  2.95it/s]"
     ]
    },
    {
     "name": "stdout",
     "output_type": "stream",
     "text": [
      "me_row_land = 3   Result = 3\n",
      "3\n",
      "1/1 [==============================] - 0s 26ms/step\n",
      "me_row_land = 5   Result = 3\n",
      "3\n",
      "1/1 [==============================] - 0s 26ms/step\n",
      "me_row_land = 4   Result = 6\n",
      "6\n",
      "1/1 [==============================] - 0s 25ms/step\n",
      "me_row_land = 2   Result = 6\n",
      "6\n",
      "1/1 [==============================] - 0s 26ms/step\n",
      "me_row_land = 1   Result = 6\n",
      "6\n",
      "1/1 [==============================] - 0s 26ms/step\n",
      "me_row_land = 4   Result = 3\n",
      "3\n",
      "1/1 [==============================] - 0s 27ms/step\n",
      "me_row_land = 4   Result = 4\n",
      "4\n",
      "1/1 [==============================] - 0s 26ms/step\n",
      "me_row_land = 3   Result = 4\n",
      "4\n",
      "1/1 [==============================] - 0s 27ms/step\n"
     ]
    },
    {
     "name": "stderr",
     "output_type": "stream",
     "text": [
      " 20%|████████████████▏                                                                | 20/100 [00:06<00:28,  2.82it/s]"
     ]
    },
    {
     "name": "stdout",
     "output_type": "stream",
     "text": [
      "me_row_land = 2   Result = 4\n",
      "4\n",
      "1/1 [==============================] - 0s 26ms/step\n",
      "me_row_land = 4   Result = 6\n",
      "6\n",
      "1/1 [==============================] - 0s 26ms/step\n",
      "me_row_land = 3   Result = 6\n",
      "6\n",
      "1/1 [==============================] - 0s 26ms/step\n",
      "me_row_land = 2   Result = 6\n",
      "6\n",
      "1/1 [==============================] - 0s 27ms/step\n",
      "me_row_land = 0   Result = 6\n",
      "6\n",
      "1/1 [==============================] - 0s 25ms/step\n",
      "me_row_land = 3   Result = 5\n",
      "5\n",
      "1/1 [==============================] - 0s 26ms/step\n",
      "me_row_land = 2   Result = 5\n",
      "5\n",
      "1/1 [==============================] - 0s 25ms/step\n"
     ]
    },
    {
     "name": "stderr",
     "output_type": "stream",
     "text": [
      " 21%|█████████████████                                                                | 21/100 [00:07<00:27,  2.86it/s]"
     ]
    },
    {
     "name": "stdout",
     "output_type": "stream",
     "text": [
      "me_row_land = 1   Result = 5\n",
      "5\n",
      "1/1 [==============================] - 0s 27ms/step\n",
      "me_row_land = 5   Result = 3\n",
      "3\n",
      "1/1 [==============================] - 0s 26ms/step\n",
      "me_row_land = 5   Result = 4\n",
      "4\n",
      "1/1 [==============================] - 0s 28ms/step\n",
      "me_row_land = 4   Result = 2\n",
      "2\n",
      "1/1 [==============================] - 0s 26ms/step\n",
      "me_row_land = 3   Result = 2\n",
      "2\n",
      "1/1 [==============================] - 0s 25ms/step\n"
     ]
    },
    {
     "name": "stderr",
     "output_type": "stream",
     "text": [
      " 22%|█████████████████▊                                                               | 22/100 [00:07<00:24,  3.16it/s]"
     ]
    },
    {
     "name": "stdout",
     "output_type": "stream",
     "text": [
      "me_row_land = 2   Result = 2\n",
      "2\n",
      "1/1 [==============================] - 0s 25ms/step\n",
      "me_row_land = 4   Result = 0\n",
      "0\n",
      "1/1 [==============================] - 0s 26ms/step\n",
      "me_row_land = 2   Result = 0\n",
      "0\n",
      "1/1 [==============================] - 0s 28ms/step\n",
      "me_row_land = 1   Result = 0\n",
      "0\n",
      "1/1 [==============================] - 0s 28ms/step\n",
      "me_row_land = 0   Result = 0\n",
      "0\n",
      "1/1 [==============================] - 0s 26ms/step\n",
      "me_row_land = 3   Result = 1\n",
      "1\n",
      "1/1 [==============================] - 0s 27ms/step\n"
     ]
    },
    {
     "name": "stderr",
     "output_type": "stream",
     "text": [
      " 23%|██████████████████▋                                                              | 23/100 [00:07<00:24,  3.21it/s]"
     ]
    },
    {
     "name": "stdout",
     "output_type": "stream",
     "text": [
      "me_row_land = 2   Result = 1\n",
      "1\n",
      "1/1 [==============================] - 0s 28ms/step\n",
      "me_row_land = 5   Result = 3\n",
      "3\n",
      "1/1 [==============================] - 0s 27ms/step\n",
      "me_row_land = 4   Result = 3\n",
      "3\n",
      "1/1 [==============================] - 0s 27ms/step\n",
      "me_row_land = 2   Result = 3\n",
      "3\n",
      "1/1 [==============================] - 0s 27ms/step\n",
      "me_row_land = 4   Result = 4\n",
      "4\n",
      "1/1 [==============================] - 0s 27ms/step\n",
      "me_row_land = 2   Result = 4\n",
      "4\n",
      "1/1 [==============================] - 0s 28ms/step\n"
     ]
    },
    {
     "name": "stderr",
     "output_type": "stream",
     "text": [
      " 24%|███████████████████▍                                                             | 24/100 [00:08<00:23,  3.22it/s]"
     ]
    },
    {
     "name": "stdout",
     "output_type": "stream",
     "text": [
      "me_row_land = 4   Result = 2\n",
      "2\n",
      "1/1 [==============================] - 0s 26ms/step\n",
      "me_row_land = 4   Result = 5\n",
      "5\n",
      "1/1 [==============================] - 0s 29ms/step\n",
      "me_row_land = 3   Result = 5\n",
      "5\n",
      "1/1 [==============================] - 0s 27ms/step\n",
      "me_row_land = 2   Result = 5\n",
      "5\n",
      "1/1 [==============================] - 0s 27ms/step\n",
      "me_row_land = 4   Result = 2\n",
      "2\n",
      "1/1 [==============================] - 0s 28ms/step\n",
      "me_row_land = 3   Result = 2\n",
      "2\n",
      "1/1 [==============================] - 0s 28ms/step\n"
     ]
    },
    {
     "name": "stderr",
     "output_type": "stream",
     "text": [
      " 25%|████████████████████▎                                                            | 25/100 [00:08<00:23,  3.24it/s]"
     ]
    },
    {
     "name": "stdout",
     "output_type": "stream",
     "text": [
      "me_row_land = 2   Result = 2\n",
      "2\n",
      "1/1 [==============================] - 0s 28ms/step\n",
      "me_row_land = 4   Result = 6\n",
      "6\n",
      "1/1 [==============================] - 0s 27ms/step\n",
      "me_row_land = 2   Result = 6\n",
      "6\n",
      "1/1 [==============================] - 0s 29ms/step\n",
      "me_row_land = 1   Result = 6\n",
      "6\n",
      "1/1 [==============================] - 0s 28ms/step\n",
      "me_row_land = 5   Result = 3\n",
      "3\n",
      "1/1 [==============================] - 0s 26ms/step\n",
      "me_row_land = 4   Result = 3\n",
      "3\n",
      "1/1 [==============================] - 0s 27ms/step\n",
      "me_row_land = 4   Result = 2\n",
      "2\n",
      "1/1 [==============================] - 0s 27ms/step\n",
      "me_row_land = 3   Result = 2\n",
      "2\n",
      "1/1 [==============================] - 0s 31ms/step\n"
     ]
    },
    {
     "name": "stderr",
     "output_type": "stream",
     "text": [
      " 26%|█████████████████████                                                            | 26/100 [00:08<00:25,  2.94it/s]"
     ]
    },
    {
     "name": "stdout",
     "output_type": "stream",
     "text": [
      "me_row_land = 2   Result = 2\n",
      "2\n",
      "1/1 [==============================] - 0s 27ms/step\n",
      "me_row_land = 4   Result = 0\n",
      "0\n",
      "1/1 [==============================] - 0s 27ms/step\n",
      "me_row_land = 3   Result = 0\n",
      "0\n",
      "1/1 [==============================] - 0s 27ms/step\n"
     ]
    },
    {
     "name": "stderr",
     "output_type": "stream",
     "text": [
      " 27%|█████████████████████▊                                                           | 27/100 [00:09<00:20,  3.54it/s]"
     ]
    },
    {
     "name": "stdout",
     "output_type": "stream",
     "text": [
      "me_row_land = 2   Result = 0\n",
      "0\n",
      "1/1 [==============================] - 0s 32ms/step\n",
      "me_row_land = 4   Result = 3\n",
      "3\n",
      "1/1 [==============================] - 0s 28ms/step\n",
      "me_row_land = 2   Result = 3\n",
      "3\n",
      "1/1 [==============================] - 0s 26ms/step\n",
      "me_row_land = 4   Result = 5\n",
      "5\n",
      "1/1 [==============================] - 0s 27ms/step\n",
      "me_row_land = 2   Result = 5\n",
      "5\n",
      "1/1 [==============================] - 0s 25ms/step\n"
     ]
    },
    {
     "name": "stderr",
     "output_type": "stream",
     "text": [
      " 28%|██████████████████████▋                                                          | 28/100 [00:09<00:19,  3.62it/s]"
     ]
    },
    {
     "name": "stdout",
     "output_type": "stream",
     "text": [
      "me_row_land = 3   Result = 4\n",
      "4\n",
      "1/1 [==============================] - 0s 26ms/step\n",
      "me_row_land = 4   Result = 3\n",
      "3\n",
      "1/1 [==============================] - 0s 26ms/step\n",
      "me_row_land = 3   Result = 3\n",
      "3\n",
      "1/1 [==============================] - 0s 29ms/step\n",
      "me_row_land = 4   Result = 2\n",
      "2\n",
      "1/1 [==============================] - 0s 39ms/step\n"
     ]
    },
    {
     "name": "stderr",
     "output_type": "stream",
     "text": [
      " 29%|███████████████████████▍                                                         | 29/100 [00:09<00:18,  3.89it/s]"
     ]
    },
    {
     "name": "stdout",
     "output_type": "stream",
     "text": [
      "me_row_land = 3   Result = 2\n",
      "2\n",
      "1/1 [==============================] - 0s 29ms/step\n",
      "me_row_land = 4   Result = 3\n",
      "3\n",
      "1/1 [==============================] - 0s 26ms/step\n",
      "me_row_land = 4   Result = 2\n",
      "2\n",
      "1/1 [==============================] - 0s 27ms/step\n",
      "me_row_land = 3   Result = 2\n",
      "2\n",
      "1/1 [==============================] - 0s 27ms/step\n"
     ]
    },
    {
     "name": "stderr",
     "output_type": "stream",
     "text": [
      " 30%|████████████████████████▎                                                        | 30/100 [00:09<00:16,  4.13it/s]"
     ]
    },
    {
     "name": "stdout",
     "output_type": "stream",
     "text": [
      "me_row_land = 2   Result = 2\n",
      "2\n",
      "1/1 [==============================] - 0s 27ms/step\n",
      "me_row_land = 5   Result = 3\n",
      "3\n",
      "1/1 [==============================] - 0s 26ms/step\n",
      "me_row_land = 3   Result = 3\n",
      "3\n",
      "1/1 [==============================] - 0s 28ms/step\n",
      "me_row_land = 2   Result = 3\n",
      "3\n",
      "1/1 [==============================] - 0s 27ms/step\n",
      "me_row_land = 4   Result = 4\n",
      "4\n",
      "1/1 [==============================] - 0s 25ms/step\n",
      "me_row_land = 2   Result = 4\n",
      "4\n",
      "1/1 [==============================] - 0s 26ms/step\n",
      "me_row_land = 5   Result = 2\n",
      "2\n",
      "1/1 [==============================] - 0s 26ms/step\n",
      "me_row_land = 3   Result = 2\n",
      "2\n",
      "1/1 [==============================] - 0s 26ms/step\n"
     ]
    },
    {
     "name": "stderr",
     "output_type": "stream",
     "text": [
      " 31%|█████████████████████████                                                        | 31/100 [00:10<00:19,  3.50it/s]"
     ]
    },
    {
     "name": "stdout",
     "output_type": "stream",
     "text": [
      "me_row_land = 2   Result = 2\n",
      "2\n",
      "1/1 [==============================] - 0s 28ms/step\n",
      "me_row_land = 5   Result = 3\n",
      "3\n",
      "1/1 [==============================] - 0s 27ms/step\n",
      "me_row_land = 4   Result = 4\n",
      "4\n",
      "1/1 [==============================] - 0s 27ms/step\n",
      "me_row_land = 4   Result = 3\n",
      "3\n",
      "1/1 [==============================] - 0s 26ms/step\n"
     ]
    },
    {
     "name": "stderr",
     "output_type": "stream",
     "text": [
      " 32%|█████████████████████████▉                                                       | 32/100 [00:10<00:17,  3.84it/s]"
     ]
    },
    {
     "name": "stdout",
     "output_type": "stream",
     "text": [
      "me_row_land = 4   Result = 6\n",
      "6\n",
      "1/1 [==============================] - 0s 29ms/step\n",
      "me_row_land = 5   Result = 3\n",
      "3\n",
      "1/1 [==============================] - 0s 28ms/step\n",
      "me_row_land = 4   Result = 5\n",
      "5\n",
      "1/1 [==============================] - 0s 29ms/step\n",
      "me_row_land = 3   Result = 5\n",
      "5\n",
      "1/1 [==============================] - 0s 26ms/step\n"
     ]
    },
    {
     "name": "stderr",
     "output_type": "stream",
     "text": [
      " 33%|██████████████████████████▋                                                      | 33/100 [00:10<00:16,  4.09it/s]"
     ]
    },
    {
     "name": "stdout",
     "output_type": "stream",
     "text": [
      "me_row_land = 2   Result = 5\n",
      "5\n",
      "1/1 [==============================] - 0s 29ms/step\n",
      "me_row_land = 5   Result = 3\n",
      "3\n",
      "1/1 [==============================] - 0s 26ms/step\n",
      "me_row_land = 3   Result = 3\n",
      "3\n",
      "1/1 [==============================] - 0s 26ms/step\n",
      "me_row_land = 2   Result = 3\n",
      "3\n",
      "1/1 [==============================] - 0s 26ms/step\n",
      "me_row_land = 3   Result = 5\n",
      "5\n",
      "1/1 [==============================] - 0s 26ms/step\n",
      "me_row_land = 2   Result = 5\n",
      "5\n",
      "1/1 [==============================] - 0s 26ms/step\n",
      "me_row_land = 4   Result = 4\n",
      "4\n",
      "1/1 [==============================] - 0s 25ms/step\n",
      "me_row_land = 3   Result = 4\n",
      "4\n",
      "1/1 [==============================] - 0s 27ms/step\n"
     ]
    },
    {
     "name": "stderr",
     "output_type": "stream",
     "text": [
      " 34%|███████████████████████████▌                                                     | 34/100 [00:10<00:18,  3.47it/s]"
     ]
    },
    {
     "name": "stdout",
     "output_type": "stream",
     "text": [
      "me_row_land = 2   Result = 4\n",
      "4\n",
      "1/1 [==============================] - 0s 26ms/step\n",
      "me_row_land = 5   Result = 3\n",
      "3\n",
      "1/1 [==============================] - 0s 27ms/step\n",
      "me_row_land = 4   Result = 4\n",
      "4\n",
      "1/1 [==============================] - 0s 27ms/step\n",
      "me_row_land = 4   Result = 3\n",
      "3\n",
      "1/1 [==============================] - 0s 25ms/step\n"
     ]
    },
    {
     "name": "stderr",
     "output_type": "stream",
     "text": [
      " 35%|████████████████████████████▎                                                    | 35/100 [00:11<00:16,  3.84it/s]"
     ]
    },
    {
     "name": "stdout",
     "output_type": "stream",
     "text": [
      "me_row_land = 3   Result = 3\n",
      "3\n",
      "1/1 [==============================] - 0s 25ms/step\n",
      "me_row_land = 4   Result = 5\n",
      "5\n",
      "1/1 [==============================] - 0s 29ms/step\n",
      "me_row_land = 3   Result = 5\n",
      "5\n",
      "1/1 [==============================] - 0s 25ms/step\n"
     ]
    },
    {
     "name": "stderr",
     "output_type": "stream",
     "text": [
      " 36%|█████████████████████████████▏                                                   | 36/100 [00:11<00:14,  4.40it/s]"
     ]
    },
    {
     "name": "stdout",
     "output_type": "stream",
     "text": [
      "me_row_land = 2   Result = 5\n",
      "5\n",
      "1/1 [==============================] - 0s 26ms/step\n",
      "me_row_land = 5   Result = 3\n",
      "3\n",
      "1/1 [==============================] - 0s 27ms/step\n",
      "me_row_land = 4   Result = 4\n",
      "4\n",
      "1/1 [==============================] - 0s 26ms/step\n",
      "me_row_land = 4   Result = 3\n",
      "3\n",
      "1/1 [==============================] - 0s 26ms/step\n",
      "me_row_land = 4   Result = 2\n",
      "2\n",
      "1/1 [==============================] - 0s 26ms/step\n",
      "me_row_land = 2   Result = 2\n",
      "2\n",
      "1/1 [==============================] - 0s 27ms/step\n",
      "me_row_land = 1   Result = 2\n",
      "2\n",
      "1/1 [==============================] - 0s 26ms/step\n"
     ]
    },
    {
     "name": "stderr",
     "output_type": "stream",
     "text": [
      " 37%|█████████████████████████████▉                                                   | 37/100 [00:11<00:16,  3.84it/s]"
     ]
    },
    {
     "name": "stdout",
     "output_type": "stream",
     "text": [
      "me_row_land = 3   Result = 3\n",
      "3\n",
      "1/1 [==============================] - 0s 27ms/step\n",
      "me_row_land = 5   Result = 3\n",
      "3\n",
      "1/1 [==============================] - 0s 26ms/step\n",
      "me_row_land = 4   Result = 5\n",
      "5\n",
      "1/1 [==============================] - 0s 26ms/step\n",
      "me_row_land = 3   Result = 5\n",
      "5\n",
      "1/1 [==============================] - 0s 26ms/step\n"
     ]
    },
    {
     "name": "stderr",
     "output_type": "stream",
     "text": [
      " 38%|██████████████████████████████▊                                                  | 38/100 [00:11<00:14,  4.16it/s]"
     ]
    },
    {
     "name": "stdout",
     "output_type": "stream",
     "text": [
      "me_row_land = 2   Result = 5\n",
      "5\n",
      "1/1 [==============================] - 0s 28ms/step\n",
      "me_row_land = 5   Result = 3\n",
      "3\n",
      "1/1 [==============================] - 0s 29ms/step\n",
      "me_row_land = 4   Result = 0\n",
      "0\n",
      "1/1 [==============================] - 0s 26ms/step\n",
      "me_row_land = 3   Result = 0\n",
      "0\n",
      "1/1 [==============================] - 0s 26ms/step\n"
     ]
    },
    {
     "name": "stderr",
     "output_type": "stream",
     "text": [
      " 39%|███████████████████████████████▌                                                 | 39/100 [00:11<00:13,  4.41it/s]"
     ]
    },
    {
     "name": "stdout",
     "output_type": "stream",
     "text": [
      "me_row_land = 2   Result = 0\n",
      "0\n",
      "1/1 [==============================] - 0s 26ms/step\n",
      "me_row_land = 4   Result = 3\n",
      "3\n",
      "1/1 [==============================] - 0s 27ms/step\n",
      "me_row_land = 3   Result = 3\n",
      "3\n",
      "1/1 [==============================] - 0s 26ms/step\n"
     ]
    },
    {
     "name": "stderr",
     "output_type": "stream",
     "text": [
      " 40%|████████████████████████████████▍                                                | 40/100 [00:12<00:12,  4.92it/s]"
     ]
    },
    {
     "name": "stdout",
     "output_type": "stream",
     "text": [
      "me_row_land = 2   Result = 3\n",
      "3\n",
      "1/1 [==============================] - 0s 30ms/step\n",
      "me_row_land = 5   Result = 3\n",
      "3\n",
      "1/1 [==============================] - 0s 27ms/step\n",
      "me_row_land = 4   Result = 0\n",
      "0\n",
      "1/1 [==============================] - 0s 26ms/step\n",
      "me_row_land = 3   Result = 0\n",
      "0\n",
      "1/1 [==============================] - 0s 26ms/step\n"
     ]
    },
    {
     "name": "stderr",
     "output_type": "stream",
     "text": [
      " 41%|█████████████████████████████████▏                                               | 41/100 [00:12<00:11,  4.95it/s]"
     ]
    },
    {
     "name": "stdout",
     "output_type": "stream",
     "text": [
      "me_row_land = 2   Result = 0\n",
      "0\n",
      "1/1 [==============================] - 0s 27ms/step\n",
      "me_row_land = 5   Result = 3\n",
      "3\n",
      "1/1 [==============================] - 0s 26ms/step\n",
      "me_row_land = 4   Result = 0\n",
      "0\n",
      "1/1 [==============================] - 0s 25ms/step\n",
      "me_row_land = 3   Result = 0\n",
      "0\n",
      "1/1 [==============================] - 0s 25ms/step\n"
     ]
    },
    {
     "name": "stderr",
     "output_type": "stream",
     "text": [
      " 42%|██████████████████████████████████                                               | 42/100 [00:12<00:11,  5.01it/s]"
     ]
    },
    {
     "name": "stdout",
     "output_type": "stream",
     "text": [
      "me_row_land = 2   Result = 0\n",
      "0\n",
      "1/1 [==============================] - 0s 26ms/step\n",
      "me_row_land = 5   Result = 3\n",
      "3\n",
      "1/1 [==============================] - 0s 26ms/step\n",
      "me_row_land = 4   Result = 0\n",
      "0\n",
      "1/1 [==============================] - 0s 26ms/step\n",
      "me_row_land = 2   Result = 0\n",
      "0\n",
      "1/1 [==============================] - 0s 26ms/step\n",
      "me_row_land = 1   Result = 0\n",
      "0\n",
      "1/1 [==============================] - 0s 26ms/step\n",
      "me_row_land = 0   Result = 0\n",
      "0\n",
      "1/1 [==============================] - 0s 26ms/step\n",
      "me_row_land = 5   Result = 1\n",
      "1\n",
      "1/1 [==============================] - 0s 25ms/step\n",
      "me_row_land = 4   Result = 1\n",
      "1\n",
      "1/1 [==============================] - 0s 25ms/step\n",
      "me_row_land = 3   Result = 2\n",
      "2\n",
      "1/1 [==============================] - 0s 26ms/step\n",
      "me_row_land = 2   Result = 2\n",
      "2\n",
      "1/1 [==============================] - 0s 27ms/step\n",
      "me_row_land = 1   Result = 2\n",
      "2\n",
      "1/1 [==============================] - 0s 26ms/step\n",
      "me_row_land = 2   Result = 3\n",
      "3\n",
      "1/1 [==============================] - 0s 26ms/step\n",
      "me_row_land = 3   Result = 6\n",
      "6\n",
      "1/1 [==============================] - 0s 25ms/step\n"
     ]
    },
    {
     "name": "stderr",
     "output_type": "stream",
     "text": [
      " 43%|██████████████████████████████████▊                                              | 43/100 [00:13<00:18,  3.06it/s]"
     ]
    },
    {
     "name": "stdout",
     "output_type": "stream",
     "text": [
      "me_row_land = 3   Result = 4\n",
      "4\n",
      "1/1 [==============================] - 0s 27ms/step\n",
      "me_row_land = 5   Result = 3\n",
      "3\n",
      "1/1 [==============================] - 0s 26ms/step\n",
      "me_row_land = 4   Result = 5\n",
      "5\n",
      "1/1 [==============================] - 0s 25ms/step\n",
      "me_row_land = 3   Result = 5\n",
      "5\n",
      "1/1 [==============================] - 0s 25ms/step\n"
     ]
    },
    {
     "name": "stderr",
     "output_type": "stream",
     "text": [
      " 44%|███████████████████████████████████▋                                             | 44/100 [00:13<00:16,  3.49it/s]"
     ]
    },
    {
     "name": "stdout",
     "output_type": "stream",
     "text": [
      "me_row_land = 2   Result = 5\n",
      "5\n",
      "1/1 [==============================] - 0s 26ms/step\n",
      "me_row_land = 5   Result = 3\n",
      "3\n",
      "1/1 [==============================] - 0s 26ms/step\n",
      "me_row_land = 4   Result = 5\n",
      "5\n",
      "1/1 [==============================] - 0s 25ms/step\n",
      "me_row_land = 3   Result = 5\n",
      "5\n",
      "1/1 [==============================] - 0s 26ms/step\n"
     ]
    },
    {
     "name": "stderr",
     "output_type": "stream",
     "text": [
      " 45%|████████████████████████████████████▍                                            | 45/100 [00:13<00:14,  3.87it/s]"
     ]
    },
    {
     "name": "stdout",
     "output_type": "stream",
     "text": [
      "me_row_land = 2   Result = 5\n",
      "5\n",
      "1/1 [==============================] - 0s 26ms/step\n",
      "me_row_land = 4   Result = 6\n",
      "6\n",
      "1/1 [==============================] - 0s 27ms/step\n",
      "me_row_land = 3   Result = 6\n",
      "6\n",
      "1/1 [==============================] - 0s 26ms/step\n"
     ]
    },
    {
     "name": "stderr",
     "output_type": "stream",
     "text": [
      " 46%|█████████████████████████████████████▎                                           | 46/100 [00:13<00:12,  4.46it/s]"
     ]
    },
    {
     "name": "stdout",
     "output_type": "stream",
     "text": [
      "me_row_land = 2   Result = 6\n",
      "6\n",
      "1/1 [==============================] - 0s 26ms/step\n",
      "me_row_land = 5   Result = 3\n",
      "3\n",
      "1/1 [==============================] - 0s 26ms/step\n",
      "me_row_land = 4   Result = 0\n",
      "0\n",
      "1/1 [==============================] - 0s 27ms/step\n",
      "me_row_land = 2   Result = 0\n",
      "0\n",
      "1/1 [==============================] - 0s 27ms/step\n",
      "me_row_land = 1   Result = 0\n",
      "0\n",
      "1/1 [==============================] - 0s 35ms/step\n",
      "me_row_land = 0   Result = 0\n",
      "0\n",
      "1/1 [==============================] - 0s 28ms/step\n",
      "me_row_land = 3   Result = 1\n",
      "1\n",
      "1/1 [==============================] - 0s 27ms/step\n",
      "me_row_land = 2   Result = 1\n",
      "1\n",
      "1/1 [==============================] - 0s 29ms/step\n"
     ]
    },
    {
     "name": "stderr",
     "output_type": "stream",
     "text": [
      " 47%|██████████████████████████████████████                                           | 47/100 [00:14<00:14,  3.58it/s]"
     ]
    },
    {
     "name": "stdout",
     "output_type": "stream",
     "text": [
      "me_row_land = 1   Result = 1\n",
      "1\n",
      "1/1 [==============================] - 0s 27ms/step\n",
      "me_row_land = 4   Result = 0\n",
      "0\n",
      "1/1 [==============================] - 0s 27ms/step\n",
      "me_row_land = 3   Result = 0\n",
      "0\n",
      "1/1 [==============================] - 0s 26ms/step\n"
     ]
    },
    {
     "name": "stderr",
     "output_type": "stream",
     "text": [
      " 48%|██████████████████████████████████████▉                                          | 48/100 [00:14<00:12,  4.17it/s]"
     ]
    },
    {
     "name": "stdout",
     "output_type": "stream",
     "text": [
      "me_row_land = 2   Result = 0\n",
      "0\n",
      "1/1 [==============================] - 0s 25ms/step\n",
      "me_row_land = 5   Result = 3\n",
      "3\n",
      "1/1 [==============================] - 0s 25ms/step\n",
      "me_row_land = 3   Result = 3\n",
      "3\n",
      "1/1 [==============================] - 0s 27ms/step\n",
      "me_row_land = 2   Result = 3\n",
      "3\n",
      "1/1 [==============================] - 0s 26ms/step\n",
      "me_row_land = 4   Result = 5\n",
      "5\n",
      "1/1 [==============================] - 0s 26ms/step\n",
      "me_row_land = 3   Result = 5\n",
      "5\n",
      "1/1 [==============================] - 0s 26ms/step\n"
     ]
    },
    {
     "name": "stderr",
     "output_type": "stream",
     "text": [
      " 49%|███████████████████████████████████████▋                                         | 49/100 [00:14<00:12,  3.94it/s]"
     ]
    },
    {
     "name": "stdout",
     "output_type": "stream",
     "text": [
      "me_row_land = 2   Result = 5\n",
      "5\n",
      "1/1 [==============================] - 0s 26ms/step\n",
      "me_row_land = 5   Result = 3\n",
      "3\n",
      "1/1 [==============================] - 0s 26ms/step\n",
      "me_row_land = 3   Result = 3\n",
      "3\n",
      "1/1 [==============================] - 0s 26ms/step\n",
      "me_row_land = 4   Result = 4\n",
      "4\n",
      "1/1 [==============================] - 0s 26ms/step\n",
      "me_row_land = 3   Result = 4\n",
      "4\n",
      "1/1 [==============================] - 0s 25ms/step\n",
      "me_row_land = 5   Result = 2\n",
      "2\n",
      "1/1 [==============================] - 0s 25ms/step\n",
      "me_row_land = 4   Result = 2\n",
      "2\n",
      "1/1 [==============================] - 0s 26ms/step\n"
     ]
    },
    {
     "name": "stderr",
     "output_type": "stream",
     "text": [
      " 50%|████████████████████████████████████████▌                                        | 50/100 [00:14<00:13,  3.59it/s]"
     ]
    },
    {
     "name": "stdout",
     "output_type": "stream",
     "text": [
      "me_row_land = 3   Result = 2\n",
      "2\n",
      "1/1 [==============================] - 0s 26ms/step\n",
      "me_row_land = 4   Result = 5\n",
      "5\n",
      "1/1 [==============================] - 0s 26ms/step\n",
      "me_row_land = 3   Result = 5\n",
      "5\n",
      "1/1 [==============================] - 0s 30ms/step\n"
     ]
    },
    {
     "name": "stderr",
     "output_type": "stream",
     "text": [
      " 51%|█████████████████████████████████████████▎                                       | 51/100 [00:14<00:11,  4.14it/s]"
     ]
    },
    {
     "name": "stdout",
     "output_type": "stream",
     "text": [
      "me_row_land = 2   Result = 5\n",
      "5\n",
      "1/1 [==============================] - 0s 31ms/step\n",
      "me_row_land = 5   Result = 3\n",
      "3\n",
      "1/1 [==============================] - 0s 28ms/step\n",
      "me_row_land = 4   Result = 6\n",
      "6\n",
      "1/1 [==============================] - 0s 28ms/step\n",
      "me_row_land = 3   Result = 6\n",
      "6\n",
      "1/1 [==============================] - 0s 27ms/step\n",
      "me_row_land = 5   Result = 4\n",
      "4\n",
      "1/1 [==============================] - 0s 26ms/step\n",
      "me_row_land = 4   Result = 2\n",
      "2\n",
      "1/1 [==============================] - 0s 27ms/step\n",
      "me_row_land = 3   Result = 2\n",
      "2\n",
      "1/1 [==============================] - 0s 26ms/step\n"
     ]
    },
    {
     "name": "stderr",
     "output_type": "stream",
     "text": [
      " 52%|██████████████████████████████████████████                                       | 52/100 [00:15<00:13,  3.62it/s]"
     ]
    },
    {
     "name": "stdout",
     "output_type": "stream",
     "text": [
      "me_row_land = 2   Result = 2\n",
      "2\n",
      "1/1 [==============================] - 0s 26ms/step\n",
      "me_row_land = 4   Result = 3\n",
      "3\n",
      "1/1 [==============================] - 0s 26ms/step\n",
      "me_row_land = 3   Result = 3\n",
      "3\n",
      "1/1 [==============================] - 0s 27ms/step\n",
      "me_row_land = 3   Result = 2\n",
      "2\n",
      "1/1 [==============================] - 0s 26ms/step\n",
      "me_row_land = 2   Result = 2\n",
      "2\n",
      "1/1 [==============================] - 0s 26ms/step\n"
     ]
    },
    {
     "name": "stderr",
     "output_type": "stream",
     "text": [
      " 53%|██████████████████████████████████████████▉                                      | 53/100 [00:15<00:12,  3.77it/s]"
     ]
    },
    {
     "name": "stdout",
     "output_type": "stream",
     "text": [
      "me_row_land = 3   Result = 5\n",
      "5\n",
      "1/1 [==============================] - 0s 27ms/step\n",
      "me_row_land = 5   Result = 3\n",
      "3\n",
      "1/1 [==============================] - 0s 26ms/step\n",
      "me_row_land = 3   Result = 4\n",
      "4\n",
      "1/1 [==============================] - 0s 25ms/step\n",
      "me_row_land = 4   Result = 3\n",
      "3\n",
      "1/1 [==============================] - 0s 25ms/step\n"
     ]
    },
    {
     "name": "stderr",
     "output_type": "stream",
     "text": [
      " 54%|███████████████████████████████████████████▋                                     | 54/100 [00:15<00:11,  4.10it/s]"
     ]
    },
    {
     "name": "stdout",
     "output_type": "stream",
     "text": [
      "me_row_land = 3   Result = 3\n",
      "3\n",
      "1/1 [==============================] - 0s 25ms/step\n",
      "me_row_land = 5   Result = 3\n",
      "3\n",
      "1/1 [==============================] - 0s 27ms/step\n",
      "me_row_land = 4   Result = 3\n",
      "3\n",
      "1/1 [==============================] - 0s 30ms/step\n",
      "me_row_land = 3   Result = 3\n",
      "3\n",
      "1/1 [==============================] - 0s 25ms/step\n",
      "me_row_land = 4   Result = 4\n",
      "4\n",
      "1/1 [==============================] - 0s 29ms/step\n",
      "me_row_land = 2   Result = 4\n",
      "4\n",
      "1/1 [==============================] - 0s 32ms/step\n",
      "me_row_land = 5   Result = 2\n",
      "2\n",
      "1/1 [==============================] - 0s 30ms/step\n"
     ]
    },
    {
     "name": "stderr",
     "output_type": "stream",
     "text": [
      " 55%|████████████████████████████████████████████▌                                    | 55/100 [00:16<00:12,  3.59it/s]"
     ]
    },
    {
     "name": "stdout",
     "output_type": "stream",
     "text": [
      "me_row_land = 4   Result = 2\n",
      "2\n",
      "1/1 [==============================] - 0s 29ms/step\n",
      "me_row_land = 5   Result = 3\n",
      "3\n",
      "1/1 [==============================] - 0s 27ms/step\n",
      "me_row_land = 4   Result = 6\n",
      "6\n",
      "1/1 [==============================] - 0s 27ms/step\n",
      "me_row_land = 3   Result = 6\n",
      "6\n",
      "1/1 [==============================] - 0s 31ms/step\n",
      "me_row_land = 3   Result = 2\n",
      "2\n",
      "1/1 [==============================] - 0s 31ms/step\n",
      "me_row_land = 2   Result = 2\n",
      "2\n",
      "1/1 [==============================] - 0s 32ms/step\n",
      "me_row_land = 1   Result = 2\n",
      "2\n"
     ]
    },
    {
     "name": "stderr",
     "output_type": "stream",
     "text": [
      " 56%|█████████████████████████████████████████████▎                                   | 56/100 [00:16<00:13,  3.38it/s]"
     ]
    },
    {
     "name": "stdout",
     "output_type": "stream",
     "text": [
      "1/1 [==============================] - 0s 28ms/step\n",
      "me_row_land = 5   Result = 3\n",
      "3\n",
      "1/1 [==============================] - 0s 32ms/step\n",
      "me_row_land = 4   Result = 4\n",
      "4\n",
      "1/1 [==============================] - 0s 30ms/step\n",
      "me_row_land = 4   Result = 3\n",
      "3\n",
      "1/1 [==============================] - 0s 29ms/step\n",
      "me_row_land = 4   Result = 6\n",
      "6\n",
      "1/1 [==============================] - 0s 27ms/step\n",
      "me_row_land = 3   Result = 6\n",
      "6\n",
      "1/1 [==============================] - 0s 26ms/step\n"
     ]
    },
    {
     "name": "stderr",
     "output_type": "stream",
     "text": [
      " 57%|██████████████████████████████████████████████▏                                  | 57/100 [00:16<00:13,  3.29it/s]"
     ]
    },
    {
     "name": "stdout",
     "output_type": "stream",
     "text": [
      "me_row_land = 2   Result = 6\n",
      "6\n",
      "1/1 [==============================] - 0s 33ms/step\n",
      "me_row_land = 5   Result = 3\n",
      "3\n",
      "1/1 [==============================] - 0s 32ms/step\n",
      "me_row_land = 4   Result = 3\n",
      "3\n",
      "1/1 [==============================] - 0s 28ms/step\n",
      "me_row_land = 4   Result = 2\n",
      "2\n",
      "1/1 [==============================] - 0s 28ms/step\n",
      "me_row_land = 3   Result = 2\n",
      "2\n",
      "1/1 [==============================] - 0s 27ms/step\n"
     ]
    },
    {
     "name": "stderr",
     "output_type": "stream",
     "text": [
      " 58%|██████████████████████████████████████████████▉                                  | 58/100 [00:17<00:12,  3.40it/s]"
     ]
    },
    {
     "name": "stdout",
     "output_type": "stream",
     "text": [
      "me_row_land = 2   Result = 2\n",
      "2\n",
      "1/1 [==============================] - 0s 27ms/step\n",
      "me_row_land = 5   Result = 3\n",
      "3\n",
      "1/1 [==============================] - 0s 27ms/step\n",
      "me_row_land = 3   Result = 3\n",
      "3\n",
      "1/1 [==============================] - 0s 25ms/step\n",
      "me_row_land = 2   Result = 3\n",
      "3\n",
      "1/1 [==============================] - 0s 25ms/step\n",
      "me_row_land = 4   Result = 4\n",
      "4\n",
      "1/1 [==============================] - 0s 25ms/step\n",
      "me_row_land = 3   Result = 4\n",
      "4\n",
      "1/1 [==============================] - 0s 27ms/step\n"
     ]
    },
    {
     "name": "stderr",
     "output_type": "stream",
     "text": [
      " 59%|███████████████████████████████████████████████▊                                 | 59/100 [00:17<00:12,  3.41it/s]"
     ]
    },
    {
     "name": "stdout",
     "output_type": "stream",
     "text": [
      "me_row_land = 2   Result = 4\n",
      "4\n",
      "1/1 [==============================] - 0s 26ms/step\n",
      "me_row_land = 5   Result = 3\n",
      "3\n",
      "1/1 [==============================] - 0s 26ms/step\n",
      "me_row_land = 4   Result = 2\n",
      "2\n",
      "1/1 [==============================] - 0s 26ms/step\n",
      "me_row_land = 3   Result = 2\n",
      "2\n",
      "1/1 [==============================] - 0s 26ms/step\n",
      "me_row_land = 3   Result = 0\n",
      "0\n",
      "1/1 [==============================] - 0s 26ms/step\n",
      "me_row_land = 2   Result = 0\n",
      "0\n",
      "1/1 [==============================] - 0s 27ms/step\n"
     ]
    },
    {
     "name": "stderr",
     "output_type": "stream",
     "text": [
      " 60%|████████████████████████████████████████████████▌                                | 60/100 [00:17<00:11,  3.44it/s]"
     ]
    },
    {
     "name": "stdout",
     "output_type": "stream",
     "text": [
      "me_row_land = 2   Result = 2\n",
      "2\n",
      "1/1 [==============================] - 0s 27ms/step\n",
      "me_row_land = 4   Result = 2\n",
      "2\n",
      "1/1 [==============================] - 0s 25ms/step\n",
      "me_row_land = 3   Result = 2\n",
      "2\n",
      "1/1 [==============================] - 0s 27ms/step\n"
     ]
    },
    {
     "name": "stderr",
     "output_type": "stream",
     "text": [
      " 61%|█████████████████████████████████████████████████▍                               | 61/100 [00:17<00:09,  4.05it/s]"
     ]
    },
    {
     "name": "stdout",
     "output_type": "stream",
     "text": [
      "me_row_land = 2   Result = 2\n",
      "2\n",
      "1/1 [==============================] - 0s 30ms/step\n",
      "me_row_land = 5   Result = 3\n",
      "3\n",
      "1/1 [==============================] - 0s 26ms/step\n",
      "me_row_land = 5   Result = 4\n",
      "4\n",
      "1/1 [==============================] - 0s 27ms/step\n",
      "me_row_land = 4   Result = 5\n",
      "5\n",
      "1/1 [==============================] - 0s 25ms/step\n",
      "me_row_land = 2   Result = 5\n",
      "5\n",
      "1/1 [==============================] - 0s 31ms/step\n",
      "me_row_land = 1   Result = 5\n",
      "5\n",
      "1/1 [==============================] - 0s 39ms/step\n",
      "me_row_land = 0   Result = 5\n",
      "5\n",
      "1/1 [==============================] - 0s 28ms/step\n",
      "me_row_land = 4   Result = 2\n",
      "2\n",
      "1/1 [==============================] - 0s 27ms/step\n",
      "me_row_land = 3   Result = 2\n",
      "2\n",
      "1/1 [==============================] - 0s 28ms/step\n",
      "me_row_land = 2   Result = 2\n",
      "2\n",
      "1/1 [==============================] - 0s 26ms/step\n",
      "me_row_land = 3   Result = 0\n",
      "0\n",
      "1/1 [==============================] - 0s 26ms/step\n",
      "me_row_land = 3   Result = 3\n",
      "3\n",
      "1/1 [==============================] - 0s 28ms/step\n",
      "me_row_land = 2   Result = 3\n",
      "3\n",
      "1/1 [==============================] - 0s 26ms/step\n",
      "me_row_land = 1   Result = 1\n",
      "1\n",
      "1/1 [==============================] - 0s 26ms/step\n"
     ]
    },
    {
     "name": "stderr",
     "output_type": "stream",
     "text": [
      " 62%|██████████████████████████████████████████████████▏                              | 62/100 [00:18<00:14,  2.58it/s]"
     ]
    },
    {
     "name": "stdout",
     "output_type": "stream",
     "text": [
      "me_row_land = 3   Result = 4\n",
      "4\n",
      "1/1 [==============================] - 0s 26ms/step\n",
      "me_row_land = 5   Result = 3\n",
      "3\n",
      "1/1 [==============================] - 0s 25ms/step\n",
      "me_row_land = 4   Result = 5\n",
      "5\n",
      "1/1 [==============================] - 0s 26ms/step\n",
      "me_row_land = 3   Result = 5\n",
      "5\n",
      "1/1 [==============================] - 0s 27ms/step\n"
     ]
    },
    {
     "name": "stderr",
     "output_type": "stream",
     "text": [
      " 63%|███████████████████████████████████████████████████                              | 63/100 [00:18<00:12,  3.03it/s]"
     ]
    },
    {
     "name": "stdout",
     "output_type": "stream",
     "text": [
      "me_row_land = 2   Result = 5\n",
      "5\n",
      "1/1 [==============================] - 0s 26ms/step\n",
      "me_row_land = 5   Result = 3\n",
      "3\n",
      "1/1 [==============================] - 0s 25ms/step\n",
      "me_row_land = 4   Result = 5\n",
      "5\n",
      "1/1 [==============================] - 0s 26ms/step\n",
      "me_row_land = 3   Result = 5\n",
      "5\n",
      "1/1 [==============================] - 0s 26ms/step\n"
     ]
    },
    {
     "name": "stderr",
     "output_type": "stream",
     "text": [
      " 64%|███████████████████████████████████████████████████▊                             | 64/100 [00:18<00:10,  3.46it/s]"
     ]
    },
    {
     "name": "stdout",
     "output_type": "stream",
     "text": [
      "me_row_land = 2   Result = 5\n",
      "5\n",
      "1/1 [==============================] - 0s 30ms/step\n",
      "me_row_land = 5   Result = 3\n",
      "3\n",
      "1/1 [==============================] - 0s 33ms/step\n",
      "me_row_land = 4   Result = 4\n",
      "4\n",
      "1/1 [==============================] - 0s 30ms/step\n",
      "me_row_land = 4   Result = 3\n",
      "3\n",
      "1/1 [==============================] - 0s 28ms/step\n"
     ]
    },
    {
     "name": "stderr",
     "output_type": "stream",
     "text": [
      " 65%|████████████████████████████████████████████████████▋                            | 65/100 [00:19<00:09,  3.73it/s]"
     ]
    },
    {
     "name": "stdout",
     "output_type": "stream",
     "text": [
      "me_row_land = 3   Result = 3\n",
      "3\n",
      "1/1 [==============================] - 0s 28ms/step\n",
      "me_row_land = 4   Result = 6\n",
      "6\n",
      "1/1 [==============================] - 0s 26ms/step\n",
      "me_row_land = 3   Result = 6\n",
      "6\n",
      "1/1 [==============================] - 0s 27ms/step\n"
     ]
    },
    {
     "name": "stderr",
     "output_type": "stream",
     "text": [
      " 66%|█████████████████████████████████████████████████████▍                           | 66/100 [00:19<00:07,  4.27it/s]"
     ]
    },
    {
     "name": "stdout",
     "output_type": "stream",
     "text": [
      "me_row_land = 2   Result = 6\n",
      "6\n",
      "1/1 [==============================] - 0s 36ms/step\n",
      "me_row_land = 4   Result = 3\n",
      "3\n",
      "1/1 [==============================] - 0s 27ms/step\n",
      "me_row_land = 3   Result = 3\n",
      "3\n",
      "1/1 [==============================] - 0s 28ms/step\n",
      "me_row_land = 2   Result = 3\n",
      "3\n",
      "1/1 [==============================] - 0s 26ms/step\n",
      "me_row_land = 3   Result = 4\n",
      "4\n",
      "1/1 [==============================] - 0s 28ms/step\n",
      "me_row_land = 4   Result = 2\n",
      "2\n",
      "1/1 [==============================] - 0s 28ms/step\n"
     ]
    },
    {
     "name": "stderr",
     "output_type": "stream",
     "text": [
      " 67%|██████████████████████████████████████████████████████▎                          | 67/100 [00:19<00:08,  3.87it/s]"
     ]
    },
    {
     "name": "stdout",
     "output_type": "stream",
     "text": [
      "me_row_land = 3   Result = 5\n",
      "5\n",
      "1/1 [==============================] - 0s 27ms/step\n",
      "me_row_land = 5   Result = 3\n",
      "3\n",
      "1/1 [==============================] - 0s 26ms/step\n",
      "me_row_land = 3   Result = 4\n",
      "4\n",
      "1/1 [==============================] - 0s 27ms/step\n",
      "me_row_land = 4   Result = 3\n",
      "3\n",
      "1/1 [==============================] - 0s 26ms/step\n",
      "me_row_land = 3   Result = 3\n",
      "3\n",
      "1/1 [==============================] - 0s 26ms/step\n",
      "me_row_land = 5   Result = 2\n",
      "2\n",
      "1/1 [==============================] - 0s 26ms/step\n",
      "me_row_land = 3   Result = 2\n",
      "2\n",
      "1/1 [==============================] - 0s 25ms/step\n",
      "me_row_land = 2   Result = 2\n",
      "2\n",
      "1/1 [==============================] - 0s 31ms/step\n"
     ]
    },
    {
     "name": "stderr",
     "output_type": "stream",
     "text": [
      " 68%|███████████████████████████████████████████████████████                          | 68/100 [00:19<00:09,  3.33it/s]"
     ]
    },
    {
     "name": "stdout",
     "output_type": "stream",
     "text": [
      "me_row_land = 1   Result = 2\n",
      "2\n",
      "1/1 [==============================] - 0s 27ms/step\n",
      "me_row_land = 5   Result = 3\n",
      "3\n",
      "1/1 [==============================] - 0s 28ms/step\n",
      "me_row_land = 4   Result = 5\n",
      "5\n",
      "1/1 [==============================] - 0s 27ms/step\n",
      "me_row_land = 3   Result = 5\n",
      "5\n",
      "1/1 [==============================] - 0s 27ms/step\n",
      "me_row_land = 2   Result = 5\n",
      "5\n",
      "1/1 [==============================] - 0s 27ms/step\n",
      "me_row_land = 0   Result = 5\n",
      "5\n",
      "1/1 [==============================] - 0s 28ms/step\n",
      "me_row_land = 4   Result = 4\n",
      "4\n",
      "1/1 [==============================] - 0s 26ms/step\n",
      "me_row_land = 3   Result = 4\n",
      "4\n",
      "1/1 [==============================] - 0s 27ms/step\n",
      "me_row_land = 4   Result = 2\n",
      "2\n",
      "1/1 [==============================] - 0s 27ms/step\n",
      "me_row_land = 3   Result = 2\n",
      "2\n",
      "1/1 [==============================] - 0s 27ms/step\n"
     ]
    },
    {
     "name": "stderr",
     "output_type": "stream",
     "text": [
      " 69%|███████████████████████████████████████████████████████▉                         | 69/100 [00:20<00:11,  2.78it/s]"
     ]
    },
    {
     "name": "stdout",
     "output_type": "stream",
     "text": [
      "me_row_land = 2   Result = 2\n",
      "2\n",
      "1/1 [==============================] - 0s 27ms/step\n",
      "me_row_land = 5   Result = 3\n",
      "3\n",
      "1/1 [==============================] - 0s 27ms/step\n",
      "me_row_land = 4   Result = 0\n",
      "0\n",
      "1/1 [==============================] - 0s 27ms/step\n",
      "me_row_land = 3   Result = 0\n",
      "0\n",
      "1/1 [==============================] - 0s 26ms/step\n"
     ]
    },
    {
     "name": "stderr",
     "output_type": "stream",
     "text": [
      " 70%|████████████████████████████████████████████████████████▋                        | 70/100 [00:20<00:09,  3.21it/s]"
     ]
    },
    {
     "name": "stdout",
     "output_type": "stream",
     "text": [
      "me_row_land = 2   Result = 0\n",
      "0\n",
      "1/1 [==============================] - 0s 26ms/step\n",
      "me_row_land = 5   Result = 3\n",
      "3\n",
      "1/1 [==============================] - 0s 26ms/step\n",
      "me_row_land = 4   Result = 3\n",
      "3\n",
      "1/1 [==============================] - 0s 27ms/step\n",
      "me_row_land = 3   Result = 3\n",
      "3\n",
      "1/1 [==============================] - 0s 26ms/step\n",
      "me_row_land = 4   Result = 5\n",
      "5\n",
      "1/1 [==============================] - 0s 25ms/step\n"
     ]
    },
    {
     "name": "stderr",
     "output_type": "stream",
     "text": [
      " 71%|█████████████████████████████████████████████████████████▌                       | 71/100 [00:20<00:08,  3.43it/s]"
     ]
    },
    {
     "name": "stdout",
     "output_type": "stream",
     "text": [
      "me_row_land = 4   Result = 2\n",
      "2\n",
      "1/1 [==============================] - 0s 36ms/step\n",
      "me_row_land = 5   Result = 3\n",
      "3\n",
      "1/1 [==============================] - 0s 28ms/step\n",
      "me_row_land = 3   Result = 1\n",
      "1\n",
      "1/1 [==============================] - 0s 27ms/step\n",
      "me_row_land = 4   Result = 3\n",
      "3\n",
      "1/1 [==============================] - 0s 31ms/step\n",
      "me_row_land = 4   Result = 0\n",
      "0\n",
      "1/1 [==============================] - 0s 29ms/step\n",
      "me_row_land = 3   Result = 0\n",
      "0\n",
      "1/1 [==============================] - 0s 27ms/step\n"
     ]
    },
    {
     "name": "stderr",
     "output_type": "stream",
     "text": [
      " 72%|██████████████████████████████████████████████████████████▎                      | 72/100 [00:21<00:08,  3.28it/s]"
     ]
    },
    {
     "name": "stdout",
     "output_type": "stream",
     "text": [
      "me_row_land = 2   Result = 0\n",
      "0\n",
      "1/1 [==============================] - 0s 28ms/step\n",
      "me_row_land = 4   Result = 5\n",
      "5\n",
      "1/1 [==============================] - 0s 28ms/step\n",
      "me_row_land = 3   Result = 5\n",
      "5\n",
      "1/1 [==============================] - 0s 27ms/step\n"
     ]
    },
    {
     "name": "stderr",
     "output_type": "stream",
     "text": [
      " 73%|███████████████████████████████████████████████████████████▏                     | 73/100 [00:21<00:06,  3.86it/s]"
     ]
    },
    {
     "name": "stdout",
     "output_type": "stream",
     "text": [
      "me_row_land = 2   Result = 5\n",
      "5\n",
      "1/1 [==============================] - 0s 28ms/step\n",
      "me_row_land = 5   Result = 3\n",
      "3\n",
      "1/1 [==============================] - 0s 27ms/step\n",
      "me_row_land = 4   Result = 0\n",
      "0\n",
      "1/1 [==============================] - 0s 28ms/step\n",
      "me_row_land = 2   Result = 0\n",
      "0\n",
      "1/1 [==============================] - 0s 29ms/step\n",
      "me_row_land = 0   Result = 0\n",
      "0\n",
      "1/1 [==============================] - 0s 28ms/step\n",
      "me_row_land = 3   Result = 1\n",
      "1\n",
      "1/1 [==============================] - 0s 28ms/step\n",
      "me_row_land = 2   Result = 1\n",
      "1\n",
      "1/1 [==============================] - 0s 29ms/step\n"
     ]
    },
    {
     "name": "stderr",
     "output_type": "stream",
     "text": [
      " 74%|███████████████████████████████████████████████████████████▉                     | 74/100 [00:21<00:07,  3.46it/s]"
     ]
    },
    {
     "name": "stdout",
     "output_type": "stream",
     "text": [
      "me_row_land = 1   Result = 1\n",
      "1\n",
      "1/1 [==============================] - 0s 28ms/step\n",
      "me_row_land = 4   Result = 2\n",
      "2\n",
      "1/1 [==============================] - 0s 28ms/step\n",
      "me_row_land = 3   Result = 2\n",
      "2\n",
      "1/1 [==============================] - 0s 29ms/step\n"
     ]
    },
    {
     "name": "stderr",
     "output_type": "stream",
     "text": [
      " 75%|████████████████████████████████████████████████████████████▊                    | 75/100 [00:21<00:06,  3.99it/s]"
     ]
    },
    {
     "name": "stdout",
     "output_type": "stream",
     "text": [
      "me_row_land = 2   Result = 2\n",
      "2\n",
      "1/1 [==============================] - 0s 33ms/step\n",
      "me_row_land = 5   Result = 3\n",
      "3\n",
      "1/1 [==============================] - 0s 31ms/step\n",
      "me_row_land = 3   Result = 3\n",
      "3\n",
      "1/1 [==============================] - 0s 28ms/step\n",
      "me_row_land = 2   Result = 3\n",
      "3\n",
      "1/1 [==============================] - 0s 29ms/step\n",
      "me_row_land = 4   Result = 4\n",
      "4\n",
      "1/1 [==============================] - 0s 27ms/step\n",
      "me_row_land = 2   Result = 4\n",
      "4\n",
      "1/1 [==============================] - 0s 27ms/step\n",
      "me_row_land = 1   Result = 4\n",
      "4\n",
      "1/1 [==============================] - 0s 27ms/step\n",
      "me_row_land = 4   Result = 5\n",
      "5\n",
      "1/1 [==============================] - 0s 26ms/step\n",
      "me_row_land = 3   Result = 5\n",
      "5\n",
      "1/1 [==============================] - 0s 27ms/step\n",
      "me_row_land = 2   Result = 5\n",
      "5\n",
      "1/1 [==============================] - 0s 26ms/step\n",
      "me_row_land = 0   Result = 4\n",
      "4\n",
      "1/1 [==============================] - 0s 27ms/step\n",
      "me_row_land = 0   Result = 5\n",
      "5\n",
      "1/1 [==============================] - 0s 27ms/step\n",
      "me_row_land = 3   Result = 0\n",
      "0\n",
      "1/1 [==============================] - 0s 26ms/step\n",
      "me_row_land = 2   Result = 0\n",
      "0\n",
      "1/1 [==============================] - 0s 26ms/step\n",
      "me_row_land = 0   Result = 0\n",
      "0\n",
      "1/1 [==============================] - 0s 26ms/step\n"
     ]
    },
    {
     "name": "stderr",
     "output_type": "stream",
     "text": [
      " 76%|█████████████████████████████████████████████████████████████▌                   | 76/100 [00:22<00:09,  2.47it/s]"
     ]
    },
    {
     "name": "stdout",
     "output_type": "stream",
     "text": [
      "me_row_land = 3   Result = 1\n",
      "1\n",
      "1/1 [==============================] - 0s 26ms/step\n",
      "me_row_land = 5   Result = 3\n",
      "3\n",
      "1/1 [==============================] - 0s 27ms/step\n",
      "me_row_land = 4   Result = 5\n",
      "5\n",
      "1/1 [==============================] - 0s 28ms/step\n",
      "me_row_land = 3   Result = 5\n",
      "5\n",
      "1/1 [==============================] - 0s 27ms/step\n",
      "me_row_land = 2   Result = 5\n",
      "5\n",
      "1/1 [==============================] - 0s 27ms/step\n",
      "me_row_land = 3   Result = 0\n",
      "0\n",
      "1/1 [==============================] - 0s 26ms/step\n",
      "me_row_land = 2   Result = 0\n",
      "0\n",
      "1/1 [==============================] - 0s 26ms/step\n"
     ]
    },
    {
     "name": "stderr",
     "output_type": "stream",
     "text": [
      " 77%|██████████████████████████████████████████████████████████████▎                  | 77/100 [00:23<00:08,  2.59it/s]"
     ]
    },
    {
     "name": "stdout",
     "output_type": "stream",
     "text": [
      "me_row_land = 1   Result = 0\n",
      "0\n",
      "1/1 [==============================] - 0s 27ms/step\n",
      "me_row_land = 4   Result = 3\n",
      "3\n",
      "1/1 [==============================] - 0s 27ms/step\n",
      "me_row_land = 3   Result = 3\n",
      "3\n",
      "1/1 [==============================] - 0s 27ms/step\n",
      "me_row_land = 4   Result = 4\n",
      "4\n",
      "1/1 [==============================] - 0s 27ms/step\n",
      "me_row_land = 3   Result = 4\n",
      "4\n",
      "1/1 [==============================] - 0s 27ms/step\n"
     ]
    },
    {
     "name": "stderr",
     "output_type": "stream",
     "text": [
      " 78%|███████████████████████████████████████████████████████████████▏                 | 78/100 [00:23<00:07,  2.89it/s]"
     ]
    },
    {
     "name": "stdout",
     "output_type": "stream",
     "text": [
      "me_row_land = 2   Result = 4\n",
      "4\n",
      "1/1 [==============================] - 0s 27ms/step\n",
      "me_row_land = 4   Result = 0\n",
      "0\n",
      "1/1 [==============================] - 0s 27ms/step\n",
      "me_row_land = 3   Result = 0\n",
      "0\n",
      "1/1 [==============================] - 0s 26ms/step\n",
      "me_row_land = 2   Result = 0\n",
      "0\n",
      "1/1 [==============================] - 0s 26ms/step\n",
      "me_row_land = 0   Result = 0\n",
      "0\n",
      "1/1 [==============================] - 0s 28ms/step\n",
      "me_row_land = 3   Result = 1\n",
      "1\n",
      "1/1 [==============================] - 0s 28ms/step\n",
      "me_row_land = 4   Result = 2\n",
      "2\n",
      "1/1 [==============================] - 0s 26ms/step\n"
     ]
    },
    {
     "name": "stderr",
     "output_type": "stream",
     "text": [
      " 79%|███████████████████████████████████████████████████████████████▉                 | 79/100 [00:23<00:07,  2.63it/s]"
     ]
    },
    {
     "name": "stdout",
     "output_type": "stream",
     "text": [
      "me_row_land = 3   Result = 2\n",
      "2\n",
      "1/1 [==============================] - 0s 27ms/step\n",
      "me_row_land = 4   Result = 5\n",
      "5\n",
      "1/1 [==============================] - 0s 28ms/step\n",
      "me_row_land = 3   Result = 5\n",
      "5\n",
      "1/1 [==============================] - 0s 27ms/step\n"
     ]
    },
    {
     "name": "stderr",
     "output_type": "stream",
     "text": [
      " 80%|████████████████████████████████████████████████████████████████▊                | 80/100 [00:23<00:06,  3.21it/s]"
     ]
    },
    {
     "name": "stdout",
     "output_type": "stream",
     "text": [
      "me_row_land = 2   Result = 5\n",
      "5\n",
      "1/1 [==============================] - 0s 28ms/step\n",
      "me_row_land = 5   Result = 3\n",
      "3\n",
      "1/1 [==============================] - 0s 28ms/step\n",
      "me_row_land = 4   Result = 3\n",
      "3\n",
      "1/1 [==============================] - 0s 30ms/step\n"
     ]
    },
    {
     "name": "stderr",
     "output_type": "stream",
     "text": [
      " 81%|█████████████████████████████████████████████████████████████████▌               | 81/100 [00:24<00:05,  3.79it/s]"
     ]
    },
    {
     "name": "stdout",
     "output_type": "stream",
     "text": [
      "me_row_land = 3   Result = 3\n",
      "3\n",
      "1/1 [==============================] - 0s 29ms/step\n",
      "me_row_land = 5   Result = 3\n",
      "3\n",
      "1/1 [==============================] - 0s 32ms/step\n",
      "me_row_land = 4   Result = 3\n",
      "3\n",
      "1/1 [==============================] - 0s 27ms/step\n",
      "me_row_land = 4   Result = 2\n",
      "2\n",
      "1/1 [==============================] - 0s 27ms/step\n",
      "me_row_land = 3   Result = 2\n",
      "2\n",
      "1/1 [==============================] - 0s 28ms/step\n"
     ]
    },
    {
     "name": "stderr",
     "output_type": "stream",
     "text": [
      " 82%|██████████████████████████████████████████████████████████████████▍              | 82/100 [00:24<00:04,  3.81it/s]"
     ]
    },
    {
     "name": "stdout",
     "output_type": "stream",
     "text": [
      "me_row_land = 2   Result = 2\n",
      "2\n",
      "1/1 [==============================] - 0s 28ms/step\n",
      "me_row_land = 5   Result = 3\n",
      "3\n",
      "1/1 [==============================] - 0s 28ms/step\n",
      "me_row_land = 4   Result = 3\n",
      "3\n",
      "1/1 [==============================] - 0s 27ms/step\n",
      "me_row_land = 4   Result = 0\n",
      "0\n",
      "1/1 [==============================] - 0s 27ms/step\n",
      "me_row_land = 3   Result = 0\n",
      "0\n",
      "1/1 [==============================] - 0s 27ms/step\n"
     ]
    },
    {
     "name": "stderr",
     "output_type": "stream",
     "text": [
      " 83%|███████████████████████████████████████████████████████████████████▏             | 83/100 [00:24<00:04,  3.86it/s]"
     ]
    },
    {
     "name": "stdout",
     "output_type": "stream",
     "text": [
      "me_row_land = 2   Result = 0\n",
      "0\n",
      "1/1 [==============================] - 0s 26ms/step\n",
      "me_row_land = 5   Result = 3\n",
      "3\n",
      "1/1 [==============================] - 0s 27ms/step\n",
      "me_row_land = 4   Result = 3\n",
      "3\n",
      "1/1 [==============================] - 0s 27ms/step\n"
     ]
    },
    {
     "name": "stderr",
     "output_type": "stream",
     "text": [
      " 84%|████████████████████████████████████████████████████████████████████             | 84/100 [00:24<00:03,  4.39it/s]"
     ]
    },
    {
     "name": "stdout",
     "output_type": "stream",
     "text": [
      "me_row_land = 3   Result = 3\n",
      "3\n",
      "1/1 [==============================] - 0s 29ms/step\n",
      "me_row_land = 4   Result = 5\n",
      "5\n",
      "1/1 [==============================] - 0s 29ms/step\n",
      "me_row_land = 3   Result = 5\n",
      "5\n",
      "1/1 [==============================] - 0s 35ms/step\n"
     ]
    },
    {
     "name": "stderr",
     "output_type": "stream",
     "text": [
      " 85%|████████████████████████████████████████████████████████████████████▊            | 85/100 [00:24<00:03,  4.79it/s]"
     ]
    },
    {
     "name": "stdout",
     "output_type": "stream",
     "text": [
      "me_row_land = 2   Result = 5\n",
      "5\n",
      "1/1 [==============================] - 0s 31ms/step\n",
      "me_row_land = 5   Result = 3\n",
      "3\n",
      "1/1 [==============================] - 0s 26ms/step\n",
      "me_row_land = 4   Result = 5\n",
      "5\n",
      "1/1 [==============================] - 0s 27ms/step\n",
      "me_row_land = 3   Result = 5\n",
      "5\n",
      "1/1 [==============================] - 0s 28ms/step\n"
     ]
    },
    {
     "name": "stderr",
     "output_type": "stream",
     "text": [
      " 86%|█████████████████████████████████████████████████████████████████████▋           | 86/100 [00:25<00:02,  4.81it/s]"
     ]
    },
    {
     "name": "stdout",
     "output_type": "stream",
     "text": [
      "me_row_land = 2   Result = 5\n",
      "5\n",
      "1/1 [==============================] - 0s 28ms/step\n",
      "me_row_land = 5   Result = 3\n",
      "3\n",
      "1/1 [==============================] - 0s 29ms/step\n",
      "me_row_land = 4   Result = 2\n",
      "2\n",
      "1/1 [==============================] - 0s 27ms/step\n",
      "me_row_land = 3   Result = 2\n",
      "2\n",
      "1/1 [==============================] - 0s 28ms/step\n",
      "me_row_land = 2   Result = 2\n",
      "2\n",
      "1/1 [==============================] - 0s 28ms/step\n",
      "me_row_land = 4   Result = 3\n",
      "3\n",
      "1/1 [==============================] - 0s 28ms/step\n"
     ]
    },
    {
     "name": "stderr",
     "output_type": "stream",
     "text": [
      " 87%|██████████████████████████████████████████████████████████████████████▍          | 87/100 [00:25<00:03,  4.21it/s]"
     ]
    },
    {
     "name": "stdout",
     "output_type": "stream",
     "text": [
      "me_row_land = 3   Result = 3\n",
      "3\n",
      "1/1 [==============================] - 0s 28ms/step\n",
      "me_row_land = 5   Result = 3\n",
      "3\n",
      "1/1 [==============================] - 0s 30ms/step\n",
      "me_row_land = 4   Result = 2\n",
      "2\n",
      "1/1 [==============================] - 0s 27ms/step\n",
      "me_row_land = 3   Result = 2\n",
      "2\n",
      "1/1 [==============================] - 0s 26ms/step\n",
      "me_row_land = 4   Result = 3\n",
      "3\n",
      "1/1 [==============================] - 0s 27ms/step\n"
     ]
    },
    {
     "name": "stderr",
     "output_type": "stream",
     "text": [
      " 88%|███████████████████████████████████████████████████████████████████████▎         | 88/100 [00:25<00:02,  4.13it/s]"
     ]
    },
    {
     "name": "stdout",
     "output_type": "stream",
     "text": [
      "me_row_land = 3   Result = 3\n",
      "3\n",
      "1/1 [==============================] - 0s 26ms/step\n",
      "me_row_land = 4   Result = 5\n",
      "5\n",
      "1/1 [==============================] - 0s 26ms/step\n",
      "me_row_land = 3   Result = 5\n",
      "5\n",
      "1/1 [==============================] - 0s 27ms/step\n",
      "me_row_land = 3   Result = 2\n",
      "2\n",
      "1/1 [==============================] - 0s 28ms/step\n"
     ]
    },
    {
     "name": "stderr",
     "output_type": "stream",
     "text": [
      " 89%|████████████████████████████████████████████████████████████████████████         | 89/100 [00:25<00:02,  4.36it/s]"
     ]
    },
    {
     "name": "stdout",
     "output_type": "stream",
     "text": [
      "me_row_land = 2   Result = 5\n",
      "5\n",
      "1/1 [==============================] - 0s 29ms/step\n",
      "me_row_land = 5   Result = 3\n",
      "3\n",
      "1/1 [==============================] - 0s 26ms/step\n",
      "me_row_land = 4   Result = 5\n",
      "5\n",
      "1/1 [==============================] - 0s 29ms/step\n",
      "me_row_land = 3   Result = 5\n",
      "5\n",
      "1/1 [==============================] - 0s 27ms/step\n",
      "me_row_land = 3   Result = 3\n",
      "3\n",
      "1/1 [==============================] - 0s 28ms/step\n",
      "me_row_land = 2   Result = 3\n",
      "3\n",
      "1/1 [==============================] - 0s 29ms/step\n"
     ]
    },
    {
     "name": "stderr",
     "output_type": "stream",
     "text": [
      " 90%|████████████████████████████████████████████████████████████████████████▉        | 90/100 [00:26<00:02,  3.95it/s]"
     ]
    },
    {
     "name": "stdout",
     "output_type": "stream",
     "text": [
      "me_row_land = 4   Result = 4\n",
      "4\n",
      "1/1 [==============================] - 0s 28ms/step\n",
      "me_row_land = 5   Result = 3\n",
      "3\n",
      "1/1 [==============================] - 0s 36ms/step\n",
      "me_row_land = 4   Result = 3\n",
      "3\n",
      "1/1 [==============================] - 0s 35ms/step\n"
     ]
    },
    {
     "name": "stderr",
     "output_type": "stream",
     "text": [
      " 91%|█████████████████████████████████████████████████████████████████████████▋       | 91/100 [00:26<00:02,  4.36it/s]"
     ]
    },
    {
     "name": "stdout",
     "output_type": "stream",
     "text": [
      "me_row_land = 3   Result = 3\n",
      "3\n",
      "1/1 [==============================] - 0s 31ms/step\n",
      "me_row_land = 4   Result = 0\n",
      "0\n",
      "1/1 [==============================] - 0s 30ms/step\n",
      "me_row_land = 2   Result = 0\n",
      "0\n",
      "1/1 [==============================] - 0s 30ms/step\n",
      "me_row_land = 0   Result = 0\n",
      "0\n",
      "1/1 [==============================] - 0s 29ms/step\n",
      "me_row_land = 4   Result = 1\n",
      "1\n",
      "1/1 [==============================] - 0s 30ms/step\n",
      "me_row_land = 3   Result = 1\n",
      "1\n"
     ]
    },
    {
     "name": "stderr",
     "output_type": "stream",
     "text": [
      " 92%|██████████████████████████████████████████████████████████████████████████▌      | 92/100 [00:26<00:01,  4.07it/s]"
     ]
    },
    {
     "name": "stdout",
     "output_type": "stream",
     "text": [
      "1/1 [==============================] - 0s 28ms/step\n",
      "me_row_land = 5   Result = 3\n",
      "3\n",
      "1/1 [==============================] - 0s 27ms/step\n",
      "me_row_land = 3   Result = 1\n",
      "1\n",
      "1/1 [==============================] - 0s 27ms/step\n",
      "me_row_land = 2   Result = 1\n",
      "1\n",
      "1/1 [==============================] - 0s 27ms/step\n",
      "me_row_land = 3   Result = 0\n",
      "0\n",
      "1/1 [==============================] - 0s 29ms/step\n",
      "me_row_land = 2   Result = 0\n",
      "0\n",
      "1/1 [==============================] - 0s 27ms/step\n"
     ]
    },
    {
     "name": "stderr",
     "output_type": "stream",
     "text": [
      " 93%|███████████████████████████████████████████████████████████████████████████▎     | 93/100 [00:26<00:01,  3.80it/s]"
     ]
    },
    {
     "name": "stdout",
     "output_type": "stream",
     "text": [
      "me_row_land = 1   Result = 0\n",
      "0\n",
      "1/1 [==============================] - 0s 26ms/step\n",
      "me_row_land = 5   Result = 3\n",
      "3\n",
      "1/1 [==============================] - 0s 28ms/step\n",
      "me_row_land = 3   Result = 3\n",
      "3\n",
      "1/1 [==============================] - 0s 27ms/step\n",
      "me_row_land = 2   Result = 3\n",
      "3\n",
      "1/1 [==============================] - 0s 28ms/step\n",
      "me_row_land = 4   Result = 4\n",
      "4\n",
      "1/1 [==============================] - 0s 28ms/step\n",
      "me_row_land = 3   Result = 4\n",
      "4\n",
      "1/1 [==============================] - 0s 27ms/step\n",
      "me_row_land = 2   Result = 4\n",
      "4\n",
      "1/1 [==============================] - 0s 27ms/step\n"
     ]
    },
    {
     "name": "stderr",
     "output_type": "stream",
     "text": [
      " 94%|████████████████████████████████████████████████████████████████████████████▏    | 94/100 [00:27<00:01,  3.44it/s]"
     ]
    },
    {
     "name": "stdout",
     "output_type": "stream",
     "text": [
      "me_row_land = 4   Result = 5\n",
      "5\n",
      "1/1 [==============================] - 0s 29ms/step\n",
      "me_row_land = 4   Result = 5\n",
      "5\n",
      "1/1 [==============================] - 0s 28ms/step\n",
      "me_row_land = 3   Result = 5\n",
      "5\n",
      "1/1 [==============================] - 0s 28ms/step\n"
     ]
    },
    {
     "name": "stderr",
     "output_type": "stream",
     "text": [
      " 95%|████████████████████████████████████████████████████████████████████████████▉    | 95/100 [00:27<00:01,  4.01it/s]"
     ]
    },
    {
     "name": "stdout",
     "output_type": "stream",
     "text": [
      "me_row_land = 2   Result = 5\n",
      "5\n",
      "1/1 [==============================] - 0s 27ms/step\n",
      "me_row_land = 4   Result = 5\n",
      "5\n",
      "1/1 [==============================] - 0s 27ms/step\n",
      "me_row_land = 3   Result = 5\n",
      "5\n",
      "1/1 [==============================] - 0s 28ms/step\n",
      "me_row_land = 5   Result = 3\n",
      "3\n",
      "1/1 [==============================] - 0s 28ms/step\n",
      "me_row_land = 4   Result = 3\n",
      "3\n",
      "1/1 [==============================] - 0s 27ms/step\n",
      "me_row_land = 2   Result = 3\n",
      "3\n",
      "1/1 [==============================] - 0s 27ms/step\n",
      "me_row_land = 1   Result = 3\n",
      "3\n",
      "1/1 [==============================] - 0s 27ms/step\n",
      "me_row_land = 3   Result = 6\n",
      "6\n",
      "1/1 [==============================] - 0s 27ms/step\n",
      "me_row_land = 2   Result = 6\n",
      "6\n",
      "1/1 [==============================] - 0s 27ms/step\n"
     ]
    },
    {
     "name": "stderr",
     "output_type": "stream",
     "text": [
      " 96%|█████████████████████████████████████████████████████████████████████████████▊   | 96/100 [00:27<00:01,  3.24it/s]"
     ]
    },
    {
     "name": "stdout",
     "output_type": "stream",
     "text": [
      "me_row_land = 1   Result = 6\n",
      "6\n",
      "1/1 [==============================] - 0s 30ms/step\n",
      "me_row_land = 4   Result = 5\n",
      "5\n",
      "1/1 [==============================] - 0s 30ms/step\n",
      "me_row_land = 3   Result = 5\n",
      "5\n",
      "1/1 [==============================] - 0s 28ms/step\n",
      "me_row_land = 4   Result = 6\n",
      "6\n",
      "1/1 [==============================] - 0s 27ms/step\n",
      "me_row_land = 2   Result = 6\n",
      "6\n",
      "1/1 [==============================] - 0s 28ms/step\n",
      "me_row_land = 1   Result = 6\n",
      "6\n",
      "1/1 [==============================] - 0s 29ms/step\n",
      "me_row_land = 3   Result = 2\n",
      "2\n",
      "1/1 [==============================] - 0s 29ms/step\n",
      "me_row_land = 2   Result = 2\n",
      "2\n",
      "1/1 [==============================] - 0s 26ms/step\n"
     ]
    },
    {
     "name": "stderr",
     "output_type": "stream",
     "text": [
      " 97%|██████████████████████████████████████████████████████████████████████████████▌  | 97/100 [00:28<00:01,  2.92it/s]"
     ]
    },
    {
     "name": "stdout",
     "output_type": "stream",
     "text": [
      "me_row_land = 1   Result = 2\n",
      "2\n",
      "1/1 [==============================] - 0s 26ms/step\n",
      "me_row_land = 4   Result = 6\n",
      "6\n",
      "1/1 [==============================] - 0s 26ms/step\n",
      "me_row_land = 3   Result = 6\n",
      "6\n",
      "1/1 [==============================] - 0s 26ms/step\n"
     ]
    },
    {
     "name": "stderr",
     "output_type": "stream",
     "text": [
      " 98%|███████████████████████████████████████████████████████████████████████████████▍ | 98/100 [00:28<00:00,  3.54it/s]"
     ]
    },
    {
     "name": "stdout",
     "output_type": "stream",
     "text": [
      "me_row_land = 2   Result = 6\n",
      "6\n",
      "1/1 [==============================] - 0s 26ms/step\n",
      "me_row_land = 4   Result = 0\n",
      "0\n",
      "1/1 [==============================] - 0s 27ms/step\n",
      "me_row_land = 3   Result = 0\n",
      "0\n",
      "1/1 [==============================] - 0s 26ms/step\n",
      "me_row_land = 1   Result = 0\n",
      "0\n",
      "1/1 [==============================] - 0s 26ms/step\n",
      "me_row_land = 0   Result = 0\n",
      "0\n",
      "1/1 [==============================] - 0s 26ms/step\n",
      "me_row_land = 3   Result = 6\n",
      "6\n",
      "1/1 [==============================] - 0s 25ms/step\n",
      "me_row_land = 2   Result = 6\n",
      "6\n",
      "1/1 [==============================] - 0s 25ms/step\n",
      "me_row_land = 3   Result = 2\n",
      "2\n",
      "1/1 [==============================] - 0s 26ms/step\n",
      "me_row_land = 2   Result = 2\n",
      "2\n",
      "1/1 [==============================] - 0s 27ms/step\n",
      "me_row_land = 4   Result = 1\n",
      "1\n",
      "1/1 [==============================] - 0s 27ms/step\n"
     ]
    },
    {
     "name": "stderr",
     "output_type": "stream",
     "text": [
      " 99%|████████████████████████████████████████████████████████████████████████████████▏| 99/100 [00:28<00:00,  2.91it/s]"
     ]
    },
    {
     "name": "stdout",
     "output_type": "stream",
     "text": [
      "me_row_land = 3   Result = 1\n",
      "1\n",
      "1/1 [==============================] - 0s 28ms/step\n",
      "me_row_land = 5   Result = 3\n",
      "3\n",
      "1/1 [==============================] - 0s 27ms/step\n",
      "me_row_land = 4   Result = 6\n",
      "6\n",
      "1/1 [==============================] - 0s 29ms/step\n",
      "me_row_land = 3   Result = 6\n",
      "6\n",
      "1/1 [==============================] - 0s 29ms/step\n"
     ]
    },
    {
     "name": "stderr",
     "output_type": "stream",
     "text": [
      "100%|████████████████████████████████████████████████████████████████████████████████| 100/100 [00:29<00:00,  3.43it/s]"
     ]
    },
    {
     "name": "stdout",
     "output_type": "stream",
     "text": [
      "me_row_land = 2   Result = 6\n",
      "6\n"
     ]
    },
    {
     "name": "stderr",
     "output_type": "stream",
     "text": [
      "\n"
     ]
    },
    {
     "data": {
      "text/plain": [
       "result\n",
       "Human Win    100\n",
       "Name: tick, dtype: int64"
      ]
     },
     "execution_count": 7,
     "metadata": {},
     "output_type": "execute_result"
    }
   ],
   "source": [
    "\n",
    "game_history = []\n",
    "robot_key = 2\n",
    "human_key = 1\n",
    "b = []\n",
    "hold = []\n",
    "def smart_move(board, me, enemey, recurse_count = 0, target_chosen=0):\n",
    "    global b\n",
    "    global hold\n",
    "    target_chosen = target_chosen\n",
    "    targets = np.argwhere(board[:1] == 0)[:,1].tolist()\n",
    "    if len(targets) == 0:\n",
    "        raise ValueError(\"stale\")\n",
    "\n",
    "    sim_win = False\n",
    "    sim_win_target = 0\n",
    "    for target in targets:\n",
    "        board_copy = board.copy()\n",
    "        me_row_land = np.argmax(np.argwhere(board[:,target] == 0)) # Lowest possible placement possible\n",
    "        board_copy[me_row_land, target] = me\n",
    "        sim_me_win = winning_move(board_copy, me)\n",
    "        if sim_me_win:\n",
    "            sim_win = True\n",
    "            sim_win_target = target\n",
    "            break\n",
    "    if sim_win:\n",
    "        me_row_land = np.argmax(np.argwhere(board[:,sim_win_target] == 0)) # Lowest possible placement possible\n",
    "        board[me_row_land, sim_win_target] = me\n",
    "        target_chosen = sim_win_target\n",
    "    else:\n",
    "        sim_loss = False\n",
    "        sim_loss_target = 0\n",
    "        \n",
    "        for target in targets:\n",
    "            board_copy = board.copy()\n",
    "            enemy_row_land = np.argmax(np.argwhere(board[:,target] == 0)) # Lowest possible placement possible\n",
    "            board_copy[enemy_row_land, target] = enemey\n",
    "            sim_me_loss = winning_move(board_copy, enemey)\n",
    "            if sim_me_loss:\n",
    "                sim_loss = True\n",
    "                sim_loss_target = target\n",
    "                break\n",
    "        if sim_loss:\n",
    "            me_row_land = np.argmax(np.argwhere(board[:,sim_loss_target] == 0)) # Lowest possible placement possible\n",
    "            board[me_row_land, sim_loss_target] = me\n",
    "            target_chosen = sim_loss_target\n",
    "        else:\n",
    "            flat_board = board.flatten().tolist()\n",
    "            hold = flat_board\n",
    "            predicted = False\n",
    "            try:\n",
    "                hold = tuple(flat_board)\n",
    "                flat_board.append(me)\n",
    "                \n",
    "                result = np.argmax(model2.predict([flat_board]))\n",
    "                me_row_land = np.argmax(np.argwhere(board[:,result] == 0)) # Lowest possible placement possible\n",
    "\n",
    "                print(f\"me_row_land = {me_row_land}   Result = {result}\")\n",
    "\n",
    "                board[me_row_land, result] = me\n",
    "                target_chosen = result\n",
    "                print(result)\n",
    "            except Exception as e:\n",
    "                print(e)\n",
    "                pass\n",
    "\n",
    "    return board\n",
    "\n",
    "def random_move(board, me, enemy):\n",
    "    me_targets = np.argwhere(board[:1] == 0)[:,1].tolist()\n",
    "    if len(me_targets) == 0:\n",
    "        raise ValueError(\"stale\")\n",
    "    me_col_choice = random.choice(me_targets) # random placement verticaly based on top row\n",
    "    me_row_land = np.argmax(np.argwhere(board[:,me_col_choice] == 0)) # Lowest possible placement possible\n",
    "    board[me_row_land, me_col_choice] = me\n",
    "    return board   \n",
    "\n",
    "for i in tqdm(range(0, 100)):\n",
    "    board = np.array([\n",
    "        [0,0,0,0,0,0,0],\n",
    "        [0,0,0,0,0,0,0],\n",
    "        [0,0,0,0,0,0,0],\n",
    "        [0,0,0,0,0,0,0],\n",
    "        [0,0,0,0,0,0,0],\n",
    "        [0,0,0,0,0,0,0],\n",
    "    ])\n",
    "    players = [human_key, robot_key]\n",
    "    first_player = random.choice(players)\n",
    "    while True:\n",
    "        try:\n",
    "            if first_player == 1:\n",
    "                board = smart_move(board, human_key, robot_key)\n",
    "                human_win = winning_move(board, 1)\n",
    "                if human_win:\n",
    "                    game_history.append('Human Win')\n",
    "                    break\n",
    "\n",
    "                board = random_move(board, robot_key, human_key)\n",
    "                robot_win = winning_move(board, 2)\n",
    "                if robot_win:\n",
    "                    game_history.append('Robot Win')\n",
    "                    break\n",
    "            elif first_player == 2:\n",
    "                board = random_move(board, robot_key, human_key)\n",
    "                robot_win = winning_move(board, 2)\n",
    "                if robot_win:\n",
    "                    game_history.append('Robot Win')\n",
    "                    break  \n",
    "\n",
    "                board = smart_move(board, human_key, robot_key)\n",
    "                human_win = winning_move(board, 1)\n",
    "                if human_win:\n",
    "                    game_history.append('Human Win')\n",
    "                    break\n",
    "        except ValueError as e:\n",
    "            game_history.append('Stale')\n",
    "            break\n",
    "\n",
    "df = pd.DataFrame(data=game_history, columns=['result'])\n",
    "df['tick'] = 1\n",
    "df.groupby('result')['tick'].sum()"
   ]
  },
  {
   "cell_type": "code",
   "execution_count": null,
   "id": "c2b61427-6463-4d63-8347-3a07ef0c3e81",
   "metadata": {},
   "outputs": [],
   "source": []
  }
 ],
 "metadata": {
  "kernelspec": {
   "display_name": "Python 3 (ipykernel)",
   "language": "python",
   "name": "python3"
  },
  "language_info": {
   "codemirror_mode": {
    "name": "ipython",
    "version": 3
   },
   "file_extension": ".py",
   "mimetype": "text/x-python",
   "name": "python",
   "nbconvert_exporter": "python",
   "pygments_lexer": "ipython3",
   "version": "3.9.13"
  }
 },
 "nbformat": 4,
 "nbformat_minor": 5
}
